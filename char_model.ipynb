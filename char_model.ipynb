{
 "cells": [
  {
   "cell_type": "markdown",
   "metadata": {},
   "source": [
    "# Char model"
   ]
  },
  {
   "cell_type": "code",
   "execution_count": 1,
   "metadata": {},
   "outputs": [],
   "source": [
    "import numpy as np\n",
    "from char_dataset import CharDataset\n",
    "from char_model import CharRNN"
   ]
  },
  {
   "cell_type": "markdown",
   "metadata": {},
   "source": [
    "## Dataset"
   ]
  },
  {
   "cell_type": "code",
   "execution_count": 2,
   "metadata": {},
   "outputs": [],
   "source": [
    "dataset = CharDataset()\n",
    "dataset.load('data/dostoevsky.txt')  # dostoevsky.txt  anna.txt\n",
    "model_path = 'models/dostoevsky-001/'"
   ]
  },
  {
   "cell_type": "markdown",
   "metadata": {},
   "source": [
    "## Build"
   ]
  },
  {
   "cell_type": "code",
   "execution_count": 3,
   "metadata": {},
   "outputs": [],
   "source": [
    "import os\n",
    "from utils import make_dir\n",
    "import numpy as np\n",
    "import tensorflow as tf\n",
    "import pickle\n",
    "from visualization import show_train_stats\n",
    "\n",
    "class CharRNN:\n",
    "    def __init__(self, num_classes):\n",
    "        self.num_classes = num_classes\n",
    "        # state\n",
    "        self.tr_step   = 0\n",
    "        self.tr_epoch  = 0\n",
    "        self.tr_losses = []\n",
    "        \n",
    "    \n",
    "    def _make_rnn_cell(self, num_units, num_layers, keep_prob):\n",
    "        def make_layer():\n",
    "            l = tf.contrib.rnn.BasicLSTMCell(num_units)\n",
    "            l = tf.contrib.rnn.DropoutWrapper(l, output_keep_prob=keep_prob)\n",
    "            return l        \n",
    "        layers = [make_layer() for _ in range(num_layers)]\n",
    "        cell   = tf.contrib.rnn.MultiRNNCell(layers)\n",
    "        return cell\n",
    "\n",
    "    \n",
    "    def _make_loss(self, logits, targets, lstm_size, num_classes):\n",
    "        loss = tf.nn.softmax_cross_entropy_with_logits(\n",
    "            logits=logits, \n",
    "            labels=tf.one_hot(targets, num_classes))\n",
    "        loss = tf.reduce_mean(loss)\n",
    "        return loss\n",
    "    \n",
    "\n",
    "    def _make_optimizer(self, loss, lr, grad_clip):\n",
    "        tr_vars   = tf.trainable_variables()\n",
    "        grads, _  = tf.clip_by_global_norm(tf.gradients(loss, tr_vars), grad_clip)\n",
    "        train_op  = tf.train.AdamOptimizer(lr)\n",
    "        optimizer = train_op.apply_gradients(zip(grads, tr_vars))\n",
    "        return optimizer\n",
    "    \n",
    "    \n",
    "    def _get_initial_state(self, batch_size):\n",
    "        return self._sess.run(self.initial_state, feed_dict={self.batch_size_pl: batch_size})\n",
    "\n",
    "    \n",
    "    def build(self, num_units, num_layers, grad_clip):\n",
    "        tf.reset_default_graph()\n",
    "        self._graph = tf.Graph()\n",
    "        self._scope  = \"char_rnn\"\n",
    "        with self._graph.as_default(), tf.variable_scope(self._scope):\n",
    "            # placeholders\n",
    "            self.inputs_pl     = tf.placeholder(tf.int32, [None, None], name='inputs')\n",
    "            self.targets_pl    = tf.placeholder(tf.int32, [None, None], name='targets')\n",
    "            self.seq_length_pl = tf.placeholder(tf.int32, [None], 'seq_lengths')\n",
    "            self.batch_size_pl = tf.placeholder(tf.int32, shape=[], name='batch_size')\n",
    "            self.keep_prob_pl  = tf.placeholder(tf.float32, name='keep_prob')\n",
    "            self.lr_pl         = tf.placeholder(tf.float32, name='learning_rate')\n",
    "\n",
    "            # network\n",
    "            embed              = tf.one_hot(self.inputs_pl, self.num_classes)\n",
    "            cell               = self._make_rnn_cell(num_units, num_layers, self.keep_prob_pl)\n",
    "            initial_state      = cell.zero_state(self.batch_size_pl, tf.float32)\n",
    "            outputs, state     = tf.nn.dynamic_rnn(cell, embed, self.seq_length_pl, initial_state, dtype=tf.float32)\n",
    "            self.initial_state = initial_state\n",
    "            self.final_state   = state\n",
    "\n",
    "            # prediction\n",
    "            logits             = tf.layers.dense(outputs, self.num_classes)\n",
    "            self.prediction    = tf.nn.softmax(logits, name='predictions')\n",
    "\n",
    "            # training\n",
    "            self.loss_op       = self._make_loss(logits, self.targets_pl, num_units, self.num_classes)\n",
    "            self.train_op      = self._make_optimizer(self.loss_op, self.lr_pl, grad_clip)\n",
    "            \n",
    "            # utils\n",
    "            self.init_op       = tf.global_variables_initializer()\n",
    "            self._saver        = tf.train.Saver()\n",
    "\n",
    "        # session\n",
    "        config = tf.ConfigProto(log_device_placement=True)\n",
    "        config.gpu_options.allow_growth = True\n",
    "        config.gpu_options.per_process_gpu_memory_fraction = 0.4\n",
    "        self._sess = tf.Session(graph=self._graph, config=config)\n",
    "        self._sess.run(self.init_op)\n",
    "        \n",
    "        \n",
    "    def train(self, dataset, seq_length, epochs, batch_size, keep_prob, learning_rate, log_every=10, mean_win=10):\n",
    "        try:\n",
    "            for self.tr_epoch in range(self.tr_epoch, epochs):\n",
    "                state = self._get_initial_state(batch_size)\n",
    "\n",
    "                for x, y in dataset.get_batches(batch_size, seq_length):\n",
    "                    self.tr_step += 1\n",
    "                    tr_loss, state, _ = self._sess.run(\n",
    "                        [self.loss_op, self.final_state, self.train_op], \n",
    "                        feed_dict = {\n",
    "                            self.inputs_pl    : x,\n",
    "                            self.targets_pl   : y,\n",
    "                            self.seq_length_pl: [seq_length, ]*batch_size,\n",
    "                            self.initial_state: state,\n",
    "                            self.keep_prob_pl : keep_prob,\n",
    "                            self.lr_pl        : learning_rate,\n",
    "                    })\n",
    "                    self.tr_losses.append(tr_loss)\n",
    "                    \n",
    "                    if self.tr_step % log_every == 0:\n",
    "                        show_train_stats(self.tr_epoch, self.tr_step, self.tr_losses, mean_win)\n",
    "                        \n",
    "        except KeyboardInterrupt:\n",
    "            show_train_stats(self.tr_epoch, self.tr_step, self.tr_losses, mean_win)\n",
    "            \n",
    "\n",
    "    def save(self, path):\n",
    "        make_dir(path)\n",
    "        pickle.dump([self.tr_epoch, self.tr_step, self.tr_losses], open(os.path.join(path, \"state.p\"), \"wb\"))\n",
    "        self._saver.save(self._sess, path)\n",
    "        \n",
    "    def restore(self, path):\n",
    "        try:\n",
    "             [self.tr_epoch, self.tr_step, self.tr_losses] = pickle.load(open(os.path.join(path, \"state.p\"), \"rb\"))\n",
    "        except: \n",
    "            print(\"State not found at\", path)\n",
    "        self._saver.restore(self._sess, path)\n",
    "        \n",
    "    def predict(self, x, state, seq_len):\n",
    "        pred, state = self._sess.run(\n",
    "            [self.prediction, self.final_state], \n",
    "            feed_dict={\n",
    "                self.inputs_pl    : x,\n",
    "                self.seq_length_pl: [seq_len],\n",
    "                self.initial_state: state,\n",
    "                self.keep_prob_pl : 1.\n",
    "            })\n",
    "        return pred, state\n",
    "    \n",
    "    def sample(self, dataset, n_samples, top_n, prime):\n",
    "        seq_len = 1\n",
    "        def pick_top_n(pred, vocab_size, top_n):\n",
    "            p = np.squeeze(pred)\n",
    "            p[np.argsort(p)[:-top_n]] = 0\n",
    "            p = p / np.sum(p)\n",
    "            c = np.random.choice(vocab_size, 1, p=p)[0]\n",
    "            return c\n",
    "\n",
    "        samples = [c for c in prime]\n",
    "        state = self._get_initial_state(batch_size = 1)\n",
    "\n",
    "        for c in prime:\n",
    "            x      = np.zeros([1, seq_len])\n",
    "            x[0,0] = dataset.vocab_to_int[c]\n",
    "            preds, state = self.predict(x, state, seq_len)\n",
    "        c = pick_top_n(preds, self.num_classes, top_n)\n",
    "        samples.append(dataset.int_to_vocab[c])\n",
    "\n",
    "        for i in range(n_samples):\n",
    "            x[0,0] = c\n",
    "            preds, state = self.predict(x, state, seq_len)\n",
    "            c = pick_top_n(preds, self.num_classes, top_n)\n",
    "            samples.append(dataset.int_to_vocab[c])\n",
    "\n",
    "        return ''.join(samples)"
   ]
  },
  {
   "cell_type": "code",
   "execution_count": 4,
   "metadata": {
    "scrolled": false
   },
   "outputs": [],
   "source": [
    "num_layers  = 2\n",
    "num_units   = 512\n",
    "grad_clip   = 5.0\n",
    "\n",
    "model = CharRNN(\n",
    "    num_classes = len(dataset.vocab))\n",
    "\n",
    "with tf.device('/device:GPU:0'):\n",
    "    model.build(\n",
    "        num_units  = num_units, \n",
    "        num_layers = num_layers, \n",
    "        grad_clip  = grad_clip)"
   ]
  },
  {
   "cell_type": "markdown",
   "metadata": {},
   "source": [
    "## Train"
   ]
  },
  {
   "cell_type": "code",
   "execution_count": null,
   "metadata": {
    "scrolled": false
   },
   "outputs": [
    {
     "data": {
      "image/png": "[encoded data removed]",
      "text/plain": [
       "<matplotlib.figure.Figure at 0x7f67b85a5fd0>"
      ]
     },
     "metadata": {},
     "output_type": "display_data"
    }
   ],
   "source": [
    "%%time\n",
    "model.train(\n",
    "    epochs        = 50, \n",
    "    batch_size    = 128, \n",
    "    seq_length    = 100,\n",
    "    learning_rate = 1e-3, \n",
    "    keep_prob     = .5,\n",
    "    dataset       = dataset)\n",
    "model.save(model_path)"
   ]
  },
  {
   "cell_type": "markdown",
   "metadata": {},
   "source": [
    "## Test"
   ]
  },
  {
   "cell_type": "code",
   "execution_count": 5,
   "metadata": {
    "scrolled": false
   },
   "outputs": [
    {
     "name": "stdout",
     "output_type": "stream",
     "text": [
      "--------------------------------------------------\n",
      "МОК запретил российским олимпийцам использовать национальную символику ста ного нала стал ве на подемалина не постом семе нело сто на ват слов сто порито вот слани сто нало стол нак стол но постом вет вал вел волать и подеть. В праснова в присети,, токо перема сто но пероме нал са но нак сто прого нал вало се не посети вел са посталь нако ват но проделинь, что поди вол\n"
     ]
    }
   ],
   "source": [
    "primes = ['МОК запретил российским олимпийцам использовать национальную символику']\n",
    "for prime in primes:\n",
    "    print('-'*50)\n",
    "    samp = model.sample(dataset, n_samples=300, top_n=3, prime=prime)\n",
    "    samp = samp.replace('\\n', '\\n\\n')\n",
    "    print(samp)"
   ]
  },
  {
   "cell_type": "markdown",
   "metadata": {},
   "source": [
    "## Restore"
   ]
  },
  {
   "cell_type": "code",
   "execution_count": 6,
   "metadata": {
    "scrolled": true
   },
   "outputs": [
    {
     "name": "stdout",
     "output_type": "stream",
     "text": [
      "INFO:tensorflow:Restoring parameters from models/dostoevsky-001/\n"
     ]
    }
   ],
   "source": [
    "model.restore(model_path)"
   ]
  },
  {
   "cell_type": "code",
   "execution_count": null,
   "metadata": {},
   "outputs": [],
   "source": []
  }
 ],
 "metadata": {
  "kernelspec": {
   "display_name": "Python 3",
   "language": "python",
   "name": "python3"
  },
  "language_info": {
   "codemirror_mode": {
    "name": "ipython",
    "version": 3
   },
   "file_extension": ".py",
   "mimetype": "text/x-python",
   "name": "python",
   "nbconvert_exporter": "python",
   "pygments_lexer": "ipython3",
   "version": "3.5.2"
  }
 },
 "nbformat": 4,
 "nbformat_minor": 2
}
