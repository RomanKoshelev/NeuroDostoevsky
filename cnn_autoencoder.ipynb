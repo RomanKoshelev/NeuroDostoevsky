{
 "cells": [
  {
   "cell_type": "markdown",
   "metadata": {},
   "source": [
    "# CNN autoencoder"
   ]
  },
  {
   "cell_type": "code",
   "execution_count": 1,
   "metadata": {},
   "outputs": [],
   "source": [
    "import numpy as np\n",
    "from sent_dataset import SentenceDataset\n",
    "from utils import prepare_sample"
   ]
  },
  {
   "cell_type": "code",
   "execution_count": 33,
   "metadata": {},
   "outputs": [],
   "source": [
    "import tensorflow as tf\n",
    "def conv1d(inputs, filters, kernel_size, name=None, strides=1, padding=\"same\", activation=tf.nn.relu):\n",
    "    return tf.layers.conv1d(\n",
    "        inputs      = inputs,\n",
    "        filters     = filters,\n",
    "        kernel_size = kernel_size,\n",
    "        padding     = padding,\n",
    "        activation  = activation,\n",
    "        strides     = strides,\n",
    "        name        = name)\n",
    "\n",
    "\n",
    "def maxpool1d(inputs, pool_size, strides=None, padding=\"valid\"):\n",
    "    strides = strides or pool_size\n",
    "    return tf.layers.max_pooling1d(\n",
    "        inputs    = inputs, \n",
    "        pool_size = pool_size, \n",
    "        strides   = strides,\n",
    "        padding   = padding)\n",
    "\n",
    "\n",
    "def conv_maxpool_1d(inputs, filters, kernel_size, pool_size, activation=tf.nn.relu):\n",
    "    return maxpool1d(conv1d(inputs, filters, kernel_size, activation=activation), pool_size)\n",
    "\n",
    "\n",
    "def dense(inputs, units, name=None, activation=tf.nn.relu):\n",
    "    return tf.layers.dense(inputs, units=units, activation=activation, name=name)\n",
    "\n",
    "\n",
    "def flatten(inputs):\n",
    "    return tf.contrib.layers.flatten(inputs)\n",
    "\n",
    "    "
   ]
  },
  {
   "cell_type": "code",
   "execution_count": 53,
   "metadata": {},
   "outputs": [],
   "source": [
    "import os\n",
    "from utils import make_dir\n",
    "import numpy as np\n",
    "import tensorflow as tf\n",
    "import pickle\n",
    "from visualization import show_train_stats\n",
    "\n",
    "class AutoencoderCNN:\n",
    "    def __init__(self):\n",
    "        self._scope    = \"autoencoder_cnn\"\n",
    "        self._session  = None\n",
    "        self._graph    = None        \n",
    "        # state\n",
    "        self.tr_step   = 0\n",
    "        self.tr_epoch  = 0\n",
    "        self.tr_losses = []\n",
    "\n",
    "    def _make_network(self, inputs, sent_len, voc_size, emb_size):\n",
    "        with tf.variable_scope(\"simple_conv\"):\n",
    "            l = inputs\n",
    "            l = conv_maxpool_1d (l,  128, 5, 2)\n",
    "            l = conv_maxpool_1d (l,  128, 5, 2)\n",
    "            l = conv_maxpool_1d (l,  128, 5, 2)\n",
    "            # l = conv_maxpool_1d (l,  128, 5, 8)\n",
    "\n",
    "            l = flatten(l)\n",
    "\n",
    "            l = dense(l, 1024)\n",
    "            l = dense(l, emb_size)\n",
    "            l = dense(l, sent_len*voc_size, activation=None)\n",
    "\n",
    "            l = tf.reshape(l, [-1, sent_len, voc_size])\n",
    "\n",
    "            logits = l\n",
    "            \n",
    "            return logits\n",
    "    \n",
    "\n",
    "    def _make_loss(self, logits, labels):\n",
    "        loss = tf.nn.sparse_softmax_cross_entropy_with_logits(\n",
    "            logits = logits,\n",
    "            labels = labels,\n",
    "        )\n",
    "        return tf.reduce_mean(loss)\n",
    "    \n",
    "\n",
    "    def build(self, emb_size, voc_size, sent_len):\n",
    "        tf.reset_default_graph()\n",
    "        self._graph = tf.Graph()\n",
    "        with self._graph.as_default(), tf.variable_scope(self._scope):\n",
    "            \n",
    "            # placeholders\n",
    "            self.inputs_pl     = tf.placeholder(tf.int32, [None, sent_len], name='inputs')\n",
    "            self.targets_pl    = tf.identity(self.inputs_pl, name='targets')\n",
    "            self.lr_pl         = tf.placeholder(tf.float32, name='learning_rate')\n",
    "\n",
    "            # embedding\n",
    "            embedding_mtx      = tf.Variable(tf.random_normal(shape=[voc_size, emb_size], dtype=tf.float32))\n",
    "            embed              = tf.nn.embedding_lookup(embedding_mtx, self.inputs_pl)\n",
    "            \n",
    "            # network\n",
    "            logits             = self._make_network(embed, sent_len, voc_size, emb_size)\n",
    "            self.outputs       = tf.argmax(tf.nn.softmax(logits), axis=2)\n",
    "\n",
    "            # training\n",
    "            self.loss_op       = self._make_loss(logits, self.targets_pl)\n",
    "            self.train_op      = tf.train.AdamOptimizer(self.lr_pl).minimize(self.loss_op)            \n",
    "            \n",
    "            # utils\n",
    "            self.init_op       = tf.global_variables_initializer()\n",
    "            self._saver        = tf.train.Saver()\n",
    "\n",
    "        # session\n",
    "        self._sess = tf.Session(graph=self._graph)\n",
    "        self._sess.run(self.init_op)\n",
    "        \n",
    "        \n",
    "    def train(self, tr_dataset, step_num, batch_size, learning_rate, log_every=20, mean_win=30):\n",
    "        try:\n",
    "            data_size = tr_dataset.get_data_size()\n",
    "            for self.tr_step in range(self.tr_step, step_num-1):\n",
    "                ep = self.tr_step*batch_size/data_size\n",
    "                # Train\n",
    "                sents = tr_dataset.get_next_batch(batch_size)\n",
    "                tr_loss, _ = self._sess.run(\n",
    "                    [self.loss_op, self.train_op], \n",
    "                    feed_dict={\n",
    "                        self.inputs_pl:  sents,\n",
    "                        self.targets_pl: sents,\n",
    "                        self.lr_pl:       learning_rate\n",
    "                    })\n",
    "                self.tr_losses.append(tr_loss)\n",
    "\n",
    "                if self.tr_step % log_every == 0:\n",
    "                    show_train_stats(ep, self.tr_step, self.tr_losses, mean_win)\n",
    "                        \n",
    "        except KeyboardInterrupt:\n",
    "            show_train_stats(ep, self.tr_step, self.tr_losses, mean_win)\n",
    "            \n",
    "\n",
    "    def save(self, path):\n",
    "        make_dir(path)\n",
    "        pickle.dump([self.tr_epoch, self.tr_step, self.tr_losses], open(os.path.join(path, \"state.p\"), \"wb\"))\n",
    "        self._saver.save(self._sess, path)\n",
    "        \n",
    "        \n",
    "    def restore(self, path):\n",
    "        try:\n",
    "             [self.tr_epoch, self.tr_step, self.tr_losses] = pickle.load(open(os.path.join(path, \"state.p\"), \"rb\"))\n",
    "        except: \n",
    "            print(\"State not found at\", path)\n",
    "        self._saver.restore(self._sess, path)\n",
    "\n",
    "        \n",
    "    def run(self, sents):\n",
    "        return self._sess.run(self.outputs, feed_dict={self.inputs_pl: sents})\n"
   ]
  },
  {
   "cell_type": "markdown",
   "metadata": {},
   "source": [
    "## Dataset"
   ]
  },
  {
   "cell_type": "code",
   "execution_count": 81,
   "metadata": {},
   "outputs": [
    {
     "name": "stdout",
     "output_type": "stream",
     "text": [
      "CPU times: user 4.72 s, sys: 16 ms, total: 4.73 s\n",
      "Wall time: 4.69 s\n"
     ]
    }
   ],
   "source": [
    "%%time\n",
    "dataset = SentenceDataset(2, 32)\n",
    "dataset.load('data/dostoevsky.txt', 1000000)  # dostoevsky.txt  anna.txt"
   ]
  },
  {
   "cell_type": "code",
   "execution_count": 82,
   "metadata": {},
   "outputs": [
    {
     "name": "stdout",
     "output_type": "stream",
     "text": [
      "12311\n",
      "25975 x 34 = 883150\n"
     ]
    }
   ],
   "source": [
    "voc_size = dataset.num_tokens\n",
    "sent_len = dataset.max_len+2\n",
    "print(dataset.get_data_size())\n",
    "print(\"%d x %d = %d\" % (voc_size, sent_len, voc_size*sent_len))"
   ]
  },
  {
   "cell_type": "markdown",
   "metadata": {},
   "source": [
    "## Build"
   ]
  },
  {
   "cell_type": "code",
   "execution_count": 83,
   "metadata": {
    "scrolled": false
   },
   "outputs": [
    {
     "name": "stdout",
     "output_type": "stream",
     "text": [
      "CPU times: user 1.66 s, sys: 72 ms, total: 1.74 s\n",
      "Wall time: 1.84 s\n"
     ]
    }
   ],
   "source": [
    "%%time\n",
    "model_path  = 'models/autoencoder/dostoevsky-001/'\n",
    "\n",
    "model = AutoencoderCNN()\n",
    "\n",
    "model.build(\n",
    "    emb_size  = 100,\n",
    "    voc_size  = voc_size, \n",
    "    sent_len  = sent_len)"
   ]
  },
  {
   "cell_type": "markdown",
   "metadata": {},
   "source": [
    "## Train"
   ]
  },
  {
   "cell_type": "code",
   "execution_count": 84,
   "metadata": {
    "scrolled": false
   },
   "outputs": [
    {
     "data": {
      "image/png": "[encoded data removed]",
      "text/plain": [
       "<matplotlib.figure.Figure at 0x7f71dbf034a8>"
      ]
     },
     "metadata": {},
     "output_type": "display_data"
    },
    {
     "name": "stdout",
     "output_type": "stream",
     "text": [
      "CPU times: user 2min 21s, sys: 30.8 s, total: 2min 52s\n",
      "Wall time: 2min 43s\n"
     ]
    }
   ],
   "source": [
    "%%time\n",
    "model.train(\n",
    "    step_num      = 10000,\n",
    "    batch_size    = 32, \n",
    "    learning_rate = 1e-3, \n",
    "    mean_win      = 30,\n",
    "    tr_dataset    = dataset)\n",
    "model.save(model_path)"
   ]
  },
  {
   "cell_type": "markdown",
   "metadata": {},
   "source": [
    "## Test"
   ]
  },
  {
   "cell_type": "code",
   "execution_count": 85,
   "metadata": {},
   "outputs": [
    {
     "name": "stdout",
     "output_type": "stream",
     "text": [
      "[<BOS> прасковья ивановна замахала руками . <EOS>]\n",
      "[<BOS> мы только переглянулись с кирилловым и решили , что это хорошо и что это нам очень нравится <EOS>]\n",
      "[<BOS> — он топнул опять ногой , слюня брызгала с его губ . <EOS>]\n",
      "----------------------------------------------------------------------------------------------------\n",
      "[<BOS> — , , . <EOS> <EOS>]\n",
      "[<BOS> — , , , , , , , , , , , , , . . . <EOS>]\n",
      "[<BOS> — , , , , , , , , . . <EOS>]\n"
     ]
    }
   ],
   "source": [
    "inp = dataset.get_next_batch(3)\n",
    "for s in inp:\n",
    "    print('[%s]' % dataset.decode(s).replace(' _', ''))\n",
    "out = model.run(inp)\n",
    "print('-'*100)\n",
    "for s in out:\n",
    "    print('[%s]' % dataset.decode(s).replace(' _', ''))\n"
   ]
  },
  {
   "cell_type": "markdown",
   "metadata": {},
   "source": [
    "## Restore"
   ]
  },
  {
   "cell_type": "code",
   "execution_count": 55,
   "metadata": {
    "scrolled": true
   },
   "outputs": [
    {
     "name": "stdout",
     "output_type": "stream",
     "text": [
      "INFO:tensorflow:Restoring parameters from models/autoencoder/dostoevsky-001/\n"
     ]
    },
    {
     "name": "stderr",
     "output_type": "stream",
     "text": [
      "INFO:tensorflow:Restoring parameters from models/autoencoder/dostoevsky-001/\n"
     ]
    }
   ],
   "source": [
    "model.restore(model_path)"
   ]
  },
  {
   "cell_type": "code",
   "execution_count": null,
   "metadata": {},
   "outputs": [],
   "source": []
  }
 ],
 "metadata": {
  "kernelspec": {
   "display_name": "Python 3",
   "language": "python",
   "name": "python3"
  },
  "language_info": {
   "codemirror_mode": {
    "name": "ipython",
    "version": 3
   },
   "file_extension": ".py",
   "mimetype": "text/x-python",
   "name": "python",
   "nbconvert_exporter": "python",
   "pygments_lexer": "ipython3",
   "version": "3.5.2"
  }
 },
 "nbformat": 4,
 "nbformat_minor": 2
}
