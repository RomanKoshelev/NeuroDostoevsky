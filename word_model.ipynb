{
 "cells": [
  {
   "cell_type": "markdown",
   "metadata": {},
   "source": [
    "# Word model"
   ]
  },
  {
   "cell_type": "code",
   "execution_count": 1,
   "metadata": {},
   "outputs": [],
   "source": [
    "import numpy as np\n",
    "from word_dataset import WordDataset\n",
    "from word_model import WordRNN"
   ]
  },
  {
   "cell_type": "markdown",
   "metadata": {},
   "source": [
    "## Dataset"
   ]
  },
  {
   "cell_type": "code",
   "execution_count": 3,
   "metadata": {},
   "outputs": [
    {
     "name": "stdout",
     "output_type": "stream",
     "text": [
      "CPU times: user 52.6 s, sys: 196 ms, total: 52.8 s\n",
      "Wall time: 52.8 s\n"
     ]
    }
   ],
   "source": [
    "%%time\n",
    "dataset = WordDataset()\n",
    "dataset.load('data/dostoevsky.txt')  # dostoevsky.txt  anna.txt\n",
    "model_path = 'models/word/dostoevsky-001/'"
   ]
  },
  {
   "cell_type": "markdown",
   "metadata": {},
   "source": [
    "## Build"
   ]
  },
  {
   "cell_type": "code",
   "execution_count": 6,
   "metadata": {
    "scrolled": false
   },
   "outputs": [
    {
     "name": "stdout",
     "output_type": "stream",
     "text": [
      "CPU times: user 2.65 s, sys: 48 ms, total: 2.7 s\n",
      "Wall time: 2.75 s\n"
     ]
    }
   ],
   "source": [
    "%%time\n",
    "num_layers  = 2\n",
    "num_units   = 256\n",
    "grad_clip   = 5.0\n",
    "\n",
    "model = WordRNN(\n",
    "    num_classes = dataset.num_tokens)\n",
    "\n",
    "model.build(\n",
    "    emb_size   = 300,\n",
    "    num_units  = num_units, \n",
    "    num_layers = num_layers, \n",
    "    grad_clip  = grad_clip)"
   ]
  },
  {
   "cell_type": "markdown",
   "metadata": {},
   "source": [
    "## Train"
   ]
  },
  {
   "cell_type": "code",
   "execution_count": null,
   "metadata": {
    "scrolled": false
   },
   "outputs": [],
   "source": [
    "%%time\n",
    "model.train(\n",
    "    epochs        = 100, \n",
    "    batch_size    = 32, \n",
    "    seq_length    = 20,\n",
    "    learning_rate = 1e-3, \n",
    "    keep_prob     = .5,\n",
    "    mean_win      = 100,\n",
    "    dataset       = dataset)\n",
    "model.save(model_path)"
   ]
  },
  {
   "cell_type": "markdown",
   "metadata": {},
   "source": [
    "## Test"
   ]
  },
  {
   "cell_type": "code",
   "execution_count": 67,
   "metadata": {
    "scrolled": false
   },
   "outputs": [
    {
     "name": "stdout",
     "output_type": "stream",
     "text": [
      "--------------------------------------------------\n",
      "князь, кажется, ничего не может быть, и не может быть я, дескать, я не сержусь, так вы! вы, впрочем, и я ничего не хотел делать, но ведь вы я все-таки не хотел жить... — а? — это правда, — сказала катя. — так я и люблю же вы его теперь. я буду веровать за ваше слово? — с нетерпением я согласен,, в сущности, у нас, может быть, я знаю, что я знаю. — но не я вам скажу:\n",
      "--------------------------------------------------\n",
      "настасья мне даже как-то опасливо но как бы так же случилось, что я ее давно уже уже не мог сказать но это очень трудно было, не может быть. и когда он был в жару и ждал, где все это были для меня и теперь в этот вечер, как так не было? — да, что же ты про тебя хотел убить, — сказала я и пошел в комнату!.. но все же это было, с, и вдруг. — а ведь с вами, как это все я теперь теперь говорю.\n",
      "--------------------------------------------------\n",
      "рогожин, может быть, и совсем не мог понять его. это не было, как нарочно. я с тобой посмотрел на меня, даже не зная, что это я, когда она не хочет мне, чтобы вы и знаете, что и он, может быть, все меня не любит. я, конечно, знаю, что я вижу, потому для чего и в то же время с ней не я бы с собой и ничего не знал. я вас не люблю, я не стою за нее, и, право,\n",
      "--------------------------------------------------\n",
      "лебедев знал в это утро совсем все и не только не так, что не мог говорить и. это был мальчик, может быть, не может быть, по глупости, хоть и в случае и теперь уже с самого конца — это я сказал, что на это было, что не было я, напротив, и он, конечно, очень, что у нас в россии, а не на том, что я, как я так рад, что он человек и что был такой, и, может, я тогда. я\n",
      "--------------------------------------------------\n",
      "аглая егоровна не не в силах быть серьезнее. все это он совсем как бы был поражен. — это что же-с, — с каким-то странным любопытством ответил он, — вы не можете же и — и — да, и он опять говорил: « и вы могли это говорить? мне стало только в ту минуту. « нет, меня не будет, в этом роде! » — заметил он с содроганием, который, так сказать, уже на это и знал о этом, с и с презрением,, чем и не подозревая\n",
      "--------------------------------------------------\n",
      "генерал был убежден, что он был с того уже болен. алеша тоже еще, кажется, как будто не и даже совсем не делал. не стану описывать даже даже не знал он не знал, как, кажется, уже с ним говорил. « в самом деле, это и так должно быть,, может быть, я уже не сказал! — подумал он. он вдруг схватил себя к стене и поцеловал его, но даже. « так и что, может быть, и в бреду теперь в голову? » — подумал\n",
      "--------------------------------------------------\n",
      "убийца, может быть, она не в виде даже не мог скрыть и обидеть и, не будучи он только чтобы сделать. в ней же он, говорят, в состоянии сказать в нем даже и и не то. только что было сказать: « как же мне это, конечно, не в том ли. я уже не понимаю, что все это я, может быть, с вами и и без того не могу. а вы сами сами меня не могли мне говорить, мне все равно, что я вас только тогда сам\n",
      "--------------------------------------------------\n",
      "я вас не знаю о том, что он не ходит! как в бреду? он не мог понять я ни слова в этом я не хотел ни малейшего внимания с тобой, но все-таки мне не было. вот и я теперь буду мне, и меня не скажу, — так, но у них на другой раз! но ведь это не сон, а я вот вы, маточка, я, а вы я так — вот что, когда я буду читать теперь, потому что вы и сами не хотели на свете так смотреть я\n"
     ]
    }
   ],
   "source": [
    "primes = ['князь', 'настасья', 'рогожин', 'лебедев', 'аглая', 'генерал', 'убийца', 'я вас']\n",
    "for prime in primes:\n",
    "    print('-'*50)\n",
    "    samp = model.sample(dataset, n_samples=100, top_n=30, prime=prime)\n",
    "    samp = samp.replace(' .', '.').replace(' ,', ',').replace(' !', '!').replace(' ?', '?').replace(' :', ':')\n",
    "    print(samp)    "
   ]
  },
  {
   "cell_type": "markdown",
   "metadata": {},
   "source": [
    "## Restore"
   ]
  },
  {
   "cell_type": "code",
   "execution_count": 19,
   "metadata": {
    "scrolled": true
   },
   "outputs": [
    {
     "name": "stdout",
     "output_type": "stream",
     "text": [
      "INFO:tensorflow:Restoring parameters from models/word/dostoevsky-001/\n"
     ]
    },
    {
     "name": "stderr",
     "output_type": "stream",
     "text": [
      "INFO:tensorflow:Restoring parameters from models/word/dostoevsky-001/\n"
     ]
    }
   ],
   "source": [
    "model.restore(model_path)"
   ]
  },
  {
   "cell_type": "code",
   "execution_count": null,
   "metadata": {},
   "outputs": [],
   "source": []
  }
 ],
 "metadata": {
  "kernelspec": {
   "display_name": "Python 3",
   "language": "python",
   "name": "python3"
  },
  "language_info": {
   "codemirror_mode": {
    "name": "ipython",
    "version": 3
   },
   "file_extension": ".py",
   "mimetype": "text/x-python",
   "name": "python",
   "nbconvert_exporter": "python",
   "pygments_lexer": "ipython3",
   "version": "3.5.2"
  }
 },
 "nbformat": 4,
 "nbformat_minor": 2
}
