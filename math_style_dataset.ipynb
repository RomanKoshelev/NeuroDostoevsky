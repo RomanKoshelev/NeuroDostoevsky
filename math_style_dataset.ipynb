{
 "cells": [
  {
   "cell_type": "markdown",
   "metadata": {},
   "source": [
    "# MathStyleDataset"
   ]
  },
  {
   "cell_type": "code",
   "execution_count": 1,
   "metadata": {},
   "outputs": [],
   "source": [
    "import numpy as np\n",
    "from math_generator import MathGenerator\n",
    "from math_vocab import MathVocab\n",
    "from math_dataset import MathDataset\n",
    "from utils import make_dir\n",
    "\n",
    "vocab_path      = \"data/math_style/math_vocab.data\"\n",
    "\n",
    "tr_text_path    = \"texts/math_style/math_%s_train.txt\"\n",
    "va_text_path    = \"texts/math_style/math_%s_valid.txt\"\n",
    "tr_dataset_path = \"data/math_style/math_dataset_%s_train.data\"\n",
    "va_dataset_path = \"data/math_style/math_dataset_%s_valid.data\"\n",
    "\n",
    "max_len     = 32\n",
    "gen_min_sum = 10\n",
    "gen_max_sum = 20\n",
    "gen_num     = 10000"
   ]
  },
  {
   "cell_type": "markdown",
   "metadata": {},
   "source": [
    "## Generator"
   ]
  },
  {
   "cell_type": "code",
   "execution_count": 3,
   "metadata": {},
   "outputs": [
    {
     "name": "stdout",
     "output_type": "stream",
     "text": [
      "\n",
      "texts/math_style/math_0_train.txt:\n",
      "\n",
      "8+1+9 = 18\n",
      "16 = 1+1+12+2\n",
      "7+2+1 = 1+9\n",
      "16 = 5+11\n",
      "2+13 = 1+13+1\n",
      "18 = 8+2+7+1\n",
      "15+1 = 10+6\n",
      "7+6+1 = 4+1+8+ ...\n",
      "\n",
      "texts/math_style/math_0_valid.txt:\n",
      "\n",
      "2+2+2+3+1+1 = 1+1+2+7\n",
      "1+7+6 = 3+4+2+5\n",
      "6+6+1+1+1 = 12+1+1+1\n",
      "1+9+1 = 4+6+1\n",
      "16+1+1 = 5+12+1\n",
      "12+5 = 1+6+ ...\n",
      "\n",
      "texts/math_style/math_1_train.txt:\n",
      "\n",
      "9+4+1=7+1+5+1\n",
      "1+7+4=7+5\n",
      "4+8+4+2=12+6\n",
      "1+15+1=4+13\n",
      "3+1+6+2=1+10+1\n",
      "6+1+2+1+2=2+10\n",
      "11+1+1=4+9\n",
      "8+4=4+4+1+ ...\n",
      "\n",
      "texts/math_style/math_1_valid.txt:\n",
      "\n",
      "4+1+5+1=1+1+1+2+6\n",
      "2+3+6=2+1+3+1+4\n",
      "1+11+7=1+6+4+8\n",
      "1+6+8+2=1+12+4\n",
      "1+18=17+1+1\n",
      "8+2+1=4+2+5\n",
      "2+10=7+1+4\n",
      "8 ...\n"
     ]
    }
   ],
   "source": [
    "def apply_style(text, style):\n",
    "    if style == 0:\n",
    "        return text\n",
    "    else:\n",
    "        return text.replace(\" = \", \"=\")        \n",
    "    \n",
    "for style in [0,1]:\n",
    "    for path in [tr_text_path, va_text_path]:\n",
    "        path = path % style\n",
    "        gen = MathGenerator(gen_min_sum, gen_max_sum)\n",
    "        sents = gen.generate('=', gen_num)\n",
    "        text = '\\n'.join(sents)\n",
    "        text = apply_style(text, style)\n",
    "\n",
    "        print('\\n%s:\\n'%path)\n",
    "        print(text[:100] + \" ...\")\n",
    "\n",
    "        make_dir(path)\n",
    "        with open(path, 'w') as f:\n",
    "            f.write(text)"
   ]
  },
  {
   "cell_type": "markdown",
   "metadata": {},
   "source": [
    "## Vocab"
   ]
  },
  {
   "cell_type": "code",
   "execution_count": 4,
   "metadata": {},
   "outputs": [
    {
     "name": "stdout",
     "output_type": "stream",
     "text": [
      "MathVocab:\n",
      "  size: 17\n",
      "  _tokens_to_words: ['<UNK>', '<BOS>', '<EOS>', '<PAD>', '+', '1', '2', '=', ' ', '3', '4', '5', '6', '7', '8', '9', '0']\n"
     ]
    }
   ],
   "source": [
    "voc = MathVocab()\n",
    "voc.build([t % s for t in [tr_text_path, va_text_path] for s in [0,1]])\n",
    "voc.save(vocab_path)\n",
    "print(voc)\n",
    "assert voc.size == 17, voc.size # '0123456789 =+' + UNK, EOS, BOS, PAD"
   ]
  },
  {
   "cell_type": "markdown",
   "metadata": {},
   "source": [
    "## Dataset"
   ]
  },
  {
   "cell_type": "code",
   "execution_count": 30,
   "metadata": {},
   "outputs": [],
   "source": [
    "import numpy as np\n",
    "import nltk\n",
    "from utils import sent_to_words, make_dir\n",
    "from vocabulary import BOS_CODE, EOS_CODE, PAD_CODE\n",
    "import pickle\n",
    "\n",
    "class MathStyleDataset:\n",
    "    def __init__(self):\n",
    "        self._ds0 = MathDataset()\n",
    "        self._ds1 = MathDataset()\n",
    "        \n",
    "    def __str__(self):\n",
    "        return \"%s\\n%s\" % (self._ds0, self._ds1)\n",
    "        \n",
    "    def build(self, path, vocab, max_len, min_len=1):\n",
    "        self._ds0.build(path % 0, vocab, max_len, min_len)\n",
    "        self._ds1.build(path % 1, vocab, max_len, min_len)\n",
    "            \n",
    "    def get_next_batch(self, bs):\n",
    "        bs0 = bs//2\n",
    "        bs1 = bs - bs0\n",
    "        \n",
    "        sent0 = self._ds0.get_next_batch(bs0)\n",
    "        sent1 = self._ds1.get_next_batch(bs1)\n",
    "        \n",
    "        return np.concatenate((sent0,sent1), axis=0)\n",
    "    \n",
    "    def save(self, path):\n",
    "        self._ds0.save(path % 0)\n",
    "        self._ds1.save(path % 1)\n",
    "\n",
    "    def restore(self, path):\n",
    "        self._ds0.restore(path % 0)\n",
    "        self._ds1.restore(path % 1)\n",
    "        \n"
   ]
  },
  {
   "cell_type": "code",
   "execution_count": 31,
   "metadata": {},
   "outputs": [
    {
     "data": {
      "text/plain": [
       "array([[1, 1],\n",
       "       [2, 2],\n",
       "       [3, 3]])"
      ]
     },
     "execution_count": 31,
     "metadata": {},
     "output_type": "execute_result"
    }
   ],
   "source": [
    "a = np.array([[1,1]])\n",
    "b = np.array([[2,2],[3,3]])\n",
    "np.concatenate((a,b), axis=0)"
   ]
  },
  {
   "cell_type": "code",
   "execution_count": 32,
   "metadata": {},
   "outputs": [
    {
     "name": "stdout",
     "output_type": "stream",
     "text": [
      "MathDataset:\n",
      "  path: data/math_style/math_dataset_0_train.data\n",
      "  shape: [10000, 34]\n",
      "  data_limit: None\n",
      "MathDataset:\n",
      "  path: data/math_style/math_dataset_1_train.data\n",
      "  shape: [10000, 34]\n",
      "  data_limit: None\n",
      "MathDataset:\n",
      "  path: data/math_style/math_dataset_0_valid.data\n",
      "  shape: [10000, 34]\n",
      "  data_limit: None\n",
      "MathDataset:\n",
      "  path: data/math_style/math_dataset_1_valid.data\n",
      "  shape: [10000, 34]\n",
      "  data_limit: None\n"
     ]
    }
   ],
   "source": [
    "voc = MathVocab()\n",
    "voc.restore(vocab_path)\n",
    "\n",
    "dataset_paths = [tr_dataset_path, va_dataset_path]\n",
    "\n",
    "for i,text_path in enumerate([tr_text_path, va_text_path]):\n",
    "    dataset = MathStyleDataset()\n",
    "    dataset.build(text_path, voc, max_len=max_len)\n",
    "    dataset.save(dataset_paths[i])\n",
    "    print(dataset)\n",
    "    assert dataset._ds0.shape[0] > 9900\n",
    "    assert dataset._ds0.shape[1] == max_len+2\n",
    "    assert dataset._ds1.shape[0] > 9900\n",
    "    assert dataset._ds1.shape[1] == max_len+2    "
   ]
  },
  {
   "cell_type": "markdown",
   "metadata": {},
   "source": [
    "## Batch"
   ]
  },
  {
   "cell_type": "code",
   "execution_count": 34,
   "metadata": {},
   "outputs": [
    {
     "name": "stdout",
     "output_type": "stream",
     "text": [
      "<BOS>5+7 = 1+2+9<EOS>_____________________\n",
      "<BOS>6+1+4+6+1 = 4+14<EOS>________________\n",
      "<BOS>9+2+5+2 = 8+5+5<EOS>_________________\n",
      "<BOS>2+2+9+5 = 2+10+6<EOS>________________\n",
      "<BOS>5+4+1 = 4+1+5<EOS>___________________\n",
      "<BOS>17+1 = 1+17<EOS>_____________________\n",
      "<BOS>6+9 = 1+13+1<EOS>____________________\n",
      "<BOS>7+9+1=10+7<EOS>______________________\n",
      "<BOS>2+1+6+3+1=1+2+1+9<EOS>_______________\n",
      "<BOS>10=8+2<EOS>__________________________\n",
      "<BOS>8+1+7+1=6+11<EOS>____________________\n",
      "<BOS>1+3+2+1+4+2=1+12<EOS>________________\n",
      "<BOS>12+1+2=9+5+1<EOS>____________________\n",
      "<BOS>16+1=5+4+8<EOS>______________________\n"
     ]
    }
   ],
   "source": [
    "voc = MathVocab()\n",
    "voc.restore(vocab_path)\n",
    "\n",
    "dataset = MathStyleDataset()\n",
    "dataset.restore(tr_dataset_path)\n",
    "\n",
    "batch = dataset.get_next_batch(14)\n",
    "for sent in batch:\n",
    "    restored = \"\".join(voc.to_words(sent))\n",
    "    restored = restored.replace('<PAD>', '_')\n",
    "    print(restored)"
   ]
  },
  {
   "cell_type": "code",
   "execution_count": null,
   "metadata": {},
   "outputs": [],
   "source": []
  }
 ],
 "metadata": {
  "kernelspec": {
   "display_name": "Python 3",
   "language": "python",
   "name": "python3"
  },
  "language_info": {
   "codemirror_mode": {
    "name": "ipython",
    "version": 3
   },
   "file_extension": ".py",
   "mimetype": "text/x-python",
   "name": "python",
   "nbconvert_exporter": "python",
   "pygments_lexer": "ipython3",
   "version": "3.5.2"
  }
 },
 "nbformat": 4,
 "nbformat_minor": 2
}
