{
 "cells": [
  {
   "cell_type": "markdown",
   "metadata": {},
   "source": [
    "# MathStyleDataset"
   ]
  },
  {
   "cell_type": "code",
   "execution_count": 1,
   "metadata": {},
   "outputs": [],
   "source": [
    "import numpy as np\n",
    "from math_generator import MathGenerator\n",
    "from math_vocab import MathVocab\n",
    "from math_style_dataset import MathStyleDataset\n",
    "from utils import make_dir\n",
    "\n",
    "vocab_path      = \"data/math_style/math_vocab.data\"\n",
    "\n",
    "tr_text_path    = \"texts/math_style/math_%s_train.txt\"\n",
    "va_text_path    = \"texts/math_style/math_%s_valid.txt\"\n",
    "tr_dataset_path = \"data/math_style/math_dataset_%s_train.data\"\n",
    "va_dataset_path = \"data/math_style/math_dataset_%s_valid.data\"\n",
    "\n",
    "max_len     = 32\n",
    "gen_min_sum = 10\n",
    "gen_max_sum = 20\n",
    "gen_num     = 10000"
   ]
  },
  {
   "cell_type": "markdown",
   "metadata": {},
   "source": [
    "## Generator"
   ]
  },
  {
   "cell_type": "code",
   "execution_count": 2,
   "metadata": {},
   "outputs": [
    {
     "name": "stdout",
     "output_type": "stream",
     "text": [
      "\n",
      "texts/math_style/math_0_train.txt:\n",
      "\n",
      "2+1+2+2+1+1+6 = 1+10+4\n",
      "1+8+1+3 = 1+6+6\n",
      "5+1+4 = 3+1+6\n",
      "2+8+1+5 = 1+1+7+7\n",
      "2+1+4+6 = 1+12\n",
      "2+1+1+8 = 1+5+ ...\n",
      "\n",
      "texts/math_style/math_0_valid.txt:\n",
      "\n",
      "5+2+4 = 8+3\n",
      "1+3+2+3+1+3+3 = 2+14\n",
      "1+16 = 13+4\n",
      "5+2+1+10 = 17+1\n",
      "11+4 = 9+1+2+2+1\n",
      "1+15 = 7+9\n",
      "1+10+2+2 =  ...\n",
      "\n",
      "texts/math_style/math_1_train.txt:\n",
      "\n",
      "11+1=12\n",
      "3+1+12+1=2+12+1+2\n",
      "3+1+2+2+8+3=2+4+9+1+1+2\n",
      "1+11=9+1+2\n",
      "6+1+4+1+1+2=12+1+2\n",
      "7+4+3+4=3+1+14\n",
      "3+5+1 ...\n",
      "\n",
      "texts/math_style/math_1_valid.txt:\n",
      "\n",
      "1+12+3+2=15+1+2\n",
      "4+10+1+2=9+8\n",
      "4+2+9=1+1+13\n",
      "14+1+1+1=1+6+1+1+8\n",
      "2+11+1+2+3=14+4+1\n",
      "2+11=11+1+1\n",
      "3+2+8+1=1 ...\n"
     ]
    }
   ],
   "source": [
    "def apply_style(text, style):\n",
    "    if style == 0:\n",
    "        return text\n",
    "    else:\n",
    "        return text.replace(\" = \", \"=\")        \n",
    "    \n",
    "for style in [0,1]:\n",
    "    for path in [tr_text_path, va_text_path]:\n",
    "        path = path % style\n",
    "        gen = MathGenerator(gen_min_sum, gen_max_sum)\n",
    "        sents = gen.generate('=', gen_num)\n",
    "        text = '\\n'.join(sents)\n",
    "        text = apply_style(text, style)\n",
    "\n",
    "        print('\\n%s:\\n'%path)\n",
    "        print(text[:100] + \" ...\")\n",
    "\n",
    "        make_dir(path)\n",
    "        with open(path, 'w') as f:\n",
    "            f.write(text)"
   ]
  },
  {
   "cell_type": "markdown",
   "metadata": {},
   "source": [
    "## Vocab"
   ]
  },
  {
   "cell_type": "code",
   "execution_count": 3,
   "metadata": {},
   "outputs": [
    {
     "name": "stdout",
     "output_type": "stream",
     "text": [
      "MathVocab:\n",
      "  size: 17\n",
      "  _tokens_to_words: ['<UNK>', '<BOS>', '<EOS>', '<PAD>', '+', '1', '2', ' ', '=', '3', '4', '5', '6', '7', '8', '9', '0']\n"
     ]
    }
   ],
   "source": [
    "voc = MathVocab()\n",
    "voc.build([t % s for t in [tr_text_path, va_text_path] for s in [0,1]])\n",
    "voc.save(vocab_path)\n",
    "print(voc)\n",
    "assert voc.size == 17, voc.size # '0123456789 =+' + UNK, EOS, BOS, PAD"
   ]
  },
  {
   "cell_type": "markdown",
   "metadata": {},
   "source": [
    "## Dataset"
   ]
  },
  {
   "cell_type": "code",
   "execution_count": 4,
   "metadata": {},
   "outputs": [
    {
     "name": "stdout",
     "output_type": "stream",
     "text": [
      "MathStyleDataset:\n",
      "  path_0: data/math_style/math_dataset_0_train.data\n",
      "  path_1: data/math_style/math_dataset_1_train.data\n",
      "  shape: [20000, 34]\n",
      "\n",
      "MathStyleDataset:\n",
      "  path_0: data/math_style/math_dataset_0_valid.data\n",
      "  path_1: data/math_style/math_dataset_1_valid.data\n",
      "  shape: [20000, 34]\n",
      "\n"
     ]
    }
   ],
   "source": [
    "voc = MathVocab()\n",
    "voc.restore(vocab_path)\n",
    "\n",
    "dataset_paths = [tr_dataset_path, va_dataset_path]\n",
    "\n",
    "for i,text_path in enumerate([tr_text_path, va_text_path]):\n",
    "    dataset = MathStyleDataset()\n",
    "    dataset.build(text_path, voc, max_len=max_len)\n",
    "    dataset.save(dataset_paths[i])\n",
    "    print(dataset)\n",
    "    assert dataset._ds0.shape[0] > 9900\n",
    "    assert dataset._ds0.shape[1] == max_len+2\n",
    "    assert dataset._ds1.shape[0] > 9900\n",
    "    assert dataset._ds1.shape[1] == max_len+2\n",
    "    assert dataset.get_data_size() == dataset.shape[0], dataset.get_data_size()"
   ]
  },
  {
   "cell_type": "markdown",
   "metadata": {},
   "source": [
    "## Batch"
   ]
  },
  {
   "cell_type": "code",
   "execution_count": 5,
   "metadata": {},
   "outputs": [
    {
     "name": "stdout",
     "output_type": "stream",
     "text": [
      "0: <BOS>3+3+6 = 3+5+4<EOS>___________________\n",
      "0: <BOS>3+1+12 = 2+8+2+1+2+1<EOS>____________\n",
      "0: <BOS>8+1+2 = 10+1<EOS>____________________\n",
      "0: <BOS>14+2 = 5+3+1+7<EOS>__________________\n",
      "0: <BOS>1+3+13 = 10+3+4<EOS>_________________\n",
      "0: <BOS>10+6 = 1+1+7+2+1+3+1<EOS>____________\n",
      "0: <BOS>19 = 5+13+1<EOS>_____________________\n",
      "1: <BOS>18+1=12+2+2+3<EOS>___________________\n",
      "1: <BOS>10+1+1=3+2+7<EOS>____________________\n",
      "1: <BOS>5+4+2=1+4+6<EOS>_____________________\n",
      "1: <BOS>2+2+1+11=7+2+1+6<EOS>________________\n",
      "1: <BOS>10+1+1=3+4+2+3<EOS>__________________\n",
      "1: <BOS>2+2+7=11<EOS>________________________\n",
      "1: <BOS>4+1+5=1+8+1<EOS>_____________________\n"
     ]
    }
   ],
   "source": [
    "voc = MathVocab()\n",
    "voc.restore(vocab_path)\n",
    "\n",
    "dataset = MathStyleDataset()\n",
    "dataset.restore(tr_dataset_path)\n",
    "\n",
    "sents, styles = dataset.get_next_batch(14)\n",
    "for sent, style in zip(sents, styles):\n",
    "    restored = \"\".join(voc.to_words(sent))\n",
    "    restored = restored.replace('<PAD>', '_')\n",
    "    print(\"%d: %s\" % (style, restored))"
   ]
  },
  {
   "cell_type": "code",
   "execution_count": null,
   "metadata": {},
   "outputs": [],
   "source": []
  },
  {
   "cell_type": "code",
   "execution_count": null,
   "metadata": {},
   "outputs": [],
   "source": []
  }
 ],
 "metadata": {
  "kernelspec": {
   "display_name": "Python 3",
   "language": "python",
   "name": "python3"
  },
  "language_info": {
   "codemirror_mode": {
    "name": "ipython",
    "version": 3
   },
   "file_extension": ".py",
   "mimetype": "text/x-python",
   "name": "python",
   "nbconvert_exporter": "python",
   "pygments_lexer": "ipython3",
   "version": "3.5.2"
  }
 },
 "nbformat": 4,
 "nbformat_minor": 2
}
