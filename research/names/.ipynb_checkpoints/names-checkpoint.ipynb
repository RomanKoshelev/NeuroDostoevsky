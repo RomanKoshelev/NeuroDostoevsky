{
 "cells": [
  {
   "cell_type": "code",
   "execution_count": 1,
   "metadata": {},
   "outputs": [],
   "source": [
    "import numpy as np\n",
    "import pandas as pd\n",
    "import tensorflow as tf\n",
    "import os"
   ]
  },
  {
   "cell_type": "code",
   "execution_count": 2,
   "metadata": {},
   "outputs": [],
   "source": [
    "# for the sake of reproducibility \n",
    "\n",
    "def reset_graph(seed=42):\n",
    "    tf.reset_default_graph()\n",
    "    tf.set_random_seed(seed)\n",
    "    np.random.seed(seed)"
   ]
  },
  {
   "cell_type": "markdown",
   "metadata": {},
   "source": [
    "# Name generation\n",
    "\n",
    "Lets try to do something useful with our RNNs.\n",
    "\n",
    "_Teaser:_\n",
    "\n",
    "* It is hard to choose a name for a variable. But its much harder to choose a name for a person.\n",
    "  So lets make neural net do it instead!\n",
    "* Dataset consists of 8 thousand people names from different cultures all around the world.\n",
    "* Our toy task be to train a model to generate a name."
   ]
  },
  {
   "cell_type": "code",
   "execution_count": 3,
   "metadata": {},
   "outputs": [],
   "source": [
    "start_token = \" \"\n",
    "\n",
    "with open(\"names.txt\") as f:\n",
    "    names = f.readlines()\n",
    "    names = [start_token + name.lower() for name in names]"
   ]
  },
  {
   "cell_type": "code",
   "execution_count": 4,
   "metadata": {},
   "outputs": [
    {
     "name": "stdout",
     "output_type": "stream",
     "text": [
      "n samples =  7944\n",
      "Abagael\n",
      "Claresta\n",
      "Glory\n",
      "Liliane\n",
      "Prissie\n",
      "Geeta\n",
      "Giovanne\n",
      "Piggy\n"
     ]
    }
   ],
   "source": [
    "print('n samples = ', len(names))\n",
    "for x in names[::1000]:\n",
    "    print(x.strip().capitalize())"
   ]
  },
  {
   "cell_type": "markdown",
   "metadata": {},
   "source": [
    "# Text processing\n",
    "\n",
    "Lets take all the latters disregarding a case + symbol ')' for the end of a name"
   ]
  },
  {
   "cell_type": "code",
   "execution_count": 5,
   "metadata": {},
   "outputs": [
    {
     "name": "stdout",
     "output_type": "stream",
     "text": [
      "n_tokens =  31\n"
     ]
    }
   ],
   "source": [
    "token_set = set()\n",
    "for name in names:\n",
    "    for letter in name:\n",
    "        token_set.add(letter)\n",
    "\n",
    "\n",
    "token_set.add(')')\n",
    "tokens = list(token_set)\n",
    "tokens.sort()\n",
    "\n",
    "print('n_tokens = ', len(tokens))"
   ]
  },
  {
   "cell_type": "code",
   "execution_count": 6,
   "metadata": {},
   "outputs": [],
   "source": [
    "token_to_id = {t: i for i, t in enumerate(tokens)}\n",
    "\n",
    "id_to_token = {i: t for i, t in enumerate(tokens)}"
   ]
  },
  {
   "cell_type": "markdown",
   "metadata": {},
   "source": [
    "## Name length distribution"
   ]
  },
  {
   "cell_type": "code",
   "execution_count": 7,
   "metadata": {},
   "outputs": [
    {
     "name": "stdout",
     "output_type": "stream",
     "text": [
      "16\n"
     ]
    },
    {
     "data": {
      "image/png": "[encoded data removed]",
      "text/plain": [
       "<matplotlib.figure.Figure at 0x7f233d5c7ba8>"
      ]
     },
     "metadata": {},
     "output_type": "display_data"
    }
   ],
   "source": [
    "import matplotlib.pyplot as plt\n",
    "%matplotlib inline\n",
    "plt.hist(list(map(len, names)))\n",
    "\n",
    "# max length of a name in this dataset\n",
    "MAX_LEN = min([60, max(list(map(len, names)))])-1\n",
    "\n",
    "print(MAX_LEN)"
   ]
  },
  {
   "cell_type": "markdown",
   "metadata": {},
   "source": [
    "### Convert symbols to their ids"
   ]
  },
  {
   "cell_type": "code",
   "execution_count": 8,
   "metadata": {},
   "outputs": [],
   "source": [
    "names_ix = list(map(lambda name: list(map(token_to_id.get, name + ')')), names))\n",
    "\n",
    "for i in range(len(names_ix)):\n",
    "    names_ix[i] = names_ix[i][:MAX_LEN+1] #crop too long\n",
    "    \n",
    "    if len(names_ix[i]) < MAX_LEN+1:\n",
    "        names_ix[i] += [token_to_id[\" \"]]*(MAX_LEN+1 - len(names_ix[i])) #pad too short\n",
    "        \n",
    "assert len(set(map(len, names_ix))) == 1\n",
    "\n",
    "names_ix = np.array(names_ix)"
   ]
  },
  {
   "cell_type": "code",
   "execution_count": 9,
   "metadata": {
    "scrolled": true
   },
   "outputs": [
    {
     "data": {
      "text/plain": [
       "array([[ 1,  5,  6,  5, 11,  5,  9, 16,  0,  3,  1,  1,  1,  1,  1,  1,  1],\n",
       "       [ 1,  5,  6,  5, 11,  5, 13, 16,  0,  3,  1,  1,  1,  1,  1,  1,  1],\n",
       "       [ 1,  5,  6,  6,  9,  0,  3,  1,  1,  1,  1,  1,  1,  1,  1,  1,  1],\n",
       "       [ 1,  5,  6,  6,  9, 29,  0,  3,  1,  1,  1,  1,  1,  1,  1,  1,  1],\n",
       "       [ 1,  5,  6,  6, 13,  0,  3,  1,  1,  1,  1,  1,  1,  1,  1,  1,  1],\n",
       "       [ 1,  5,  6,  6, 13,  9,  0,  3,  1,  1,  1,  1,  1,  1,  1,  1,  1],\n",
       "       [ 1,  5,  6,  6, 29,  0,  3,  1,  1,  1,  1,  1,  1,  1,  1,  1,  1],\n",
       "       [ 1,  5,  6, 13, 11,  5,  9, 16,  0,  3,  1,  1,  1,  1,  1,  1,  1],\n",
       "       [ 1,  5,  6, 13, 11,  5, 13, 16,  0,  3,  1,  1,  1,  1,  1,  1,  1],\n",
       "       [ 1,  5,  6, 13, 11,  5, 16,  9,  0,  3,  1,  1,  1,  1,  1,  1,  1]])"
      ]
     },
     "execution_count": 9,
     "metadata": {},
     "output_type": "execute_result"
    }
   ],
   "source": [
    "names_ix[:10]"
   ]
  },
  {
   "cell_type": "markdown",
   "metadata": {},
   "source": [
    "## Batch generator"
   ]
  },
  {
   "cell_type": "code",
   "execution_count": 10,
   "metadata": {},
   "outputs": [],
   "source": [
    "def sample_batch(data, batch_size):\n",
    "    \n",
    "    rows = data[np.random.randint(0, len(data), size=batch_size)]\n",
    "    x = rows[:, :-1]\n",
    "    y = rows[:, 1:]\n",
    "    \n",
    "    count = lambda r: np.sum([id_to_token[t] != ' ' for t in r])\n",
    "    lengths = list(map(count, x))\n",
    "    \n",
    "    return x, y, lengths"
   ]
  },
  {
   "cell_type": "code",
   "execution_count": 11,
   "metadata": {},
   "outputs": [
    {
     "data": {
      "text/plain": [
       "(10, 16)"
      ]
     },
     "execution_count": 11,
     "metadata": {},
     "output_type": "execute_result"
    }
   ],
   "source": [
    "x, y, length = sample_batch(names_ix, 10)\n",
    "y.shape"
   ]
  },
  {
   "cell_type": "markdown",
   "metadata": {},
   "source": [
    "## Visualisation"
   ]
  },
  {
   "cell_type": "code",
   "execution_count": 12,
   "metadata": {},
   "outputs": [],
   "source": [
    "from IPython.display import clear_output\n",
    "def show_losses(losses, info, mean_win=30):\n",
    "    def running_mean(x, N):\n",
    "        cumsum = np.cumsum(np.insert(x, 0, 0)) \n",
    "        return (cumsum[N:] - cumsum[:-N]) / N \n",
    "\n",
    "    if mean_win>0:\n",
    "        plt.plot(losses, 'c')\n",
    "        plt.plot(running_mean(losses, mean_win), 'b')\n",
    "        loss = np.mean(losses[-mean_win:])\n",
    "    else:\n",
    "        plt.plot(losses)\n",
    "        loss = losses[-1]\n",
    "\n",
    "    plt.grid(True)\n",
    "    plt.title(\"loss: %.2e | %s\" % (loss, info))\n",
    "    clear_output(True)\n",
    "    plt.show();"
   ]
  },
  {
   "cell_type": "markdown",
   "metadata": {},
   "source": [
    "### Function to generation a name\n",
    "\n",
    "* Lets take seed phrase\n",
    "* Predicting next token\n",
    "* Next token is being sampled from model predicted distribution \n",
    "* Token is added to seed phrase\n",
    "* Repeat (from step 2)"
   ]
  },
  {
   "cell_type": "code",
   "execution_count": 13,
   "metadata": {},
   "outputs": [],
   "source": [
    "def generate_sample(sess, seed_phrase=None, N=MAX_LEN, n_snippets=1):\n",
    "    \n",
    "    if seed_phrase is None:\n",
    "        seed_phrase = ' '\n",
    "    elif seed_phrase[0].isalpha():\n",
    "        seed_phrase = ' ' + seed_phrase\n",
    "    seed_phrase = seed_phrase.lower()\n",
    "    seed_phrase = np.array([token_to_id[tok] for tok in seed_phrase])\n",
    "    L = len(seed_phrase)\n",
    "    snippets = []\n",
    "    for _ in range(n_snippets):\n",
    "        x = np.zeros(N)\n",
    "        x[:len(seed_phrase)] = seed_phrase\n",
    "        for n in range(N - L):\n",
    "            feed_dict = {X: x[:L + n].reshape([1, -1]), lengths: [len(x)]}\n",
    "            p = sess.run(last_word_probas, feed_dict=feed_dict).reshape(-1)\n",
    "            ix = np.random.choice(np.arange(len(tokens)), p=p)\n",
    "            x[L + n] = ix\n",
    "        snippet = ''.join([id_to_token[idx] for idx in x])\n",
    "        if ')' in snippet:\n",
    "            upto = snippet.index(')')\n",
    "            snippet = snippet[:upto]\n",
    "        snippets.append(snippet.strip().capitalize())\n",
    "    return snippets"
   ]
  },
  {
   "cell_type": "code",
   "execution_count": 14,
   "metadata": {},
   "outputs": [],
   "source": [
    "def get_tokens(tokens):\n",
    "    return \"\".join([id_to_token[t] for t in tokens]).replace(' ', '.').replace('\\n', '.').strip()"
   ]
  },
  {
   "cell_type": "markdown",
   "metadata": {},
   "source": [
    "# Network inputs"
   ]
  },
  {
   "cell_type": "code",
   "execution_count": 39,
   "metadata": {
    "scrolled": true
   },
   "outputs": [],
   "source": [
    "reset_graph()\n",
    "\n",
    "n_neurons       = 100\n",
    "embedding_size  = 16\n",
    "vocabulary_size = len(tokens)\n",
    "n_steps         = MAX_LEN # this is number of unrollings\n",
    "\n",
    "\n",
    "X = tf.placeholder(tf.int32, [None, None], name= 'X')\n",
    "y = tf.placeholder(tf.int32, [None, None], name = 'y')\n",
    "lengths = tf.placeholder(tf.float32, [None], name = 'lengths')\n",
    "learning_rate_ph = tf.placeholder(dtype=tf.float32, shape=[])\n",
    "\n",
    "embedding_mtx = tf.Variable(tf.random_normal(shape=[vocabulary_size, embedding_size], dtype=tf.float32), name='embedding_mtx')\n",
    "embed = tf.nn.embedding_lookup(embedding_mtx, X)\n",
    "\n",
    "#embed = tf.one_hot(X, vocabulary_size) \n",
    "\n",
    "\n",
    "num_layers = 2\n",
    "\n",
    "cells = []\n",
    "for _ in range(num_layers):\n",
    "    cell = tf.contrib.rnn.LSTMCell(n_neurons)\n",
    "    cells.append(cell)\n",
    "cell = tf.contrib.rnn.MultiRNNCell(cells)\n",
    "\n",
    "rnn_outputs, states = tf.nn.dynamic_rnn(cell, embed, dtype=tf.float32, sequence_length=lengths)\n",
    "\n",
    "# make logits\n",
    "pred_logits = tf.layers.dense(rnn_outputs, vocabulary_size)\n",
    "\n",
    "stepwise_cross_entropy = tf.nn.softmax_cross_entropy_with_logits(\n",
    "    labels = tf.one_hot(y, vocabulary_size),\n",
    "    logits = pred_logits)\n",
    "    \n",
    "loss_op = tf.reduce_mean(stepwise_cross_entropy)\n",
    "\n",
    "pred_probas = tf.nn.softmax(pred_logits)\n",
    "\n",
    "# sampling predictions of size [batch_size, num_steps]\n",
    "prediction = tf.argmax(pred_probas, axis=2)\n",
    "\n",
    "train_op = tf.train.AdamOptimizer(learning_rate_ph).minimize(loss_op)\n",
    "\n",
    "# get the probability distribution for the last symbol\n",
    "# that will be needed for generation\n",
    "last_word_probas = pred_probas[:, -1]"
   ]
  },
  {
   "cell_type": "markdown",
   "metadata": {},
   "source": [
    "## Training"
   ]
  },
  {
   "cell_type": "code",
   "execution_count": 40,
   "metadata": {},
   "outputs": [
    {
     "name": "stdout",
     "output_type": "stream",
     "text": [
      "['Gyrn-- vnq\\nzuba', 'Aelidn-dgjtbln', \"Na yyte'qi\", \"Pellaztywnx'b f\", \"Hdugdl-t'zsb\\nuq\", \"Rs'f\"]\n"
     ]
    }
   ],
   "source": [
    "s = tf.Session()\n",
    "s.run(tf.global_variables_initializer())\n",
    "print(generate_sample(s, n_snippets=6))"
   ]
  },
  {
   "cell_type": "code",
   "execution_count": null,
   "metadata": {
    "scrolled": false
   },
   "outputs": [
    {
     "data": {
      "image/png": "[encoded data removed]",
      "text/plain": [
       "<matplotlib.figure.Figure at 0x7f233325e8d0>"
      ]
     },
     "metadata": {},
     "output_type": "display_data"
    }
   ],
   "source": [
    "n_steps           = 10000\n",
    "batch_size        = 32\n",
    "lr                = 1e-2\n",
    "try:\n",
    "    losses = []\n",
    "    for step in range(n_steps):\n",
    "        x_, y_, len_ = sample_batch(names_ix, batch_size)\n",
    "        _, loss_val, y_pred = s.run([train_op, loss_op, prediction],  feed_dict={\n",
    "            X: x_,\n",
    "            y: y_,\n",
    "            lengths: len_,\n",
    "            learning_rate_ph: lr})\n",
    "        losses.append(loss_val)\n",
    "        if step%100 == 0:\n",
    "            info = \"%s -> %s\"%(get_tokens(x_[0]), get_tokens(y_pred[0]))\n",
    "            show_losses(losses, info)\n",
    "\n",
    "except KeyboardInterrupt:\n",
    "    pass"
   ]
  },
  {
   "cell_type": "code",
   "execution_count": 38,
   "metadata": {
    "scrolled": true
   },
   "outputs": [
    {
     "name": "stdout",
     "output_type": "stream",
     "text": [
      "Angus, Angel, Angela, Angely, Angi, Angelia, Angele, Angi, Angelika, Angie, Angelice, Angelica, Angy, Angie, Angele, Angel, Angelika, Angelle, Angie, Angela, Angelo, Angy, Angil, Angely, Angelique, Angale, Angil, Angyle, Angil, Angy, Angele, Angie\n"
     ]
    }
   ],
   "source": [
    "print(\", \".join(generate_sample(s, seed_phrase='Ang', n_snippets=32)))"
   ]
  },
  {
   "cell_type": "code",
   "execution_count": null,
   "metadata": {},
   "outputs": [],
   "source": []
  }
 ],
 "metadata": {
  "kernelspec": {
   "display_name": "Python 3",
   "language": "python",
   "name": "python3"
  },
  "language_info": {
   "codemirror_mode": {
    "name": "ipython",
    "version": 3
   },
   "file_extension": ".py",
   "mimetype": "text/x-python",
   "name": "python",
   "nbconvert_exporter": "python",
   "pygments_lexer": "ipython3",
   "version": "3.5.2"
  }
 },
 "nbformat": 4,
 "nbformat_minor": 1
}
