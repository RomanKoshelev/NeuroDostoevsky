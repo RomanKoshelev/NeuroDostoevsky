{
 "cells": [
  {
   "cell_type": "markdown",
   "metadata": {},
   "source": [
    "# Math Discriminator Content"
   ]
  },
  {
   "cell_type": "code",
   "execution_count": 56,
   "metadata": {},
   "outputs": [],
   "source": [
    "import numpy as np\n",
    "from math_vocab import MathVocab\n",
    "from math_discr_dataset import MathDiscrDataset\n",
    "\n",
    "disc_key         = 'false' # random false\n",
    "voc_path         = \"data/math/math_vocab.data\"\n",
    "tr_dataset_paths = (\"data/math/math_dataset_train.data\", \"data/math/math_%s_dataset_train.data\" % disc_key)\n",
    "va_dataset_paths = (\"data/math/math_dataset_valid.data\", \"data/math/math_%s_dataset_valid.data\" % disc_key)\n",
    "emb_path         = \"data/math/math_embeddings.npy\"\n",
    "model_path       = 'models/math/dcont-001/'"
   ]
  },
  {
   "cell_type": "markdown",
   "metadata": {},
   "source": [
    "## Data"
   ]
  },
  {
   "cell_type": "code",
   "execution_count": 57,
   "metadata": {},
   "outputs": [
    {
     "name": "stdout",
     "output_type": "stream",
     "text": [
      "MathDiscrDataset:\n",
      "  shape: [20000, 34]\n",
      "(17, 100)\n"
     ]
    }
   ],
   "source": [
    "voc = MathVocab()\n",
    "voc.restore(voc_path)\n",
    "\n",
    "tr_dataset = MathDiscrDataset(*tr_dataset_paths)\n",
    "va_dataset = MathDiscrDataset(*va_dataset_paths)\n",
    "\n",
    "embeddings = np.load(emb_path) \n",
    "print(tr_dataset)\n",
    "print(embeddings.shape)"
   ]
  },
  {
   "cell_type": "markdown",
   "metadata": {},
   "source": [
    "## Model"
   ]
  },
  {
   "cell_type": "code",
   "execution_count": 58,
   "metadata": {},
   "outputs": [],
   "source": [
    "def make_rnn_cell(num_units, num_layers, keep_prob):\n",
    "    def make_layer():\n",
    "        l = tf.contrib.rnn.BasicLSTMCell(num_units)\n",
    "        l = tf.contrib.rnn.DropoutWrapper(l, output_keep_prob=keep_prob)\n",
    "        return l        \n",
    "    layers = [make_layer() for _ in range(num_layers)]\n",
    "    cell   = tf.contrib.rnn.MultiRNNCell(layers)\n",
    "    return cell\n",
    "\n",
    "\n",
    "def make_encoder(inp, num_units, num_layers, batch_size, seq_len, keep_prob):\n",
    "    en_cell            = make_rnn_cell(num_units, num_layers, keep_prob)\n",
    "    en_initial_state   = en_cell.zero_state(batch_size, tf.float32)\n",
    "    seq_lens           = tf.tile([seq_len], tf.expand_dims(batch_size,0))\n",
    "    _, en_state        = tf.nn.dynamic_rnn(en_cell, inp, seq_lens, en_initial_state, scope='encoder')\n",
    "    return en_state"
   ]
  },
  {
   "cell_type": "code",
   "execution_count": 59,
   "metadata": {},
   "outputs": [],
   "source": [
    "import os\n",
    "from utils import make_dir\n",
    "import numpy as np\n",
    "import tensorflow as tf\n",
    "import pickle\n",
    "from visualization import show_train_stats_ex\n",
    "\n",
    "class BaseModel:\n",
    "    def __init__(self):\n",
    "        self._scope    = 'base_model'\n",
    "        # state\n",
    "        self.tr_step   = 0\n",
    "        self.tr_epoch  = 0\n",
    "        self.tr_losses = []\n",
    "        self.va_losses = []\n",
    "    \n",
    "    def _make_optimizer(self, loss, lr, grad_clip):\n",
    "        tr_vars   = tf.trainable_variables()\n",
    "        grads, _  = tf.clip_by_global_norm(tf.gradients(loss, tr_vars), grad_clip)\n",
    "        train_op  = tf.train.AdamOptimizer(lr)\n",
    "        optimizer = train_op.apply_gradients(zip(grads, tr_vars))\n",
    "        return optimizer\n",
    "\n",
    "    def _make_train_feeder(self, *args):\n",
    "        raise NotImplementedError\n",
    "        \n",
    "    def train(self, tr_dataset, va_dataset, \n",
    "              step_num,  batch_size, learning_rate, keep_prob=.5, log_every=20, mean_win=30):\n",
    "        try:\n",
    "            data_size = tr_dataset.get_data_size()\n",
    "            for self.tr_step in range(self.tr_step, step_num-1):\n",
    "                ep = self.tr_step*batch_size/data_size\n",
    "                # Train\n",
    "                batch = tr_dataset.get_next_batch(batch_size)\n",
    "                tr_loss, _ = self._sess.run(\n",
    "                    [self.loss_op, self.train_op], \n",
    "                    feed_dict = self._make_train_feeder(batch, learning_rate, keep_prob))\n",
    "                self.tr_losses.append(tr_loss)\n",
    "                # Eval\n",
    "                if self.tr_step % log_every == log_every-1:\n",
    "                    batch = va_dataset.get_next_batch(batch_size)\n",
    "                    va_loss = self._sess.run(\n",
    "                        self.loss_op, \n",
    "                        feed_dict = self._make_train_feeder(batch, learning_rate, keep_prob))\n",
    "                    self.va_losses.extend([va_loss]*log_every)\n",
    "                    show_train_stats_ex(ep, self.tr_step, self.tr_losses, self.va_losses, mean_win)\n",
    "        except KeyboardInterrupt:\n",
    "            show_train_stats_ex(ep, self.tr_step, self.tr_losses, self.va_losses, mean_win)\n",
    "            \n",
    "    def save(self, path):\n",
    "        make_dir(path)\n",
    "        pickle.dump([self.tr_epoch, self.tr_step, self.tr_losses, self.va_losses], \n",
    "                    open(os.path.join(path, \"state.p\"), \"wb\"))\n",
    "        self._saver.save(self._sess, path)\n",
    "        \n",
    "        \n",
    "    def restore(self, path):\n",
    "        try:\n",
    "            [self.tr_epoch, self.tr_step, self.tr_losses, self.va_losses] = pickle.load(\n",
    "                open(os.path.join(path, \"state.p\"), \"rb\"))\n",
    "        except: \n",
    "            print(\"State not found at\", path)\n",
    "        self._saver.restore(self._sess, path)"
   ]
  },
  {
   "cell_type": "code",
   "execution_count": 60,
   "metadata": {},
   "outputs": [],
   "source": [
    "class DcontModel(BaseModel):\n",
    "    def __init__(self):\n",
    "        super().__init__()\n",
    "        self._scope = 'dcont_model'\n",
    "    \n",
    "    \n",
    "    def build(self, voc_size, emb_size, seq_len, num_units, num_layers, grad_clip=5):\n",
    "        tf.reset_default_graph()\n",
    "        self._graph = tf.Graph()\n",
    "        with self._graph.as_default(), tf.variable_scope(self._scope):\n",
    "            # placeholders\n",
    "            self.enc_inputs_pl = tf.placeholder(tf.int32, [None, None], name='enc_inputs')\n",
    "            self.targets_pl    = tf.placeholder(tf.int32, [None], name='targets')\n",
    "            self.batch_size_pl = tf.placeholder(tf.int32, shape=[], name='batch_size')\n",
    "            self.keep_prob_pl  = tf.placeholder(tf.float32, name='keep_prob')\n",
    "            self.lr_pl         = tf.placeholder(tf.float32, name='learning_rate')\n",
    "\n",
    "            # embedding\n",
    "            # self.embedding = tf.Variable(tf.random_normal(shape=[voc_size, emb_size], dtype=tf.float32))\n",
    "            self.embedding = tf.constant(embeddings, dtype=tf.float32)\n",
    "            \n",
    "            # encoder\n",
    "            enc_state = make_encoder(\n",
    "                inp        = tf.nn.embedding_lookup(self.embedding, self.enc_inputs_pl),\n",
    "                num_units  = num_units,\n",
    "                num_layers = num_layers,\n",
    "                batch_size = self.batch_size_pl,\n",
    "                seq_len    = seq_len,\n",
    "                keep_prob  = self.keep_prob_pl,\n",
    "            )\n",
    "            enc_outputs = tf.identity(enc_state[-1].h, name=\"enc_outputs\")\n",
    "            \n",
    "            # discriminator\n",
    "            l = tf.layers.dense(enc_outputs, units=1024, activation=tf.nn.relu)\n",
    "            logits = tf.layers.dense(l, units=2, activation=None)\n",
    "            self.outputs = tf.argmax(logits, 1)\n",
    "\n",
    "            # training\n",
    "            cross_entropy = tf.nn.sparse_softmax_cross_entropy_with_logits(\n",
    "                logits = logits,\n",
    "                labels = self.targets_pl\n",
    "            )\n",
    "            self.loss_op  = tf.reduce_mean(cross_entropy)\n",
    "            self.train_op = self._make_optimizer(self.loss_op, self.lr_pl, grad_clip)\n",
    "            \n",
    "            # utils\n",
    "            self.init_op = tf.global_variables_initializer()\n",
    "            self._saver  = tf.train.Saver()\n",
    "\n",
    "        # session\n",
    "        self._sess = tf.Session(graph=self._graph)\n",
    "        self._sess.run(self.init_op)\n",
    "        \n",
    "    def _make_train_feeder(self, batch, learning_rate, keep_prob):\n",
    "        sents, labels = batch\n",
    "        return {\n",
    "            self.enc_inputs_pl: sents,\n",
    "            self.targets_pl   : labels,\n",
    "            self.batch_size_pl: len(sents),\n",
    "            self.keep_prob_pl : keep_prob,\n",
    "            self.lr_pl        : learning_rate,\n",
    "        }\n",
    "    \n",
    "    def infer(self, sents):\n",
    "        return self._sess.run(\n",
    "            self.outputs, \n",
    "            feed_dict = {\n",
    "                self.enc_inputs_pl: sents,\n",
    "                self.batch_size_pl: len(sents),\n",
    "                self.keep_prob_pl : 1,\n",
    "        })"
   ]
  },
  {
   "cell_type": "markdown",
   "metadata": {},
   "source": [
    "## Build"
   ]
  },
  {
   "cell_type": "code",
   "execution_count": null,
   "metadata": {
    "scrolled": false
   },
   "outputs": [],
   "source": [
    "model = DcontModel()\n",
    "seq_len = tr_dataset.get_seq_len()\n",
    "\n",
    "model.build(\n",
    "    voc_size   = voc.size, \n",
    "    seq_len    = seq_len,\n",
    "    emb_size   = 100, \n",
    "    num_units  = 256, \n",
    "    num_layers = 2,\n",
    ")"
   ]
  },
  {
   "cell_type": "markdown",
   "metadata": {},
   "source": [
    "## Train"
   ]
  },
  {
   "cell_type": "code",
   "execution_count": null,
   "metadata": {
    "scrolled": false
   },
   "outputs": [
    {
     "data": {
      "image/png": "[encoded data removed]",
      "text/plain": [
       "<matplotlib.figure.Figure at 0x7f25b0d7a5f8>"
      ]
     },
     "metadata": {},
     "output_type": "display_data"
    }
   ],
   "source": [
    "%%time\n",
    "%matplotlib inline\n",
    "\n",
    "model.train(\n",
    "    step_num      = 100000,\n",
    "    batch_size    = 64, \n",
    "    learning_rate = 1e-5, \n",
    "    mean_win      = 30,\n",
    "    log_every     = 10,\n",
    "    tr_dataset    = tr_dataset,\n",
    "    va_dataset    = va_dataset,\n",
    ")\n",
    "model.save(model_path)"
   ]
  },
  {
   "cell_type": "markdown",
   "metadata": {},
   "source": [
    "## Test"
   ]
  },
  {
   "cell_type": "code",
   "execution_count": 55,
   "metadata": {
    "scrolled": false
   },
   "outputs": [
    {
     "name": "stdout",
     "output_type": "stream",
     "text": [
      "\n",
      "================================================================================\n",
      "\n",
      "[10+1+2 = 1+12]___________________ 1 \n",
      "[11+2 = 10+1+2]___________________ 1 \n",
      "[13+1+1 = 2+6+2+5]________________ 1 \n",
      "[3+8 = 2+5+4]_____________________ 1 \n",
      "[15 = 9+2+1+3]____________________ 1 \n",
      "[1+9+1+1 = 2+3+3+4]_______________ 1 \n",
      "[19 = 7+2+8+2]____________________ 1 \n",
      "[15 = 1+13+1]_____________________ 1 \n",
      "[14+3 = 9+1+7]____________________ 1 \n",
      "[10+1+1 = 1+1+10]_________________ 1 \n",
      "[9+2 = 2+4+4+1]___________________ 1 \n",
      "[29+77++91+57+810++++67]__________ 0 \n",
      "[12+1+1 = 2+10+2]_________________ 1 \n",
      "[10 = 2+3+5]______________________ 1 \n",
      "[5+69922+++8++6+7 =0++++9190]_____ 0 \n",
      "[17+1 = 8+3+5+2]__________________ 1 \n",
      "[7+1+1+1 = 1+1+7+1]_______________ 1 \n",
      "[+09++++6 0+ + 31= +++2=5+5=5]____ 0 \n",
      "[3+95+8994286+4+=+=740+++ ++]_____ 0 \n",
      "[731++2+]_________________________ 0 \n",
      "\n",
      "================================================================================\n",
      "\n",
      "[25+ 60=8+1]______________________ 0 \n",
      "[3+14 +4]_________________________ 0 \n",
      "[4+2+13 = 1+1+4+1+12]_____________ 1 \n",
      "[8+1+1 = 10]______________________ 1 \n",
      "[6 82]____________________________ 0 \n",
      "[8+4 = 3+8+1]_____________________ 1 \n",
      "[+9++95+3++6++6+62=++48+7++++]____ 0 \n",
      "[7+4+1 = 1+1+1+8+1]_______________ 1 \n",
      "[72+22=805++77+788+++4+5+3499]____ 0 \n",
      "[ ++]_____________________________ 0 \n",
      "[1+4+7 = 1+1+1+3+6]_______________ 1 \n",
      "[=8+++0++3215+6+ 9+01395 1 48383]_ 0 \n",
      "[++ +++57++++4+9++++88 04681++]___ 0 \n",
      "[66++=75+9+++9214++38]____________ 0 \n",
      "[+810661+60+261+4+7=+57 +575]_____ 0 \n",
      "[1+1+14 = 16]_____________________ 1 \n",
      "[4+2+8+3+2 = 17+1+1]______________ 1 \n",
      "[+9+63]___________________________ 0 \n",
      "[+++9272]_________________________ 0 \n",
      "[2+1+7+2 = 4+8]___________________ 1 \n"
     ]
    }
   ],
   "source": [
    "batch_size = 20\n",
    "\n",
    "for dataset in [tr_dataset, va_dataset]:\n",
    "    print('\\n'+'='*80+'\\n')\n",
    "    inp, true = dataset.get_next_batch(batch_size)\n",
    "    pred = model.infer(inp)\n",
    "\n",
    "    def prepare(s):\n",
    "        words = voc.to_words(s)\n",
    "        s = \"\".join(words)\n",
    "        s = s.replace('<BOS>', '[').replace('<EOS>', ']').replace('<PAD>', '_')\n",
    "        return s\n",
    "\n",
    "    for i in range(len(inp)):\n",
    "        print(prepare(inp[i]), pred[i], \"\" if pred[i]==true[i] else \"ERROR\")\n"
   ]
  },
  {
   "cell_type": "markdown",
   "metadata": {},
   "source": [
    "## Restore"
   ]
  },
  {
   "cell_type": "code",
   "execution_count": 53,
   "metadata": {
    "scrolled": true
   },
   "outputs": [
    {
     "name": "stdout",
     "output_type": "stream",
     "text": [
      "INFO:tensorflow:Restoring parameters from models/rnn_autoencoder/math-001/\n"
     ]
    }
   ],
   "source": [
    "model.restore(model_path)"
   ]
  }
 ],
 "metadata": {
  "kernelspec": {
   "display_name": "Python 3",
   "language": "python",
   "name": "python3"
  },
  "language_info": {
   "codemirror_mode": {
    "name": "ipython",
    "version": 3
   },
   "file_extension": ".py",
   "mimetype": "text/x-python",
   "name": "python",
   "nbconvert_exporter": "python",
   "pygments_lexer": "ipython3",
   "version": "3.5.2"
  }
 },
 "nbformat": 4,
 "nbformat_minor": 2
}
