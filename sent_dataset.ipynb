{
 "cells": [
  {
   "cell_type": "markdown",
   "metadata": {},
   "source": [
    "# Sentence dataset"
   ]
  },
  {
   "cell_type": "code",
   "execution_count": 1,
   "metadata": {},
   "outputs": [],
   "source": [
    "from sent_dataset import SentenceDataset"
   ]
  },
  {
   "cell_type": "markdown",
   "metadata": {},
   "source": [
    "## Load"
   ]
  },
  {
   "cell_type": "code",
   "execution_count": 3,
   "metadata": {},
   "outputs": [
    {
     "name": "stdout",
     "output_type": "stream",
     "text": [
      "24065\n",
      "9362\n",
      "CPU times: user 4.9 s, sys: 20 ms, total: 4.92 s\n",
      "Wall time: 4.93 s\n"
     ]
    }
   ],
   "source": [
    "%%time\n",
    "dataset = SentenceDataset(min_len=2, max_len=20)\n",
    "dataset.load('data/anna.txt', size=1000000)\n",
    "print(dataset.num_tokens)\n",
    "print(dataset.get_data_size())"
   ]
  },
  {
   "cell_type": "markdown",
   "metadata": {},
   "source": [
    "## Batch"
   ]
  },
  {
   "cell_type": "code",
   "execution_count": 4,
   "metadata": {
    "scrolled": false
   },
   "outputs": [
    {
     "name": "stdout",
     "output_type": "stream",
     "text": [
      "\n",
      "[<BOS> да , я простила бы . <EOS> _ _ _ _ _ _ _ _ _ _ _ _ _ _]\n",
      "[<BOS> а вот ты не считал , а рябинин считал . <EOS> _ _ _ _ _ _ _ _ _ _]\n",
      "[<BOS> очнувшись , левин стал соображать , сколько скошено , сколько еще можно сделать нынче . <EOS> _ _ _ _ _]\n",
      "[<BOS> но были и хорошие минуты , когда она видела одни радости , одно золото . <EOS> _ _ _ _ _]\n",
      "[<BOS> я не могу быть несчастлив , но и она и он не должны быть счастливы . <EOS> _ _ _ _]\n",
      "[<BOS> графиня лидия ивановна была высокая полная женщина с нездорово-желтым цветом лица и прекрасными задумчивыми черными глазами . <EOS> _ _ _]\n",
      "[<BOS> он испытывал почти чувство человека неодетого в обществе . <EOS> _ _ _ _ _ _ _ _ _ _ _]\n",
      "[<BOS> действительно , в эту минуту алексей александрович своею спокойною , неуклюжею походкой входил в гостиную . <EOS> _ _ _ _]\n",
      "[<BOS> это испортило немного общую радость . <EOS> _ _ _ _ _ _ _ _ _ _ _ _ _ _]\n",
      "[<BOS> и она поняла , что последняя надежда ее была обманута . <EOS> _ _ _ _ _ _ _ _ _]\n",
      "[<BOS> теперь я должна ехать к нему , сказала она сухо . <EOS> _ _ _ _ _ _ _ _ _]\n",
      "[<BOS> письма вашего любовника , сказал он . <EOS> _ _ _ _ _ _ _ _ _ _ _ _ _]\n",
      "[<BOS> анна аркадьевна нездоровы все , недовольно сказала няня . <EOS> _ _ _ _ _ _ _ _ _ _ _]\n",
      "[<BOS> ведь не может же это так остаться , сказал он , стараясь придать себе смелости . <EOS> _ _ _ _]\n",
      "[<BOS> левин был его товарищем и другом первой молодости . <EOS> _ _ _ _ _ _ _ _ _ _ _]\n"
     ]
    }
   ],
   "source": [
    "x = dataset.get_next_batch(15)\n",
    "#print(x)\n",
    "print()\n",
    "for t in x:\n",
    "    print('[%s]' % dataset.decode(t))\n"
   ]
  },
  {
   "cell_type": "code",
   "execution_count": null,
   "metadata": {},
   "outputs": [],
   "source": []
  },
  {
   "cell_type": "code",
   "execution_count": null,
   "metadata": {},
   "outputs": [],
   "source": []
  }
 ],
 "metadata": {
  "kernelspec": {
   "display_name": "Python 3",
   "language": "python",
   "name": "python3"
  },
  "language_info": {
   "codemirror_mode": {
    "name": "ipython",
    "version": 3
   },
   "file_extension": ".py",
   "mimetype": "text/x-python",
   "name": "python",
   "nbconvert_exporter": "python",
   "pygments_lexer": "ipython3",
   "version": "3.5.2"
  }
 },
 "nbformat": 4,
 "nbformat_minor": 2
}
