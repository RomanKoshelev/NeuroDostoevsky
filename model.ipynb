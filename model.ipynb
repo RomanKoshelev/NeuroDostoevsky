{
 "cells": [
  {
   "cell_type": "markdown",
   "metadata": {},
   "source": [
    "# Idiot\n",
    "https://habrahabr.ru/post/342738/"
   ]
  },
  {
   "cell_type": "code",
   "execution_count": 26,
   "metadata": {},
   "outputs": [],
   "source": [
    "import time\n",
    "from collections import namedtuple\n",
    "import numpy as np\n",
    "import tensorflow as tf\n",
    "from dataset import Dataset"
   ]
  },
  {
   "cell_type": "code",
   "execution_count": 27,
   "metadata": {},
   "outputs": [],
   "source": [
    "dataset = Dataset()\n",
    "#dataset.load('data/dostoevsky-all.txt')\n",
    "dataset.load('data/anna.txt')\n",
    "model_path = 'models/002/model.ckpt'"
   ]
  },
  {
   "cell_type": "code",
   "execution_count": 28,
   "metadata": {},
   "outputs": [],
   "source": [
    "def build_inputs():\n",
    "    inputs  = tf.placeholder(tf.int32, [None, None], name='inputs')\n",
    "    targets = tf.placeholder(tf.int32, [None, None], name='targets')\n",
    "    \n",
    "    keep_prob = tf.placeholder(tf.float32, name='keep_prob')\n",
    "    \n",
    "    return inputs, targets, keep_prob\n",
    "\n",
    "def build_lstm(lstm_size, num_layers, keep_prob):\n",
    "    def build_cell(lstm_size, keep_prob):\n",
    "        lstm = tf.contrib.rnn.BasicLSTMCell(lstm_size)\n",
    "        drop = tf.contrib.rnn.DropoutWrapper(lstm, output_keep_prob=keep_prob)\n",
    "        return drop\n",
    "    cell = tf.contrib.rnn.MultiRNNCell([build_cell(lstm_size, keep_prob) for _ in range(num_layers)])\n",
    "    return cell\n",
    "\n",
    "def build_output(lstm_output, lstm_size, out_size):\n",
    "    logits = tf.layers.dense(lstm_output, out_size)\n",
    "    out = tf.nn.softmax(logits, name='predictions')\n",
    "    return out, logits\n",
    "\n",
    "def build_loss(logits, targets, lstm_size, num_classes):\n",
    "    loss = tf.nn.softmax_cross_entropy_with_logits(\n",
    "        logits=logits, \n",
    "        labels=tf.one_hot(targets, num_classes))\n",
    "    loss = tf.reduce_mean(loss)\n",
    "    return loss\n",
    "\n",
    "def build_optimizer(loss, learning_rate, grad_clip):\n",
    "    tvars = tf.trainable_variables()\n",
    "    grads, _ = tf.clip_by_global_norm(tf.gradients(loss, tvars), grad_clip)\n",
    "    train_op = tf.train.AdamOptimizer(learning_rate)\n",
    "    optimizer = train_op.apply_gradients(zip(grads, tvars))\n",
    "    \n",
    "    return optimizer"
   ]
  },
  {
   "cell_type": "code",
   "execution_count": 29,
   "metadata": {},
   "outputs": [],
   "source": [
    "class CharRNN:\n",
    "    \n",
    "    def __init__(self, num_classes, lstm_size=128, num_layers=2, learning_rate=0.001, grad_clip=5):\n",
    "\n",
    "        tf.reset_default_graph()\n",
    "        \n",
    "        # Получаем input placeholder'ы\n",
    "        self.inputs, self.targets, self.keep_prob = build_inputs()\n",
    "\n",
    "        # Строим LSTM ячейку\n",
    "        cell = build_lstm(lstm_size, num_layers, self.keep_prob)\n",
    "\n",
    "        ### Прогоняем данные через RNN слои\n",
    "        # Делаем one-hot кодирование входящих данных\n",
    "        embed = tf.one_hot(self.inputs, num_classes)\n",
    "        \n",
    "        \n",
    "        # Прогоняем данные через RNN и собираем результаты\n",
    "        self.seq_length_pl = tf.placeholder(tf.int32, [None], 'seq_length')\n",
    "        self.batch_size_pl = tf.placeholder(tf.int32, shape=[], name='batch_size')\n",
    "        self.initial_state = cell.zero_state(self.batch_size_pl, tf.float32)\n",
    "        outputs, state = tf.nn.dynamic_rnn(\n",
    "            cell, \n",
    "            embed,\n",
    "            sequence_length=self.seq_length_pl, \n",
    "            initial_state = self.initial_state,\n",
    "            dtype=tf.float32)\n",
    "        self.final_state = state\n",
    "        self.cell = cell\n",
    "\n",
    "        # Получаем предсказания (softmax) и результат logit-функции\n",
    "        self.prediction, self.logits = build_output(outputs, lstm_size, num_classes)\n",
    "\n",
    "        # Считаем потери и оптимизируем (с обрезкой градиента)\n",
    "        self.loss = build_loss(self.logits, self.targets, lstm_size, num_classes)\n",
    "        self.optimizer = build_optimizer(self.loss, learning_rate, grad_clip)"
   ]
  },
  {
   "cell_type": "code",
   "execution_count": 30,
   "metadata": {},
   "outputs": [],
   "source": [
    "batch_size    = 100        # Размер пакета\n",
    "num_steps     = 100         # Шагов в пакете\n",
    "lstm_size     = 512         # Количество LSTM юнитов в скрытом слое\n",
    "num_layers    = 2          # Количество LSTM слоев\n",
    "learning_rate = 0.001   # Скорость обучения\n",
    "keep_prob     = 0.5         # Dropout keep probability\n",
    "\n",
    "vocab = dataset.vocab"
   ]
  },
  {
   "cell_type": "code",
   "execution_count": 31,
   "metadata": {
    "scrolled": false
   },
   "outputs": [],
   "source": [
    "model = CharRNN(\n",
    "    len(vocab), \n",
    "    lstm_size=lstm_size, num_layers=num_layers, \n",
    "    learning_rate=learning_rate\n",
    ")"
   ]
  },
  {
   "cell_type": "code",
   "execution_count": null,
   "metadata": {
    "scrolled": true
   },
   "outputs": [
    {
     "name": "stdout",
     "output_type": "stream",
     "text": [
      "INFO:tensorflow:Restoring parameters from models/002/model.ckptxxx\n"
     ]
    },
    {
     "name": "stderr",
     "output_type": "stream",
     "text": [
      "INFO:tensorflow:Restoring parameters from models/002/model.ckptxxx\n"
     ]
    },
    {
     "name": "stdout",
     "output_type": "stream",
     "text": [
      "no data at models/002/model.ckpt\n",
      "Epoch: 1/50...  Training Step: 100...  Training loss: 3.2487...  0.3986 sec/batch\n"
     ]
    }
   ],
   "source": [
    "%%time\n",
    "epochs = 50\n",
    "# Сохраняться каждый N итераций\n",
    "save_every_n = 100\n",
    "\n",
    "saver = tf.train.Saver()\n",
    "sess  = tf.Session()\n",
    "try:\n",
    "    sess.run(tf.global_variables_initializer())\n",
    "\n",
    "    try:\n",
    "        saver.restore(sess, model_path+\"xxx\")\n",
    "    except:\n",
    "        print(\"no data at\", model_path)\n",
    "    counter = 0\n",
    "    for e in range(epochs):\n",
    "        loss = 0\n",
    "        new_state = sess.run(model.initial_state, feed_dict={model.batch_size_pl: batch_size})\n",
    "\n",
    "        for x, y in dataset.get_batches(batch_size, num_steps):\n",
    "            counter += 1\n",
    "            start = time.time()\n",
    "            feed = {model.inputs: x,\n",
    "                    model.targets: y,\n",
    "                    model.seq_length_pl: [num_steps, ]*batch_size,\n",
    "                    model.initial_state: new_state,\n",
    "                    model.keep_prob: keep_prob}\n",
    "            batch_loss, new_state, _ = sess.run([model.loss, \n",
    "                                                 model.final_state, \n",
    "                                                 model.optimizer], \n",
    "                                                 feed_dict=feed)\n",
    "\n",
    "            end = time.time()\n",
    "\n",
    "            if (counter % save_every_n == 0):\n",
    "                saver.save(sess, model_path)\n",
    "                print('Epoch: {}/{}... '.format(e+1, epochs),\n",
    "                      'Training Step: {}... '.format(counter),\n",
    "                      'Training loss: {:.4f}... '.format(batch_loss),\n",
    "                      '{:.4f} sec/batch'.format((end-start)))\n",
    "except KeyboardInterrupt:\n",
    "    pass"
   ]
  },
  {
   "cell_type": "code",
   "execution_count": 23,
   "metadata": {},
   "outputs": [],
   "source": [
    "def pick_top_n(preds, vocab_size, top_n):\n",
    "    p = np.squeeze(preds)\n",
    "    p[np.argsort(p)[:-top_n]] = 0\n",
    "    p = p / np.sum(p)\n",
    "    c = np.random.choice(vocab_size, 1, p=p)[0]\n",
    "    return c"
   ]
  },
  {
   "cell_type": "code",
   "execution_count": 24,
   "metadata": {},
   "outputs": [],
   "source": [
    "def sample(model, n_samples, lstm_size, vocab_size, top_n, prime=\"Глаза его были большие\"):\n",
    "    samples = [c for c in prime]\n",
    "    new_state = sess.run(model.initial_state, feed_dict={model.batch_size_pl: 1})\n",
    "    for c in prime:\n",
    "        x = np.zeros((1, 1))\n",
    "        x[0,0] = dataset.vocab_to_int[c]\n",
    "        feed = {model.inputs: x,\n",
    "                model.seq_length_pl: [1],\n",
    "                model.initial_state: new_state,\n",
    "                model.keep_prob: 1.}\n",
    "        preds, new_state = sess.run([model.prediction, model.final_state], feed_dict=feed)\n",
    "\n",
    "    c = pick_top_n(preds, len(dataset.vocab), top_n)\n",
    "    samples.append(dataset.int_to_vocab[c])\n",
    "\n",
    "    for i in range(n_samples):\n",
    "        x[0,0] = c\n",
    "        feed = {model.inputs: x,\n",
    "                model.seq_length_pl: [1],\n",
    "                model.initial_state: new_state,\n",
    "                model.keep_prob: 1.}\n",
    "        preds, new_state = sess.run([model.prediction, model.final_state], feed_dict=feed)\n",
    "\n",
    "        c = pick_top_n(preds, len(dataset.vocab), top_n)\n",
    "        samples.append(dataset.int_to_vocab[c])\n",
    "        \n",
    "    return ''.join(samples)"
   ]
  },
  {
   "cell_type": "code",
   "execution_count": 25,
   "metadata": {
    "scrolled": false
   },
   "outputs": [
    {
     "name": "stdout",
     "output_type": "stream",
     "text": [
      "--------------------------------------------------\n",
      "Доколе математики будут уверены в непогрешимости своего мозга, и доказательств, оттуда выходящих? Как было не большо на приета. Он не приеда и ничего носчаство плитать в свойй. Но он, он всегда. Как на стольным сторо не все дажи положить его, что он с пруговорили, они был начал свижениеми своего не отвечали, и начего на нее, он, остановила, которого был брать на ним, крого воспотия, на востовое соберенностими, и она всказал на слуша. И с кругим и ниходо составленное в светем, напрясиния на нее. И потому что ты споловали в этом подержавшие просто с них не скость.\n",
      "\n",
      "\n",
      "\n",
      "Степан Ииа, Александрович по\n"
     ]
    }
   ],
   "source": [
    "# samp = sample(1000, lstm_size, len(vocab), top_n=5, prime=)\n",
    "primes = ['Быть или не быть?']\n",
    "for prime in primes:\n",
    "    print('-'*50)\n",
    "    samp = sample(model, 500, lstm_size, len(dataset.vocab), top_n=5, prime=prime)\n",
    "    samp = samp.replace('\\n', '\\n\\n')\n",
    "    print(samp)"
   ]
  },
  {
   "cell_type": "code",
   "execution_count": null,
   "metadata": {},
   "outputs": [],
   "source": []
  },
  {
   "cell_type": "code",
   "execution_count": null,
   "metadata": {},
   "outputs": [],
   "source": []
  },
  {
   "cell_type": "code",
   "execution_count": null,
   "metadata": {},
   "outputs": [],
   "source": []
  },
  {
   "cell_type": "code",
   "execution_count": null,
   "metadata": {},
   "outputs": [],
   "source": []
  },
  {
   "cell_type": "code",
   "execution_count": null,
   "metadata": {},
   "outputs": [],
   "source": []
  },
  {
   "cell_type": "code",
   "execution_count": null,
   "metadata": {},
   "outputs": [],
   "source": []
  }
 ],
 "metadata": {
  "kernelspec": {
   "display_name": "Python 3",
   "language": "python",
   "name": "python3"
  },
  "language_info": {
   "codemirror_mode": {
    "name": "ipython",
    "version": 3
   },
   "file_extension": ".py",
   "mimetype": "text/x-python",
   "name": "python",
   "nbconvert_exporter": "python",
   "pygments_lexer": "ipython3",
   "version": "3.5.2"
  }
 },
 "nbformat": 4,
 "nbformat_minor": 2
}
