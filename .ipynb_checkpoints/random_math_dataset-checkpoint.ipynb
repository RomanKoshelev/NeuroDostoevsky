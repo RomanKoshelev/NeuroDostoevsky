{
 "cells": [
  {
   "cell_type": "markdown",
   "metadata": {},
   "source": [
    "# Random Math Dataset"
   ]
  },
  {
   "cell_type": "code",
   "execution_count": 7,
   "metadata": {},
   "outputs": [],
   "source": [
    "import numpy as np\n",
    "from math_generator import MathGenerator\n",
    "from math_vocab import MathVocab\n",
    "from math_dataset import MathDataset\n",
    "from utils import make_dir\n",
    "\n",
    "vocab_path      = \"data/math/math_vocab.data\"\n",
    "\n",
    "tr_text_path    = \"texts/math/random_math_train.txt\"\n",
    "va_text_path    = \"texts/math/random_math_valid.txt\"\n",
    "tr_dataset_path = \"data/math/random_math_dataset_train.data\"\n",
    "va_dataset_path = \"data/math/random_math_dataset_valid.data\"\n",
    "\n",
    "max_len     = 32\n",
    "gen_min_sum = 10\n",
    "gen_max_sum = 20\n",
    "gen_num     = 10000\n",
    "vocab_list  = list(\"0123456789 ++++++++=\")"
   ]
  },
  {
   "cell_type": "markdown",
   "metadata": {},
   "source": [
    "## Generator"
   ]
  },
  {
   "cell_type": "code",
   "execution_count": 14,
   "metadata": {},
   "outputs": [],
   "source": [
    "class RandomMathGenerator(MathGenerator):\n",
    "    def _generate_sent(self, _):\n",
    "        rand_len = np.random.randint(3, max_len)\n",
    "        sent = \"\".join(np.random.choice(vocab_list, rand_len))\n",
    "        return sent"
   ]
  },
  {
   "cell_type": "code",
   "execution_count": 15,
   "metadata": {},
   "outputs": [
    {
     "name": "stdout",
     "output_type": "stream",
     "text": [
      "\n",
      "texts/math/random_math_train.txt:\n",
      "\n",
      "4+75++8 +0\n",
      "73++7+=5+=+++3=3+=+46++3+7\n",
      "+15+38+1++2+ 151+5+5+8+\n",
      "+76++ 5 3+=03+++\n",
      "1+4+\n",
      "1+48+=+7+620++2+ ...\n",
      "\n",
      "texts/math/random_math_valid.txt:\n",
      "\n",
      "++08+1+98+++7=9 \n",
      "0970+7284++40+3 +++2414+=+++=+6\n",
      "72+ 3+6+0849+4++19+++80+=9++\n",
      "+1++8416+31+7=+++8+++\n",
      " ...\n"
     ]
    }
   ],
   "source": [
    "for path in [tr_text_path, va_text_path]:\n",
    "    gen = RandomMathGenerator(gen_min_sum, gen_max_sum)\n",
    "    sents = gen.generate('=', gen_num)\n",
    "    text = '\\n'.join(sents)\n",
    "\n",
    "    print('\\n%s:\\n'%path)\n",
    "    print(text[:100] + \" ...\")\n",
    "\n",
    "    make_dir(path)\n",
    "    with open(path, 'w') as f:\n",
    "        f.write(text)"
   ]
  },
  {
   "cell_type": "markdown",
   "metadata": {},
   "source": [
    "## Random Dataset"
   ]
  },
  {
   "cell_type": "code",
   "execution_count": 16,
   "metadata": {},
   "outputs": [
    {
     "name": "stdout",
     "output_type": "stream",
     "text": [
      "data/math/random_math_dataset_train.data\n",
      "MathDataset:\n",
      "  path: data/math/random_math_dataset_train.data\n",
      "  shape: [10000, 34]\n",
      "  data_limit: None\n",
      "data/math/random_math_dataset_valid.data\n",
      "MathDataset:\n",
      "  path: data/math/random_math_dataset_valid.data\n",
      "  shape: [10000, 34]\n",
      "  data_limit: None\n"
     ]
    }
   ],
   "source": [
    "voc = MathVocab()\n",
    "voc.restore(vocab_path)\n",
    "\n",
    "dataset_paths = [tr_dataset_path, va_dataset_path]\n",
    "\n",
    "for i,text_path in enumerate([tr_text_path, va_text_path]):\n",
    "    dataset = MathDataset()\n",
    "    dataset.build(text_path, voc, max_len=max_len)\n",
    "    dataset.save(dataset_paths[i])\n",
    "    print(dataset_paths[i])\n",
    "    print(dataset)\n",
    "    assert dataset.shape[0] > 9900\n",
    "    assert dataset.shape[1] == max_len+2"
   ]
  },
  {
   "cell_type": "markdown",
   "metadata": {},
   "source": [
    "## Batch"
   ]
  },
  {
   "cell_type": "code",
   "execution_count": 17,
   "metadata": {},
   "outputs": [
    {
     "name": "stdout",
     "output_type": "stream",
     "text": [
      "<BOS>+15+78296+++  ++40++ 7 2<EOS>________\n",
      "<BOS>1047<EOS>____________________________\n",
      "<BOS>307++627=04++0+5+04<EOS>_____________\n",
      "<BOS>0+1 +31+8<EOS>_______________________\n",
      "<BOS>++7++<EOS>___________________________\n",
      "<BOS>+37+ +15 +<EOS>______________________\n",
      "<BOS>50++81+342562+29443+<EOS>____________\n",
      "<BOS>==0<EOS>_____________________________\n",
      "<BOS>+ 7+<EOS>____________________________\n",
      "<BOS>8+=+++1+++44+0+8+7<EOS>______________\n",
      "<BOS>29+13+865+4+6+ 4=+++6544100=6+<EOS>__\n",
      "<BOS>6+5++5+=8++8451=5+6+3<EOS>___________\n",
      "<BOS>+82 0+=1 0+77 + +1 9376++ ++65+<EOS>_\n",
      "<BOS>5++099+6++09++5+<EOS>________________\n",
      "<BOS>+2= 3=+739+0=+64+69<EOS>_____________\n"
     ]
    }
   ],
   "source": [
    "voc = MathVocab()\n",
    "voc.restore(vocab_path)\n",
    "\n",
    "dataset = MathDataset()\n",
    "dataset.restore(tr_dataset_path)\n",
    "\n",
    "batch = dataset.get_next_batch(15)\n",
    "for sent in batch:\n",
    "    restored = \"\".join(voc.to_words(sent))\n",
    "    restored = restored.replace('<PAD>', '_')\n",
    "    print(restored)"
   ]
  },
  {
   "cell_type": "code",
   "execution_count": null,
   "metadata": {},
   "outputs": [],
   "source": []
  }
 ],
 "metadata": {
  "kernelspec": {
   "display_name": "Python 3",
   "language": "python",
   "name": "python3"
  },
  "language_info": {
   "codemirror_mode": {
    "name": "ipython",
    "version": 3
   },
   "file_extension": ".py",
   "mimetype": "text/x-python",
   "name": "python",
   "nbconvert_exporter": "python",
   "pygments_lexer": "ipython3",
   "version": "3.5.2"
  }
 },
 "nbformat": 4,
 "nbformat_minor": 2
}
