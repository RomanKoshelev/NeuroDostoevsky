{
 "cells": [
  {
   "cell_type": "markdown",
   "metadata": {},
   "source": [
    "# RNN autoencoder"
   ]
  },
  {
   "cell_type": "code",
   "execution_count": 18,
   "metadata": {},
   "outputs": [],
   "source": [
    "import numpy as np\n",
    "from sent_dataset import SentenceDataset\n",
    "from utils import prepare_sample"
   ]
  },
  {
   "cell_type": "markdown",
   "metadata": {},
   "source": [
    "## Dataset"
   ]
  },
  {
   "cell_type": "code",
   "execution_count": 86,
   "metadata": {},
   "outputs": [
    {
     "name": "stdout",
     "output_type": "stream",
     "text": [
      "CPU times: user 50.2 s, sys: 392 ms, total: 50.6 s\n",
      "Wall time: 50.1 s\n"
     ]
    }
   ],
   "source": [
    "%%time\n",
    "dataset = SentenceDataset(2, 32)\n",
    "dataset.load('data/dostoevsky.txt', 10000000)  # dostoevsky.txt  anna.txt"
   ]
  },
  {
   "cell_type": "code",
   "execution_count": 87,
   "metadata": {},
   "outputs": [
    {
     "name": "stdout",
     "output_type": "stream",
     "text": [
      "Sentences : 111670\n",
      "Max length: 34\n",
      "Vocabulary: 104918\n"
     ]
    }
   ],
   "source": [
    "voc_size = dataset.num_tokens\n",
    "sent_len = dataset.max_len+2\n",
    "\n",
    "print(\"Sentences :\", dataset.get_data_size())\n",
    "print(\"Max length:\", sent_len)\n",
    "print(\"Vocabulary:\", voc_size)"
   ]
  },
  {
   "cell_type": "markdown",
   "metadata": {},
   "source": [
    "## Model"
   ]
  },
  {
   "cell_type": "code",
   "execution_count": 88,
   "metadata": {},
   "outputs": [],
   "source": [
    "import os\n",
    "from utils import make_dir\n",
    "import numpy as np\n",
    "import tensorflow as tf\n",
    "import pickle\n",
    "from visualization import show_train_stats\n",
    "\n",
    "class AutoencoderRNN:\n",
    "    def __init__(self):\n",
    "        self._scope    = 'autoencoder_rnn'\n",
    "        # state\n",
    "        self.tr_step   = 0\n",
    "        self.tr_epoch  = 0\n",
    "        self.tr_losses = []\n",
    "        \n",
    "    \n",
    "    def _make_rnn_cell(self, num_units, num_layers, keep_prob):\n",
    "        def make_layer():\n",
    "            l = tf.contrib.rnn.BasicLSTMCell(num_units)\n",
    "            l = tf.contrib.rnn.DropoutWrapper(l, output_keep_prob=keep_prob)\n",
    "            return l        \n",
    "        layers = [make_layer() for _ in range(num_layers)]\n",
    "        cell   = tf.contrib.rnn.MultiRNNCell(layers)\n",
    "        return cell\n",
    "\n",
    "    \n",
    "    def _make_loss(self, logits, labels):\n",
    "        loss = tf.nn.sparse_softmax_cross_entropy_with_logits(\n",
    "            logits = logits,\n",
    "            labels = labels)\n",
    "        return tf.reduce_mean(loss)\n",
    "    \n",
    "\n",
    "    def _make_optimizer(self, loss, lr, grad_clip):\n",
    "        tr_vars   = tf.trainable_variables()\n",
    "        grads, _  = tf.clip_by_global_norm(tf.gradients(loss, tr_vars), grad_clip)\n",
    "        train_op  = tf.train.AdamOptimizer(lr)\n",
    "        optimizer = train_op.apply_gradients(zip(grads, tr_vars))\n",
    "        return optimizer\n",
    "    \n",
    "    \n",
    "    def _get_initial_state(self, batch_size):\n",
    "        return self._sess.run(self.initial_state, feed_dict={self.batch_size_pl: batch_size})\n",
    "\n",
    "    \n",
    "    def build(self, voc_size, emb_size, num_units, num_layers, grad_clip=5):\n",
    "        tf.reset_default_graph()\n",
    "        self._graph = tf.Graph()\n",
    "        with self._graph.as_default(), tf.variable_scope(self._scope):\n",
    "            \n",
    "            # placeholders\n",
    "            self.enc_inputs_pl = tf.placeholder(tf.int32, [None, None], name='enc_inputs')\n",
    "            self.dec_inputs_pl = tf.placeholder(tf.int32, [None, None], name='dec_inputs')\n",
    "            self.targets_pl    = tf.placeholder(tf.int32, [None, None], name='targets')\n",
    "            self.seq_length_pl = tf.placeholder(tf.int32, [None], 'seq_lengths')\n",
    "            self.batch_size_pl = tf.placeholder(tf.int32, shape=[], name='batch_size')\n",
    "            self.keep_prob_pl  = tf.placeholder(tf.float32, name='keep_prob')\n",
    "            self.lr_pl         = tf.placeholder(tf.float32, name='learning_rate')\n",
    "\n",
    "            # embedding\n",
    "            embedding_mtx      = tf.Variable(tf.random_normal(shape=[voc_size, emb_size], dtype=tf.float32))\n",
    "            en_inputs          = tf.nn.embedding_lookup(embedding_mtx, self.enc_inputs_pl)\n",
    "            de_inputs          = tf.nn.embedding_lookup(embedding_mtx, self.dec_inputs_pl)\n",
    "            \n",
    "            # encoder\n",
    "            en_cell            = self._make_rnn_cell(num_units, num_layers, self.keep_prob_pl)\n",
    "            en_initial_state   = en_cell.zero_state(self.batch_size_pl, tf.float32)\n",
    "            _, en_state        = tf.nn.dynamic_rnn(en_cell, en_inputs, self.seq_length_pl, en_initial_state, scope='encoder')\n",
    "\n",
    "            # decoder\n",
    "            de_cell            = self._make_rnn_cell(num_units, num_layers, self.keep_prob_pl)\n",
    "            de_initial_state   = en_state\n",
    "            de_outputs, _      = tf.nn.dynamic_rnn(de_cell, de_inputs, self.seq_length_pl, de_initial_state, scope='decoder')\n",
    "            \n",
    "            # prediction\n",
    "            logits             = tf.layers.dense(de_outputs, voc_size)\n",
    "            self.outputs       = tf.argmax(tf.nn.softmax(logits), axis=2)\n",
    "\n",
    "            # training\n",
    "            self.loss_op       = self._make_loss(logits, self.targets_pl)\n",
    "            self.train_op      = self._make_optimizer(self.loss_op, self.lr_pl, grad_clip)\n",
    "            \n",
    "            # utils\n",
    "            self.init_op       = tf.global_variables_initializer()\n",
    "            self._saver        = tf.train.Saver()\n",
    "\n",
    "        # session\n",
    "        self._sess = tf.Session(graph=self._graph)\n",
    "        self._sess.run(self.init_op)\n",
    "        \n",
    "        \n",
    "    def train(self, dataset, step_num,  batch_size, seq_length, learning_rate, keep_prob=.5, log_every=20, mean_win=30):\n",
    "        try:\n",
    "            data_size = dataset.get_data_size()\n",
    "            for self.tr_step in range(self.tr_step, step_num-1):\n",
    "                ep = self.tr_step*batch_size/data_size\n",
    "                sents = dataset.get_next_batch(batch_size)\n",
    "                tr_loss, _ = self._sess.run(\n",
    "                    [self.loss_op, self.train_op], \n",
    "                    feed_dict = {\n",
    "                        self.enc_inputs_pl: sents,\n",
    "                        self.dec_inputs_pl: sents,\n",
    "                        self.targets_pl   : sents,\n",
    "                        self.batch_size_pl: batch_size,\n",
    "                        self.seq_length_pl: [seq_length, ]*batch_size,\n",
    "                        self.keep_prob_pl : keep_prob,\n",
    "                        self.lr_pl        : learning_rate,\n",
    "                })\n",
    "                self.tr_losses.append(tr_loss)\n",
    "\n",
    "                if self.tr_step % log_every == 0:\n",
    "                    show_train_stats(ep, self.tr_step, self.tr_losses, mean_win)\n",
    "                        \n",
    "        except KeyboardInterrupt:\n",
    "            show_train_stats(ep, self.tr_step, self.tr_losses, mean_win)\n",
    "            \n",
    "\n",
    "    def save(self, path):\n",
    "        make_dir(path)\n",
    "        pickle.dump([self.tr_epoch, self.tr_step, self.tr_losses], open(os.path.join(path, \"state.p\"), \"wb\"))\n",
    "        self._saver.save(self._sess, path)\n",
    "        \n",
    "        \n",
    "    def restore(self, path):\n",
    "        try:\n",
    "             [self.tr_epoch, self.tr_step, self.tr_losses] = pickle.load(open(os.path.join(path, \"state.p\"), \"rb\"))\n",
    "        except: \n",
    "            print(\"State not found at\", path)\n",
    "        self._saver.restore(self._sess, path)\n",
    "        \n",
    "        \n",
    "    def run(self, sents, batch_size, seq_length):\n",
    "        return self._sess.run(\n",
    "            self.outputs, \n",
    "            feed_dict = {\n",
    "                self.enc_inputs_pl: sents,\n",
    "                self.dec_inputs_pl: sents,\n",
    "                self.targets_pl   : sents,\n",
    "                self.batch_size_pl: batch_size,\n",
    "                self.seq_length_pl: [seq_length, ]*batch_size,\n",
    "                self.keep_prob_pl : 1,\n",
    "        })\n"
   ]
  },
  {
   "cell_type": "markdown",
   "metadata": {},
   "source": [
    "## Build"
   ]
  },
  {
   "cell_type": "code",
   "execution_count": 89,
   "metadata": {
    "scrolled": false
   },
   "outputs": [
    {
     "name": "stdout",
     "output_type": "stream",
     "text": [
      "CPU times: user 5.19 s, sys: 60 ms, total: 5.25 s\n",
      "Wall time: 5.26 s\n"
     ]
    }
   ],
   "source": [
    "%%time\n",
    "model_path = 'models/rnn_autoencoder/dostoevsky-001/'\n",
    "\n",
    "model = AutoencoderRNN()\n",
    "\n",
    "model.build(\n",
    "    voc_size   = voc_size, \n",
    "    emb_size   = 100, \n",
    "    num_units  = 128, \n",
    "    num_layers = 2)"
   ]
  },
  {
   "cell_type": "markdown",
   "metadata": {},
   "source": [
    "## Train"
   ]
  },
  {
   "cell_type": "code",
   "execution_count": 96,
   "metadata": {
    "scrolled": false
   },
   "outputs": [
    {
     "data": {
      "image/png": "[encoded data removed]",
      "text/plain": [
       "<matplotlib.figure.Figure at 0x7f2fbcb6dfd0>"
      ]
     },
     "metadata": {},
     "output_type": "display_data"
    },
    {
     "name": "stdout",
     "output_type": "stream",
     "text": [
      "CPU times: user 10min 6s, sys: 57.9 s, total: 11min 4s\n",
      "Wall time: 6min 30s\n"
     ]
    }
   ],
   "source": [
    "%%time\n",
    "model.train(\n",
    "    step_num      = 100000,\n",
    "    batch_size    = 32, \n",
    "    seq_length    = sent_len,\n",
    "    learning_rate = 1e-3, \n",
    "    mean_win      = 30,\n",
    "    dataset       = dataset)\n",
    "model.save(model_path)"
   ]
  },
  {
   "cell_type": "markdown",
   "metadata": {},
   "source": [
    "## Test"
   ]
  },
  {
   "cell_type": "code",
   "execution_count": 97,
   "metadata": {},
   "outputs": [
    {
     "name": "stdout",
     "output_type": "stream",
     "text": [
      "--------------------------------------------------------------------------------\n",
      "[ есть у народа идеалы или совсем их нет вот вопрос нашей жизни или смерти. ]\n",
      "[ есть у показалось мою или совсем их нет вот мой один жизни или нельзя. ]\n",
      "--------------------------------------------------------------------------------\n",
      "[ ваша молитва, может, и дойдет. ]\n",
      "[ особенно света, может, и матери. ]\n",
      "--------------------------------------------------------------------------------\n",
      "[ я вас спрашиваю о ее поведении. ]\n",
      "[ я вас одного о ее света. ]\n",
      "--------------------------------------------------------------------------------\n",
      "[ на половине лестницы нагнал его возвращавшийся домой священник. ]\n",
      "[ на нею петровна света его света произнес тому. ]\n",
      "--------------------------------------------------------------------------------\n",
      "[ я в высшем смысле спрашиваю, петр степанович. ]\n",
      "[ я в могло иногда одного, петр степанович. ]\n",
      "--------------------------------------------------------------------------------\n",
      "[ я и сам скажу правду, я и сам понимаю ту сумму негодования, которую он накопил в сердце своего сына. ]\n",
      "[ я и сам чего правду, я и сам чтоб лет того чрезвычайно, петр он показалось в сердце своего стороны. ]\n",
      "--------------------------------------------------------------------------------\n",
      "[ — чего послушалась? ]\n",
      "[ — чего света? ]\n",
      "--------------------------------------------------------------------------------\n",
      "[ — закричала она вдруг, засверкав глазками и затопав ногами. ]\n",
      "[ — иногда она вдруг, показалось того и света.. ]\n",
      "--------------------------------------------------------------------------------\n",
      "[ даже читать его, наверное, не станете. ]\n",
      "[ даже хорошо его, несмотря, не света. ]\n",
      "--------------------------------------------------------------------------------\n",
      "[ на, бери, ставь эти все четыре на красную, — решила бабушка. ]\n",
      "[ на, имел, показалось эти все нему на тотчас, — того знаю. ]\n"
     ]
    }
   ],
   "source": [
    "batch_size = 10\n",
    "inp = dataset.get_next_batch(batch_size)\n",
    "out = model.run(inp, batch_size, sent_len)\n",
    "\n",
    "def prepare(s):\n",
    "    s = dataset.decode(s)\n",
    "    s = s.replace('<BOS>', '[').replace('<EOS>', ']').replace(' _', '').replace(' ,', ',').replace(' !', '!').replace(' ?', '?').replace(' .', '.')\n",
    "    return s\n",
    "    \n",
    "for i in range(len(inp)):\n",
    "    print('-'*80)\n",
    "    print(prepare(inp[i]))\n",
    "    print(prepare(out[i]))\n"
   ]
  },
  {
   "cell_type": "markdown",
   "metadata": {},
   "source": [
    "## Restore"
   ]
  },
  {
   "cell_type": "code",
   "execution_count": 61,
   "metadata": {
    "scrolled": true
   },
   "outputs": [
    {
     "name": "stdout",
     "output_type": "stream",
     "text": [
      "INFO:tensorflow:Restoring parameters from models/rnn_autoencoder/dostoevsky-001/\n"
     ]
    }
   ],
   "source": [
    "model.restore(model_path)"
   ]
  },
  {
   "cell_type": "code",
   "execution_count": null,
   "metadata": {},
   "outputs": [],
   "source": []
  }
 ],
 "metadata": {
  "kernelspec": {
   "display_name": "Python 3",
   "language": "python",
   "name": "python3"
  },
  "language_info": {
   "codemirror_mode": {
    "name": "ipython",
    "version": 3
   },
   "file_extension": ".py",
   "mimetype": "text/x-python",
   "name": "python",
   "nbconvert_exporter": "python",
   "pygments_lexer": "ipython3",
   "version": "3.5.2"
  }
 },
 "nbformat": 4,
 "nbformat_minor": 2
}
