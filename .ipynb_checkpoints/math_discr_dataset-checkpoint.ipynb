{
 "cells": [
  {
   "cell_type": "markdown",
   "metadata": {},
   "source": [
    "# Math Discr Dataset"
   ]
  },
  {
   "cell_type": "code",
   "execution_count": 4,
   "metadata": {},
   "outputs": [],
   "source": [
    "from math_generator import MathGenerator\n",
    "from math_vocab import MathVocab\n",
    "from math_discr_dataset import MathDiscrDataset\n",
    "\n",
    "vocab_path       = \"data/math/math_vocab.data\"\n",
    "pos_dataset_path = \"data/math/math_dataset_train.data\"\n",
    "neg_dataset_path = \"data/math/math_false_dataset_train.data\""
   ]
  },
  {
   "cell_type": "markdown",
   "metadata": {},
   "source": [
    "## Discr Dataset"
   ]
  },
  {
   "cell_type": "code",
   "execution_count": 5,
   "metadata": {},
   "outputs": [
    {
     "name": "stdout",
     "output_type": "stream",
     "text": [
      "MathDiscrDataset:\n",
      "  shape: [20000, 34]\n"
     ]
    }
   ],
   "source": [
    "dataset = MathDiscrDataset(pos_dataset_path, neg_dataset_path)\n",
    "print(dataset)"
   ]
  },
  {
   "cell_type": "markdown",
   "metadata": {},
   "source": [
    "## Batch"
   ]
  },
  {
   "cell_type": "code",
   "execution_count": 6,
   "metadata": {},
   "outputs": [
    {
     "name": "stdout",
     "output_type": "stream",
     "text": [
      "<BOS>1+9 = 6+6+1+1<EOS>___________________ 0\n",
      "<BOS>1+1+3+6+1+3+2 = 1+2+10<EOS>__________ 0\n",
      "<BOS>13+2+1 = 7+9<EOS>____________________ 1\n",
      "<BOS>1+1+3+9 = 7+4+1+2<EOS>_______________ 1\n",
      "<BOS>1+4+4+2 = 2+7+2<EOS>_________________ 1\n",
      "<BOS>1+9 = 3+1+2+11+2<EOS>________________ 0\n",
      "<BOS>19 = 8+2+2+5+2<EOS>__________________ 1\n",
      "<BOS>1+1+8 = 4+6+6<EOS>___________________ 0\n",
      "<BOS>8+2 = 2+1+1+13+1<EOS>________________ 0\n",
      "<BOS>1+2+8 = 8+2+1<EOS>___________________ 1\n",
      "<BOS>1+7+3 = 9+2<EOS>_____________________ 1\n",
      "<BOS>2+5+3+2 = 1+10+1<EOS>________________ 1\n",
      "<BOS>7+4+2 = 15<EOS>______________________ 0\n",
      "<BOS>4+2+7+2 = 6+8<EOS>___________________ 0\n",
      "<BOS>2+1+3+4 = 1+1+3+9+4<EOS>_____________ 0\n"
     ]
    }
   ],
   "source": [
    "voc = MathVocab()\n",
    "voc.restore(vocab_path)\n",
    "\n",
    "batch = dataset.get_next_batch(15)\n",
    "for sent, label in zip(*batch):\n",
    "    restored = \"\".join(voc.to_words(sent))\n",
    "    restored = restored.replace('<PAD>', '_')\n",
    "    print(restored, label)"
   ]
  },
  {
   "cell_type": "code",
   "execution_count": null,
   "metadata": {},
   "outputs": [],
   "source": []
  },
  {
   "cell_type": "code",
   "execution_count": null,
   "metadata": {},
   "outputs": [],
   "source": []
  }
 ],
 "metadata": {
  "kernelspec": {
   "display_name": "Python 3",
   "language": "python",
   "name": "python3"
  },
  "language_info": {
   "codemirror_mode": {
    "name": "ipython",
    "version": 3
   },
   "file_extension": ".py",
   "mimetype": "text/x-python",
   "name": "python",
   "nbconvert_exporter": "python",
   "pygments_lexer": "ipython3",
   "version": "3.5.2"
  }
 },
 "nbformat": 4,
 "nbformat_minor": 2
}
