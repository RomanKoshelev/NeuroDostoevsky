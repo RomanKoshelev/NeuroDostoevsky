{
 "cells": [
  {
   "cell_type": "markdown",
   "metadata": {},
   "source": [
    "# RusStyleDataset"
   ]
  },
  {
   "cell_type": "code",
   "execution_count": 8,
   "metadata": {},
   "outputs": [],
   "source": [
    "import numpy as np\n",
    "from vocabulary import Vocabulary\n",
    "from dataset import TextDataset\n",
    "from style_dataset import StyleDataset\n",
    "from utils import make_dir\n",
    "\n",
    "vocab_path      = \"data/rus_style/rus_vocab_2.data\"\n",
    "\n",
    "tr_text_path    = \"texts/rus_style/rus_%s_train.txt\"\n",
    "va_text_path    = \"texts/rus_style/rus_%s_valid.txt\"\n",
    "tr_dataset_path = \"data/rus_style/rus_dataset_%s_train_2.data\"\n",
    "va_dataset_path = \"data/rus_style/rus_dataset_%s_valid_2.data\"\n",
    "\n",
    "max_len = 24"
   ]
  },
  {
   "cell_type": "markdown",
   "metadata": {},
   "source": [
    "## Vocab"
   ]
  },
  {
   "cell_type": "code",
   "execution_count": null,
   "metadata": {},
   "outputs": [],
   "source": [
    "voc = Vocabulary()\n",
    "voc.build(paths=[t % s for t in [tr_text_path, va_text_path] for s in [0,1]], max_size=60000)\n",
    "voc.save(vocab_path)\n",
    "print(voc)"
   ]
  },
  {
   "cell_type": "markdown",
   "metadata": {},
   "source": [
    "## Dataset"
   ]
  },
  {
   "cell_type": "code",
   "execution_count": 5,
   "metadata": {},
   "outputs": [
    {
     "name": "stdout",
     "output_type": "stream",
     "text": [
      "StyleDataset:\n",
      "  path_0: data/rus_style/rus_dataset_0_train.data\n",
      "  path_1: data/rus_style/rus_dataset_1_train.data\n",
      "  shape: [210592, 34]\n",
      "\n",
      "StyleDataset:\n",
      "  path_0: data/rus_style/rus_dataset_0_valid.data\n",
      "  path_1: data/rus_style/rus_dataset_1_valid.data\n",
      "  shape: [210592, 34]\n",
      "\n"
     ]
    }
   ],
   "source": [
    "voc = Vocabulary()\n",
    "voc.restore(vocab_path)\n",
    "\n",
    "dataset_paths = [tr_dataset_path, va_dataset_path]\n",
    "\n",
    "for i,text_path in enumerate([tr_text_path, va_text_path]):\n",
    "    dataset = StyleDataset(TextDataset)\n",
    "    dataset.build(text_path, voc, max_len=max_len)\n",
    "    dataset.save(dataset_paths[i])\n",
    "    print(dataset)\n",
    "    assert dataset._ds0.shape[0] > 100000\n",
    "    assert dataset._ds0.shape[1] == max_len+2\n",
    "    assert dataset._ds1.shape[0] > 100000\n",
    "    assert dataset._ds1.shape[1] == max_len+2\n",
    "    assert dataset.get_data_size() == dataset.shape[0], dataset.get_data_size()"
   ]
  },
  {
   "cell_type": "markdown",
   "metadata": {},
   "source": [
    "## Batch"
   ]
  },
  {
   "cell_type": "code",
   "execution_count": 7,
   "metadata": {},
   "outputs": [
    {
     "name": "stdout",
     "output_type": "stream",
     "text": [
      "0: <BOS> носится слух , что теперь он вовсе не теряет духа , в показаниях своих лжет и готовится к <UNK> суду с некоторою торжественностью и надеждою ( ? ) . <EOS> _ _ _\n",
      "0: <BOS> а о чем ты думаешь ? <EOS> _ _ _ _ _ _ _ _ _ _ _ _ _ _ _ _ _ _ _ _ _ _ _ _ _ _\n",
      "0: <BOS> они говорят грубо , но просто . <EOS> _ _ _ _ _ _ _ _ _ _ _ _ _ _ _ _ _ _ _ _ _ _ _ _ _\n",
      "0: <BOS> — ведь тут за дверью у вас лежит <UNK> сюртук , не видели , что ли ? <EOS> _ _ _ _ _ _ _ _ _ _ _ _ _ _ _\n",
      "0: <BOS> пошел ! <EOS> _ _ _ _ _ _ _ _ _ _ _ _ _ _ _ _ _ _ _ _ _ _ _ _ _ _ _ _ _ _\n",
      "0: <BOS> разве помогать здесь и при таких обстоятельствах не признак нравственной силы ? <EOS> _ _ _ _ _ _ _ _ _ _ _ _ _ _ _ _ _ _ _ _\n",
      "0: <BOS> даже что дурно было , на что подчас и досадовал , и то в воспоминаниях как-то <UNK> от дурного и <UNK> <UNK> моему в <UNK> виде . <EOS> _ _ _ _ _\n",
      "1: <BOS> он жил в польше с 2013 года , преподавал в местных университетах , а также сотрудничал с российским <UNK> <UNK> исследований . <EOS> _ _ _ _ _ _ _ _ _ _\n",
      "1: <BOS> <UNK> полиция уже подозревала в серии <UNK> , за ним следили оперативники , слушали его телефон — так они и узнали про пиркина и про кражу <UNK> . <EOS> _ _ _ _\n",
      "1: <BOS> представитель первого заместителя председателя правительства рф игоря шувалова подтвердил тасс , что предложение титова направлено в <UNK> ведомства на <UNK> . <EOS> _ _ _ _ _ _ _ _ _ _ _\n",
      "1: <BOS> позже этот твит мизулина удалила , <UNK> : как и все , я <UNK> на публикацию кп и множества других сми . <EOS> _ _ _ _ _ _ _ _ _ _\n",
      "1: <BOS> что там рассказали ? <UNK> показ фильма алексея учителя матильда , который должен был пройти 11 сентября в московском кинотеатре <UNK> , не состоится . <EOS> _ _ _ _ _ _ _\n",
      "1: <BOS> незадолго до выступления пучдемона о <UNK> референдума в каталонии заявил премьер-министр испании мариано рахой . <EOS> _ _ _ _ _ _ _ _ _ _ _ _ _ _ _ _ _\n",
      "1: <BOS> осмотр машины улюкаева и сумки занял у фсб шесть часов сторона защиты настаивает , что все это время улюкаев фактически был задержан фсб , хотя <UNK> это не было <UNK> . <EOS> _\n"
     ]
    }
   ],
   "source": [
    "voc = Vocabulary()\n",
    "voc.restore(vocab_path)\n",
    "\n",
    "dataset = StyleDataset(TextDataset)\n",
    "dataset.restore(tr_dataset_path)\n",
    "\n",
    "sents, styles = dataset.get_next_batch(14)\n",
    "for sent, style in zip(sents, styles):\n",
    "    restored = \" \".join(voc.to_words(sent))\n",
    "    restored = restored.replace('<PAD>', '_')\n",
    "    print(\"%d: %s\" % (style, restored))"
   ]
  },
  {
   "cell_type": "code",
   "execution_count": null,
   "metadata": {},
   "outputs": [],
   "source": []
  },
  {
   "cell_type": "code",
   "execution_count": null,
   "metadata": {},
   "outputs": [],
   "source": []
  }
 ],
 "metadata": {
  "kernelspec": {
   "display_name": "Python 3",
   "language": "python",
   "name": "python3"
  },
  "language_info": {
   "codemirror_mode": {
    "name": "ipython",
    "version": 3
   },
   "file_extension": ".py",
   "mimetype": "text/x-python",
   "name": "python",
   "nbconvert_exporter": "python",
   "pygments_lexer": "ipython3",
   "version": "3.5.2"
  }
 },
 "nbformat": 4,
 "nbformat_minor": 2
}
