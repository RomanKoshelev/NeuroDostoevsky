{
 "cells": [
  {
   "cell_type": "markdown",
   "metadata": {},
   "source": [
    "# MathStyleDataset"
   ]
  },
  {
   "cell_type": "code",
   "execution_count": 1,
   "metadata": {},
   "outputs": [],
   "source": [
    "import numpy as np\n",
    "from math_generator import MathGenerator\n",
    "from math_vocab import MathVocab\n",
    "from math_dataset import MathDataset\n",
    "from style_dataset import StyleDataset\n",
    "from utils import make_dir\n",
    "\n",
    "vocab_path      = \"data/math_style/math_vocab.data\"\n",
    "\n",
    "tr_text_path    = \"texts/math_style/math_%s_train.txt\"\n",
    "va_text_path    = \"texts/math_style/math_%s_valid.txt\"\n",
    "tr_dataset_path = \"data/math_style/math_dataset_%s_train.data\"\n",
    "va_dataset_path = \"data/math_style/math_dataset_%s_valid.data\"\n",
    "\n",
    "max_len     = 32\n",
    "gen_min_sum = 10\n",
    "gen_max_sum = 20\n",
    "gen_num     = 10000"
   ]
  },
  {
   "cell_type": "markdown",
   "metadata": {},
   "source": [
    "## Generator"
   ]
  },
  {
   "cell_type": "code",
   "execution_count": 2,
   "metadata": {},
   "outputs": [
    {
     "name": "stdout",
     "output_type": "stream",
     "text": [
      "\n",
      "texts/math_style/math_0_train.txt:\n",
      "\n",
      "13+1+1 = 1+3+5+3+3\n",
      "3+12+2 = 2+14+1\n",
      "4+1+1+9 = 15\n",
      "2+13+2 = 1+3+1+1+5+1+5\n",
      "5+2+2+2 = 4+6+1\n",
      "7+1+3+4+1 = 7 ...\n",
      "\n",
      "texts/math_style/math_0_valid.txt:\n",
      "\n",
      "1+4+14 = 17+2\n",
      "9+1+1+7 = 13+1+1+2+1\n",
      "4+1+1+13 = 11+1+2+5\n",
      "15+1+1 = 4+7+1+5\n",
      "1+1+1+1+6+3 = 4+9\n",
      "1+3+10+2 = ...\n",
      "\n",
      "texts/math_style/math_1_train.txt:\n",
      "\n",
      "8+1+1=7+2+1\n",
      "6+1+3+3+3=15+1\n",
      "1+1+11+3=12+4\n",
      "2+1+8=11\n",
      "5+3+1+2+2=3+1+9\n",
      "5+5=1+9\n",
      "14=2+3+2+3+4\n",
      "11=6+2+1+2\n",
      "1+ ...\n",
      "\n",
      "texts/math_style/math_1_valid.txt:\n",
      "\n",
      "13+1+2=11+5\n",
      "1+12=12+1\n",
      "4+1+2+3+2=1+1+10\n",
      "4+2+4+1=7+2+2\n",
      "2+10=2+8+2\n",
      "18+1=1+2+16\n",
      "5+3+1+1=3+2+3+2\n",
      "1+7+6=4+ ...\n"
     ]
    }
   ],
   "source": [
    "def apply_style(text, style):\n",
    "    if style == 0:\n",
    "        return text\n",
    "    else:\n",
    "        return text.replace(\" = \", \"=\")        \n",
    "    \n",
    "for style in [0,1]:\n",
    "    for path in [tr_text_path, va_text_path]:\n",
    "        path = path % style\n",
    "        gen = MathGenerator(gen_min_sum, gen_max_sum)\n",
    "        sents = gen.generate('=', gen_num)\n",
    "        text = '\\n'.join(sents)\n",
    "        text = apply_style(text, style)\n",
    "\n",
    "        print('\\n%s:\\n'%path)\n",
    "        print(text[:100] + \" ...\")\n",
    "\n",
    "        make_dir(path)\n",
    "        with open(path, 'w') as f:\n",
    "            f.write(text)"
   ]
  },
  {
   "cell_type": "markdown",
   "metadata": {},
   "source": [
    "## Vocab"
   ]
  },
  {
   "cell_type": "code",
   "execution_count": 3,
   "metadata": {},
   "outputs": [
    {
     "name": "stdout",
     "output_type": "stream",
     "text": [
      "MathVocab:\n",
      "  size: 17\n",
      "  _tokens_to_words: ['<UNK>', '<BOS>', '<EOS>', '<PAD>', '+', '1', '2', '=', ' ', '3', '4', '5', '6', '7', '8', '9', '0']\n"
     ]
    }
   ],
   "source": [
    "voc = MathVocab()\n",
    "voc.build([t % s for t in [tr_text_path, va_text_path] for s in [0,1]])\n",
    "voc.save(vocab_path)\n",
    "print(voc)\n",
    "assert voc.size == 17, voc.size # '0123456789 =+' + UNK, EOS, BOS, PAD"
   ]
  },
  {
   "cell_type": "markdown",
   "metadata": {},
   "source": [
    "## Dataset"
   ]
  },
  {
   "cell_type": "code",
   "execution_count": 4,
   "metadata": {},
   "outputs": [
    {
     "name": "stdout",
     "output_type": "stream",
     "text": [
      "StyleDataset:\n",
      "  path_0: data/math_style/math_dataset_0_train.data\n",
      "  path_1: data/math_style/math_dataset_1_train.data\n",
      "  shape: [19998, 34]\n",
      "\n",
      "StyleDataset:\n",
      "  path_0: data/math_style/math_dataset_0_valid.data\n",
      "  path_1: data/math_style/math_dataset_1_valid.data\n",
      "  shape: [20000, 34]\n",
      "\n"
     ]
    }
   ],
   "source": [
    "voc = MathVocab()\n",
    "voc.restore(vocab_path)\n",
    "\n",
    "dataset_paths = [tr_dataset_path, va_dataset_path]\n",
    "\n",
    "for i,text_path in enumerate([tr_text_path, va_text_path]):\n",
    "    dataset = StyleDataset(MathDataset)\n",
    "    dataset.build(text_path, voc, max_len=max_len)\n",
    "    dataset.save(dataset_paths[i])\n",
    "    print(dataset)\n",
    "    assert dataset._ds0.shape[0] > 9900\n",
    "    assert dataset._ds0.shape[1] == max_len+2\n",
    "    assert dataset._ds1.shape[0] > 9900\n",
    "    assert dataset._ds1.shape[1] == max_len+2\n",
    "    assert dataset.get_data_size() == dataset.shape[0], dataset.get_data_size()"
   ]
  },
  {
   "cell_type": "markdown",
   "metadata": {},
   "source": [
    "## Batch"
   ]
  },
  {
   "cell_type": "code",
   "execution_count": 6,
   "metadata": {},
   "outputs": [
    {
     "name": "stdout",
     "output_type": "stream",
     "text": [
      "0: <BOS>14 = 11+2+1<EOS>_____________________\n",
      "0: <BOS>6+3+2+1 = 9+1+2<EOS>_________________\n",
      "0: <BOS>4+1+5+6 = 2+2+3+3+3+3<EOS>___________\n",
      "0: <BOS>13+1 = 1+1+8+3+1<EOS>________________\n",
      "0: <BOS>16+2 = 10+1+1+6<EOS>_________________\n",
      "0: <BOS>6+7 = 2+11<EOS>______________________\n",
      "0: <BOS>1+9+3 = 2+11<EOS>____________________\n",
      "1: <BOS>1+3+6+1=11<EOS>______________________\n",
      "1: <BOS>11+2=3+1+9<EOS>______________________\n",
      "1: <BOS>2+13+1=2+7+1+6<EOS>__________________\n",
      "1: <BOS>2+8+6+1+1+1=1+1+3+2+6+2+4<EOS>_______\n",
      "1: <BOS>6+5+1+1=11+1+1<EOS>__________________\n",
      "1: <BOS>2+10=5+1+6<EOS>______________________\n",
      "1: <BOS>2+10=3+3+6<EOS>______________________\n"
     ]
    }
   ],
   "source": [
    "voc = MathVocab()\n",
    "voc.restore(vocab_path)\n",
    "\n",
    "dataset = StyleDataset(MathDataset)\n",
    "dataset.restore(tr_dataset_path)\n",
    "\n",
    "sents, styles = dataset.get_next_batch(14)\n",
    "for sent, style in zip(sents, styles):\n",
    "    restored = \"\".join(voc.to_words(sent))\n",
    "    restored = restored.replace('<PAD>', '_')\n",
    "    print(\"%d: %s\" % (style, restored))"
   ]
  },
  {
   "cell_type": "code",
   "execution_count": null,
   "metadata": {},
   "outputs": [],
   "source": []
  },
  {
   "cell_type": "code",
   "execution_count": null,
   "metadata": {},
   "outputs": [],
   "source": []
  }
 ],
 "metadata": {
  "kernelspec": {
   "display_name": "Python 3",
   "language": "python",
   "name": "python3"
  },
  "language_info": {
   "codemirror_mode": {
    "name": "ipython",
    "version": 3
   },
   "file_extension": ".py",
   "mimetype": "text/x-python",
   "name": "python",
   "nbconvert_exporter": "python",
   "pygments_lexer": "ipython3",
   "version": "3.5.2"
  }
 },
 "nbformat": 4,
 "nbformat_minor": 2
}
