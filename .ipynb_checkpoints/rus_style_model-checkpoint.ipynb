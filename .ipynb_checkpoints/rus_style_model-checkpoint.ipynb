{
 "cells": [
  {
   "cell_type": "markdown",
   "metadata": {},
   "source": [
    "# RusStyleModel"
   ]
  },
  {
   "cell_type": "code",
   "execution_count": 6,
   "metadata": {},
   "outputs": [],
   "source": [
    "import numpy as np\n",
    "from vocabulary import Vocabulary, BOS_CODE\n",
    "from style_dataset import StyleDataset\n",
    "from dataset import TextDataset\n",
    "from utils import words_to_sent\n",
    "\n",
    "voc_path        = \"data/rus_style/rus_vocab.data\"\n",
    "tr_dataset_path = \"data/rus_style/rus_dataset_%d_train.data\"\n",
    "va_dataset_path = \"data/rus_style/rus_dataset_%d_valid.data\"\n",
    "model_path      = 'models/rus/rus-style-model-001/'"
   ]
  },
  {
   "cell_type": "markdown",
   "metadata": {},
   "source": [
    "## Vocabulary"
   ]
  },
  {
   "cell_type": "code",
   "execution_count": 7,
   "metadata": {},
   "outputs": [
    {
     "name": "stdout",
     "output_type": "stream",
     "text": [
      "Vocabulary:\n",
      "  size: 30004\n",
      "  _tokens_to_words: ['<UNK>', '<BOS>', '<EOS>', '<PAD>', ',', '.', 'и', 'в', '—', 'не', 'что', 'на', '«', '»', 'я', 'с', 'он', 'как', '!', 'а']\n"
     ]
    }
   ],
   "source": [
    "voc = Vocabulary()\n",
    "voc.restore(voc_path)\n",
    "print(voc)"
   ]
  },
  {
   "cell_type": "markdown",
   "metadata": {},
   "source": [
    "## Dataset"
   ]
  },
  {
   "cell_type": "code",
   "execution_count": 8,
   "metadata": {},
   "outputs": [
    {
     "name": "stdout",
     "output_type": "stream",
     "text": [
      "StyleDataset:\n",
      "  path_0: data/rus_style/rus_dataset_0_train.data\n",
      "  path_1: data/rus_style/rus_dataset_1_train.data\n",
      "  shape: [210592, 34]\n",
      "\n",
      "StyleDataset:\n",
      "  path_0: data/rus_style/rus_dataset_0_valid.data\n",
      "  path_1: data/rus_style/rus_dataset_1_valid.data\n",
      "  shape: [210592, 34]\n",
      "\n"
     ]
    }
   ],
   "source": [
    "tr_dataset = StyleDataset(TextDataset)\n",
    "tr_dataset.restore(tr_dataset_path)\n",
    "print(tr_dataset)\n",
    "\n",
    "va_dataset = StyleDataset(TextDataset)\n",
    "va_dataset.restore(va_dataset_path)\n",
    "print(va_dataset)"
   ]
  },
  {
   "cell_type": "markdown",
   "metadata": {},
   "source": [
    "## Model"
   ]
  },
  {
   "cell_type": "code",
   "execution_count": 10,
   "metadata": {},
   "outputs": [],
   "source": [
    "import os\n",
    "from utils import make_dir\n",
    "import numpy as np\n",
    "import tensorflow as tf\n",
    "import pickle\n",
    "from visualization import show_train_stats_ex\n",
    "\n",
    "class StyleTextDatasetAutoencoder:\n",
    "    def __init__(self):\n",
    "        self._scope    = 'style_autoencoder'\n",
    "        # state\n",
    "        self.tr_step   = 0\n",
    "        self.tr_epoch  = 0\n",
    "        self.tr_losses = []\n",
    "        self.va_losses = []\n",
    "    \n",
    "    \n",
    "    def save(self, path):\n",
    "        make_dir(path)\n",
    "        pickle.dump([self.tr_epoch, self.tr_step, self.tr_losses, self.va_losses], \n",
    "                    open(os.path.join(path, \"state.p\"), \"wb\"))\n",
    "        self._saver.save(self._sess, path)\n",
    "        \n",
    "        \n",
    "    def restore(self, path):\n",
    "        try:\n",
    "            [self.tr_epoch, self.tr_step, self.tr_losses, self.va_losses] = pickle.load(\n",
    "                open(os.path.join(path, \"state.p\"), \"rb\"))\n",
    "        except: \n",
    "            print(\"State not found at\", path)\n",
    "        self._saver.restore(self._sess, path)\n",
    "        \n",
    "    \n",
    "    def get_embeddings(self):\n",
    "        return self.embedding.eval(self._sess)\n",
    "    \n",
    "        \n",
    "    def _make_loss(self, logits, labels):\n",
    "        loss = tf.nn.sparse_softmax_cross_entropy_with_logits(\n",
    "            logits = logits,\n",
    "            labels = labels)\n",
    "        return tf.reduce_mean(loss)\n",
    "    \n",
    "\n",
    "    def _make_optimizer(self, loss, lr, grad_clip):\n",
    "        tr_vars   = tf.trainable_variables()\n",
    "        grads, _  = tf.clip_by_global_norm(tf.gradients(loss, tr_vars), grad_clip)\n",
    "        train_op  = tf.train.AdamOptimizer(lr)\n",
    "        optimizer = train_op.apply_gradients(zip(grads, tr_vars))\n",
    "        return optimizer\n",
    "    \n",
    "    # =====================================================================\n",
    "    \n",
    "    def _make_rnn_cell(self, num_units, num_layers, keep_prob):\n",
    "        def make_layer():\n",
    "            l = tf.contrib.rnn.BasicLSTMCell(num_units)\n",
    "            l = tf.contrib.rnn.DropoutWrapper(l, output_keep_prob=keep_prob)\n",
    "            return l        \n",
    "        return tf.contrib.rnn.MultiRNNCell([make_layer() for _ in range(num_layers)])\n",
    "    \n",
    "    \n",
    "    def _make_decoder(self, inp, h, num_units, num_layers, voc_size, seq_len, keep_prob):\n",
    "        cell = self._make_rnn_cell(num_units, num_layers, keep_prob)\n",
    "        logits_seq = []\n",
    "\n",
    "        def loop_function(outputs):\n",
    "            logits = tf.layers.dense(outputs, voc_size, name='projection')\n",
    "            token = tf.argmax(logits, axis=1)\n",
    "            inp = tf.nn.embedding_lookup(self.embedding, token)\n",
    "            return inp, logits\n",
    "            \n",
    "        with tf.variable_scope('decoder', reuse=tf.AUTO_REUSE):\n",
    "            zeros = tf.zeros_like(h)\n",
    "            state = (tf.nn.rnn_cell.LSTMStateTuple(zeros, zeros),\n",
    "                     tf.nn.rnn_cell.LSTMStateTuple(zeros, h))\n",
    "            \n",
    "            for t in range(seq_len):\n",
    "                output, state = cell.apply(inp, state)\n",
    "                inp, logits = loop_function(output)\n",
    "                logits_seq.append(tf.expand_dims(logits, 1))\n",
    "\n",
    "        return tf.concat(logits_seq, axis=1)\n",
    "    \n",
    "    \n",
    "    def build(self, voc_size, bos_token, emb_size, seq_len, num_units, num_layers, grad_clip=5):\n",
    "        tf.reset_default_graph()\n",
    "        self._graph = tf.Graph()\n",
    "        with self._graph.as_default(), tf.variable_scope(self._scope):\n",
    "            # placeholders\n",
    "            self.enc_inputs_pl = tf.placeholder(tf.int32, [None, None], name='enc_inputs')\n",
    "            self.targets_pl    = tf.placeholder(tf.int32, [None, None], name='targets')\n",
    "            self.styles_pl     = tf.placeholder(tf.int32, shape=[None], name='styles')\n",
    "            self.batch_size_pl = tf.placeholder(tf.int32, shape=[], name='batch_size')\n",
    "            self.keep_prob_pl  = tf.placeholder(tf.float32, name='keep_prob')\n",
    "            self.lr_pl         = tf.placeholder(tf.float32, name='learning_rate')\n",
    "\n",
    "            # embedding\n",
    "            self.embedding     = tf.Variable(tf.random_normal(shape=[voc_size, emb_size], dtype=tf.float32))\n",
    "            en_inputs          = tf.nn.embedding_lookup(self.embedding, self.enc_inputs_pl)\n",
    "            bos_tokens         = tf.tile([bos_token], tf.expand_dims(self.batch_size_pl,0))  \n",
    "            de_inputs          = tf.nn.embedding_lookup(self.embedding, bos_tokens)\n",
    "            \n",
    "            # encoder\n",
    "            en_cell            = self._make_rnn_cell(num_units, num_layers, self.keep_prob_pl)\n",
    "            en_initial_state   = en_cell.zero_state(self.batch_size_pl, tf.float32)\n",
    "            seq_lens           = tf.tile([seq_len], tf.expand_dims(self.batch_size_pl,0))\n",
    "            _, en_state        = tf.nn.dynamic_rnn(en_cell, en_inputs, seq_lens, en_initial_state, scope='encoder')\n",
    "            \n",
    "            # latent vector = [content, style]\n",
    "            style_num  = 2\n",
    "            style_vec  = tf.one_hot(self.styles_pl, style_num)\n",
    "            content_style = tf.concat([en_state[~0].h, style_vec], axis = 1)\n",
    "\n",
    "            # decoder\n",
    "            de_logits = self._make_decoder(\n",
    "                inp        = de_inputs, \n",
    "                h          = content_style, \n",
    "                num_units  = num_units+style_num, \n",
    "                num_layers = num_layers,\n",
    "                voc_size   = voc_size,\n",
    "                seq_len    = seq_len, \n",
    "                keep_prob  = self.keep_prob_pl)\n",
    "\n",
    "            # prediction\n",
    "            self.outputs       = tf.argmax(tf.nn.softmax(de_logits), axis=2)\n",
    "\n",
    "            # training\n",
    "            self.loss_op       = self._make_loss(de_logits, self.targets_pl)\n",
    "            self.train_op      = self._make_optimizer(self.loss_op, self.lr_pl, grad_clip)\n",
    "            \n",
    "            # utils\n",
    "            self.init_op       = tf.global_variables_initializer()\n",
    "            self._saver        = tf.train.Saver()\n",
    "\n",
    "        # session\n",
    "        self._sess = tf.Session(graph=self._graph)\n",
    "        self._sess.run(self.init_op)\n",
    "        \n",
    "    # =====================================================================\n",
    "    \n",
    "\n",
    "    def train(self, tr_dataset, va_dataset, \n",
    "              step_num,  batch_size, learning_rate, keep_prob=.5, log_every=20, mean_win=30):\n",
    "        try:\n",
    "            data_size = tr_dataset.get_data_size()\n",
    "            for self.tr_step in range(self.tr_step, step_num-1):\n",
    "                ep = self.tr_step*batch_size/data_size\n",
    "                # Train\n",
    "                sents, styles = tr_dataset.get_next_batch(batch_size)\n",
    "                tr_loss, _ = self._sess.run(\n",
    "                    [self.loss_op, self.train_op], \n",
    "                    feed_dict = {\n",
    "                        self.enc_inputs_pl: sents,\n",
    "                        self.targets_pl   : sents,\n",
    "                        self.styles_pl    : styles,\n",
    "                        self.batch_size_pl: batch_size,\n",
    "                        self.keep_prob_pl : keep_prob,\n",
    "                        self.lr_pl        : learning_rate,\n",
    "                })\n",
    "                self.tr_losses.append(tr_loss)\n",
    "                # Eval\n",
    "                if self.tr_step % log_every == log_every-1:\n",
    "                    sents, styles = va_dataset.get_next_batch(batch_size)\n",
    "                    va_loss = self._sess.run(\n",
    "                        self.loss_op, \n",
    "                        feed_dict={\n",
    "                            self.enc_inputs_pl: sents,\n",
    "                            self.targets_pl   : sents,\n",
    "                            self.styles_pl    : styles,\n",
    "                            self.batch_size_pl: batch_size,\n",
    "                            self.keep_prob_pl : keep_prob,\n",
    "                            self.lr_pl        : learning_rate,\n",
    "                        })\n",
    "                    self.va_losses.extend([va_loss]*log_every)\n",
    "                    show_train_stats_ex(ep, self.tr_step, self.tr_losses, self.va_losses, mean_win)\n",
    "                        \n",
    "        except KeyboardInterrupt:\n",
    "            show_train_stats_ex(ep, self.tr_step, self.tr_losses, self.va_losses, mean_win)\n",
    "            \n",
    "\n",
    "    def run(self, sents, styles, batch_size, seq_length):\n",
    "        return self._sess.run(\n",
    "            self.outputs, \n",
    "            feed_dict = {\n",
    "                self.enc_inputs_pl: sents,\n",
    "                self.targets_pl   : sents,\n",
    "                self.styles_pl    : styles,\n",
    "                self.batch_size_pl: batch_size,\n",
    "                self.keep_prob_pl : 1,\n",
    "        })\n"
   ]
  },
  {
   "cell_type": "markdown",
   "metadata": {},
   "source": [
    "## Build"
   ]
  },
  {
   "cell_type": "code",
   "execution_count": 11,
   "metadata": {
    "scrolled": false
   },
   "outputs": [
    {
     "name": "stdout",
     "output_type": "stream",
     "text": [
      "CPU times: user 7.25 s, sys: 1.53 s, total: 8.78 s\n",
      "Wall time: 11.4 s\n"
     ]
    }
   ],
   "source": [
    "%%time\n",
    "model = StyleAutoencoder()\n",
    "seq_len = tr_dataset.get_seq_len()\n",
    "assert seq_len == va_dataset.get_seq_len()\n",
    "\n",
    "model.build(\n",
    "    voc_size   = voc.size, \n",
    "    bos_token  = BOS_CODE,\n",
    "    seq_len    = seq_len,\n",
    "    emb_size   = 300, \n",
    "    num_units  = 256, \n",
    "    num_layers = 2)"
   ]
  },
  {
   "cell_type": "markdown",
   "metadata": {},
   "source": [
    "## Train"
   ]
  },
  {
   "cell_type": "code",
   "execution_count": null,
   "metadata": {
    "scrolled": false
   },
   "outputs": [
    {
     "data": {
      "image/png": "[encoded data removed]",
      "text/plain": [
       "<matplotlib.figure.Figure at 0x7fbe487f7668>"
      ]
     },
     "metadata": {},
     "output_type": "display_data"
    }
   ],
   "source": [
    "%%time\n",
    "%matplotlib inline\n",
    "\n",
    "model.train(\n",
    "    step_num      = 100000,\n",
    "    batch_size    = 64, \n",
    "    learning_rate = 1e-3, \n",
    "    mean_win      = 30,\n",
    "    log_every     = 10,\n",
    "    tr_dataset    = tr_dataset,\n",
    "    va_dataset    = va_dataset,\n",
    ")\n",
    "model.save(model_path)"
   ]
  },
  {
   "cell_type": "markdown",
   "metadata": {},
   "source": [
    "## Test"
   ]
  },
  {
   "cell_type": "code",
   "execution_count": 30,
   "metadata": {
    "scrolled": false
   },
   "outputs": [
    {
     "name": "stdout",
     "output_type": "stream",
     "text": [
      "\n",
      "================================================================================\n",
      "StyleDataset:\n",
      "  path_0: data/rus_style/rus_dataset_0_train.data\n",
      "  path_1: data/rus_style/rus_dataset_1_train.data\n",
      "  shape: [210592, 34]\n",
      "\n",
      "--------------------------------------------------\n",
      "[ — это очень возможно! ] _ _ _ _ _ _ _ _ _ _ _ _ _ _ _ _ _ _ _ _ _ _ _ _ _ _ _\n",
      "[ — это же вздор! ] _ _ _ _ _ _ _ _ _ _ _ _ _ _ _ _ _ _ _ _ _ _ _ _ _ _ _\n",
      "--------------------------------------------------\n",
      "[ я и дневник <?> отчасти для того, чтоб об этих <?> говорить, насколько сил достанет. ] _ _ _ _ _ _ _ _ _ _ _ _ _ _\n",
      "[ я и проговорил <?> <?>,,,,,,,,, <?> <?> <?>. ] _ _ _ _ _ _ _ _ _ _ _ _ _ _\n",
      "--------------------------------------------------\n",
      "[ пан смотрел пытливо, во все глаза, так и впился взглядом в лицо мити. ] _ _ _ _ _ _ _ _ _ _ _ _ _ _ _ _\n",
      "[ глава голядкин стоял, <?>,,,,,, и в на комнаты. ] _ _ _ _ _ _ _ _ _ _ _ _ _ _ _ _\n",
      "--------------------------------------------------\n",
      "[ нелли встретила меня с своим светлым <?> глава vi ровно в семь часов вечера я уже был у маслобоева. ] _ _ _ _ _ _ _ _ _ _ _ _\n",
      "[ иван всеволодович был с <?> <?> <?>,,,,,,,,, и <?>.. ] _ _ _ _ _ _ _ _ _ _ _ _\n",
      "--------------------------------------------------\n",
      "[ — и бог, и бессмертие. ] _ _ _ _ _ _ _ _ _ _ _ _ _ _ _ _ _ _ _ _ _ _ _ _ _\n",
      "[ — и впрочем, не <?>. ] _ _ _ _ _ _ _ _ _ _ _ _ _ _ _ _ _ _ _ _ _ _ _ _ _\n",
      "--------------------------------------------------\n",
      "[ но если дело дойдет до получения <?>, то придется подтвердить свое знание немецкого. ] _ _ _ _ _ _ _ _ _ _ _ _ _ _ _ _ _\n",
      "[ но если очень <?> <?> <?>,,,,, <?> <?> работу. ] _ _ _ _ _ _ _ _ _ _ _ _ _ _ _ _ _\n",
      "--------------------------------------------------\n",
      "[ но недавно, выступая на конференции по психологии, она рассказала о новом исследовании сильных <?>, в котором снова не было найдено доказательств <?> изменений. ] _ _ _ _ _\n",
      "[ но главное, россии <?> <?> <?> <?> <?> <?> <?> <?> <?> <?> <?>,,,,,,,, <?> <?> <?>. ] _ _ _ _ _\n",
      "--------------------------------------------------\n",
      "[ по одной из версий, он умер за несколько месяцев до покушения на хлебникова. ] _ _ _ _ _ _ _ _ _ _ _ _ _ _ _ _ _\n",
      "[ по этом его говорится, что <?> <?> <?> <?> <?> в в россии. ] _ _ _ _ _ _ _ _ _ _ _ _ _ _ _ _ _\n",
      "--------------------------------------------------\n",
      "[ об этом сам навальный написал в твиттере. ] _ _ _ _ _ _ _ _ _ _ _ _ _ _ _ _ _ _ _ _ _ _ _ _\n",
      "[ об этом со говорится <?> <?>). ] _ _ _ _ _ _ _ _ _ _ _ _ _ _ _ _ _ _ _ _ _ _ _ _\n",
      "--------------------------------------------------\n",
      "[ суд занял позицию <?>, сославшись на то, что эта организация не имеет права нарушать закон о персональных данных. ] _ _ _ _ _ _ _ _ _ _ _\n",
      "[ глава собчак россии <?> <?>,,,,,,,,,,,, <?> в россии. ] _ _ _ _ _ _ _ _ _ _ _\n",
      "\n",
      "================================================================================\n",
      "StyleDataset:\n",
      "  path_0: data/rus_style/rus_dataset_0_valid.data\n",
      "  path_1: data/rus_style/rus_dataset_1_valid.data\n",
      "  shape: [210592, 34]\n",
      "\n",
      "--------------------------------------------------\n",
      "[ тут он взял перо, придвинул бумагу, <?> из нее докторской формы <?> и объявил, что тотчас <?> что следует. ] _ _ _ _ _ _ _ _ _\n",
      "[ теперь он тотчас объявил, <?> <?>,,,,,,,,,,,,, не <?>. ] _ _ _ _ _ _ _ _ _\n",
      "--------------------------------------------------\n",
      "[ зиночка! ] _ _ _ _ _ _ _ _ _ _ _ _ _ _ _ _ _ _ _ _ _ _ _ _ _ _ _ _ _ _\n",
      "[ господи! ] _ _ _ _ _ _ _ _ _ _ _ _ _ _ _ _ _ _ _ _ _ _ _ _ _ _ _ _ _ _\n",
      "--------------------------------------------------\n",
      "[ — <?> нежности пошли! ] _ _ _ _ _ _ _ _ _ _ _ _ _ _ _ _ _ _ _ _ _ _ _ _ _ _ _\n",
      "[ — <?> какой нет! ] _ _ _ _ _ _ _ _ _ _ _ _ _ _ _ _ _ _ _ _ _ _ _ _ _ _ _\n",
      "--------------------------------------------------\n",
      "[ еще тогда мы с николаем <?> его <?> <?> <?>, да ты забыл, видно, батюшка! ] _ _ _ _ _ _ _ _ _ _ _ _ _\n",
      "[ если же же с <?> <?> <?> <?>,,,,,,,,, <?>! ] _ _ _ _ _ _ _ _ _ _ _ _ _\n",
      "--------------------------------------------------\n",
      "[ первая моя мысль была о том, как рассердится матушка. ] _ _ _ _ _ _ _ _ _ _ _ _ _ _ _ _ _ _ _ _ _\n",
      "[ алеша хотелось человек о <?>,,, не себя. ] _ _ _ _ _ _ _ _ _ _ _ _ _ _ _ _ _ _ _ _ _\n",
      "--------------------------------------------------\n",
      "[ we ’ re <?> <?> <?> on <?> <?> in <?> of our 20th <?> <?>! ] _ _ _ _ _ _ _ _ _ _ _ _ _ _ _\n",
      "[ → the 2017 <?> <?> <?> <?> <?> <?> <?> <?> <?> <?> <?> <?> <?>) ] _ _ _ _ _ _ _ _ _ _ _ _ _ _ _\n",
      "--------------------------------------------------\n",
      "[ они могут говорить, что хотят, но мы — <?> — не имеем права <?> их <?> данные и передавать их третьим лицам. ] _ _ _ _ _ _ _\n",
      "[ если можете то, что не,,,,,,,,,,,,, <?> <?> <?> <?> <?>. ] _ _ _ _ _ _ _\n",
      "--------------------------------------------------\n",
      "[ после этого одна из <?>, мария борисова, <?> екатерину на кухне и подала гостям вторую порцию пюре. ] _ _ _ _ _ _ _ _ _ _ _ _\n",
      "[ после этого этого из <?> <?> <?> <?> <?> <?> <?> <?> <?> <?> <?> <?> <?> <?>). ] _ _ _ _ _ _ _ _ _ _ _ _\n",
      "--------------------------------------------------\n",
      "[ в 2014 году в россии уже проводили учения по <?> российского <?> интернета в случае <?> от <?> систем. ] _ _ _ _ _ _ _ _ _ _ _ _\n",
      "[ в 2016 году <?> <?> <?> <?> <?> <?> <?> <?> <?> <?> <?> <?> <?> <?> <?>). ] _ _ _ _ _ _ _ _ _ _ _ _\n",
      "--------------------------------------------------\n",
      "[ эта тема вызвала много <?>, которые продолжаются и сейчас. ] _ _ _ _ _ _ _ _ _ _ _ _ _ _ _ _ _ _ _ _ _\n",
      "[ там фильм собчак о <?>,,, не <?>. ] _ _ _ _ _ _ _ _ _ _ _ _ _ _ _ _ _ _ _ _ _\n"
     ]
    }
   ],
   "source": [
    "batch_size = 10\n",
    "\n",
    "for dataset in [tr_dataset, va_dataset]:\n",
    "    print('\\n'+'='*80+'\\n'+str(dataset))\n",
    "    inp, styles = dataset.get_next_batch(batch_size)\n",
    "    #styles = 1-styles\n",
    "    out = model.run(inp, styles, batch_size, seq_len)\n",
    "\n",
    "    def prepare(s):\n",
    "        words = voc.to_words(s)\n",
    "        s = \" \".join(words)\n",
    "        s = s.replace('<BOS>', '[').replace('<EOS>', ']').replace('<PAD>', '').replace('<UNK>', '<?>')\n",
    "        s = s.replace(' ,', ',').replace(' .', '.').replace(' ?', '?').replace(' !', '!').replace(' :', ':')\n",
    "        s = s.replace(' )', ')').replace('( ', '(')\n",
    "        return s\n",
    "\n",
    "    for i in range(len(inp)):\n",
    "        print('-'*50)\n",
    "        print(prepare(inp[i]))\n",
    "        print(prepare(out[i]))\n"
   ]
  },
  {
   "cell_type": "markdown",
   "metadata": {},
   "source": [
    "## Restore"
   ]
  },
  {
   "cell_type": "code",
   "execution_count": 6,
   "metadata": {
    "scrolled": true
   },
   "outputs": [
    {
     "name": "stdout",
     "output_type": "stream",
     "text": [
      "INFO:tensorflow:Restoring parameters from models/math/style-autoencoder-002/\n"
     ]
    }
   ],
   "source": [
    "model.restore(model_path)"
   ]
  },
  {
   "cell_type": "code",
   "execution_count": null,
   "metadata": {},
   "outputs": [],
   "source": []
  }
 ],
 "metadata": {
  "kernelspec": {
   "display_name": "Python 3",
   "language": "python",
   "name": "python3"
  },
  "language_info": {
   "codemirror_mode": {
    "name": "ipython",
    "version": 3
   },
   "file_extension": ".py",
   "mimetype": "text/x-python",
   "name": "python",
   "nbconvert_exporter": "python",
   "pygments_lexer": "ipython3",
   "version": "3.5.2"
  }
 },
 "nbformat": 4,
 "nbformat_minor": 2
}
