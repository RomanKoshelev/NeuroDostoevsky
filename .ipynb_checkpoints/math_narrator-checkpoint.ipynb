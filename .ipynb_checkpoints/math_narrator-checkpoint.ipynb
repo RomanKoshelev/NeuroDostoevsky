{
 "cells": [
  {
   "cell_type": "markdown",
   "metadata": {},
   "source": [
    "# MathNarrator"
   ]
  },
  {
   "cell_type": "code",
   "execution_count": 1,
   "metadata": {},
   "outputs": [],
   "source": [
    "import numpy as np\n",
    "from math_vocab import MathVocab\n",
    "from vocabulary import BOS_CODE\n",
    "from math_dataset import MathDataset\n",
    "from utils import words_to_sent\n",
    "\n",
    "voc_path        = \"data/math/math_vocab.data\"\n",
    "tr_dataset_path = \"data/math/math_dataset_train.data\"\n",
    "va_dataset_path = \"data/math/math_dataset_valid.data\"\n",
    "model_path      = 'models/math/narrator-001/'"
   ]
  },
  {
   "cell_type": "markdown",
   "metadata": {},
   "source": [
    "## Data"
   ]
  },
  {
   "cell_type": "code",
   "execution_count": 2,
   "metadata": {},
   "outputs": [],
   "source": [
    "voc = MathVocab()\n",
    "voc.restore(voc_path)\n",
    "\n",
    "tr_dataset = MathDataset()\n",
    "tr_dataset.restore(tr_dataset_path)\n",
    "\n",
    "va_dataset = MathDataset()\n",
    "va_dataset.restore(va_dataset_path)"
   ]
  },
  {
   "cell_type": "markdown",
   "metadata": {},
   "source": [
    "## Model"
   ]
  },
  {
   "cell_type": "code",
   "execution_count": 7,
   "metadata": {},
   "outputs": [],
   "source": [
    "import os\n",
    "from utils import make_dir\n",
    "import numpy as np\n",
    "import tensorflow as tf\n",
    "import pickle\n",
    "from visualization import show_train_stats_ex\n",
    "\n",
    "class BaseModel:\n",
    "    def __init__(self):\n",
    "        self._scope    = 'base_model'\n",
    "        # state\n",
    "        self.tr_step   = 0\n",
    "        self.tr_epoch  = 0\n",
    "        self.tr_losses = []\n",
    "        self.va_losses = []\n",
    "    \n",
    "    def _make_optimizer(self, loss, lr, grad_clip):\n",
    "        tr_vars   = tf.trainable_variables()\n",
    "        grads, _  = tf.clip_by_global_norm(tf.gradients(loss, tr_vars), grad_clip)\n",
    "        train_op  = tf.train.AdamOptimizer(lr)\n",
    "        optimizer = train_op.apply_gradients(zip(grads, tr_vars))\n",
    "        return optimizer\n",
    "\n",
    "    def _make_train_feeder(self, *args):\n",
    "        raise NotImplementedError\n",
    "        \n",
    "    def train(self, tr_dataset, va_dataset, \n",
    "              step_num,  batch_size, learning_rate, keep_prob=.5, log_every=20, mean_win=30):\n",
    "        try:\n",
    "            data_size = tr_dataset.get_data_size()\n",
    "            for self.tr_step in range(self.tr_step, step_num-1):\n",
    "                ep = self.tr_step*batch_size/data_size\n",
    "                # Train\n",
    "                batch = tr_dataset.get_next_batch(batch_size)\n",
    "                tr_loss, _ = self._sess.run(\n",
    "                    [self.loss_op, self.train_op], \n",
    "                    feed_dict = self._make_train_feeder(batch, learning_rate, keep_prob))\n",
    "                self.tr_losses.append(tr_loss)\n",
    "                # Eval\n",
    "                if self.tr_step % log_every == log_every-1:\n",
    "                    batch = va_dataset.get_next_batch(batch_size)\n",
    "                    va_loss = self._sess.run(\n",
    "                        self.loss_op, \n",
    "                        feed_dict = self._make_train_feeder(batch, learning_rate, keep_prob))\n",
    "                    self.va_losses.extend([va_loss]*log_every)\n",
    "                    show_train_stats_ex(ep, self.tr_step, self.tr_losses, self.va_losses, mean_win)\n",
    "        except KeyboardInterrupt:\n",
    "            show_train_stats_ex(ep, self.tr_step, self.tr_losses, self.va_losses, mean_win)\n",
    "            \n",
    "    def save(self, path):\n",
    "        make_dir(path)\n",
    "        pickle.dump([self.tr_epoch, self.tr_step, self.tr_losses, self.va_losses], \n",
    "                    open(os.path.join(path, \"state.p\"), \"wb\"))\n",
    "        self._saver.save(self._sess, path)\n",
    "        \n",
    "        \n",
    "    def restore(self, path):\n",
    "        try:\n",
    "            [self.tr_epoch, self.tr_step, self.tr_losses, self.va_losses] = pickle.load(\n",
    "                open(os.path.join(path, \"state.p\"), \"rb\"))\n",
    "        except: \n",
    "            print(\"State not found at\", path)\n",
    "        self._saver.restore(self._sess, path)\n",
    "\n",
    "        \n",
    "def make_rnn_cell(num_units, num_layers, keep_prob):\n",
    "    def make_layer():\n",
    "        l = tf.contrib.rnn.BasicLSTMCell(num_units)\n",
    "        l = tf.contrib.rnn.DropoutWrapper(l, output_keep_prob=keep_prob)\n",
    "        return l        \n",
    "    layers = [make_layer() for _ in range(num_layers)]\n",
    "    cell   = tf.contrib.rnn.MultiRNNCell(layers)\n",
    "    return cell\n",
    "\n",
    "\n",
    "def make_encoder(inp, num_units, num_layers, batch_size, seq_len, keep_prob):\n",
    "    en_cell            = make_rnn_cell(num_units, num_layers, keep_prob)\n",
    "    en_initial_state   = en_cell.zero_state(batch_size, tf.float32)\n",
    "    seq_lens           = tf.tile([seq_len], tf.expand_dims(batch_size,0))\n",
    "    _, en_state        = tf.nn.dynamic_rnn(en_cell, inp, seq_lens, en_initial_state, scope='encoder')\n",
    "    return en_state\n",
    "\n",
    "\n",
    "def make_decoder(inp, h, num_units, num_layers, embedding, voc_size, seq_len, keep_prob):\n",
    "    cell = make_rnn_cell(num_units, num_layers, keep_prob)\n",
    "    logits_seq = []\n",
    "\n",
    "    def loop_function(outputs):\n",
    "        logits = tf.layers.dense(outputs, voc_size, name='projection')\n",
    "        token = tf.argmax(logits, axis=1)\n",
    "        inp = tf.nn.embedding_lookup(embedding, token)\n",
    "        return inp, logits\n",
    "\n",
    "    with tf.variable_scope('decoder', reuse=tf.AUTO_REUSE):\n",
    "        for t in range(seq_len):\n",
    "            output, h = cell(inp, h)\n",
    "            inp, logits = loop_function(output)\n",
    "            logits_seq.append(tf.expand_dims(logits, 1))\n",
    "\n",
    "    return tf.concat(logits_seq, 1)\n",
    "\n",
    "            \n",
    "class NarratorModel(BaseModel):\n",
    "    def __init__(self):\n",
    "        super().__init__()\n",
    "        self._scope    = 'narrator'\n",
    "        \n",
    "    def _make_loss(self, logits, labels):\n",
    "        loss = tf.nn.sparse_softmax_cross_entropy_with_logits(\n",
    "            logits = logits,\n",
    "            labels = labels)\n",
    "        return tf.reduce_mean(loss)\n",
    "    \n",
    "    \n",
    "    def build(self, voc_size, bos_token, emb_size, seq_len, num_units, num_layers, grad_clip=5):\n",
    "        tf.reset_default_graph()\n",
    "        self._graph = tf.Graph()\n",
    "        with self._graph.as_default(), tf.variable_scope(self._scope):\n",
    "            # placeholders\n",
    "            self.enc_inputs_pl = tf.placeholder(tf.int32, [None, None], name='enc_inputs')\n",
    "            self.targets_pl    = tf.placeholder(tf.int32, [None, None], name='targets')\n",
    "            self.batch_size_pl = tf.placeholder(tf.int32, shape=[], name='batch_size')\n",
    "            self.keep_prob_pl  = tf.placeholder(tf.float32, name='keep_prob')\n",
    "            self.lr_pl         = tf.placeholder(tf.float32, name='learning_rate')\n",
    "\n",
    "            # embedding\n",
    "            self.embedding     = tf.Variable(tf.random_normal(shape=[voc_size, emb_size], dtype=tf.float32))\n",
    "            en_inputs          = tf.nn.embedding_lookup(self.embedding, self.enc_inputs_pl)\n",
    "            bos_tokens         = tf.tile([bos_token], tf.expand_dims(self.batch_size_pl,0))  \n",
    "            de_inputs          = tf.nn.embedding_lookup(self.embedding, bos_tokens)\n",
    "            \n",
    "            # encoder\n",
    "            en_state = make_encoder(\n",
    "                inp        = en_inputs,\n",
    "                num_units  = num_units,\n",
    "                num_layers = num_layers,\n",
    "                batch_size = self.batch_size_pl,\n",
    "                seq_len    = seq_len,\n",
    "                keep_prob  = self.keep_prob_pl,\n",
    "            )\n",
    "\n",
    "            # decoder\n",
    "            de_logits = make_decoder(\n",
    "                inp        = de_inputs, \n",
    "                h          = en_state, \n",
    "                num_units  = num_units, \n",
    "                num_layers = num_layers,\n",
    "                embedding  = self.embedding,\n",
    "                voc_size   = voc_size,\n",
    "                seq_len    = seq_len, \n",
    "                keep_prob  = self.keep_prob_pl)\n",
    "\n",
    "            # prediction\n",
    "            self.outputs       = tf.argmax(tf.nn.softmax(de_logits), axis=2)\n",
    "\n",
    "            # training\n",
    "            self.loss_op       = self._make_loss(de_logits, self.targets_pl)\n",
    "            self.train_op      = self._make_optimizer(self.loss_op, self.lr_pl, grad_clip)\n",
    "            \n",
    "            # utils\n",
    "            self.init_op       = tf.global_variables_initializer()\n",
    "            self._saver        = tf.train.Saver()\n",
    "\n",
    "        # session\n",
    "        self._sess = tf.Session(graph=self._graph)\n",
    "        self._sess.run(self.init_op)\n",
    "        \n",
    "    def _make_train_feeder(self, batch, learning_rate, keep_prob):\n",
    "        sents = batch\n",
    "        return {\n",
    "            self.enc_inputs_pl: sents,\n",
    "            self.targets_pl   : sents,\n",
    "            self.batch_size_pl: len(sents),\n",
    "            self.keep_prob_pl : keep_prob,\n",
    "            self.lr_pl        : learning_rate,\n",
    "        }\n",
    "        \n",
    "    def infer(self, sents, batch_size, seq_length):\n",
    "        return self._sess.run(\n",
    "            self.outputs, \n",
    "            feed_dict = {\n",
    "                self.enc_inputs_pl: sents,\n",
    "                self.targets_pl   : sents,\n",
    "                self.batch_size_pl: batch_size,\n",
    "                self.keep_prob_pl : 1,\n",
    "        })\n",
    "    \n",
    "    def get_embeddings(self):\n",
    "        return self.embedding.eval(self._sess)\n"
   ]
  },
  {
   "cell_type": "markdown",
   "metadata": {},
   "source": [
    "## Build"
   ]
  },
  {
   "cell_type": "code",
   "execution_count": 8,
   "metadata": {
    "scrolled": false
   },
   "outputs": [],
   "source": [
    "model = NarratorModel()\n",
    "seq_len = tr_dataset.get_seq_len()\n",
    "assert seq_len == va_dataset.get_seq_len()\n",
    "\n",
    "model.build(\n",
    "    voc_size   = voc.size, \n",
    "    bos_token  = BOS_CODE,\n",
    "    seq_len    = seq_len,\n",
    "    emb_size   = 100, \n",
    "    num_units  = 128, \n",
    "    num_layers = 2)"
   ]
  },
  {
   "cell_type": "markdown",
   "metadata": {},
   "source": [
    "## Train"
   ]
  },
  {
   "cell_type": "code",
   "execution_count": null,
   "metadata": {},
   "outputs": [
    {
     "data": {
      "image/png": "[encoded data removed]",
      "text/plain": [
       "<matplotlib.figure.Figure at 0x7fb32f39eac8>"
      ]
     },
     "metadata": {},
     "output_type": "display_data"
    }
   ],
   "source": [
    "%%time\n",
    "%matplotlib inline\n",
    "\n",
    "model.train(\n",
    "    step_num      = 10000,\n",
    "    batch_size    = 64, \n",
    "    learning_rate = 1e-3, \n",
    "    mean_win      = 30,\n",
    "    log_every     = 10,\n",
    "    tr_dataset    = tr_dataset,\n",
    "    va_dataset    = va_dataset,\n",
    ")\n",
    "model.save(model_path)"
   ]
  },
  {
   "cell_type": "markdown",
   "metadata": {},
   "source": [
    "## Test"
   ]
  },
  {
   "cell_type": "code",
   "execution_count": 7,
   "metadata": {
    "scrolled": false
   },
   "outputs": [
    {
     "name": "stdout",
     "output_type": "stream",
     "text": [
      "\n",
      "================================================================================\n",
      "data/math/math_dataset_train.data\n",
      "--------------------------------------------------\n",
      "[1+6+3 = 1+9]_____________________\n",
      "[1+++++  +++++____________________\n",
      "--------------------------------------------------\n",
      "[10+2 = 12]_______________________\n",
      "[1+++++  +++++____________________\n",
      "--------------------------------------------------\n",
      "[3+4+4 = 2+5+4]___________________\n",
      "[1+++++  +++++____________________\n",
      "--------------------------------------------------\n",
      "[2+2+2+4 = 3+1+5+1]_______________\n",
      "[1+++++   +++++___________________\n",
      "--------------------------------------------------\n",
      "[1+1+8+3 = 6+1+6]_________________\n",
      "[1+++++  +++++____________________\n",
      "--------------------------------------------------\n",
      "[2+11+1+1 = 11+4]_________________\n",
      "[1+++++  +++++____________________\n",
      "--------------------------------------------------\n",
      "[10 = 4+6]________________________\n",
      "[1+++++  +++++____________________\n",
      "--------------------------------------------------\n",
      "[12+6+1 = 1+6+12]_________________\n",
      "[1+++++  +++++____________________\n",
      "--------------------------------------------------\n",
      "[10+1 = 11]_______________________\n",
      "[1+++++  +++++____________________\n",
      "--------------------------------------------------\n",
      "[3+10+1 = 12+1+1]_________________\n",
      "[1+++++  ++++++___________________\n",
      "\n",
      "================================================================================\n",
      "data/math/math_dataset_valid.data\n",
      "--------------------------------------------------\n",
      "[9+1+2 = 6+6]_____________________\n",
      "[1+++++  +++++____________________\n",
      "--------------------------------------------------\n",
      "[6+3+3+4 = 1+3+12]________________\n",
      "[1+++++  ++++++___________________\n",
      "--------------------------------------------------\n",
      "[11+1+2+1 = 3+11+1]_______________\n",
      "[1+++++   +++++___________________\n",
      "--------------------------------------------------\n",
      "[2+1+2+1+6 = 1+9+2]_______________\n",
      "[1+++++   +++++___________________\n",
      "--------------------------------------------------\n",
      "[1+15+1 = 2+15]___________________\n",
      "[1+++++  +++++____________________\n",
      "--------------------------------------------------\n",
      "[2+5+4+1+1 = 13]__________________\n",
      "[1+++++  +++++____________________\n",
      "--------------------------------------------------\n",
      "[16 = 1+2+3+4+1+5]________________\n",
      "[1+++++   +++++___________________\n",
      "--------------------------------------------------\n",
      "[1+17 = 3+2+11+1+1]_______________\n",
      "[1+++++   +++++___________________\n",
      "--------------------------------------------------\n",
      "[1+13 = 1+1+2+2+7+1]______________\n",
      "[1+++++   +++++___________________\n",
      "--------------------------------------------------\n",
      "[12+2+2 = 1+1+2+12]_______________\n",
      "[1+++++   +++++___________________\n"
     ]
    }
   ],
   "source": [
    "batch_size = 10\n",
    "\n",
    "for dataset in [tr_dataset, va_dataset]:\n",
    "    print('\\n'+'='*80+'\\n'+dataset._path)\n",
    "    inp = dataset.get_next_batch(batch_size)\n",
    "    out = model.infer(inp, batch_size, seq_len)\n",
    "\n",
    "    def prepare(s):\n",
    "        words = voc.to_words(s)\n",
    "        s = \"\".join(words)\n",
    "        s = s.replace('<BOS>', '[').replace('<EOS>', ']').replace('<PAD>', '_')\n",
    "        return s\n",
    "\n",
    "    for i in range(len(inp)):\n",
    "        print('-'*50)\n",
    "        print(prepare(inp[i]))\n",
    "        print(prepare(out[i]))\n"
   ]
  },
  {
   "cell_type": "markdown",
   "metadata": {},
   "source": [
    "## Restore"
   ]
  },
  {
   "cell_type": "code",
   "execution_count": 53,
   "metadata": {
    "scrolled": true
   },
   "outputs": [
    {
     "name": "stdout",
     "output_type": "stream",
     "text": [
      "INFO:tensorflow:Restoring parameters from models/rnn_autoencoder/math-001/\n"
     ]
    }
   ],
   "source": [
    "model.restore(model_path)"
   ]
  }
 ],
 "metadata": {
  "kernelspec": {
   "display_name": "Python 3",
   "language": "python",
   "name": "python3"
  },
  "language_info": {
   "codemirror_mode": {
    "name": "ipython",
    "version": 3
   },
   "file_extension": ".py",
   "mimetype": "text/x-python",
   "name": "python",
   "nbconvert_exporter": "python",
   "pygments_lexer": "ipython3",
   "version": "3.5.2"
  }
 },
 "nbformat": 4,
 "nbformat_minor": 2
}
