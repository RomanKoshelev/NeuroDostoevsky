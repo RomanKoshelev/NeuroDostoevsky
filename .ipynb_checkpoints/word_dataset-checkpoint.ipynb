{
 "cells": [
  {
   "cell_type": "code",
   "execution_count": 1,
   "metadata": {},
   "outputs": [],
   "source": [
    "from word_dataset import WordDataset"
   ]
  },
  {
   "cell_type": "code",
   "execution_count": 2,
   "metadata": {},
   "outputs": [
    {
     "name": "stdout",
     "output_type": "stream",
     "text": [
      "26078\n",
      "CPU times: user 8.9 s, sys: 28 ms, total: 8.93 s\n",
      "Wall time: 8.93 s\n"
     ]
    }
   ],
   "source": [
    "%%time\n",
    "dataset = WordDataset()\n",
    "dataset.load('data/anna.txt')\n",
    "print(dataset.num_tokens)"
   ]
  },
  {
   "cell_type": "code",
   "execution_count": 3,
   "metadata": {},
   "outputs": [
    {
     "name": "stdout",
     "output_type": "stream",
     "text": [
      "ЧАСТЬ ПЕРВАЯ\n",
      "\n",
      "\n",
      "\n",
      "I\n",
      "\n",
      "Все счастливые семьи похожи друг на друга, каждая несчастливая семья несчастлива по-своему.\n",
      "\n",
      "Все смешалось в доме Облонских. Жена узнала, что муж был в связи с бывшею в их доме француженкою-гувернанткой, и объявила мужу, что не может жить с ним в одном доме. Положе\n",
      "--------------------------------------------------\n",
      "['часть', 'первая', 'все', 'счастливые', 'семьи', 'похожи', 'друг', 'на', 'друга', ',', 'каждая', 'несчастливая', 'семья', 'несчастлива', 'по-своему', '.', 'все', 'смешалось', 'в', 'доме', 'облонских', '.', 'жена', 'узнала', ',', 'что', 'муж', 'был', 'в', 'связи', 'с', 'бывшею', 'в', 'их', 'доме', 'француженкою-гувернанткой', ',', 'и', 'объявила', 'мужу', ',', 'что', 'не', 'может', 'жить', 'с', 'ним', 'в', 'одном', 'доме', '.', 'положение']\n"
     ]
    }
   ],
   "source": [
    "print(dataset.char_text[:284])\n",
    "print('-'*50)\n",
    "print(dataset.word_text[:52])"
   ]
  },
  {
   "cell_type": "code",
   "execution_count": 4,
   "metadata": {},
   "outputs": [
    {
     "name": "stdout",
     "output_type": "stream",
     "text": [
      "[16429 25953 22344 20753 21443  3859 22832  9652 13461 14621 13727 21816\n",
      " 14742  9118 18634  7177 22344   896  3801 11479 20247  7177  6140 21804\n",
      " 14621  4824 24045 22026  3801 11871  8290  3179  3801 11989 11479  9933\n",
      " 14621   645  8418  8559 14621  4824 13684 14969 16980  8290 10074  3801\n",
      "  4233 11479  7177 23148]\n",
      "[Часть первая все счастливые семьи похожи друг на друга, каждая несчастливая семья несчастлива по-своему. Все смешалось в доме облонских. Жена узнала, что муж был в связи с бывшею в их доме француженкою-гувернанткой, и объявила мужу, что не может жить с ним в одном доме. Положение.]\n",
      "[16429 25953  7177]\n"
     ]
    }
   ],
   "source": [
    "words = dataset.word_text[:52]\n",
    "print(dataset.encode(words))\n",
    "print(\"[%s]\" % dataset.decode_ext(dataset.encode(words)))\n",
    "print(dataset.encode(['часть', 'первая', '.']))\n"
   ]
  },
  {
   "cell_type": "code",
   "execution_count": 5,
   "metadata": {},
   "outputs": [
    {
     "name": "stdout",
     "output_type": "stream",
     "text": [
      "[[16429 25953 22344 20753 21443  3859 22832  9652 13461 14621]\n",
      " [ 7765 13527  9652  7506 24613 20568  6813 24613  6813 13684]\n",
      " [23066 22662  3409 15795   645  8362  8290 22495 12685 20568]]\n",
      "[[25953 22344 20753 21443  3859 22832  9652 13461 14621 16429]\n",
      " [13527  9652  7506 24613 20568  6813 24613  6813 13684  7765]\n",
      " [22662  3409 15795   645  8362  8290 22495 12685 20568 23066]]\n",
      "\n",
      "[часть первая все счастливые семьи похожи друг на друга ,]\n",
      "[вы сердитесь на кити ? – я ? я не]\n",
      "[у бенуара стоял стремов и разговаривал с нею : –]\n",
      "\n",
      "[первая все счастливые семьи похожи друг на друга , часть]\n",
      "[сердитесь на кити ? – я ? я не вы]\n",
      "[бенуара стоял стремов и разговаривал с нею : – у]\n"
     ]
    }
   ],
   "source": [
    "batches = dataset.get_batches(3, 10)\n",
    "x,y = next(batches)\n",
    "print(x)\n",
    "print(y)\n",
    "print()\n",
    "for t in x:\n",
    "    print('[%s]' % dataset.decode(t))\n",
    "print()\n",
    "for t in y:\n",
    "    print('[%s]' % dataset.decode(t))\n"
   ]
  },
  {
   "cell_type": "code",
   "execution_count": null,
   "metadata": {},
   "outputs": [],
   "source": []
  }
 ],
 "metadata": {
  "kernelspec": {
   "display_name": "Python 3",
   "language": "python",
   "name": "python3"
  },
  "language_info": {
   "codemirror_mode": {
    "name": "ipython",
    "version": 3
   },
   "file_extension": ".py",
   "mimetype": "text/x-python",
   "name": "python",
   "nbconvert_exporter": "python",
   "pygments_lexer": "ipython3",
   "version": "3.5.2"
  }
 },
 "nbformat": 4,
 "nbformat_minor": 2
}
