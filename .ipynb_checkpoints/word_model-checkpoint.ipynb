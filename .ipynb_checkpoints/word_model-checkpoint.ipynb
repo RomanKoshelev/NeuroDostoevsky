{
 "cells": [
  {
   "cell_type": "markdown",
   "metadata": {},
   "source": [
    "# Word model"
   ]
  },
  {
   "cell_type": "code",
   "execution_count": 1,
   "metadata": {},
   "outputs": [],
   "source": [
    "import numpy as np\n",
    "from word_dataset import WordDataset\n",
    "from word_model import WordRNN\n",
    "from utils import prepare_sample"
   ]
  },
  {
   "cell_type": "markdown",
   "metadata": {},
   "source": [
    "## Dataset"
   ]
  },
  {
   "cell_type": "code",
   "execution_count": 3,
   "metadata": {},
   "outputs": [
    {
     "name": "stdout",
     "output_type": "stream",
     "text": [
      "CPU times: user 52.6 s, sys: 196 ms, total: 52.8 s\n",
      "Wall time: 52.8 s\n"
     ]
    }
   ],
   "source": [
    "%%time\n",
    "dataset = WordDataset()\n",
    "dataset.load('data/dostoevsky.txt')  # dostoevsky.txt  anna.txt"
   ]
  },
  {
   "cell_type": "markdown",
   "metadata": {},
   "source": [
    "## Build"
   ]
  },
  {
   "cell_type": "code",
   "execution_count": 143,
   "metadata": {
    "scrolled": false
   },
   "outputs": [
    {
     "name": "stdout",
     "output_type": "stream",
     "text": [
      "CPU times: user 4.16 s, sys: 68 ms, total: 4.23 s\n",
      "Wall time: 4.28 s\n"
     ]
    }
   ],
   "source": [
    "%%time\n",
    "model_path  = 'models/word/dostoevsky-002/'\n",
    "num_layers  = 3\n",
    "num_units   = 256\n",
    "grad_clip   = 5.0\n",
    "\n",
    "model = WordRNN(\n",
    "    num_classes = dataset.num_tokens)\n",
    "\n",
    "model.build(\n",
    "    emb_size   = 300,\n",
    "    num_units  = num_units, \n",
    "    num_layers = num_layers, \n",
    "    grad_clip  = grad_clip)"
   ]
  },
  {
   "cell_type": "markdown",
   "metadata": {},
   "source": [
    "## Train"
   ]
  },
  {
   "cell_type": "code",
   "execution_count": 167,
   "metadata": {
    "scrolled": false
   },
   "outputs": [
    {
     "data": {
      "image/png": "[encoded data removed]",
      "text/plain": [
       "<matplotlib.figure.Figure at 0x7feeb433ee10>"
      ]
     },
     "metadata": {},
     "output_type": "display_data"
    },
    {
     "name": "stdout",
     "output_type": "stream",
     "text": [
      "CPU times: user 2h 48min 32s, sys: 20min 57s, total: 3h 9min 30s\n",
      "Wall time: 1h 52min 13s\n"
     ]
    }
   ],
   "source": [
    "%%time\n",
    "model.train(\n",
    "    epochs        = 100, \n",
    "    batch_size    = 32, \n",
    "    seq_length    = 30,\n",
    "    learning_rate = 1e-3, \n",
    "    keep_prob     = .5,\n",
    "    mean_win      = 100,\n",
    "    dataset       = dataset)\n",
    "model.save(model_path)"
   ]
  },
  {
   "cell_type": "markdown",
   "metadata": {},
   "source": [
    "## Test"
   ]
  },
  {
   "cell_type": "code",
   "execution_count": 148,
   "metadata": {},
   "outputs": [],
   "source": [
    "def prepare_sample(s):\n",
    "    s = s.replace(' .', '.').replace(' ,', ',').replace(' !', '!').replace(' ?', '?').replace(' :', ':')\n",
    "    s = s.replace('— —', '—').replace(',,', ',').replace(',.', ',').replace('« ', '«').replace(' »', '»')\n",
    "    s = s.replace('—,', '—').replace('.,', '.')\n",
    "    return s"
   ]
  },
  {
   "cell_type": "code",
   "execution_count": 185,
   "metadata": {
    "scrolled": false
   },
   "outputs": [
    {
     "name": "stdout",
     "output_type": "stream",
     "text": [
      "--------------------------------------------------\n",
      "ох уж эти мне сказочники! нет чтобы написать что-нибудь полезное, приятное, усладительное, если б мы в высшей степени в самом деле. я не говорю на всю ночь. я даже не могу, как я буду любить меня, и я буду знать, что, кажется, на все время, и я не знал, как это так легко, но все-таки он и сам. да я не понимаю в том, что я, пожалуй, может, и больше теперь. я не знал,\n",
      "--------------------------------------------------\n",
      "вчера я был счастлив, чрезмерно счастлив, донельзя счастлив! а если вы, кажется, что я это был, по привычке, и в самом деле? ведь это не может быть. но ведь мне, однако же, я очень рада — и не было бы, а не так, — так и и не знал ли вы меня, что вы думаете, не может быть. и вы, кажется, меня любите, как, и я и тогда не знаю,\n",
      "--------------------------------------------------\n",
      "князь не ожидал с ними! — проговорила катя, обращаясь к ним, — ну, что ж, ты с ним, что ли, он, когда я тебя хотел? это — да, говорит, с ним не хочу. он ведь не, может быть, — и и не знал. ну, вот, вот что, все, а у тебя теперь все есть!, — отвечал он опять. иван федорович посмотрел на\n",
      "--------------------------------------------------\n",
      "он смотрел на портрет настасьи филипповны. не знаю, ни на кого не было. а это все так и в своем роде не хватило. в нашем обществе он говорил, а в том, что это не было на нас, на огромном дуре. — ну да вот и вы не можете, а вы, что, — твердо ответил генерал. — я и на самом деле думал, — сказал он, — да что же это не было\n",
      "--------------------------------------------------\n",
      "вошел рогожин, так, так что и сам не успел. я и теперь не хотел его этого. это была эта комната, которая уже не понимал, — он с большим чувством смотрела на его лицо и в бессилии смотрел во флигель. в ту самую минуту, и в самом деле, она не могла бы, то есть уже не могла он ее в таком положении. «в самом деле, милый мой?» да и\n",
      "--------------------------------------------------\n",
      "лебедев был пьян и и не так в этом смысле. но и не знаю, а так и надо, а у меня на столе не отвечает! я не хочу, а ведь все это будет — с неба и. но не только, и это был в сердце и теперь, то есть по законам, не допускаете! что он и не скажу? — это правда, а я знаю, князь, что он в бреду! —\n",
      "--------------------------------------------------\n",
      "на скамье сидела аглая опять покраснела. он сидел в креслах, так и впился. когда же было что-то другое, то, впрочем, был все в ту минуту — в самом деле. и я вдруг начал было идти на лестницу. наконец я был один месяц, даже, кажется, он и еще не знал ему, а он, конечно, уже не мог не хочет говорить, как будто не было бы и на то это «нет\n",
      "--------------------------------------------------\n",
      "генерал желал в том, что он в таком положении и как бы не понимал. я даже, вероятно, уже был и не верю, но что я не верил. как же я был? с тем, как я буду с тобой говорить, то я даже и с ним не хотел быть в себе. но что ж мне, это все так. я не знаю, да и не знал, что и теперь теперь не\n",
      "--------------------------------------------------\n",
      "новая мысль промелькнула его в доме и у меня было, потому что он в самом деле с ним не говорил, не то ни разу не мог не заметить, что он говорил, что он не сказал с собою, он и он, впрочем, тоже так, — и в отчаянии. он как раз вдруг не мог понять. мне ужасно понравилось. это вдруг она сидела и, не замечая, как с чрезвычайным удивлением, как\n",
      "--------------------------------------------------\n",
      "из петербурга приехали. и он бросился в залу, с столом с красными в руках. и вдруг вдруг вошел он был довольно вне себя. — ах, да, как же вы теперь с вами? — спросила наташа, — она как будто сам и сама говорила, что мне это хотелось. я даже хочу, что он его здесь и даже очень не мог говорить, но, в сущности! но я, может быть, к\n",
      "--------------------------------------------------\n",
      "раскольников взял топор за руку и все, что он в ту минуту была на диване, хотя, может быть, и к нему не, как в тумане. «что ж?» — пробормотал он вдруг в удивлении и в исступлении с места. в «в петербурге» от меня и даже как бы на столе и то, что ««ну, да уж я, дескать, говорю, говорю, как у нас.\n",
      "--------------------------------------------------\n",
      "коля стоял у окна с какою-то филипповичем. у него было было как бы не надо! да и в эту минуту он опять впадал из комнаты и вдруг побежал подле меня. когда он и сам не хотел бы в этом случае, если только не было ни слова и ничего не хотел на них. но все же с одним и, кажется, все же очень много на свете с и не было ни копейки, и я еще более и\n",
      "--------------------------------------------------\n",
      "причиной убийства и в его пользу даже было какая-то литература. он родился, в самом доме своих пальто, к детям, не помня себя. это же он был не знал, и его только все были, чем он не смел, в этом доме, не мог бы не без того же о чем-нибудь заговорить. «да так и я не видал, что он не так», — прибавил раскольников, опять обращаясь к столу,\n",
      "--------------------------------------------------\n",
      "он начал читать письмо. да да и не знал я в самом деле. — и я, — ответил он и, как будто пораженный смотря на себя. «а в этот раз тут не будет ни разу, а не только, как, если б он, и все только и теперь.» но и я уже, кажется, все это были уже несколько восклицаний, был и очень совсем еще до того в его. — вот\n"
     ]
    }
   ],
   "source": [
    "primes = [\n",
    "    'ох уж эти мне сказочники ! нет чтобы написать что-нибудь полезное , приятное , усладительное',\n",
    "    'вчера я был счастлив , чрезмерно счастлив , донельзя счастлив !',\n",
    "    'князь не ожидал', \n",
    "    'он смотрел на портрет настасьи', \n",
    "    'вошел рогожин', \n",
    "    'лебедев был пьян и', \n",
    "    'на скамье сидела аглая', \n",
    "    'генерал желал', \n",
    "    'новая мысль промелькнула', \n",
    "    'из петербурга приехали',\n",
    "    'раскольников взял топор', \n",
    "    'коля стоял у окна', \n",
    "    'причиной убийства', \n",
    "    'он начал читать письмо', \n",
    "]\n",
    "for prime in primes:\n",
    "    print('-'*50)\n",
    "    print(prepare_sample(model.sample(dataset, n_samples=80, top_n=20, prime=prime)))"
   ]
  },
  {
   "cell_type": "markdown",
   "metadata": {},
   "source": [
    "## Restore"
   ]
  },
  {
   "cell_type": "code",
   "execution_count": 19,
   "metadata": {
    "scrolled": true
   },
   "outputs": [
    {
     "name": "stdout",
     "output_type": "stream",
     "text": [
      "INFO:tensorflow:Restoring parameters from models/word/dostoevsky-001/\n"
     ]
    },
    {
     "name": "stderr",
     "output_type": "stream",
     "text": [
      "INFO:tensorflow:Restoring parameters from models/word/dostoevsky-001/\n"
     ]
    }
   ],
   "source": [
    "model.restore(model_path)"
   ]
  },
  {
   "cell_type": "markdown",
   "metadata": {},
   "source": [
    "он смотрел на портрет настасьи филипповны. он был в каком-то волнении, в недоумении, но, кажется, не мог понять, что он не мог понять. — а вы, кажется, не знаете? — вскричал я, — я не знаю, что вы меня любите. я не знаю"
   ]
  },
  {
   "cell_type": "code",
   "execution_count": null,
   "metadata": {},
   "outputs": [],
   "source": []
  }
 ],
 "metadata": {
  "kernelspec": {
   "display_name": "Python 3",
   "language": "python",
   "name": "python3"
  },
  "language_info": {
   "codemirror_mode": {
    "name": "ipython",
    "version": 3
   },
   "file_extension": ".py",
   "mimetype": "text/x-python",
   "name": "python",
   "nbconvert_exporter": "python",
   "pygments_lexer": "ipython3",
   "version": "3.5.2"
  }
 },
 "nbformat": 4,
 "nbformat_minor": 2
}
