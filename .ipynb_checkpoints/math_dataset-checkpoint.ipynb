{
 "cells": [
  {
   "cell_type": "markdown",
   "metadata": {},
   "source": [
    "# MathDataset"
   ]
  },
  {
   "cell_type": "code",
   "execution_count": 6,
   "metadata": {},
   "outputs": [],
   "source": [
    "import numpy as np"
   ]
  },
  {
   "cell_type": "code",
   "execution_count": 125,
   "metadata": {},
   "outputs": [],
   "source": [
    "voc = ['%s' %i for i in range(10)] + [' ', '+', '=', '<', '>', '~']"
   ]
  },
  {
   "cell_type": "code",
   "execution_count": 126,
   "metadata": {},
   "outputs": [
    {
     "data": {
      "text/plain": [
       "'0123456789 +=<>~'"
      ]
     },
     "execution_count": 126,
     "metadata": {},
     "output_type": "execute_result"
    }
   ],
   "source": [
    "''.join(voc)"
   ]
  },
  {
   "cell_type": "markdown",
   "metadata": {},
   "source": [
    "## Generator"
   ]
  },
  {
   "cell_type": "code",
   "execution_count": 119,
   "metadata": {},
   "outputs": [
    {
     "name": "stdout",
     "output_type": "stream",
     "text": [
      "[4, 3, 1, 4] = [9, 1, 1, 1] = 12\n",
      "4+3+1+4 = 9+1+1+1\n"
     ]
    }
   ],
   "source": [
    "sign = '='\n",
    "sum = np.random.randint(10,20)\n",
    "\n",
    "def to_exp(n):\n",
    "    if n==0:\n",
    "        return[]\n",
    "    if n<=1:\n",
    "        return[n]\n",
    "    a = np.random.randint(1,n+1)\n",
    "    return [a] + to_exp(n-a)\n",
    "\n",
    "exp1 = to_exp(sum)\n",
    "exp2 = to_exp(sum)\n",
    "\n",
    "print(exp1, '=', exp2, '=', sum)\n",
    "\n",
    "assert sum == np.sum(exp1)\n",
    "assert sum == np.sum(exp2)\n",
    "\n",
    "def to_sent(exp1, sign, exp2):\n",
    "    sent1 = '+'.join(['%s' %n for n in exp1])\n",
    "    sent2 = '+'.join(['%s' %n for n in exp2])\n",
    "    return '%s %s %s' % (sent1, sign, sent2)\n",
    "\n",
    "\n",
    "print(to_sent())\n"
   ]
  },
  {
   "cell_type": "code",
   "execution_count": null,
   "metadata": {},
   "outputs": [],
   "source": []
  },
  {
   "cell_type": "code",
   "execution_count": null,
   "metadata": {},
   "outputs": [],
   "source": []
  }
 ],
 "metadata": {
  "kernelspec": {
   "display_name": "Python 3",
   "language": "python",
   "name": "python3"
  },
  "language_info": {
   "codemirror_mode": {
    "name": "ipython",
    "version": 3
   },
   "file_extension": ".py",
   "mimetype": "text/x-python",
   "name": "python",
   "nbconvert_exporter": "python",
   "pygments_lexer": "ipython3",
   "version": "3.5.2"
  }
 },
 "nbformat": 4,
 "nbformat_minor": 2
}
