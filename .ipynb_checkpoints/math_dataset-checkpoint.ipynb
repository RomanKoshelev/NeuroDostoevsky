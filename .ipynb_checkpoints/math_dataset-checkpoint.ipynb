{
 "cells": [
  {
   "cell_type": "markdown",
   "metadata": {},
   "source": [
    "# MathDataset"
   ]
  },
  {
   "cell_type": "code",
   "execution_count": 1,
   "metadata": {},
   "outputs": [],
   "source": [
    "import numpy as np\n",
    "from math_generator import MathGenerator\n",
    "from math_vocab import MathVocab\n",
    "from math_dataset import MathDataset\n",
    "from utils import make_dir\n",
    "\n",
    "tr_text_path    = \"texts/math/math_train.txt\"\n",
    "va_text_path    = \"texts/math/math_valid.txt\"\n",
    "vocab_path      = \"data/math/math_vocab.data\"\n",
    "tr_dataset_path = \"data/math/math_dataset_train.data\"\n",
    "va_dataset_path = \"data/math/math_dataset_valid.data\"\n",
    "\n",
    "gen_min_sum = 10\n",
    "gen_max_sum = 20\n",
    "gen_num     = 1000"
   ]
  },
  {
   "cell_type": "markdown",
   "metadata": {},
   "source": [
    "## Generator"
   ]
  },
  {
   "cell_type": "code",
   "execution_count": 3,
   "metadata": {},
   "outputs": [
    {
     "name": "stdout",
     "output_type": "stream",
     "text": [
      "\n",
      "texts/math/math_train.txt:\n",
      "\n",
      "10+3+1+5 = 1+18\n",
      "4+7+1+4 = 4+5+7\n",
      "2+8+1+2 = 9+4\n",
      "1+4+2+6+4 = 2+5+6+1+2+1\n",
      "2+11+4+2 = 2+17\n",
      "1+7+1+2 = 1+1+1+8\n",
      "2+3+9+2 = 2+1+13\n",
      "4+3+9 = 9+2+5\n",
      "14 = 7+5+2\n",
      "4+7+4 = 11+4\n",
      "1+15 = 8+1+4+1+1+1\n",
      "3+9+2+2 = 5+10+1\n",
      "2+13  ...\n",
      "\n",
      "texts/math/math_valid.txt:\n",
      "\n",
      "5+11+1+1 = 4+9+4+1\n",
      "1+3+2+3+1+6 = 4+10+2\n",
      "16 = 3+7+5+1\n",
      "4+7 = 11\n",
      "2+1+3+5 = 9+2\n",
      "3+1+3+3 = 1+5+4\n",
      "2+1+12 = 7+8\n",
      "6+1+1+4+2+4 = 10+6+1+1\n",
      "5+1+11 = 1+16\n",
      "1+7+2+2 = 10+2\n",
      "2+2+14 = 13+1+1+1+2\n",
      "9+8 = 17\n",
      "6+2+2+3 = 13\n",
      "2 ...\n"
     ]
    }
   ],
   "source": [
    "for path in [tr_text_path, va_text_path]:\n",
    "    gen = MathGenerator(gen_min_sum, gen_max_sum)\n",
    "    sents = gen.generate('=', gen_num)\n",
    "    text = '\\n'.join(sents)\n",
    "\n",
    "    print('\\n%s:\\n'%path)\n",
    "    print(text[:200] + \" ...\")\n",
    "\n",
    "    make_dir(path)\n",
    "    with open(path, 'w') as f:\n",
    "        f.write(text)"
   ]
  },
  {
   "cell_type": "markdown",
   "metadata": {},
   "source": [
    "## Vocab"
   ]
  },
  {
   "cell_type": "code",
   "execution_count": 4,
   "metadata": {},
   "outputs": [
    {
     "name": "stdout",
     "output_type": "stream",
     "text": [
      "MathVocab:\n",
      "  size: 17\n",
      "  _tokens_to_words: ['<UNK>', '<BOS>', '<EOS>', '<PAD>', '+', '1', ' ', '2', '=', '3', '4', '5', '6', '7', '8', '9', '0']\n"
     ]
    }
   ],
   "source": [
    "voc = MathVocab()\n",
    "voc.build([tr_text_path, va_text_path])\n",
    "voc.save(vocab_path)\n",
    "print(voc)\n",
    "\n",
    "assert voc.size == 17 # '0123456789 =+' + UNK, EOS, BOS, PAD"
   ]
  },
  {
   "cell_type": "markdown",
   "metadata": {},
   "source": [
    "## Dataset"
   ]
  },
  {
   "cell_type": "code",
   "execution_count": 5,
   "metadata": {},
   "outputs": [
    {
     "name": "stdout",
     "output_type": "stream",
     "text": [
      "data/math/math_dataset_train.data\n",
      "MathDataset:\n",
      "  shape: [1000, 34]\n",
      "  data_limit: None\n",
      "data/math/math_dataset_valid.data\n",
      "MathDataset:\n",
      "  shape: [1000, 34]\n",
      "  data_limit: None\n"
     ]
    }
   ],
   "source": [
    "voc = MathVocab()\n",
    "voc.restore(vocab_path)\n",
    "\n",
    "dataset_paths = [tr_dataset_path, va_dataset_path]\n",
    "\n",
    "for i,text_path in enumerate([tr_text_path, va_text_path]):\n",
    "    dataset = MathDataset()\n",
    "    dataset.build(text_path, voc, max_len=32)\n",
    "    dataset.save(dataset_paths[i])\n",
    "    print(dataset_paths[i])\n",
    "    print(dataset)"
   ]
  },
  {
   "cell_type": "markdown",
   "metadata": {},
   "source": [
    "## Batch"
   ]
  },
  {
   "cell_type": "code",
   "execution_count": 6,
   "metadata": {},
   "outputs": [
    {
     "name": "stdout",
     "output_type": "stream",
     "text": [
      "<BOS>18+1 = 1+1+3+11+2+1<EOS>_____________\n",
      "<BOS>3+1+7+3 = 10+2+2<EOS>________________\n",
      "<BOS>1+3+6 = 2+8<EOS>_____________________\n",
      "<BOS>1+1+11 = 3+3+1+1+5<EOS>______________\n",
      "<BOS>2+1+3+2+1+7+2 = 2+16<EOS>____________\n",
      "<BOS>19 = 1+3+7+8<EOS>____________________\n",
      "<BOS>10 = 8+2<EOS>________________________\n",
      "<BOS>12+6+1 = 1+6+12<EOS>_________________\n",
      "<BOS>7+2+7 = 13+2+1<EOS>__________________\n",
      "<BOS>1+4+9 = 9+1+1+3<EOS>_________________\n",
      "<BOS>3+1+4+1+2 = 10+1<EOS>________________\n",
      "<BOS>13 = 1+11+1<EOS>_____________________\n",
      "<BOS>1+10 = 11<EOS>_______________________\n",
      "<BOS>1+1+11 = 6+1+2+2+2<EOS>______________\n",
      "<BOS>7+6+3 = 1+15<EOS>____________________\n"
     ]
    }
   ],
   "source": [
    "voc = MathVocab()\n",
    "voc.restore(vocab_path)\n",
    "\n",
    "dataset = MathDataset()\n",
    "dataset.restore(tr_dataset_path)\n",
    "\n",
    "batch = dataset.get_next_batch(15)\n",
    "for sent in batch:\n",
    "    restored = \"\".join(voc.to_words(sent))\n",
    "    restored = restored.replace('<PAD>', '_')\n",
    "    print(restored)"
   ]
  },
  {
   "cell_type": "code",
   "execution_count": null,
   "metadata": {},
   "outputs": [],
   "source": []
  }
 ],
 "metadata": {
  "kernelspec": {
   "display_name": "Python 3",
   "language": "python",
   "name": "python3"
  },
  "language_info": {
   "codemirror_mode": {
    "name": "ipython",
    "version": 3
   },
   "file_extension": ".py",
   "mimetype": "text/x-python",
   "name": "python",
   "nbconvert_exporter": "python",
   "pygments_lexer": "ipython3",
   "version": "3.5.2"
  }
 },
 "nbformat": 4,
 "nbformat_minor": 2
}
