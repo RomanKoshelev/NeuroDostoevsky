{
 "cells": [
  {
   "cell_type": "markdown",
   "metadata": {},
   "source": [
    "# MathDataset"
   ]
  },
  {
   "cell_type": "code",
   "execution_count": 15,
   "metadata": {},
   "outputs": [],
   "source": [
    "import numpy as np\n",
    "from math_generator import MathGenerator\n",
    "from math_vocab import MathVocab\n",
    "from math_dataset import MathDataset\n",
    "from utils import make_dir\n",
    "\n",
    "vocab_path      = \"data/math/math_vocab.data\"\n",
    "\n",
    "tr_text_path    = \"texts/math/math_train.txt\"\n",
    "va_text_path    = \"texts/math/math_valid.txt\"\n",
    "tr_dataset_path = \"data/math/math_dataset_train.data\"\n",
    "va_dataset_path = \"data/math/math_dataset_valid.data\"\n",
    "\n",
    "max_len     = 32\n",
    "gen_min_sum = 10\n",
    "gen_max_sum = 20\n",
    "gen_num     = 10000"
   ]
  },
  {
   "cell_type": "markdown",
   "metadata": {},
   "source": [
    "## Generator"
   ]
  },
  {
   "cell_type": "code",
   "execution_count": 16,
   "metadata": {},
   "outputs": [
    {
     "name": "stdout",
     "output_type": "stream",
     "text": [
      "\n",
      "texts/math/math_train.txt:\n",
      "\n",
      "12+4 = 2+1+4+9\n",
      "1+1+4+4 = 5+4+1\n",
      "9+1+3 = 3+3+1+5+1\n",
      "10+4+1+3+1 = 4+15\n",
      "5+1+5 = 11\n",
      "4+13+1+1 = 1+4+8+6\n",
      "9+4 ...\n",
      "\n",
      "texts/math/math_valid.txt:\n",
      "\n",
      "9+2 = 3+2+2+2+2\n",
      "6+2+1+2 = 1+8+2\n",
      "12+3+4 = 18+1\n",
      "2+2+6+2 = 5+2+5\n",
      "1+10 = 1+1+1+4+3+1\n",
      "7+1+2+4+1 = 5+1+9\n",
      "1 ...\n"
     ]
    }
   ],
   "source": [
    "for path in [tr_text_path, va_text_path]:\n",
    "    gen = MathGenerator(gen_min_sum, gen_max_sum)\n",
    "    sents = gen.generate('=', gen_num)\n",
    "    text = '\\n'.join(sents)\n",
    "\n",
    "    print('\\n%s:\\n'%path)\n",
    "    print(text[:100] + \" ...\")\n",
    "\n",
    "    make_dir(path)\n",
    "    with open(path, 'w') as f:\n",
    "        f.write(text)"
   ]
  },
  {
   "cell_type": "markdown",
   "metadata": {},
   "source": [
    "## Vocab"
   ]
  },
  {
   "cell_type": "code",
   "execution_count": 14,
   "metadata": {},
   "outputs": [
    {
     "name": "stdout",
     "output_type": "stream",
     "text": [
      "MathVocab:\n",
      "  size: 17\n",
      "  _tokens_to_words: ['<UNK>', '<BOS>', '<EOS>', '<PAD>', '+', '1', ' ', '2', '=', '3', '4', '5', '6', '7', '8', '9', '0']\n"
     ]
    }
   ],
   "source": [
    "voc = MathVocab()\n",
    "voc.build([tr_text_path, va_text_path])\n",
    "voc.save(vocab_path)\n",
    "print(voc)\n",
    "assert voc.size == 17 # '0123456789 =+' + UNK, EOS, BOS, PAD"
   ]
  },
  {
   "cell_type": "markdown",
   "metadata": {},
   "source": [
    "## Dataset"
   ]
  },
  {
   "cell_type": "code",
   "execution_count": 17,
   "metadata": {},
   "outputs": [
    {
     "name": "stdout",
     "output_type": "stream",
     "text": [
      "data/math/math_dataset_train.data\n",
      "MathDataset:\n",
      "  shape: [10000, 34]\n",
      "  data_limit: None\n",
      "data/math/math_dataset_valid.data\n",
      "MathDataset:\n",
      "  shape: [9999, 34]\n",
      "  data_limit: None\n"
     ]
    }
   ],
   "source": [
    "voc = MathVocab()\n",
    "voc.restore(vocab_path)\n",
    "\n",
    "dataset_paths = [tr_dataset_path, va_dataset_path]\n",
    "\n",
    "for i,text_path in enumerate([tr_text_path, va_text_path]):\n",
    "    dataset = MathDataset()\n",
    "    dataset.build(text_path, voc, max_len=max_len)\n",
    "    dataset.save(dataset_paths[i])\n",
    "    print(dataset_paths[i])\n",
    "    print(dataset)\n",
    "    assert dataset.shape[0] > 9900\n",
    "    assert dataset.shape[1] == max_len+2"
   ]
  },
  {
   "cell_type": "markdown",
   "metadata": {},
   "source": [
    "## Batch"
   ]
  },
  {
   "cell_type": "code",
   "execution_count": 18,
   "metadata": {},
   "outputs": [
    {
     "name": "stdout",
     "output_type": "stream",
     "text": [
      "<BOS>4+6 = 2+2+6<EOS>_____________________\n",
      "<BOS>13+3 = 1+14+1<EOS>___________________\n",
      "<BOS>1+15+1 = 5+1+11<EOS>_________________\n",
      "<BOS>7+11 = 13+3+2<EOS>___________________\n",
      "<BOS>9+1+2 = 11+1<EOS>____________________\n",
      "<BOS>1+1+3+1+4 = 1+4+2+3<EOS>_____________\n",
      "<BOS>4+2+9+4 = 1+11+2+2+2+1<EOS>__________\n",
      "<BOS>1+8+4 = 1+10+2<EOS>__________________\n",
      "<BOS>7+1+1+4 = 1+1+1+5+2+1+2<EOS>_________\n",
      "<BOS>1+8+1 = 8+2<EOS>_____________________\n",
      "<BOS>3+16 = 13+2+4<EOS>___________________\n",
      "<BOS>1+10+1 = 1+2+2+7<EOS>________________\n",
      "<BOS>7+11+1 = 19<EOS>_____________________\n",
      "<BOS>2+12+1+1+1 = 4+13<EOS>_______________\n",
      "<BOS>4+3+1+2 = 3+7<EOS>___________________\n"
     ]
    }
   ],
   "source": [
    "voc = MathVocab()\n",
    "voc.restore(vocab_path)\n",
    "\n",
    "dataset = MathDataset()\n",
    "dataset.restore(tr_dataset_path)\n",
    "\n",
    "batch = dataset.get_next_batch(15)\n",
    "for sent in batch:\n",
    "    restored = \"\".join(voc.to_words(sent))\n",
    "    restored = restored.replace('<PAD>', '_')\n",
    "    print(restored)"
   ]
  },
  {
   "cell_type": "code",
   "execution_count": null,
   "metadata": {},
   "outputs": [],
   "source": []
  }
 ],
 "metadata": {
  "kernelspec": {
   "display_name": "Python 3",
   "language": "python",
   "name": "python3"
  },
  "language_info": {
   "codemirror_mode": {
    "name": "ipython",
    "version": 3
   },
   "file_extension": ".py",
   "mimetype": "text/x-python",
   "name": "python",
   "nbconvert_exporter": "python",
   "pygments_lexer": "ipython3",
   "version": "3.5.2"
  }
 },
 "nbformat": 4,
 "nbformat_minor": 2
}
