{
 "cells": [
  {
   "cell_type": "markdown",
   "metadata": {},
   "source": [
    "# Text dataset"
   ]
  },
  {
   "cell_type": "code",
   "execution_count": 1,
   "metadata": {},
   "outputs": [],
   "source": [
    "from dataset import TextDataset\n",
    "from vocabulary import Vocabulary\n",
    "from utils import words_to_sent"
   ]
  },
  {
   "cell_type": "markdown",
   "metadata": {},
   "source": [
    "## Vocabulary"
   ]
  },
  {
   "cell_type": "code",
   "execution_count": 2,
   "metadata": {},
   "outputs": [
    {
     "name": "stdout",
     "output_type": "stream",
     "text": [
      "100004\n"
     ]
    }
   ],
   "source": [
    "voc_path = \"data/vocabulary.data\"\n",
    "voc = Vocabulary()\n",
    "voc.restore(voc_path)\n",
    "print(voc.size)"
   ]
  },
  {
   "cell_type": "markdown",
   "metadata": {},
   "source": [
    "## Build"
   ]
  },
  {
   "cell_type": "code",
   "execution_count": 3,
   "metadata": {},
   "outputs": [
    {
     "name": "stdout",
     "output_type": "stream",
     "text": [
      "[71833, 22]\n",
      "CPU times: user 28 s, sys: 171 ms, total: 28.2 s\n",
      "Wall time: 28.1 s\n"
     ]
    }
   ],
   "source": [
    "%%time\n",
    "\n",
    "dataset = TextDataset()\n",
    "dataset.build(\n",
    "    paths   = ['texts/dostoevsky.txt'], #'texts/anna.txt'\n",
    "    vocab   = voc,\n",
    "    min_len = 5, \n",
    "    max_len = 20\n",
    ")\n",
    "print(dataset.shape)\n",
    "\n",
    "assert dataset.shape[1] == 22"
   ]
  },
  {
   "cell_type": "markdown",
   "metadata": {},
   "source": [
    "## Save/restore"
   ]
  },
  {
   "cell_type": "code",
   "execution_count": 4,
   "metadata": {},
   "outputs": [
    {
     "name": "stdout",
     "output_type": "stream",
     "text": [
      "[71833, 22]\n"
     ]
    }
   ],
   "source": [
    "dataset_path = \"data/dataset-dostoevsky.data\"\n",
    "dataset.save(dataset_path)\n",
    "old = dataset\n",
    "dataset = TextDataset()\n",
    "dataset.restore(dataset_path)\n",
    "print(dataset.shape)"
   ]
  },
  {
   "cell_type": "markdown",
   "metadata": {},
   "source": [
    "## Batch"
   ]
  },
  {
   "cell_type": "code",
   "execution_count": 20,
   "metadata": {
    "scrolled": false
   },
   "outputs": [
    {
     "name": "stdout",
     "output_type": "stream",
     "text": [
      "<BOS> липутин еще более скрючился. <EOS>_______________\n",
      "<BOS> но перезвона выдержали только самую маленькую минутку. <EOS>____________\n",
      "<BOS> — и он плюнул. <EOS>_______________\n",
      "<BOS> приняв такое решение, господин голядкин пустился в свой департамент. <EOS>_________\n",
      "<BOS> да и что именно? <EOS>_______________\n",
      "<BOS> а только ты плюнь с полминуты оба помолчали. <EOS>___________\n",
      "<BOS> он долгое время пред тем прожил не в нашем городе. <EOS>_________\n",
      "<BOS> я тотчас же смекнул, что птичка сама летит в сетку, и, в свою очередь, приготовился. <EOS>\n",
      "<BOS> а я-то думал, что все еще не отстал от поколения и понимаю современную молодежь. <EOS>____\n",
      "<BOS> — вскричала пульхерия александровна и перекрестилась. <EOS>_____________\n",
      "<BOS> — где же письмо-то теперь? <EOS>______________\n",
      "<BOS> сердце в нем замерло. <EOS>_______________\n",
      "<BOS> — что вы, батюшка, что вы, отец? — испугался даже. <EOS>_____\n",
      "<BOS> вслед за громом полился такой страшный ливень, что, казалось, целое озеро опрокинулось вдруг над <UNK>. <EOS>_\n",
      "<BOS> — а как вы смели ввести ее в мою комнату? <EOS>_________\n"
     ]
    }
   ],
   "source": [
    "batch = dataset.get_next_batch(15)\n",
    "for sent in batch:\n",
    "    restored = words_to_sent(voc.to_words(sent))\n",
    "    restored = restored.replace(' <PAD>', '_')\n",
    "    print(restored)"
   ]
  },
  {
   "cell_type": "code",
   "execution_count": 17,
   "metadata": {},
   "outputs": [],
   "source": [
    "dataset.set_data_limit(10)"
   ]
  },
  {
   "cell_type": "code",
   "execution_count": 19,
   "metadata": {},
   "outputs": [],
   "source": [
    "dataset.set_data_limit(None)"
   ]
  },
  {
   "cell_type": "code",
   "execution_count": null,
   "metadata": {},
   "outputs": [],
   "source": []
  }
 ],
 "metadata": {
  "kernelspec": {
   "display_name": "Python 3",
   "language": "python",
   "name": "python3"
  },
  "language_info": {
   "codemirror_mode": {
    "name": "ipython",
    "version": 3
   },
   "file_extension": ".py",
   "mimetype": "text/x-python",
   "name": "python",
   "nbconvert_exporter": "python",
   "pygments_lexer": "ipython3",
   "version": "3.5.2"
  }
 },
 "nbformat": 4,
 "nbformat_minor": 2
}
