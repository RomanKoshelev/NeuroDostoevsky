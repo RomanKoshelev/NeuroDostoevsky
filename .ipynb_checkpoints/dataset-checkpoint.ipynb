{
 "cells": [
  {
   "cell_type": "code",
   "execution_count": 9,
   "metadata": {},
   "outputs": [],
   "source": [
    "import numpy as np\n",
    "\n",
    "class Dataset:\n",
    "    def __init__(self):\n",
    "        self.text    = None\n",
    "        self.encoded = []\n",
    "    \n",
    "    def load(self, path):\n",
    "        with open(path, 'r') as f:\n",
    "            self.text=f.read()\n",
    "        self.text         = self.text.replace(u'\\xa0', u' ').replace(u'\\ufeff','') \n",
    "        self.vocab        = sorted(set(self.text))\n",
    "        self.vocab_to_int = {c: i for i, c in enumerate(self.vocab)}\n",
    "        self.int_to_vocab = dict(enumerate(self.vocab))\n",
    "        self.encoded      = np.array([self.vocab_to_int[c] for c in self.text], dtype=np.int32)\n",
    "    \n",
    "    def get_batches(self, n_seqs, n_steps):\n",
    "        '''Создаем генератор, который возвращает пакеты размером\n",
    "           n_seqs x n_steps из массива arr.\n",
    "\n",
    "           Аргументы\n",
    "           ---------\n",
    "           n_seqs: Batch size, количество последовательностей в пакете\n",
    "           n_steps: Sequence length, сколько \"шагов\" делаем в пакете\n",
    "        '''\n",
    "        arr = self.encoded\n",
    "        # Считаем количество символов на пакет и количество пакетов, которое можем сформировать\n",
    "        characters_per_batch = n_seqs * n_steps\n",
    "        n_batches = len(arr)//characters_per_batch\n",
    "\n",
    "        # Сохраняем в массиве только символы, которые позволяют сформировать целое число пакетов\n",
    "        arr = arr[:n_batches * characters_per_batch]\n",
    "\n",
    "        # Делаем reshape 1D -> 2D, используя n_seqs как число строк, как на картинке\n",
    "        arr = arr.reshape((n_seqs, -1))\n",
    "\n",
    "        for n in range(0, arr.shape[1], n_steps):\n",
    "            # пакет данных, который будет подаваться на вход сети\n",
    "            x = arr[:, n:n+n_steps]\n",
    "            # целевой пакет, с которым будем сравнивать предсказание, получаем сдвиганием \"x\" на один символ вперед\n",
    "            y = np.zeros_like(x)\n",
    "            y[:, :-1], y[:, -1] = x[:, 1:], x[:, 0]\n",
    "            yield x, y\n"
   ]
  },
  {
   "cell_type": "code",
   "execution_count": 10,
   "metadata": {},
   "outputs": [],
   "source": [
    "dataset = Dataset()\n",
    "dataset.load('data/anna.txt')"
   ]
  },
  {
   "cell_type": "code",
   "execution_count": 11,
   "metadata": {},
   "outputs": [
    {
     "name": "stdout",
     "output_type": "stream",
     "text": [
      "ЧАСТЬ ПЕРВАЯ\n",
      "\n",
      "\n",
      "\n",
      "I\n",
      "\n",
      "Все счастливые семьи похожи друг на друга, каждая несчастливая семья несчастлива по-своему.\n",
      "[ 99  77  93  94 102   1  91  82  92  79  77 105   0   0   0   0  30   0\n",
      "   0  79 123 111   1 123 129 106 123 124 117 114 108 133 111   1 123 111\n",
      " 118 134 114   1 121 120 127 120 112 114   1 110 122 125 109   1 119 106\n",
      "   1 110 122 125 109 106   7   1 116 106 112 110 106 137   1 119 111 123\n",
      " 129 106 123 124 117 114 108 106 137   1 123 111 118 134 137   1 119 111\n",
      " 123 129 106 123 124 117 114 108 106   1 121 120   8 123 108 120 111 118\n",
      " 125   9]\n",
      "140\n"
     ]
    }
   ],
   "source": [
    "print(dataset.text[:110])\n",
    "print(dataset.encoded[:110])\n",
    "print(len(dataset.vocab))\n"
   ]
  },
  {
   "cell_type": "code",
   "execution_count": 12,
   "metadata": {},
   "outputs": [
    {
     "name": "stdout",
     "output_type": "stream",
     "text": [
      "x\n",
      " [[ 99  77  93  94 102]\n",
      " [  1 110 108 114 112]\n",
      " [ 79 120 124   1 120]\n",
      " [114 119   1 109 120]\n",
      " [123 121 122 106 108]]\n",
      "\n",
      "y\n",
      " [[ 77  93  94 102   1]\n",
      " [110 108 114 112 111]\n",
      " [120 124   1 120 124]\n",
      " [119   1 109 120 108]\n",
      " [121 122 106 108 111]]\n"
     ]
    }
   ],
   "source": [
    "batches = dataset.get_batches(10, 50)\n",
    "x, y = next(batches)\n",
    "print('x\\n', x[:5, :5])\n",
    "print('\\ny\\n', y[:5, :5])"
   ]
  },
  {
   "cell_type": "code",
   "execution_count": null,
   "metadata": {},
   "outputs": [],
   "source": []
  }
 ],
 "metadata": {
  "kernelspec": {
   "display_name": "Python 3",
   "language": "python",
   "name": "python3"
  },
  "language_info": {
   "codemirror_mode": {
    "name": "ipython",
    "version": 3
   },
   "file_extension": ".py",
   "mimetype": "text/x-python",
   "name": "python",
   "nbconvert_exporter": "python",
   "pygments_lexer": "ipython3",
   "version": "3.5.2"
  }
 },
 "nbformat": 4,
 "nbformat_minor": 2
}
