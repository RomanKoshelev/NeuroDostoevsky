{
 "cells": [
  {
   "cell_type": "markdown",
   "metadata": {},
   "source": [
    "# Math False Dataset"
   ]
  },
  {
   "cell_type": "code",
   "execution_count": 24,
   "metadata": {},
   "outputs": [],
   "source": [
    "import numpy as np\n",
    "from math_generator import MathGenerator\n",
    "from math_vocab import MathVocab\n",
    "from math_dataset import MathDataset\n",
    "from utils import make_dir\n",
    "\n",
    "vocab_path      = \"data/math/math_vocab.data\"\n",
    "\n",
    "tr_text_path    = \"texts/math/math_false_train.txt\"\n",
    "va_text_path    = \"texts/math/math_false_valid.txt\"\n",
    "tr_dataset_path = \"data/math/math_false_dataset_train.data\"\n",
    "va_dataset_path = \"data/math/math_false_dataset_valid.data\"\n",
    "\n",
    "max_len     = 32\n",
    "gen_min_sum = 10\n",
    "gen_max_sum = 20\n",
    "gen_num     = 10000"
   ]
  },
  {
   "cell_type": "markdown",
   "metadata": {},
   "source": [
    "## Generator"
   ]
  },
  {
   "cell_type": "code",
   "execution_count": 25,
   "metadata": {},
   "outputs": [],
   "source": [
    "class FalseMathGenerator(MathGenerator):\n",
    "    def _get_rand_nums(self, sign):\n",
    "        if sign == '=':\n",
    "            while True:\n",
    "                n1 = np.random.randint(self._first, self._last)\n",
    "                n2 = np.random.randint(self._first, self._last)\n",
    "                if n2 != n1:\n",
    "                    break\n",
    "        else:\n",
    "            raise NotImplementedError            \n",
    "        return n1,n2\n",
    "    \n",
    "    def _generate_sent(self, sign):\n",
    "        num1,num2 = self._get_rand_nums(sign)\n",
    "        exp1 = self._to_sum_list(num1)\n",
    "        exp2 = self._to_sum_list(num2)\n",
    "        exp1 = self._sort_exp(exp1)\n",
    "        exp2 = self._sort_exp(exp2)\n",
    "        if sign == '=':\n",
    "            assert num1 == np.sum(exp1)\n",
    "            assert num2 == np.sum(exp2)\n",
    "            assert num2 != num1        \n",
    "        return self._to_sent(exp1, sign, exp2)"
   ]
  },
  {
   "cell_type": "code",
   "execution_count": 26,
   "metadata": {},
   "outputs": [
    {
     "name": "stdout",
     "output_type": "stream",
     "text": [
      "\n",
      "texts/math/math_false_train.txt:\n",
      "\n",
      "3+7 = 3+7+3+2\n",
      "2+4+2+5 = 7+2+1+2+2+1\n",
      "1+8+1 = 9+2+1\n",
      "6+4+6+1 = 5+3+3+3+2\n",
      "8+6+5 = 12+6\n",
      "1+12+1 = 4+4+4+1\n",
      " ...\n",
      "\n",
      "texts/math/math_false_valid.txt:\n",
      "\n",
      "1+3+12 = 1+5+8+3\n",
      "4+4+6+1 = 4+8+1+2+1\n",
      "1+1+4+5 = 1+2+4+2+3\n",
      "6+6+1+1 = 10+5\n",
      "5+6+1+4 = 1+10+2\n",
      "13+1 = 1+1+ ...\n"
     ]
    }
   ],
   "source": [
    "for path in [tr_text_path, va_text_path]:\n",
    "    gen = FalseMathGenerator(gen_min_sum, gen_max_sum)\n",
    "    sents = gen.generate('=', gen_num)\n",
    "    text = '\\n'.join(sents)\n",
    "\n",
    "    print('\\n%s:\\n'%path)\n",
    "    print(text[:100] + \" ...\")\n",
    "\n",
    "    make_dir(path)\n",
    "    with open(path, 'w') as f:\n",
    "        f.write(text)"
   ]
  },
  {
   "cell_type": "markdown",
   "metadata": {},
   "source": [
    "## False Dataset"
   ]
  },
  {
   "cell_type": "code",
   "execution_count": 27,
   "metadata": {},
   "outputs": [
    {
     "name": "stdout",
     "output_type": "stream",
     "text": [
      "data/math/math_false_dataset_train.data\n",
      "MathDataset:\n",
      "  path: data/math/math_false_dataset_train.data\n",
      "  shape: [10000, 34]\n",
      "  data_limit: None\n",
      "data/math/math_false_dataset_valid.data\n",
      "MathDataset:\n",
      "  path: data/math/math_false_dataset_valid.data\n",
      "  shape: [10000, 34]\n",
      "  data_limit: None\n"
     ]
    }
   ],
   "source": [
    "voc = MathVocab()\n",
    "voc.restore(vocab_path)\n",
    "\n",
    "dataset_paths = [tr_dataset_path, va_dataset_path]\n",
    "\n",
    "for i,text_path in enumerate([tr_text_path, va_text_path]):\n",
    "    dataset = MathDataset()\n",
    "    dataset.build(text_path, voc, max_len=max_len)\n",
    "    dataset.save(dataset_paths[i])\n",
    "    print(dataset_paths[i])\n",
    "    print(dataset)\n",
    "    assert dataset.shape[0] > 9900\n",
    "    assert dataset.shape[1] == max_len+2"
   ]
  },
  {
   "cell_type": "markdown",
   "metadata": {},
   "source": [
    "## Batch"
   ]
  },
  {
   "cell_type": "code",
   "execution_count": 28,
   "metadata": {},
   "outputs": [
    {
     "name": "stdout",
     "output_type": "stream",
     "text": [
      "<BOS>12+1+3 = 3+7<EOS>____________________\n",
      "<BOS>1+10+1 = 1+3+1+2+1+6<EOS>____________\n",
      "<BOS>8+7+3 = 4+5+6<EOS>___________________\n",
      "<BOS>12+1+1 = 12+2+4<EOS>_________________\n",
      "<BOS>12+1 = 13+6<EOS>_____________________\n",
      "<BOS>1+8+3+1 = 5+4+5<EOS>_________________\n",
      "<BOS>7+5 = 6+1+11<EOS>____________________\n",
      "<BOS>4+1+1+1+2+2 = 8+9<EOS>_______________\n",
      "<BOS>9+1+1 = 1+10+2<EOS>__________________\n",
      "<BOS>2+15 = 1+6+2+2<EOS>__________________\n",
      "<BOS>8+4 = 1+13+1+1<EOS>__________________\n",
      "<BOS>3+1+1+1+5+1 = 1+3+1+3+7<EOS>_________\n",
      "<BOS>19 = 6+3+1+3+4<EOS>__________________\n",
      "<BOS>2+4+4 = 1+9+1<EOS>___________________\n",
      "<BOS>1+1+14 = 11+1+3+3<EOS>_______________\n"
     ]
    }
   ],
   "source": [
    "voc = MathVocab()\n",
    "voc.restore(vocab_path)\n",
    "\n",
    "dataset = MathDataset()\n",
    "dataset.restore(tr_dataset_path)\n",
    "\n",
    "batch = dataset.get_next_batch(15)\n",
    "for sent in batch:\n",
    "    restored = \"\".join(voc.to_words(sent))\n",
    "    restored = restored.replace('<PAD>', '_')\n",
    "    print(restored)"
   ]
  },
  {
   "cell_type": "code",
   "execution_count": null,
   "metadata": {},
   "outputs": [],
   "source": []
  }
 ],
 "metadata": {
  "kernelspec": {
   "display_name": "Python 3",
   "language": "python",
   "name": "python3"
  },
  "language_info": {
   "codemirror_mode": {
    "name": "ipython",
    "version": 3
   },
   "file_extension": ".py",
   "mimetype": "text/x-python",
   "name": "python",
   "nbconvert_exporter": "python",
   "pygments_lexer": "ipython3",
   "version": "3.5.2"
  }
 },
 "nbformat": 4,
 "nbformat_minor": 2
}
