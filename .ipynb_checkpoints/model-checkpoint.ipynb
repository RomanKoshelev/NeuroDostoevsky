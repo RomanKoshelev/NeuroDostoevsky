{
 "cells": [
  {
   "cell_type": "markdown",
   "metadata": {},
   "source": [
    "# Idiot\n",
    "https://habrahabr.ru/post/342738/"
   ]
  },
  {
   "cell_type": "code",
   "execution_count": 1,
   "metadata": {},
   "outputs": [],
   "source": [
    "import time\n",
    "from collections import namedtuple\n",
    "import numpy as np\n",
    "import tensorflow as tf\n",
    "from dataset import Dataset"
   ]
  },
  {
   "cell_type": "code",
   "execution_count": 2,
   "metadata": {},
   "outputs": [],
   "source": [
    "dataset = Dataset()\n",
    "dataset.load('data/anna.txt')\n",
    "model_path = 'models/002/model.ckpt'"
   ]
  },
  {
   "cell_type": "code",
   "execution_count": 9,
   "metadata": {},
   "outputs": [],
   "source": [
    "def build_inputs():\n",
    "    inputs  = tf.placeholder(tf.int32, [None, None], name='inputs')\n",
    "    targets = tf.placeholder(tf.int32, [None, None], name='targets')\n",
    "    \n",
    "    keep_prob = tf.placeholder(tf.float32, name='keep_prob')\n",
    "    \n",
    "    return inputs, targets, keep_prob"
   ]
  },
  {
   "cell_type": "code",
   "execution_count": 10,
   "metadata": {},
   "outputs": [],
   "source": [
    "def build_lstm(lstm_size, num_layers, keep_prob):\n",
    "    def build_cell(lstm_size, keep_prob):\n",
    "        lstm = tf.contrib.rnn.BasicLSTMCell(lstm_size)\n",
    "        drop = tf.contrib.rnn.DropoutWrapper(lstm, output_keep_prob=keep_prob)\n",
    "        return drop\n",
    "    \n",
    "    cell = tf.contrib.rnn.MultiRNNCell([build_cell(lstm_size, keep_prob) for _ in range(num_layers)])\n",
    "    return cell"
   ]
  },
  {
   "cell_type": "code",
   "execution_count": 11,
   "metadata": {},
   "outputs": [],
   "source": [
    "def build_output(lstm_output, in_size, out_size):\n",
    "    ''' Строим softmax слой и возвращаем результат его работы.\n",
    "    \n",
    "        Аргументы\n",
    "        ---------\n",
    "        \n",
    "        x: Входящий от LSTM тензор\n",
    "        in_size: Размер входящего тензора, (кол-во LSTM юнитов скрытого слоя)\n",
    "        out_size: Размер softmax слоя (объем словаря)\n",
    "    \n",
    "    '''\n",
    "\n",
    "    # вытягиваем и решэйпим тензор, выполняя преобразование 3D -> 2D\n",
    "    seq_output = tf.concat(lstm_output, axis=1)\n",
    "    x = tf.reshape(seq_output, [-1, in_size])\n",
    "    \n",
    "    # Соединяем результат LTSM слоев с softmax слоем\n",
    "    with tf.variable_scope('softmax'):\n",
    "        softmax_w = tf.Variable(tf.truncated_normal((in_size, out_size), stddev=0.1))\n",
    "        softmax_b = tf.Variable(tf.zeros(out_size))\n",
    "    \n",
    "    # Считаем logit-функцию\n",
    "    logits = tf.matmul(x, softmax_w) + softmax_b\n",
    "    # Используем функцию softmax для получения предсказания\n",
    "    out = tf.nn.softmax(logits, name='predictions')\n",
    "    \n",
    "    return out, logits"
   ]
  },
  {
   "cell_type": "code",
   "execution_count": 12,
   "metadata": {},
   "outputs": [],
   "source": [
    "def build_loss(logits, targets, lstm_size, num_classes):\n",
    "    ''' Считаем функцию потери на основании значений logit-функции и целевых значений.\n",
    "    \n",
    "        Аргументы\n",
    "        ---------\n",
    "        logits: значение logit-функции\n",
    "        targets: целевые значения, с которыми сравниваем предсказания\n",
    "        lstm_size: Количество юнитов в LSTM слое\n",
    "        num_classes: Количество классов в целевых значениях (размер словаря)\n",
    "        \n",
    "    '''\n",
    "    # Делаем one-hot кодирование целевых значений и решейпим по образу и подобию logits\n",
    "    y_one_hot = tf.one_hot(targets, num_classes)\n",
    "    # y_reshaped = tf.reshape(y_one_hot, logits.get_shape())\n",
    "    \n",
    "    # Считаем значение функции потери softmax cross entropy loss и возвращаем среднее значение\n",
    "    loss = tf.nn.softmax_cross_entropy_with_logits(logits=logits, labels=y_one_hot)\n",
    "    loss = tf.reduce_mean(loss)\n",
    "    return loss"
   ]
  },
  {
   "cell_type": "code",
   "execution_count": 13,
   "metadata": {},
   "outputs": [],
   "source": [
    "def build_optimizer(loss, learning_rate, grad_clip):\n",
    "    ''' Строим оптимизатор для обучения, используя обрезку градиента.\n",
    "    \n",
    "        Arguments:\n",
    "        loss: значение функции потери\n",
    "        learning_rate: параметр скорости обучения\n",
    "    \n",
    "    '''\n",
    "    \n",
    "    # Оптимизатор для обучения, обрезка градиента для контроля \"взрывающихся\" градиентов\n",
    "    tvars = tf.trainable_variables()\n",
    "    grads, _ = tf.clip_by_global_norm(tf.gradients(loss, tvars), grad_clip)\n",
    "    train_op = tf.train.AdamOptimizer(learning_rate)\n",
    "    optimizer = train_op.apply_gradients(zip(grads, tvars))\n",
    "    \n",
    "    return optimizer"
   ]
  },
  {
   "cell_type": "code",
   "execution_count": 14,
   "metadata": {},
   "outputs": [],
   "source": [
    "class CharRNN:\n",
    "    \n",
    "    def __init__(self, num_classes, lstm_size=128, num_layers=2, learning_rate=0.001, grad_clip=5):\n",
    "\n",
    "        tf.reset_default_graph()\n",
    "        \n",
    "        # Получаем input placeholder'ы\n",
    "        self.inputs, self.targets, self.keep_prob = build_inputs()\n",
    "\n",
    "        # Строим LSTM ячейку\n",
    "        cell = build_lstm(lstm_size, num_layers, self.keep_prob)\n",
    "\n",
    "        ### Прогоняем данные через RNN слои\n",
    "        # Делаем one-hot кодирование входящих данных\n",
    "        x_one_hot = tf.one_hot(self.inputs, num_classes)\n",
    "        \n",
    "        # Прогоняем данные через RNN и собираем результаты\n",
    "        self.seq_length_pl = tf.placeholder(tf.int32, [None], 'seq_length')\n",
    "        outputs, state = tf.nn.dynamic_rnn(cell, x_one_hot, sequence_length=self.seq_length_pl, dtype=tf.float32)\n",
    "        self.final_state = state\n",
    "\n",
    "        # Получаем предсказания (softmax) и результат logit-функции\n",
    "        self.prediction, self.logits = build_output(outputs, lstm_size, num_classes)\n",
    "        \n",
    "\n",
    "        # Считаем потери и оптимизируем (с обрезкой градиента)\n",
    "        self.loss = build_loss(self.logits, self.targets, lstm_size, num_classes)\n",
    "        self.optimizer = build_optimizer(self.loss, learning_rate, grad_clip)"
   ]
  },
  {
   "cell_type": "code",
   "execution_count": 15,
   "metadata": {},
   "outputs": [],
   "source": [
    "batch_size = 100        # Размер пакета\n",
    "num_steps = 100         # Шагов в пакете\n",
    "lstm_size = 512         # Количество LSTM юнитов в скрытом слое\n",
    "num_layers = 2          # Количество LSTM слоев\n",
    "learning_rate = 0.001   # Скорость обучения\n",
    "keep_prob = 0.5         # Dropout keep probability"
   ]
  },
  {
   "cell_type": "code",
   "execution_count": null,
   "metadata": {
    "scrolled": false
   },
   "outputs": [
    {
     "name": "stdout",
     "output_type": "stream",
     "text": [
      "INFO:tensorflow:Restoring parameters from models/002/model.ckpt\n",
      "Epoch: 1/50...  Training Step: 100...  Training loss: 3.0510...  0.3174 sec/batch\n",
      "Epoch: 2/50...  Training Step: 200...  Training loss: 2.9471...  0.3797 sec/batch\n",
      "Epoch: 2/50...  Training Step: 300...  Training loss: 2.9032...  0.3618 sec/batch\n",
      "Epoch: 3/50...  Training Step: 400...  Training loss: 2.8489...  0.3292 sec/batch\n",
      "Epoch: 3/50...  Training Step: 500...  Training loss: 2.8093...  0.2285 sec/batch\n",
      "Epoch: 4/50...  Training Step: 600...  Training loss: 2.7406...  0.2734 sec/batch\n",
      "Epoch: 5/50...  Training Step: 700...  Training loss: 2.7020...  0.2926 sec/batch\n",
      "Epoch: 5/50...  Training Step: 800...  Training loss: 2.6888...  0.4158 sec/batch\n",
      "Epoch: 6/50...  Training Step: 900...  Training loss: 2.6460...  0.3675 sec/batch\n",
      "Epoch: 6/50...  Training Step: 1000...  Training loss: 2.6411...  0.3125 sec/batch\n",
      "Epoch: 7/50...  Training Step: 1100...  Training loss: 2.6187...  0.2596 sec/batch\n",
      "Epoch: 8/50...  Training Step: 1200...  Training loss: 2.5649...  0.3567 sec/batch\n"
     ]
    }
   ],
   "source": [
    "%%time\n",
    "epochs = 50\n",
    "# Сохраняться каждый N итераций\n",
    "save_every_n = 100\n",
    "vocab = dataset.vocab\n",
    "\n",
    "model = CharRNN(len(vocab), \n",
    "                lstm_size=lstm_size, num_layers=num_layers, \n",
    "                learning_rate=learning_rate)\n",
    "\n",
    "saver = tf.train.Saver()\n",
    "sess  = tf.Session()\n",
    "try:\n",
    "    sess.run(tf.global_variables_initializer())\n",
    "\n",
    "    try:\n",
    "        saver.restore(sess, model_path)\n",
    "    except:\n",
    "        print(\"no data at\", model_path)\n",
    "    counter = 0\n",
    "    for e in range(epochs):\n",
    "        # Обучаем сеть\n",
    "        loss = 0\n",
    "        for x, y in dataset.get_batches(batch_size, num_steps):\n",
    "            counter += 1\n",
    "            start = time.time()\n",
    "            feed = {model.inputs: x,\n",
    "                    model.targets: y,\n",
    "                    model.seq_length_pl: [50, ]*batch_size,\n",
    "                    model.keep_prob: keep_prob}\n",
    "            batch_loss, new_state, _ = sess.run([model.loss, \n",
    "                                                 model.final_state, \n",
    "                                                 model.optimizer], \n",
    "                                                 feed_dict=feed)\n",
    "\n",
    "            end = time.time()\n",
    "\n",
    "            if (counter % save_every_n == 0):\n",
    "                saver.save(sess, model_path)\n",
    "                print('Epoch: {}/{}... '.format(e+1, epochs),\n",
    "                      'Training Step: {}... '.format(counter),\n",
    "                      'Training loss: {:.4f}... '.format(batch_loss),\n",
    "                      '{:.4f} sec/batch'.format((end-start)))\n",
    "except KeyboardInterrupt:\n",
    "    pass"
   ]
  },
  {
   "cell_type": "code",
   "execution_count": null,
   "metadata": {},
   "outputs": [],
   "source": [
    "# TDO: Initial state! and state for learing and generation"
   ]
  },
  {
   "cell_type": "code",
   "execution_count": 17,
   "metadata": {},
   "outputs": [],
   "source": [
    "def pick_top_n(preds, vocab_size, top_n):\n",
    "    p = np.squeeze(preds)\n",
    "    p[np.argsort(p)[:-top_n]] = 0\n",
    "    p = p / np.sum(p)\n",
    "    c = np.random.choice(vocab_size, 1, p=p)[0]\n",
    "    return c"
   ]
  },
  {
   "cell_type": "code",
   "execution_count": 18,
   "metadata": {},
   "outputs": [],
   "source": [
    "def sample(model, n_samples, lstm_size, vocab_size, top_n, prime=\"Глаза его были большие\"):\n",
    "    samples = [c for c in prime]\n",
    "    for c in prime:\n",
    "        x = np.zeros((1, 1))\n",
    "        x[0,0] = dataset.vocab_to_int[c]\n",
    "        feed = {model.inputs: x,\n",
    "                model.seq_length_pl: [1, ]*1,\n",
    "                model.keep_prob: 1.}\n",
    "        preds, new_state = sess.run([model.prediction, model.final_state], feed_dict=feed)\n",
    "\n",
    "    c = pick_top_n(preds, len(dataset.vocab), top_n)\n",
    "    samples.append(dataset.int_to_vocab[c])\n",
    "\n",
    "    for i in range(n_samples):\n",
    "        x[0,0] = c\n",
    "        feed = {model.inputs: x,\n",
    "                model.seq_length_pl: [1,]*1,\n",
    "                model.keep_prob: 1.}\n",
    "        preds, new_state = sess.run([model.prediction, model.final_state], feed_dict=feed)\n",
    "\n",
    "        c = pick_top_n(preds, len(dataset.vocab), top_n)\n",
    "        samples.append(dataset.int_to_vocab[c])\n",
    "        \n",
    "    return ''.join(samples)"
   ]
  },
  {
   "cell_type": "code",
   "execution_count": 19,
   "metadata": {
    "scrolled": false
   },
   "outputs": [
    {
     "name": "stdout",
     "output_type": "stream",
     "text": [
      "--------------------------------------------------\n",
      "Доколе математики будут уверены в непогрешимости своего мозга, и доказательств, оттуда выходящих?\n",
      "\n",
      " сто о пи оне се нотатескоса пето сеноти нулетонусла остестоти по пали нитове о вонитете оноталаско састрена пестоте во пра насетина оно слосатеноно нал по сто слоно пото не но во ни о нескотри скиното востени валалититов пра о но овито ни оселало се васлино пи ве ве нину повостоноста скателатостостото нуленалоно пра палиласлалета ноте пеле о проно скатовове ски ве сти се восла стресенелони сла, ск нала, пона, селалини нисалетотисе не ва, но понели витра оста прустова прало оскосло на, насло пал\n"
     ]
    }
   ],
   "source": [
    "# samp = sample(1000, lstm_size, len(vocab), top_n=5, prime=)\n",
    "primes = ['Доколе математики будут уверены в непогрешимости своего мозга, и доказательств, оттуда выходящих?']\n",
    "for prime in primes:\n",
    "    print('-'*50)\n",
    "    samp = sample(model, 500, lstm_size, len(dataset.vocab), top_n=5, prime=prime)\n",
    "    samp = samp.replace('\\n', '\\n\\n')\n",
    "    print(samp)"
   ]
  },
  {
   "cell_type": "code",
   "execution_count": null,
   "metadata": {},
   "outputs": [],
   "source": []
  },
  {
   "cell_type": "code",
   "execution_count": null,
   "metadata": {},
   "outputs": [],
   "source": []
  },
  {
   "cell_type": "code",
   "execution_count": null,
   "metadata": {},
   "outputs": [],
   "source": []
  },
  {
   "cell_type": "code",
   "execution_count": null,
   "metadata": {},
   "outputs": [],
   "source": []
  },
  {
   "cell_type": "code",
   "execution_count": null,
   "metadata": {},
   "outputs": [],
   "source": []
  },
  {
   "cell_type": "code",
   "execution_count": null,
   "metadata": {},
   "outputs": [],
   "source": []
  }
 ],
 "metadata": {
  "kernelspec": {
   "display_name": "Python 3",
   "language": "python",
   "name": "python3"
  },
  "language_info": {
   "codemirror_mode": {
    "name": "ipython",
    "version": 3
   },
   "file_extension": ".py",
   "mimetype": "text/x-python",
   "name": "python",
   "nbconvert_exporter": "python",
   "pygments_lexer": "ipython3",
   "version": "3.5.2"
  }
 },
 "nbformat": 4,
 "nbformat_minor": 2
}
