{
 "cells": [
  {
   "cell_type": "markdown",
   "metadata": {},
   "source": [
    "# MathAutoencoder"
   ]
  },
  {
   "cell_type": "code",
   "execution_count": 1,
   "metadata": {},
   "outputs": [],
   "source": [
    "import numpy as np\n",
    "from math_vocab import MathVocab\n",
    "from vocabulary import BOS_CODE\n",
    "from math_dataset import MathDataset\n",
    "from utils import words_to_sent\n",
    "\n",
    "voc_path        = \"data/math/math_vocab.data\"\n",
    "tr_dataset_path = \"data/math/math_dataset_train.data\"\n",
    "va_dataset_path = \"data/math/math_dataset_valid.data\"\n",
    "model_path      = 'models/math/autoencoder-001/'"
   ]
  },
  {
   "cell_type": "markdown",
   "metadata": {},
   "source": [
    "## Vocabulary"
   ]
  },
  {
   "cell_type": "code",
   "execution_count": 2,
   "metadata": {},
   "outputs": [
    {
     "name": "stdout",
     "output_type": "stream",
     "text": [
      "MathVocab:\n",
      "  size: 17\n",
      "  _tokens_to_words: ['<UNK>', '<BOS>', '<EOS>', '<PAD>', '+', '1', ' ', '2', '=', '3', '4', '5', '6', '7', '8', '9', '0']\n"
     ]
    }
   ],
   "source": [
    "voc = MathVocab()\n",
    "voc.restore(voc_path)\n",
    "print(voc)"
   ]
  },
  {
   "cell_type": "markdown",
   "metadata": {},
   "source": [
    "## Dataset"
   ]
  },
  {
   "cell_type": "code",
   "execution_count": 3,
   "metadata": {},
   "outputs": [
    {
     "name": "stdout",
     "output_type": "stream",
     "text": [
      "MathDataset:\n",
      "  path: data/math/math_dataset_train.data\n",
      "  shape: [1000, 34]\n",
      "  data_limit: None\n",
      "MathDataset:\n",
      "  path: data/math/math_dataset_valid.data\n",
      "  shape: [1000, 34]\n",
      "  data_limit: None\n"
     ]
    }
   ],
   "source": [
    "tr_dataset = MathDataset()\n",
    "tr_dataset.restore(tr_dataset_path)\n",
    "print(tr_dataset)\n",
    "\n",
    "va_dataset = MathDataset()\n",
    "va_dataset.restore(va_dataset_path)\n",
    "print(va_dataset)"
   ]
  },
  {
   "cell_type": "markdown",
   "metadata": {},
   "source": [
    "## Model"
   ]
  },
  {
   "cell_type": "code",
   "execution_count": 7,
   "metadata": {},
   "outputs": [],
   "source": [
    "import os\n",
    "from utils import make_dir\n",
    "import numpy as np\n",
    "import tensorflow as tf\n",
    "import pickle\n",
    "from visualization import show_train_stats_ex\n",
    "\n",
    "class AutoencoderRNN:\n",
    "    def __init__(self):\n",
    "        self._scope    = 'autoencoder_rnn'\n",
    "        # state\n",
    "        self.tr_step   = 0\n",
    "        self.tr_epoch  = 0\n",
    "        self.tr_losses = []\n",
    "        self.va_losses = []\n",
    "        \n",
    "    \n",
    "    def _make_rnn_cell(self, num_units, num_layers, keep_prob):\n",
    "        def make_layer():\n",
    "            l = tf.contrib.rnn.BasicLSTMCell(num_units)\n",
    "            l = tf.contrib.rnn.DropoutWrapper(l, output_keep_prob=keep_prob)\n",
    "            return l        \n",
    "        layers = [make_layer() for _ in range(num_layers)]\n",
    "        cell   = tf.contrib.rnn.MultiRNNCell(layers)\n",
    "        return cell\n",
    "\n",
    "    \n",
    "    def _make_loss(self, logits, labels):\n",
    "        loss = tf.nn.sparse_softmax_cross_entropy_with_logits(\n",
    "            logits = logits,\n",
    "            labels = labels)\n",
    "        return tf.reduce_mean(loss)\n",
    "    \n",
    "\n",
    "    def _make_optimizer(self, loss, lr, grad_clip):\n",
    "        tr_vars   = tf.trainable_variables()\n",
    "        grads, _  = tf.clip_by_global_norm(tf.gradients(loss, tr_vars), grad_clip)\n",
    "        train_op  = tf.train.AdamOptimizer(lr)\n",
    "        optimizer = train_op.apply_gradients(zip(grads, tr_vars))\n",
    "        return optimizer\n",
    "    \n",
    "    \n",
    "    def _make_decoder(self, inp, h, num_units, num_layers, voc_size, seq_len, keep_prob):\n",
    "        cell = self._make_rnn_cell(num_units, num_layers, keep_prob)\n",
    "        logits_seq = []\n",
    "\n",
    "        def loop_function(outputs):\n",
    "            logits = tf.layers.dense(outputs, voc_size, name='projection')\n",
    "            token = tf.argmax(logits, axis=1)\n",
    "            inp = tf.nn.embedding_lookup(self.embedding, token)\n",
    "            return inp, logits\n",
    "            \n",
    "        with tf.variable_scope('decoder', reuse=tf.AUTO_REUSE):\n",
    "            for t in range(seq_len):\n",
    "                output, h = cell(inp, h)\n",
    "                inp, logits = loop_function(output)\n",
    "                logits_seq.append(tf.expand_dims(logits, 1))\n",
    "\n",
    "        return tf.concat(logits_seq, 1)\n",
    "    \n",
    "    \n",
    "    def build(self, voc_size, bos_token, emb_size, seq_len, num_units, num_layers, grad_clip=5):\n",
    "        tf.reset_default_graph()\n",
    "        self._graph = tf.Graph()\n",
    "        with self._graph.as_default(), tf.variable_scope(self._scope):\n",
    "            # placeholders\n",
    "            self.enc_inputs_pl = tf.placeholder(tf.int32, [None, None], name='enc_inputs')\n",
    "            self.targets_pl    = tf.placeholder(tf.int32, [None, None], name='targets')\n",
    "            self.batch_size_pl = tf.placeholder(tf.int32, shape=[], name='batch_size')\n",
    "            self.keep_prob_pl  = tf.placeholder(tf.float32, name='keep_prob')\n",
    "            self.lr_pl         = tf.placeholder(tf.float32, name='learning_rate')\n",
    "\n",
    "            # embedding\n",
    "            self.embedding     = tf.Variable(tf.random_normal(shape=[voc_size, emb_size], dtype=tf.float32))\n",
    "            en_inputs          = tf.nn.embedding_lookup(self.embedding, self.enc_inputs_pl)\n",
    "            bos_tokens         = tf.tile([bos_token], tf.expand_dims(self.batch_size_pl,0))  \n",
    "            de_inputs          = tf.nn.embedding_lookup(self.embedding, bos_tokens)\n",
    "            \n",
    "            # encoder\n",
    "            en_cell            = self._make_rnn_cell(num_units, num_layers, self.keep_prob_pl)\n",
    "            en_initial_state   = en_cell.zero_state(self.batch_size_pl, tf.float32)\n",
    "            seq_lens           = tf.tile([seq_len], tf.expand_dims(self.batch_size_pl,0))\n",
    "            _, en_state        = tf.nn.dynamic_rnn(en_cell, en_inputs, seq_lens, en_initial_state, scope='encoder')\n",
    "\n",
    "            # decoder\n",
    "            de_logits = self._make_decoder(\n",
    "                inp        = de_inputs, \n",
    "                h          = en_state, \n",
    "                num_units  = num_units, \n",
    "                num_layers = num_layers,\n",
    "                voc_size   = voc_size,\n",
    "                seq_len    = seq_len, \n",
    "                keep_prob  = self.keep_prob_pl)\n",
    "\n",
    "            # prediction\n",
    "            self.outputs       = tf.argmax(tf.nn.softmax(de_logits), axis=2)\n",
    "\n",
    "            # training\n",
    "            self.loss_op       = self._make_loss(de_logits, self.targets_pl)\n",
    "            self.train_op      = self._make_optimizer(self.loss_op, self.lr_pl, grad_clip)\n",
    "            \n",
    "            # utils\n",
    "            self.init_op       = tf.global_variables_initializer()\n",
    "            self._saver        = tf.train.Saver()\n",
    "\n",
    "        # session\n",
    "        self._sess = tf.Session(graph=self._graph)\n",
    "        self._sess.run(self.init_op)\n",
    "        \n",
    "        \n",
    "    def train(self, tr_dataset, va_dataset, \n",
    "              step_num,  batch_size, learning_rate, keep_prob=.5, log_every=20, mean_win=30):\n",
    "        try:\n",
    "            data_size = tr_dataset.get_data_size()\n",
    "            for self.tr_step in range(self.tr_step, step_num-1):\n",
    "                ep = self.tr_step*batch_size/data_size\n",
    "                # Train\n",
    "                sents = tr_dataset.get_next_batch(batch_size)\n",
    "                tr_loss, _ = self._sess.run(\n",
    "                    [self.loss_op, self.train_op], \n",
    "                    feed_dict = {\n",
    "                        self.enc_inputs_pl: sents,\n",
    "                        self.targets_pl   : sents,\n",
    "                        self.batch_size_pl: batch_size,\n",
    "                        self.keep_prob_pl : keep_prob,\n",
    "                        self.lr_pl        : learning_rate,\n",
    "                })\n",
    "                self.tr_losses.append(tr_loss)\n",
    "                # Eval\n",
    "                if self.tr_step % log_every == log_every-1:\n",
    "                    sents = va_dataset.get_next_batch(batch_size)\n",
    "                    va_loss = self._sess.run(\n",
    "                        self.loss_op, \n",
    "                        feed_dict={\n",
    "                            self.enc_inputs_pl: sents,\n",
    "                            self.targets_pl   : sents,\n",
    "                            self.batch_size_pl: batch_size,\n",
    "                            self.keep_prob_pl : keep_prob,\n",
    "                            self.lr_pl        : learning_rate,\n",
    "                        })\n",
    "                    self.va_losses.extend([va_loss]*log_every)\n",
    "                    show_train_stats_ex(ep, self.tr_step, self.tr_losses, self.va_losses, mean_win)\n",
    "                        \n",
    "        except KeyboardInterrupt:\n",
    "            show_train_stats_ex(ep, self.tr_step, self.tr_losses, self.va_losses, mean_win)\n",
    "            \n",
    "\n",
    "    def save(self, path):\n",
    "        make_dir(path)\n",
    "        pickle.dump([self.tr_epoch, self.tr_step, self.tr_losses, self.va_losses], \n",
    "                    open(os.path.join(path, \"state.p\"), \"wb\"))\n",
    "        self._saver.save(self._sess, path)\n",
    "        \n",
    "        \n",
    "    def restore(self, path):\n",
    "        try:\n",
    "            [self.tr_epoch, self.tr_step, self.tr_losses, self.va_losses] = pickle.load(\n",
    "                open(os.path.join(path, \"state.p\"), \"rb\"))\n",
    "        except: \n",
    "            print(\"State not found at\", path)\n",
    "        self._saver.restore(self._sess, path)\n",
    "        \n",
    "        \n",
    "    def run(self, sents, batch_size, seq_length):\n",
    "        return self._sess.run(\n",
    "            self.outputs, \n",
    "            feed_dict = {\n",
    "                self.enc_inputs_pl: sents,\n",
    "                self.targets_pl   : sents,\n",
    "                self.batch_size_pl: batch_size,\n",
    "                self.keep_prob_pl : 1,\n",
    "        })\n",
    "    \n",
    "    def get_embeddings(self):\n",
    "        return self.embedding.eval(self._sess)\n"
   ]
  },
  {
   "cell_type": "markdown",
   "metadata": {},
   "source": [
    "## Build"
   ]
  },
  {
   "cell_type": "code",
   "execution_count": 8,
   "metadata": {
    "scrolled": false
   },
   "outputs": [
    {
     "name": "stdout",
     "output_type": "stream",
     "text": [
      "CPU times: user 6.72 s, sys: 448 ms, total: 7.17 s\n",
      "Wall time: 6.56 s\n"
     ]
    }
   ],
   "source": [
    "%%time\n",
    "model = AutoencoderRNN()\n",
    "seq_len = tr_dataset.get_seq_len()\n",
    "assert seq_len == va_dataset.get_seq_len()\n",
    "\n",
    "model.build(\n",
    "    voc_size   = voc.size, \n",
    "    bos_token  = BOS_CODE,\n",
    "    seq_len    = seq_len,\n",
    "    emb_size   = 100, \n",
    "    num_units  = 128, \n",
    "    num_layers = 2)"
   ]
  },
  {
   "cell_type": "markdown",
   "metadata": {},
   "source": [
    "## Train"
   ]
  },
  {
   "cell_type": "code",
   "execution_count": 44,
   "metadata": {},
   "outputs": [
    {
     "data": {
      "image/png": "[encoded data removed]",
      "text/plain": [
       "<matplotlib.figure.Figure at 0x7fd147e957b8>"
      ]
     },
     "metadata": {},
     "output_type": "display_data"
    },
    {
     "name": "stdout",
     "output_type": "stream",
     "text": [
      "CPU times: user 6min 34s, sys: 1min 43s, total: 8min 17s\n",
      "Wall time: 4min 10s\n"
     ]
    }
   ],
   "source": [
    "%%time\n",
    "%matplotlib inline\n",
    "\n",
    "model.train(\n",
    "    step_num      = 10000,\n",
    "    batch_size    = 64, \n",
    "    learning_rate = 1e-3, \n",
    "    mean_win      = 30,\n",
    "    log_every     = 10,\n",
    "    tr_dataset    = tr_dataset,\n",
    "    va_dataset    = va_dataset,\n",
    ")\n",
    "model.save(model_path)"
   ]
  },
  {
   "cell_type": "markdown",
   "metadata": {},
   "source": [
    "## Test"
   ]
  },
  {
   "cell_type": "code",
   "execution_count": 45,
   "metadata": {
    "scrolled": false
   },
   "outputs": [
    {
     "name": "stdout",
     "output_type": "stream",
     "text": [
      "\n",
      "================================================================================\n",
      "data/math/math_dataset_train.data\n",
      "--------------------------------------------------\n",
      "[4+1+11 = 16]_____________________\n",
      "[4+1+11 = 16]_____________________\n",
      "--------------------------------------------------\n",
      "[10+1 = 11]_______________________\n",
      "[10+1 = 11]_______________________\n",
      "--------------------------------------------------\n",
      "[3+6+8 = 12+1+4]__________________\n",
      "[3+6+8 = 12+1+4]__________________\n",
      "--------------------------------------------------\n",
      "[1+2+3+2+3+1 = 2+4+6]_____________\n",
      "[1+2+3+2+3+1 = 2+4+6]_____________\n",
      "--------------------------------------------------\n",
      "[2+6+5 = 1+11+1]__________________\n",
      "[2+6+5 = 1+11+1]__________________\n",
      "--------------------------------------------------\n",
      "[3+7 = 8+2]_______________________\n",
      "[3+7 = 8+2]_______________________\n",
      "--------------------------------------------------\n",
      "[7+1+1+1+1+1+1 = 3+1+6+2+1]_______\n",
      "[7+1+1+1+1+1+1 = 3+1+6+2+1]_______\n",
      "--------------------------------------------------\n",
      "[2+4+1+2+1 = 10]__________________\n",
      "[2+4+1+2+1 = 10]__________________\n",
      "--------------------------------------------------\n",
      "[16+3 = 4+13+2]___________________\n",
      "[16+3 = 4+13+2]___________________\n",
      "--------------------------------------------------\n",
      "[1+1+10+2 = 8+6]__________________\n",
      "[1+1+10+2 = 8+6]__________________\n",
      "\n",
      "================================================================================\n",
      "data/math/math_dataset_valid.data\n",
      "--------------------------------------------------\n",
      "[6+4 = 1+4+5]_____________________\n",
      "[6+4 = 1+4+5]_____________________\n",
      "--------------------------------------------------\n",
      "[4+8 = 1+2+8+1]___________________\n",
      "[4+8 = 1+2+8+1]___________________\n",
      "--------------------------------------------------\n",
      "[1+2+5+1+3+1 = 2+5+6]_____________\n",
      "[1+2+5+3+1+1 = 2+5+6]_____________\n",
      "--------------------------------------------------\n",
      "[15 = 1+2+10+2]___________________\n",
      "[15 = 1+2+10+2]___________________\n",
      "--------------------------------------------------\n",
      "[3+2+4+1 = 2+8]___________________\n",
      "[3+2+4+1 = 2+8]___________________\n",
      "--------------------------------------------------\n",
      "[5+2+3 = 1+1+8]___________________\n",
      "[5+2+3 = 1+1+8]___________________\n",
      "--------------------------------------------------\n",
      "[3+1+1+3+3 = 7+4]_________________\n",
      "[3+1+1+3+3 = 7+4]_________________\n",
      "--------------------------------------------------\n",
      "[6+1+8+1 = 7+9]___________________\n",
      "[6+1+8+1 = 7+9]___________________\n",
      "--------------------------------------------------\n",
      "[1+1+9 = 5+6]_____________________\n",
      "[1+1+9 = 5+6]_____________________\n",
      "--------------------------------------------------\n",
      "[5+9+1+1 = 1+2+5+8]_______________\n",
      "[5+9+1+1 = 1+2+5+8]_______________\n"
     ]
    }
   ],
   "source": [
    "batch_size = 10\n",
    "\n",
    "for dataset in [tr_dataset, va_dataset]:\n",
    "    print('\\n'+'='*80+'\\n'+dataset._path)\n",
    "    inp = dataset.get_next_batch(batch_size)\n",
    "    out = model.run(inp, batch_size, seq_len)\n",
    "\n",
    "    def prepare(s):\n",
    "        words = voc.to_words(s)\n",
    "        s = \"\".join(words)\n",
    "        s = s.replace('<BOS>', '[').replace('<EOS>', ']').replace('<PAD>', '_')\n",
    "        return s\n",
    "\n",
    "    for i in range(len(inp)):\n",
    "        print('-'*50)\n",
    "        print(prepare(inp[i]))\n",
    "        print(prepare(out[i]))\n"
   ]
  },
  {
   "cell_type": "markdown",
   "metadata": {},
   "source": [
    "## Embeddings"
   ]
  },
  {
   "cell_type": "code",
   "execution_count": 47,
   "metadata": {},
   "outputs": [
    {
     "name": "stdout",
     "output_type": "stream",
     "text": [
      "(17, 100)\n"
     ]
    }
   ],
   "source": [
    "embeddings = model.get_embeddings()\n",
    "print(embeddings.shape)"
   ]
  },
  {
   "cell_type": "code",
   "execution_count": 56,
   "metadata": {},
   "outputs": [
    {
     "name": "stdout",
     "output_type": "stream",
     "text": [
      "[16, 5, 7, 9, 10, 11, 12, 13, 14, 15]\n"
     ]
    },
    {
     "data": {
      "image/png": "[encoded data removed]",
      "text/plain": [
       "<matplotlib.figure.Figure at 0x7fd147befd30>"
      ]
     },
     "metadata": {},
     "output_type": "display_data"
    }
   ],
   "source": [
    "from itertools import product\n",
    "digits = voc.to_tokens(list(\"0123456789\"))\n",
    "print(digits)\n",
    "emb = embeddings[digits,:]\n",
    "\n",
    "dist = np.zeros([10,10])\n",
    "for i,j in product(range(10), range(10)):\n",
    "    a,b = emb[i], emb[j]\n",
    "    dist[i,j] = np.sum((a-b)**2)\n",
    "    \n",
    "plt.imshow(dist, cmap='gray');"
   ]
  },
  {
   "cell_type": "code",
   "execution_count": null,
   "metadata": {},
   "outputs": [],
   "source": []
  },
  {
   "cell_type": "code",
   "execution_count": 49,
   "metadata": {},
   "outputs": [
    {
     "name": "stdout",
     "output_type": "stream",
     "text": [
      "['<UNK>', '<BOS>', '<EOS>', '<PAD>', '+', '1', ' ', '2', '=', '3', '4', '5', '6', '7', '8', '9', '0']\n"
     ]
    },
    {
     "data": {
      "image/png": "[encoded data removed]",
      "text/plain": [
       "<matplotlib.figure.Figure at 0x7fd024313f28>"
      ]
     },
     "metadata": {},
     "output_type": "display_data"
    }
   ],
   "source": [
    "from sklearn.manifold import TSNE\n",
    "from matplotlib import pyplot as plt\n",
    "%matplotlib inline\n",
    "\n",
    "emb = embeddings[0:]\n",
    "tsne = TSNE(perplexity=10, n_components=2, init=\"pca\", n_iter=5000)\n",
    "two_d_embeddings = tsne.fit_transform(emb)\n",
    "\n",
    "plt.figure(figsize=(7,7))\n",
    "\n",
    "words = voc.to_words(range(0,voc.size))\n",
    "\n",
    "print(words)\n",
    "\n",
    "for i, label in enumerate(words):\n",
    "    x, y = two_d_embeddings[i, :]\n",
    "    plt.scatter(x, y)\n",
    "    plt.annotate(label, xy=(x, y), xytext=(5, 2), textcoords=\"offset points\", ha=\"right\", va=\"bottom\")\n",
    "plt.show()"
   ]
  },
  {
   "cell_type": "code",
   "execution_count": 50,
   "metadata": {},
   "outputs": [
    {
     "data": {
      "image/png": "[encoded data removed]",
      "text/plain": [
       "<matplotlib.figure.Figure at 0x7fd147e95860>"
      ]
     },
     "metadata": {},
     "output_type": "display_data"
    }
   ],
   "source": [
    "la = np.linalg\n",
    "words = voc.to_words(range(voc.size))\n",
    "\n",
    "start = 0\n",
    "\n",
    "X =  embeddings[start:]\n",
    "\n",
    "U,S,V = la.svd(X)\n",
    "n = len(X)\n",
    "plt.figure(figsize=(7,7))\n",
    "\n",
    "for i in range(n):\n",
    "    x,y,w = U[i,0], U[i,1], words[start+i]\n",
    "    plt.scatter(x, y)\n",
    "    plt.annotate(w, xy=(x, y), xytext=(7, 2), textcoords=\"offset points\", ha=\"right\", va=\"bottom\")\n",
    "    #print('%+.2f, %+.2f, %s' % (x, y, w))\n",
    "plt.show()"
   ]
  },
  {
   "cell_type": "markdown",
   "metadata": {},
   "source": [
    "## Restore"
   ]
  },
  {
   "cell_type": "code",
   "execution_count": 53,
   "metadata": {
    "scrolled": true
   },
   "outputs": [
    {
     "name": "stdout",
     "output_type": "stream",
     "text": [
      "INFO:tensorflow:Restoring parameters from models/rnn_autoencoder/math-001/\n"
     ]
    }
   ],
   "source": [
    "model.restore(model_path)"
   ]
  }
 ],
 "metadata": {
  "kernelspec": {
   "display_name": "Python 3",
   "language": "python",
   "name": "python3"
  },
  "language_info": {
   "codemirror_mode": {
    "name": "ipython",
    "version": 3
   },
   "file_extension": ".py",
   "mimetype": "text/x-python",
   "name": "python",
   "nbconvert_exporter": "python",
   "pygments_lexer": "ipython3",
   "version": "3.5.2"
  }
 },
 "nbformat": 4,
 "nbformat_minor": 2
}
