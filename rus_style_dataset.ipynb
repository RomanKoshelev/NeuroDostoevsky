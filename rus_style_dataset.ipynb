{
 "cells": [
  {
   "cell_type": "markdown",
   "metadata": {},
   "source": [
    "# RusStyleDataset"
   ]
  },
  {
   "cell_type": "code",
   "execution_count": 8,
   "metadata": {},
   "outputs": [],
   "source": [
    "import numpy as np\n",
    "from vocabulary import Vocabulary\n",
    "from dataset import TextDataset\n",
    "from style_dataset import StyleDataset\n",
    "from utils import make_dir\n",
    "\n",
    "vocab_path      = \"data/rus_style/rus_vocab_2.data\"\n",
    "\n",
    "tr_text_path    = \"texts/rus_style/rus_%s_train.txt\"\n",
    "va_text_path    = \"texts/rus_style/rus_%s_valid.txt\"\n",
    "tr_dataset_path = \"data/rus_style/rus_dataset_%s_train_2.data\"\n",
    "va_dataset_path = \"data/rus_style/rus_dataset_%s_valid_2.data\"\n",
    "\n",
    "max_len = 24"
   ]
  },
  {
   "cell_type": "markdown",
   "metadata": {},
   "source": [
    "## Vocab"
   ]
  },
  {
   "cell_type": "code",
   "execution_count": 9,
   "metadata": {},
   "outputs": [
    {
     "name": "stdout",
     "output_type": "stream",
     "text": [
      "Vocabulary:\n",
      "  size: 60004\n",
      "  _tokens_to_words: ['<UNK>', '<BOS>', '<EOS>', '<PAD>', ',', '.', 'и', 'в', '—', 'не', 'что', 'на', '«', '»', 'я', 'с', 'он', 'как', '!', 'а']\n"
     ]
    }
   ],
   "source": [
    "voc = Vocabulary()\n",
    "voc.build(paths=[t % s for t in [tr_text_path, va_text_path] for s in [0,1]], max_size=60000)\n",
    "voc.save(vocab_path)\n",
    "print(voc)"
   ]
  },
  {
   "cell_type": "markdown",
   "metadata": {},
   "source": [
    "## Dataset"
   ]
  },
  {
   "cell_type": "code",
   "execution_count": 11,
   "metadata": {},
   "outputs": [
    {
     "name": "stdout",
     "output_type": "stream",
     "text": [
      "StyleDataset:\n",
      "  path_0: data/rus_style/rus_dataset_0_train_2.data\n",
      "  path_1: data/rus_style/rus_dataset_1_train_2.data\n",
      "  shape: [185840, 26]\n",
      "\n",
      "StyleDataset:\n",
      "  path_0: data/rus_style/rus_dataset_0_valid_2.data\n",
      "  path_1: data/rus_style/rus_dataset_1_valid_2.data\n",
      "  shape: [185840, 26]\n",
      "\n"
     ]
    }
   ],
   "source": [
    "voc = Vocabulary()\n",
    "voc.restore(vocab_path)\n",
    "\n",
    "dataset_paths = [tr_dataset_path, va_dataset_path]\n",
    "\n",
    "for i,text_path in enumerate([tr_text_path, va_text_path]):\n",
    "    dataset = StyleDataset(TextDataset)\n",
    "    dataset.build(text_path, voc, max_len=max_len)\n",
    "    dataset.save(dataset_paths[i])\n",
    "    print(dataset)\n",
    "    #assert dataset._ds0.shape[0] > 100000\n",
    "    assert dataset._ds0.shape[1] == max_len+2\n",
    "    #assert dataset._ds1.shape[0] > 100000\n",
    "    assert dataset._ds1.shape[1] == max_len+2\n",
    "    assert dataset.get_data_size() == dataset.shape[0], dataset.get_data_size()"
   ]
  },
  {
   "cell_type": "markdown",
   "metadata": {},
   "source": [
    "## Batch"
   ]
  },
  {
   "cell_type": "code",
   "execution_count": 15,
   "metadata": {},
   "outputs": [
    {
     "name": "stdout",
     "output_type": "stream",
     "text": [
      "0: <BOS> — громко заметил маврикий николаевич . <EOS> _ _ _ _ _ _ _ _ _ _ _ _ _ _ _ _ _ _\n",
      "0: <BOS> — вы бы не были молодым моим другом , если б отвечали иначе ! <EOS> _ _ _ _ _ _ _ _ _ _\n",
      "0: <BOS> — быстро осведомилась лиза . <EOS> _ _ _ _ _ _ _ _ _ _ _ _ _ _ _ _ _ _ _\n",
      "0: <BOS> — и если б ты знала , как я понимаю твое отвращение , друг мой ! <EOS> _ _ _ _ _ _ _ _\n",
      "0: <BOS> — вы опять за то же ! <EOS> _ _ _ _ _ _ _ _ _ _ _ _ _ _ _ _ _\n",
      "0: <BOS> он еще не мог разрешить , выгодно или невыгодно продолжать в такую минуту такой разговор , и решился <UNK> обстоятельствам . <EOS> _ _ _\n",
      "0: <BOS> он рыдал конвульсивно . <EOS> _ _ _ _ _ _ _ _ _ _ _ _ _ _ _ _ _ _ _ _\n",
      "1: <BOS> родственники обеих женщин подчеркивали , что никакого участия в боевых действиях они не принимали . <EOS> _ _ _ _ _ _ _ _ _\n",
      "1: <BOS> сразу после этого в соцсетях появились предположения , что роскомнадзор объявит о блокировке мессенджера telegram в россии . <EOS> _ _ _ _ _ _\n",
      "1: <BOS> как рассказал источник коммерсанта в минобороны , спецслужбы сша намеренно или случайно передали данные о расположении российских и сирийских войск террористам . <EOS> _ _\n",
      "1: <BOS> более того , я рассматриваю это назначение как повышение . <EOS> _ _ _ _ _ _ _ _ _ _ _ _ _ _\n",
      "1: <BOS> читайте также в атлантическом океане пропала аргентинская подводная лодка . <EOS> _ _ _ _ _ _ _ _ _ _ _ _ _ _\n",
      "1: <BOS> существуют сомнения . <EOS> _ _ _ _ _ _ _ _ _ _ _ _ _ _ _ _ _ _ _ _ _\n",
      "1: <BOS> семья известна тем , что с 1970 года приняла на воспитание <UNK> детей , в том числе и беженцев из нескольких стран . <EOS> _\n"
     ]
    }
   ],
   "source": [
    "voc = Vocabulary()\n",
    "voc.restore(vocab_path)\n",
    "\n",
    "dataset = StyleDataset(TextDataset)\n",
    "dataset.restore(tr_dataset_path)\n",
    "\n",
    "sents, styles = dataset.get_next_batch(14)\n",
    "for sent, style in zip(sents, styles):\n",
    "    restored = \" \".join(voc.to_words(sent))\n",
    "    restored = restored.replace('<PAD>', '_')\n",
    "    print(\"%d: %s\" % (style, restored))"
   ]
  },
  {
   "cell_type": "code",
   "execution_count": null,
   "metadata": {},
   "outputs": [],
   "source": []
  },
  {
   "cell_type": "code",
   "execution_count": null,
   "metadata": {},
   "outputs": [],
   "source": []
  }
 ],
 "metadata": {
  "kernelspec": {
   "display_name": "Python 3",
   "language": "python",
   "name": "python3"
  },
  "language_info": {
   "codemirror_mode": {
    "name": "ipython",
    "version": 3
   },
   "file_extension": ".py",
   "mimetype": "text/x-python",
   "name": "python",
   "nbconvert_exporter": "python",
   "pygments_lexer": "ipython3",
   "version": "3.5.2"
  }
 },
 "nbformat": 4,
 "nbformat_minor": 2
}
