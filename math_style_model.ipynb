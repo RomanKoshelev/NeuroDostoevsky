{
 "cells": [
  {
   "cell_type": "markdown",
   "metadata": {},
   "source": [
    "# MathStyleModel"
   ]
  },
  {
   "cell_type": "code",
   "execution_count": 10,
   "metadata": {},
   "outputs": [],
   "source": [
    "import numpy as np\n",
    "from math_vocab import MathVocab\n",
    "from vocabulary import BOS_CODE\n",
    "from style_dataset import StyleDataset\n",
    "from math_dataset import MathDataset\n",
    "from utils import words_to_sent\n",
    "\n",
    "voc_path        = \"data/math_style/math_vocab.data\"\n",
    "tr_dataset_path = \"data/math_style/math_dataset_%d_train.data\"\n",
    "va_dataset_path = \"data/math_style/math_dataset_%d_valid.data\"\n",
    "model_path      = 'models/math/style-autoencoder-003/'"
   ]
  },
  {
   "cell_type": "markdown",
   "metadata": {},
   "source": [
    "## Vocabulary"
   ]
  },
  {
   "cell_type": "code",
   "execution_count": 11,
   "metadata": {},
   "outputs": [
    {
     "name": "stdout",
     "output_type": "stream",
     "text": [
      "MathVocab:\n",
      "  size: 17\n",
      "  _tokens_to_words: ['<UNK>', '<BOS>', '<EOS>', '<PAD>', '+', '1', '2', '=', ' ', '3', '4', '5', '6', '7', '8', '9', '0']\n"
     ]
    }
   ],
   "source": [
    "voc = MathVocab()\n",
    "voc.restore(voc_path)\n",
    "print(voc)"
   ]
  },
  {
   "cell_type": "markdown",
   "metadata": {},
   "source": [
    "## Dataset"
   ]
  },
  {
   "cell_type": "code",
   "execution_count": 12,
   "metadata": {},
   "outputs": [
    {
     "name": "stdout",
     "output_type": "stream",
     "text": [
      "StyleDataset:\n",
      "  path_0: data/math_style/math_dataset_0_train.data\n",
      "  path_1: data/math_style/math_dataset_1_train.data\n",
      "  shape: [20000, 34]\n",
      "\n",
      "StyleDataset:\n",
      "  path_0: data/math_style/math_dataset_0_valid.data\n",
      "  path_1: data/math_style/math_dataset_1_valid.data\n",
      "  shape: [20000, 34]\n",
      "\n"
     ]
    }
   ],
   "source": [
    "tr_dataset = StyleDataset(MathDataset)\n",
    "tr_dataset.restore(tr_dataset_path)\n",
    "print(tr_dataset)\n",
    "\n",
    "va_dataset = StyleDataset(MathDataset)\n",
    "va_dataset.restore(va_dataset_path)\n",
    "print(va_dataset)"
   ]
  },
  {
   "cell_type": "markdown",
   "metadata": {},
   "source": [
    "## Model"
   ]
  },
  {
   "cell_type": "code",
   "execution_count": 13,
   "metadata": {},
   "outputs": [],
   "source": [
    "import os\n",
    "from utils import make_dir\n",
    "import numpy as np\n",
    "import tensorflow as tf\n",
    "import pickle\n",
    "from visualization import show_train_stats_ex\n",
    "\n",
    "class StyleAutoencoder:\n",
    "    def __init__(self):\n",
    "        self._scope    = 'style_autoencoder'\n",
    "        # state\n",
    "        self.tr_step   = 0\n",
    "        self.tr_epoch  = 0\n",
    "        self.tr_losses = []\n",
    "        self.va_losses = []\n",
    "    \n",
    "    \n",
    "    def save(self, path):\n",
    "        make_dir(path)\n",
    "        pickle.dump([self.tr_epoch, self.tr_step, self.tr_losses, self.va_losses], \n",
    "                    open(os.path.join(path, \"state.p\"), \"wb\"))\n",
    "        self._saver.save(self._sess, path)\n",
    "        \n",
    "        \n",
    "    def restore(self, path):\n",
    "        try:\n",
    "            [self.tr_epoch, self.tr_step, self.tr_losses, self.va_losses] = pickle.load(\n",
    "                open(os.path.join(path, \"state.p\"), \"rb\"))\n",
    "        except: \n",
    "            print(\"State not found at\", path)\n",
    "        self._saver.restore(self._sess, path)\n",
    "        \n",
    "    \n",
    "    def get_embeddings(self):\n",
    "        return self.embedding.eval(self._sess)\n",
    "    \n",
    "        \n",
    "    def _make_loss(self, logits, labels):\n",
    "        loss = tf.nn.sparse_softmax_cross_entropy_with_logits(\n",
    "            logits = logits,\n",
    "            labels = labels)\n",
    "        return tf.reduce_mean(loss)\n",
    "    \n",
    "\n",
    "    def _make_optimizer(self, loss, lr, grad_clip):\n",
    "        tr_vars   = tf.trainable_variables()\n",
    "        grads, _  = tf.clip_by_global_norm(tf.gradients(loss, tr_vars), grad_clip)\n",
    "        train_op  = tf.train.AdamOptimizer(lr)\n",
    "        optimizer = train_op.apply_gradients(zip(grads, tr_vars))\n",
    "        return optimizer\n",
    "    \n",
    "    # =====================================================================\n",
    "    \n",
    "    def _make_rnn_cell(self, num_units, num_layers, keep_prob):\n",
    "        def make_layer():\n",
    "            l = tf.contrib.rnn.BasicLSTMCell(num_units)\n",
    "            l = tf.contrib.rnn.DropoutWrapper(l, output_keep_prob=keep_prob)\n",
    "            return l        \n",
    "        return tf.contrib.rnn.MultiRNNCell([make_layer() for _ in range(num_layers)])\n",
    "    \n",
    "    \n",
    "    def _make_decoder(self, inp, h, num_units, num_layers, voc_size, seq_len, keep_prob):\n",
    "        cell = self._make_rnn_cell(num_units, num_layers, keep_prob)\n",
    "        logits_seq = []\n",
    "\n",
    "        def loop_function(outputs):\n",
    "            logits = tf.layers.dense(outputs, voc_size, name='projection')\n",
    "            token = tf.argmax(logits, axis=1)\n",
    "            inp = tf.nn.embedding_lookup(self.embedding, token)\n",
    "            return inp, logits\n",
    "            \n",
    "        with tf.variable_scope('decoder', reuse=tf.AUTO_REUSE):\n",
    "            zeros = tf.zeros_like(h)\n",
    "            state = (tf.nn.rnn_cell.LSTMStateTuple(zeros, zeros),\n",
    "                     tf.nn.rnn_cell.LSTMStateTuple(zeros, h))\n",
    "            \n",
    "            for t in range(seq_len):\n",
    "                output, state = cell.apply(inp, state)\n",
    "                inp, logits = loop_function(output)\n",
    "                logits_seq.append(tf.expand_dims(logits, 1))\n",
    "\n",
    "        return tf.concat(logits_seq, axis=1)\n",
    "    \n",
    "    \n",
    "    def build(self, voc_size, bos_token, emb_size, seq_len, num_units, num_layers, grad_clip=5):\n",
    "        tf.reset_default_graph()\n",
    "        self._graph = tf.Graph()\n",
    "        with self._graph.as_default(), tf.variable_scope(self._scope):\n",
    "            # placeholders\n",
    "            self.enc_inputs_pl = tf.placeholder(tf.int32, [None, None], name='enc_inputs')\n",
    "            self.targets_pl    = tf.placeholder(tf.int32, [None, None], name='targets')\n",
    "            self.styles_pl     = tf.placeholder(tf.int32, shape=[None], name='styles')\n",
    "            self.batch_size_pl = tf.placeholder(tf.int32, shape=[], name='batch_size')\n",
    "            self.keep_prob_pl  = tf.placeholder(tf.float32, name='keep_prob')\n",
    "            self.lr_pl         = tf.placeholder(tf.float32, name='learning_rate')\n",
    "\n",
    "            # embedding\n",
    "            self.embedding     = tf.Variable(tf.random_normal(shape=[voc_size, emb_size], dtype=tf.float32))\n",
    "            en_inputs          = tf.nn.embedding_lookup(self.embedding, self.enc_inputs_pl)\n",
    "            bos_tokens         = tf.tile([bos_token], tf.expand_dims(self.batch_size_pl,0))  \n",
    "            de_inputs          = tf.nn.embedding_lookup(self.embedding, bos_tokens)\n",
    "            \n",
    "            # encoder\n",
    "            en_cell            = self._make_rnn_cell(num_units, num_layers, self.keep_prob_pl)\n",
    "            en_initial_state   = en_cell.zero_state(self.batch_size_pl, tf.float32)\n",
    "            seq_lens           = tf.tile([seq_len], tf.expand_dims(self.batch_size_pl,0))\n",
    "            _, en_state        = tf.nn.dynamic_rnn(en_cell, en_inputs, seq_lens, en_initial_state, scope='encoder')\n",
    "            \n",
    "            # latent vector = [content, style]\n",
    "            style_num  = 2\n",
    "            style_vec  = tf.one_hot(self.styles_pl, style_num)\n",
    "            content_style = tf.concat([en_state[~0].h, style_vec], axis = 1)\n",
    "\n",
    "            # decoder\n",
    "            de_logits = self._make_decoder(\n",
    "                inp        = de_inputs, \n",
    "                h          = content_style, \n",
    "                num_units  = num_units+style_num, \n",
    "                num_layers = num_layers,\n",
    "                voc_size   = voc_size,\n",
    "                seq_len    = seq_len, \n",
    "                keep_prob  = self.keep_prob_pl)\n",
    "\n",
    "            # prediction\n",
    "            self.outputs       = tf.argmax(tf.nn.softmax(de_logits), axis=2)\n",
    "\n",
    "            # training\n",
    "            self.loss_op       = self._make_loss(de_logits, self.targets_pl)\n",
    "            self.train_op      = self._make_optimizer(self.loss_op, self.lr_pl, grad_clip)\n",
    "            \n",
    "            # utils\n",
    "            self.init_op       = tf.global_variables_initializer()\n",
    "            self._saver        = tf.train.Saver()\n",
    "\n",
    "        # session\n",
    "        self._sess = tf.Session(graph=self._graph)\n",
    "        self._sess.run(self.init_op)\n",
    "        \n",
    "    # =====================================================================\n",
    "    \n",
    "\n",
    "    def train(self, tr_dataset, va_dataset, \n",
    "              step_num,  batch_size, learning_rate, keep_prob=.5, log_every=20, mean_win=30):\n",
    "        try:\n",
    "            data_size = tr_dataset.get_data_size()\n",
    "            for self.tr_step in range(self.tr_step, step_num-1):\n",
    "                ep = self.tr_step*batch_size/data_size\n",
    "                # Train\n",
    "                sents, styles = tr_dataset.get_next_batch(batch_size)\n",
    "                tr_loss, _ = self._sess.run(\n",
    "                    [self.loss_op, self.train_op], \n",
    "                    feed_dict = {\n",
    "                        self.enc_inputs_pl: sents,\n",
    "                        self.targets_pl   : sents,\n",
    "                        self.styles_pl    : styles,\n",
    "                        self.batch_size_pl: batch_size,\n",
    "                        self.keep_prob_pl : keep_prob,\n",
    "                        self.lr_pl        : learning_rate,\n",
    "                })\n",
    "                self.tr_losses.append(tr_loss)\n",
    "                # Eval\n",
    "                if self.tr_step % log_every == log_every-1:\n",
    "                    sents, styles = va_dataset.get_next_batch(batch_size)\n",
    "                    va_loss = self._sess.run(\n",
    "                        self.loss_op, \n",
    "                        feed_dict={\n",
    "                            self.enc_inputs_pl: sents,\n",
    "                            self.targets_pl   : sents,\n",
    "                            self.styles_pl    : styles,\n",
    "                            self.batch_size_pl: batch_size,\n",
    "                            self.keep_prob_pl : keep_prob,\n",
    "                            self.lr_pl        : learning_rate,\n",
    "                        })\n",
    "                    self.va_losses.extend([va_loss]*log_every)\n",
    "                    show_train_stats_ex(ep, self.tr_step, self.tr_losses, self.va_losses, mean_win)\n",
    "                        \n",
    "        except KeyboardInterrupt:\n",
    "            show_train_stats_ex(ep, self.tr_step, self.tr_losses, self.va_losses, mean_win)\n",
    "            \n",
    "\n",
    "    def run(self, sents, styles, batch_size, seq_length):\n",
    "        return self._sess.run(\n",
    "            self.outputs, \n",
    "            feed_dict = {\n",
    "                self.enc_inputs_pl: sents,\n",
    "                self.targets_pl   : sents,\n",
    "                self.styles_pl    : styles,\n",
    "                self.batch_size_pl: batch_size,\n",
    "                self.keep_prob_pl : 1,\n",
    "        })\n"
   ]
  },
  {
   "cell_type": "markdown",
   "metadata": {},
   "source": [
    "## Build"
   ]
  },
  {
   "cell_type": "code",
   "execution_count": 14,
   "metadata": {
    "scrolled": false
   },
   "outputs": [
    {
     "name": "stdout",
     "output_type": "stream",
     "text": [
      "CPU times: user 7.02 s, sys: 92.2 ms, total: 7.11 s\n",
      "Wall time: 7.11 s\n"
     ]
    }
   ],
   "source": [
    "%%time\n",
    "model = StyleAutoencoder()\n",
    "seq_len = tr_dataset.get_seq_len()\n",
    "assert seq_len == va_dataset.get_seq_len()\n",
    "\n",
    "model.build(\n",
    "    voc_size   = voc.size, \n",
    "    bos_token  = BOS_CODE,\n",
    "    seq_len    = seq_len,\n",
    "    emb_size   = 100, \n",
    "    num_units  = 256, \n",
    "    num_layers = 2)"
   ]
  },
  {
   "cell_type": "markdown",
   "metadata": {},
   "source": [
    "## Train"
   ]
  },
  {
   "cell_type": "code",
   "execution_count": 16,
   "metadata": {
    "scrolled": false
   },
   "outputs": [
    {
     "ename": "ResourceExhaustedError",
     "evalue": "OOM when allocating tensor with shape[64,1032]\n\t [[Node: style_autoencoder/decoder/decoder/multi_rnn_cell/cell_0/cell_0/basic_lstm_cell/MatMul_10 = MatMul[T=DT_FLOAT, transpose_a=false, transpose_b=false, _device=\"/job:localhost/replica:0/task:0/device:GPU:0\"](style_autoencoder/decoder/decoder/multi_rnn_cell/cell_0/cell_0/basic_lstm_cell/concat_10, style_autoencoder/decoder/multi_rnn_cell/cell_0/basic_lstm_cell/kernel/read)]]\n\t [[Node: style_autoencoder/Mean/_63 = _Recv[client_terminated=false, recv_device=\"/job:localhost/replica:0/task:0/device:CPU:0\", send_device=\"/job:localhost/replica:0/task:0/device:GPU:0\", send_device_incarnation=1, tensor_name=\"edge_13486_style_autoencoder/Mean\", tensor_type=DT_FLOAT, _device=\"/job:localhost/replica:0/task:0/device:CPU:0\"]()]]\n\nCaused by op 'style_autoencoder/decoder/decoder/multi_rnn_cell/cell_0/cell_0/basic_lstm_cell/MatMul_10', defined at:\n  File \"/usr/lib/python3.5/runpy.py\", line 184, in _run_module_as_main\n    \"__main__\", mod_spec)\n  File \"/usr/lib/python3.5/runpy.py\", line 85, in _run_code\n    exec(code, run_globals)\n  File \"/usr/local/lib/python3.5/dist-packages/ipykernel_launcher.py\", line 16, in <module>\n    app.launch_new_instance()\n  File \"/usr/local/lib/python3.5/dist-packages/traitlets/config/application.py\", line 658, in launch_instance\n    app.start()\n  File \"/usr/local/lib/python3.5/dist-packages/ipykernel/kernelapp.py\", line 478, in start\n    self.io_loop.start()\n  File \"/usr/local/lib/python3.5/dist-packages/zmq/eventloop/ioloop.py\", line 177, in start\n    super(ZMQIOLoop, self).start()\n  File \"/usr/local/lib/python3.5/dist-packages/tornado/ioloop.py\", line 888, in start\n    handler_func(fd_obj, events)\n  File \"/usr/local/lib/python3.5/dist-packages/tornado/stack_context.py\", line 277, in null_wrapper\n    return fn(*args, **kwargs)\n  File \"/usr/local/lib/python3.5/dist-packages/zmq/eventloop/zmqstream.py\", line 440, in _handle_events\n    self._handle_recv()\n  File \"/usr/local/lib/python3.5/dist-packages/zmq/eventloop/zmqstream.py\", line 472, in _handle_recv\n    self._run_callback(callback, msg)\n  File \"/usr/local/lib/python3.5/dist-packages/zmq/eventloop/zmqstream.py\", line 414, in _run_callback\n    callback(*args, **kwargs)\n  File \"/usr/local/lib/python3.5/dist-packages/tornado/stack_context.py\", line 277, in null_wrapper\n    return fn(*args, **kwargs)\n  File \"/usr/local/lib/python3.5/dist-packages/ipykernel/kernelbase.py\", line 281, in dispatcher\n    return self.dispatch_shell(stream, msg)\n  File \"/usr/local/lib/python3.5/dist-packages/ipykernel/kernelbase.py\", line 232, in dispatch_shell\n    handler(stream, idents, msg)\n  File \"/usr/local/lib/python3.5/dist-packages/ipykernel/kernelbase.py\", line 397, in execute_request\n    user_expressions, allow_stdin)\n  File \"/usr/local/lib/python3.5/dist-packages/ipykernel/ipkernel.py\", line 208, in do_execute\n    res = shell.run_cell(code, store_history=store_history, silent=silent)\n  File \"/usr/local/lib/python3.5/dist-packages/ipykernel/zmqshell.py\", line 533, in run_cell\n    return super(ZMQInteractiveShell, self).run_cell(*args, **kwargs)\n  File \"/usr/local/lib/python3.5/dist-packages/IPython/core/interactiveshell.py\", line 2728, in run_cell\n    interactivity=interactivity, compiler=compiler, result=result)\n  File \"/usr/local/lib/python3.5/dist-packages/IPython/core/interactiveshell.py\", line 2856, in run_ast_nodes\n    if self.run_code(code, result):\n  File \"/usr/local/lib/python3.5/dist-packages/IPython/core/interactiveshell.py\", line 2910, in run_code\n    exec(code_obj, self.user_global_ns, self.user_ns)\n  File \"<ipython-input-14-2e394f5386c3>\", line 1, in <module>\n    get_ipython().run_cell_magic('time', '', 'model = StyleAutoencoder()\\nseq_len = tr_dataset.get_seq_len()\\nassert seq_len == va_dataset.get_seq_len()\\n\\nmodel.build(\\n    voc_size   = voc.size, \\n    bos_token  = BOS_CODE,\\n    seq_len    = seq_len,\\n    emb_size   = 100, \\n    num_units  = 256, \\n    num_layers = 2)')\n  File \"/usr/local/lib/python3.5/dist-packages/IPython/core/interactiveshell.py\", line 2131, in run_cell_magic\n    result = fn(magic_arg_s, cell)\n  File \"<decorator-gen-62>\", line 2, in time\n  File \"/usr/local/lib/python3.5/dist-packages/IPython/core/magic.py\", line 187, in <lambda>\n    call = lambda f, *a, **k: f(*a, **k)\n  File \"/usr/local/lib/python3.5/dist-packages/IPython/core/magics/execution.py\", line 1238, in time\n    exec(code, glob, local_ns)\n  File \"<timed exec>\", line 11, in <module>\n  File \"<ipython-input-13-57365299c6bb>\", line 122, in build\n    keep_prob  = self.keep_prob_pl)\n  File \"<ipython-input-13-57365299c6bb>\", line 78, in _make_decoder\n    output, state = cell.apply(inp, state)\n  File \"/usr/local/lib/python3.5/dist-packages/tensorflow/python/layers/base.py\", line 671, in apply\n    return self.__call__(inputs, *args, **kwargs)\n  File \"/usr/local/lib/python3.5/dist-packages/tensorflow/python/ops/rnn_cell_impl.py\", line 183, in __call__\n    return super(RNNCell, self).__call__(inputs, state)\n  File \"/usr/local/lib/python3.5/dist-packages/tensorflow/python/layers/base.py\", line 575, in __call__\n    outputs = self.call(inputs, *args, **kwargs)\n  File \"/usr/local/lib/python3.5/dist-packages/tensorflow/python/ops/rnn_cell_impl.py\", line 1066, in call\n    cur_inp, new_state = cell(cur_inp, cur_state)\n  File \"/usr/local/lib/python3.5/dist-packages/tensorflow/python/ops/rnn_cell_impl.py\", line 891, in __call__\n    output, new_state = self._cell(inputs, state, scope)\n  File \"/usr/local/lib/python3.5/dist-packages/tensorflow/python/ops/rnn_cell_impl.py\", line 183, in __call__\n    return super(RNNCell, self).__call__(inputs, state)\n  File \"/usr/local/lib/python3.5/dist-packages/tensorflow/python/layers/base.py\", line 575, in __call__\n    outputs = self.call(inputs, *args, **kwargs)\n  File \"/usr/local/lib/python3.5/dist-packages/tensorflow/python/ops/rnn_cell_impl.py\", line 441, in call\n    value=self._linear([inputs, h]), num_or_size_splits=4, axis=1)\n  File \"/usr/local/lib/python3.5/dist-packages/tensorflow/python/ops/rnn_cell_impl.py\", line 1189, in __call__\n    res = math_ops.matmul(array_ops.concat(args, 1), self._weights)\n  File \"/usr/local/lib/python3.5/dist-packages/tensorflow/python/ops/math_ops.py\", line 1891, in matmul\n    a, b, transpose_a=transpose_a, transpose_b=transpose_b, name=name)\n  File \"/usr/local/lib/python3.5/dist-packages/tensorflow/python/ops/gen_math_ops.py\", line 2437, in _mat_mul\n    name=name)\n  File \"/usr/local/lib/python3.5/dist-packages/tensorflow/python/framework/op_def_library.py\", line 787, in _apply_op_helper\n    op_def=op_def)\n  File \"/usr/local/lib/python3.5/dist-packages/tensorflow/python/framework/ops.py\", line 2956, in create_op\n    op_def=op_def)\n  File \"/usr/local/lib/python3.5/dist-packages/tensorflow/python/framework/ops.py\", line 1470, in __init__\n    self._traceback = self._graph._extract_stack()  # pylint: disable=protected-access\n\nResourceExhaustedError (see above for traceback): OOM when allocating tensor with shape[64,1032]\n\t [[Node: style_autoencoder/decoder/decoder/multi_rnn_cell/cell_0/cell_0/basic_lstm_cell/MatMul_10 = MatMul[T=DT_FLOAT, transpose_a=false, transpose_b=false, _device=\"/job:localhost/replica:0/task:0/device:GPU:0\"](style_autoencoder/decoder/decoder/multi_rnn_cell/cell_0/cell_0/basic_lstm_cell/concat_10, style_autoencoder/decoder/multi_rnn_cell/cell_0/basic_lstm_cell/kernel/read)]]\n\t [[Node: style_autoencoder/Mean/_63 = _Recv[client_terminated=false, recv_device=\"/job:localhost/replica:0/task:0/device:CPU:0\", send_device=\"/job:localhost/replica:0/task:0/device:GPU:0\", send_device_incarnation=1, tensor_name=\"edge_13486_style_autoencoder/Mean\", tensor_type=DT_FLOAT, _device=\"/job:localhost/replica:0/task:0/device:CPU:0\"]()]]\n",
     "output_type": "error",
     "traceback": [
      "\u001b[0;31m---------------------------------------------------------------------------\u001b[0m",
      "\u001b[0;31mResourceExhaustedError\u001b[0m                    Traceback (most recent call last)",
      "\u001b[0;32m/usr/local/lib/python3.5/dist-packages/tensorflow/python/client/session.py\u001b[0m in \u001b[0;36m_do_call\u001b[0;34m(self, fn, *args)\u001b[0m\n\u001b[1;32m   1322\u001b[0m     \u001b[0;32mtry\u001b[0m\u001b[0;34m:\u001b[0m\u001b[0;34m\u001b[0m\u001b[0m\n\u001b[0;32m-> 1323\u001b[0;31m       \u001b[0;32mreturn\u001b[0m \u001b[0mfn\u001b[0m\u001b[0;34m(\u001b[0m\u001b[0;34m*\u001b[0m\u001b[0margs\u001b[0m\u001b[0;34m)\u001b[0m\u001b[0;34m\u001b[0m\u001b[0m\n\u001b[0m\u001b[1;32m   1324\u001b[0m     \u001b[0;32mexcept\u001b[0m \u001b[0merrors\u001b[0m\u001b[0;34m.\u001b[0m\u001b[0mOpError\u001b[0m \u001b[0;32mas\u001b[0m \u001b[0me\u001b[0m\u001b[0;34m:\u001b[0m\u001b[0;34m\u001b[0m\u001b[0m\n",
      "\u001b[0;32m/usr/local/lib/python3.5/dist-packages/tensorflow/python/client/session.py\u001b[0m in \u001b[0;36m_run_fn\u001b[0;34m(session, feed_dict, fetch_list, target_list, options, run_metadata)\u001b[0m\n\u001b[1;32m   1301\u001b[0m                                    \u001b[0mfeed_dict\u001b[0m\u001b[0;34m,\u001b[0m \u001b[0mfetch_list\u001b[0m\u001b[0;34m,\u001b[0m \u001b[0mtarget_list\u001b[0m\u001b[0;34m,\u001b[0m\u001b[0;34m\u001b[0m\u001b[0m\n\u001b[0;32m-> 1302\u001b[0;31m                                    status, run_metadata)\n\u001b[0m\u001b[1;32m   1303\u001b[0m \u001b[0;34m\u001b[0m\u001b[0m\n",
      "\u001b[0;32m/usr/local/lib/python3.5/dist-packages/tensorflow/python/framework/errors_impl.py\u001b[0m in \u001b[0;36m__exit__\u001b[0;34m(self, type_arg, value_arg, traceback_arg)\u001b[0m\n\u001b[1;32m    472\u001b[0m             \u001b[0mcompat\u001b[0m\u001b[0;34m.\u001b[0m\u001b[0mas_text\u001b[0m\u001b[0;34m(\u001b[0m\u001b[0mc_api\u001b[0m\u001b[0;34m.\u001b[0m\u001b[0mTF_Message\u001b[0m\u001b[0;34m(\u001b[0m\u001b[0mself\u001b[0m\u001b[0;34m.\u001b[0m\u001b[0mstatus\u001b[0m\u001b[0;34m.\u001b[0m\u001b[0mstatus\u001b[0m\u001b[0;34m)\u001b[0m\u001b[0;34m)\u001b[0m\u001b[0;34m,\u001b[0m\u001b[0;34m\u001b[0m\u001b[0m\n\u001b[0;32m--> 473\u001b[0;31m             c_api.TF_GetCode(self.status.status))\n\u001b[0m\u001b[1;32m    474\u001b[0m     \u001b[0;31m# Delete the underlying status object from memory otherwise it stays alive\u001b[0m\u001b[0;34m\u001b[0m\u001b[0;34m\u001b[0m\u001b[0m\n",
      "\u001b[0;31mResourceExhaustedError\u001b[0m: OOM when allocating tensor with shape[64,1032]\n\t [[Node: style_autoencoder/decoder/decoder/multi_rnn_cell/cell_0/cell_0/basic_lstm_cell/MatMul_10 = MatMul[T=DT_FLOAT, transpose_a=false, transpose_b=false, _device=\"/job:localhost/replica:0/task:0/device:GPU:0\"](style_autoencoder/decoder/decoder/multi_rnn_cell/cell_0/cell_0/basic_lstm_cell/concat_10, style_autoencoder/decoder/multi_rnn_cell/cell_0/basic_lstm_cell/kernel/read)]]\n\t [[Node: style_autoencoder/Mean/_63 = _Recv[client_terminated=false, recv_device=\"/job:localhost/replica:0/task:0/device:CPU:0\", send_device=\"/job:localhost/replica:0/task:0/device:GPU:0\", send_device_incarnation=1, tensor_name=\"edge_13486_style_autoencoder/Mean\", tensor_type=DT_FLOAT, _device=\"/job:localhost/replica:0/task:0/device:CPU:0\"]()]]",
      "\nDuring handling of the above exception, another exception occurred:\n",
      "\u001b[0;31mResourceExhaustedError\u001b[0m                    Traceback (most recent call last)",
      "\u001b[0;32m<timed exec>\u001b[0m in \u001b[0;36m<module>\u001b[0;34m()\u001b[0m\n",
      "\u001b[0;32m<ipython-input-13-57365299c6bb>\u001b[0m in \u001b[0;36mtrain\u001b[0;34m(self, tr_dataset, va_dataset, step_num, batch_size, learning_rate, keep_prob, log_every, mean_win)\u001b[0m\n\u001b[1;32m    156\u001b[0m                         \u001b[0mself\u001b[0m\u001b[0;34m.\u001b[0m\u001b[0mbatch_size_pl\u001b[0m\u001b[0;34m:\u001b[0m \u001b[0mbatch_size\u001b[0m\u001b[0;34m,\u001b[0m\u001b[0;34m\u001b[0m\u001b[0m\n\u001b[1;32m    157\u001b[0m                         \u001b[0mself\u001b[0m\u001b[0;34m.\u001b[0m\u001b[0mkeep_prob_pl\u001b[0m \u001b[0;34m:\u001b[0m \u001b[0mkeep_prob\u001b[0m\u001b[0;34m,\u001b[0m\u001b[0;34m\u001b[0m\u001b[0m\n\u001b[0;32m--> 158\u001b[0;31m                         \u001b[0mself\u001b[0m\u001b[0;34m.\u001b[0m\u001b[0mlr_pl\u001b[0m        \u001b[0;34m:\u001b[0m \u001b[0mlearning_rate\u001b[0m\u001b[0;34m,\u001b[0m\u001b[0;34m\u001b[0m\u001b[0m\n\u001b[0m\u001b[1;32m    159\u001b[0m                 })\n\u001b[1;32m    160\u001b[0m                 \u001b[0mself\u001b[0m\u001b[0;34m.\u001b[0m\u001b[0mtr_losses\u001b[0m\u001b[0;34m.\u001b[0m\u001b[0mappend\u001b[0m\u001b[0;34m(\u001b[0m\u001b[0mtr_loss\u001b[0m\u001b[0;34m)\u001b[0m\u001b[0;34m\u001b[0m\u001b[0m\n",
      "\u001b[0;32m/usr/local/lib/python3.5/dist-packages/tensorflow/python/client/session.py\u001b[0m in \u001b[0;36mrun\u001b[0;34m(self, fetches, feed_dict, options, run_metadata)\u001b[0m\n\u001b[1;32m    887\u001b[0m     \u001b[0;32mtry\u001b[0m\u001b[0;34m:\u001b[0m\u001b[0;34m\u001b[0m\u001b[0m\n\u001b[1;32m    888\u001b[0m       result = self._run(None, fetches, feed_dict, options_ptr,\n\u001b[0;32m--> 889\u001b[0;31m                          run_metadata_ptr)\n\u001b[0m\u001b[1;32m    890\u001b[0m       \u001b[0;32mif\u001b[0m \u001b[0mrun_metadata\u001b[0m\u001b[0;34m:\u001b[0m\u001b[0;34m\u001b[0m\u001b[0m\n\u001b[1;32m    891\u001b[0m         \u001b[0mproto_data\u001b[0m \u001b[0;34m=\u001b[0m \u001b[0mtf_session\u001b[0m\u001b[0;34m.\u001b[0m\u001b[0mTF_GetBuffer\u001b[0m\u001b[0;34m(\u001b[0m\u001b[0mrun_metadata_ptr\u001b[0m\u001b[0;34m)\u001b[0m\u001b[0;34m\u001b[0m\u001b[0m\n",
      "\u001b[0;32m/usr/local/lib/python3.5/dist-packages/tensorflow/python/client/session.py\u001b[0m in \u001b[0;36m_run\u001b[0;34m(self, handle, fetches, feed_dict, options, run_metadata)\u001b[0m\n\u001b[1;32m   1118\u001b[0m     \u001b[0;32mif\u001b[0m \u001b[0mfinal_fetches\u001b[0m \u001b[0;32mor\u001b[0m \u001b[0mfinal_targets\u001b[0m \u001b[0;32mor\u001b[0m \u001b[0;34m(\u001b[0m\u001b[0mhandle\u001b[0m \u001b[0;32mand\u001b[0m \u001b[0mfeed_dict_tensor\u001b[0m\u001b[0;34m)\u001b[0m\u001b[0;34m:\u001b[0m\u001b[0;34m\u001b[0m\u001b[0m\n\u001b[1;32m   1119\u001b[0m       results = self._do_run(handle, final_targets, final_fetches,\n\u001b[0;32m-> 1120\u001b[0;31m                              feed_dict_tensor, options, run_metadata)\n\u001b[0m\u001b[1;32m   1121\u001b[0m     \u001b[0;32melse\u001b[0m\u001b[0;34m:\u001b[0m\u001b[0;34m\u001b[0m\u001b[0m\n\u001b[1;32m   1122\u001b[0m       \u001b[0mresults\u001b[0m \u001b[0;34m=\u001b[0m \u001b[0;34m[\u001b[0m\u001b[0;34m]\u001b[0m\u001b[0;34m\u001b[0m\u001b[0m\n",
      "\u001b[0;32m/usr/local/lib/python3.5/dist-packages/tensorflow/python/client/session.py\u001b[0m in \u001b[0;36m_do_run\u001b[0;34m(self, handle, target_list, fetch_list, feed_dict, options, run_metadata)\u001b[0m\n\u001b[1;32m   1315\u001b[0m     \u001b[0;32mif\u001b[0m \u001b[0mhandle\u001b[0m \u001b[0;32mis\u001b[0m \u001b[0;32mNone\u001b[0m\u001b[0;34m:\u001b[0m\u001b[0;34m\u001b[0m\u001b[0m\n\u001b[1;32m   1316\u001b[0m       return self._do_call(_run_fn, self._session, feeds, fetches, targets,\n\u001b[0;32m-> 1317\u001b[0;31m                            options, run_metadata)\n\u001b[0m\u001b[1;32m   1318\u001b[0m     \u001b[0;32melse\u001b[0m\u001b[0;34m:\u001b[0m\u001b[0;34m\u001b[0m\u001b[0m\n\u001b[1;32m   1319\u001b[0m       \u001b[0;32mreturn\u001b[0m \u001b[0mself\u001b[0m\u001b[0;34m.\u001b[0m\u001b[0m_do_call\u001b[0m\u001b[0;34m(\u001b[0m\u001b[0m_prun_fn\u001b[0m\u001b[0;34m,\u001b[0m \u001b[0mself\u001b[0m\u001b[0;34m.\u001b[0m\u001b[0m_session\u001b[0m\u001b[0;34m,\u001b[0m \u001b[0mhandle\u001b[0m\u001b[0;34m,\u001b[0m \u001b[0mfeeds\u001b[0m\u001b[0;34m,\u001b[0m \u001b[0mfetches\u001b[0m\u001b[0;34m)\u001b[0m\u001b[0;34m\u001b[0m\u001b[0m\n",
      "\u001b[0;32m/usr/local/lib/python3.5/dist-packages/tensorflow/python/client/session.py\u001b[0m in \u001b[0;36m_do_call\u001b[0;34m(self, fn, *args)\u001b[0m\n\u001b[1;32m   1334\u001b[0m         \u001b[0;32mexcept\u001b[0m \u001b[0mKeyError\u001b[0m\u001b[0;34m:\u001b[0m\u001b[0;34m\u001b[0m\u001b[0m\n\u001b[1;32m   1335\u001b[0m           \u001b[0;32mpass\u001b[0m\u001b[0;34m\u001b[0m\u001b[0m\n\u001b[0;32m-> 1336\u001b[0;31m       \u001b[0;32mraise\u001b[0m \u001b[0mtype\u001b[0m\u001b[0;34m(\u001b[0m\u001b[0me\u001b[0m\u001b[0;34m)\u001b[0m\u001b[0;34m(\u001b[0m\u001b[0mnode_def\u001b[0m\u001b[0;34m,\u001b[0m \u001b[0mop\u001b[0m\u001b[0;34m,\u001b[0m \u001b[0mmessage\u001b[0m\u001b[0;34m)\u001b[0m\u001b[0;34m\u001b[0m\u001b[0m\n\u001b[0m\u001b[1;32m   1337\u001b[0m \u001b[0;34m\u001b[0m\u001b[0m\n\u001b[1;32m   1338\u001b[0m   \u001b[0;32mdef\u001b[0m \u001b[0m_extend_graph\u001b[0m\u001b[0;34m(\u001b[0m\u001b[0mself\u001b[0m\u001b[0;34m)\u001b[0m\u001b[0;34m:\u001b[0m\u001b[0;34m\u001b[0m\u001b[0m\n",
      "\u001b[0;31mResourceExhaustedError\u001b[0m: OOM when allocating tensor with shape[64,1032]\n\t [[Node: style_autoencoder/decoder/decoder/multi_rnn_cell/cell_0/cell_0/basic_lstm_cell/MatMul_10 = MatMul[T=DT_FLOAT, transpose_a=false, transpose_b=false, _device=\"/job:localhost/replica:0/task:0/device:GPU:0\"](style_autoencoder/decoder/decoder/multi_rnn_cell/cell_0/cell_0/basic_lstm_cell/concat_10, style_autoencoder/decoder/multi_rnn_cell/cell_0/basic_lstm_cell/kernel/read)]]\n\t [[Node: style_autoencoder/Mean/_63 = _Recv[client_terminated=false, recv_device=\"/job:localhost/replica:0/task:0/device:CPU:0\", send_device=\"/job:localhost/replica:0/task:0/device:GPU:0\", send_device_incarnation=1, tensor_name=\"edge_13486_style_autoencoder/Mean\", tensor_type=DT_FLOAT, _device=\"/job:localhost/replica:0/task:0/device:CPU:0\"]()]]\n\nCaused by op 'style_autoencoder/decoder/decoder/multi_rnn_cell/cell_0/cell_0/basic_lstm_cell/MatMul_10', defined at:\n  File \"/usr/lib/python3.5/runpy.py\", line 184, in _run_module_as_main\n    \"__main__\", mod_spec)\n  File \"/usr/lib/python3.5/runpy.py\", line 85, in _run_code\n    exec(code, run_globals)\n  File \"/usr/local/lib/python3.5/dist-packages/ipykernel_launcher.py\", line 16, in <module>\n    app.launch_new_instance()\n  File \"/usr/local/lib/python3.5/dist-packages/traitlets/config/application.py\", line 658, in launch_instance\n    app.start()\n  File \"/usr/local/lib/python3.5/dist-packages/ipykernel/kernelapp.py\", line 478, in start\n    self.io_loop.start()\n  File \"/usr/local/lib/python3.5/dist-packages/zmq/eventloop/ioloop.py\", line 177, in start\n    super(ZMQIOLoop, self).start()\n  File \"/usr/local/lib/python3.5/dist-packages/tornado/ioloop.py\", line 888, in start\n    handler_func(fd_obj, events)\n  File \"/usr/local/lib/python3.5/dist-packages/tornado/stack_context.py\", line 277, in null_wrapper\n    return fn(*args, **kwargs)\n  File \"/usr/local/lib/python3.5/dist-packages/zmq/eventloop/zmqstream.py\", line 440, in _handle_events\n    self._handle_recv()\n  File \"/usr/local/lib/python3.5/dist-packages/zmq/eventloop/zmqstream.py\", line 472, in _handle_recv\n    self._run_callback(callback, msg)\n  File \"/usr/local/lib/python3.5/dist-packages/zmq/eventloop/zmqstream.py\", line 414, in _run_callback\n    callback(*args, **kwargs)\n  File \"/usr/local/lib/python3.5/dist-packages/tornado/stack_context.py\", line 277, in null_wrapper\n    return fn(*args, **kwargs)\n  File \"/usr/local/lib/python3.5/dist-packages/ipykernel/kernelbase.py\", line 281, in dispatcher\n    return self.dispatch_shell(stream, msg)\n  File \"/usr/local/lib/python3.5/dist-packages/ipykernel/kernelbase.py\", line 232, in dispatch_shell\n    handler(stream, idents, msg)\n  File \"/usr/local/lib/python3.5/dist-packages/ipykernel/kernelbase.py\", line 397, in execute_request\n    user_expressions, allow_stdin)\n  File \"/usr/local/lib/python3.5/dist-packages/ipykernel/ipkernel.py\", line 208, in do_execute\n    res = shell.run_cell(code, store_history=store_history, silent=silent)\n  File \"/usr/local/lib/python3.5/dist-packages/ipykernel/zmqshell.py\", line 533, in run_cell\n    return super(ZMQInteractiveShell, self).run_cell(*args, **kwargs)\n  File \"/usr/local/lib/python3.5/dist-packages/IPython/core/interactiveshell.py\", line 2728, in run_cell\n    interactivity=interactivity, compiler=compiler, result=result)\n  File \"/usr/local/lib/python3.5/dist-packages/IPython/core/interactiveshell.py\", line 2856, in run_ast_nodes\n    if self.run_code(code, result):\n  File \"/usr/local/lib/python3.5/dist-packages/IPython/core/interactiveshell.py\", line 2910, in run_code\n    exec(code_obj, self.user_global_ns, self.user_ns)\n  File \"<ipython-input-14-2e394f5386c3>\", line 1, in <module>\n    get_ipython().run_cell_magic('time', '', 'model = StyleAutoencoder()\\nseq_len = tr_dataset.get_seq_len()\\nassert seq_len == va_dataset.get_seq_len()\\n\\nmodel.build(\\n    voc_size   = voc.size, \\n    bos_token  = BOS_CODE,\\n    seq_len    = seq_len,\\n    emb_size   = 100, \\n    num_units  = 256, \\n    num_layers = 2)')\n  File \"/usr/local/lib/python3.5/dist-packages/IPython/core/interactiveshell.py\", line 2131, in run_cell_magic\n    result = fn(magic_arg_s, cell)\n  File \"<decorator-gen-62>\", line 2, in time\n  File \"/usr/local/lib/python3.5/dist-packages/IPython/core/magic.py\", line 187, in <lambda>\n    call = lambda f, *a, **k: f(*a, **k)\n  File \"/usr/local/lib/python3.5/dist-packages/IPython/core/magics/execution.py\", line 1238, in time\n    exec(code, glob, local_ns)\n  File \"<timed exec>\", line 11, in <module>\n  File \"<ipython-input-13-57365299c6bb>\", line 122, in build\n    keep_prob  = self.keep_prob_pl)\n  File \"<ipython-input-13-57365299c6bb>\", line 78, in _make_decoder\n    output, state = cell.apply(inp, state)\n  File \"/usr/local/lib/python3.5/dist-packages/tensorflow/python/layers/base.py\", line 671, in apply\n    return self.__call__(inputs, *args, **kwargs)\n  File \"/usr/local/lib/python3.5/dist-packages/tensorflow/python/ops/rnn_cell_impl.py\", line 183, in __call__\n    return super(RNNCell, self).__call__(inputs, state)\n  File \"/usr/local/lib/python3.5/dist-packages/tensorflow/python/layers/base.py\", line 575, in __call__\n    outputs = self.call(inputs, *args, **kwargs)\n  File \"/usr/local/lib/python3.5/dist-packages/tensorflow/python/ops/rnn_cell_impl.py\", line 1066, in call\n    cur_inp, new_state = cell(cur_inp, cur_state)\n  File \"/usr/local/lib/python3.5/dist-packages/tensorflow/python/ops/rnn_cell_impl.py\", line 891, in __call__\n    output, new_state = self._cell(inputs, state, scope)\n  File \"/usr/local/lib/python3.5/dist-packages/tensorflow/python/ops/rnn_cell_impl.py\", line 183, in __call__\n    return super(RNNCell, self).__call__(inputs, state)\n  File \"/usr/local/lib/python3.5/dist-packages/tensorflow/python/layers/base.py\", line 575, in __call__\n    outputs = self.call(inputs, *args, **kwargs)\n  File \"/usr/local/lib/python3.5/dist-packages/tensorflow/python/ops/rnn_cell_impl.py\", line 441, in call\n    value=self._linear([inputs, h]), num_or_size_splits=4, axis=1)\n  File \"/usr/local/lib/python3.5/dist-packages/tensorflow/python/ops/rnn_cell_impl.py\", line 1189, in __call__\n    res = math_ops.matmul(array_ops.concat(args, 1), self._weights)\n  File \"/usr/local/lib/python3.5/dist-packages/tensorflow/python/ops/math_ops.py\", line 1891, in matmul\n    a, b, transpose_a=transpose_a, transpose_b=transpose_b, name=name)\n  File \"/usr/local/lib/python3.5/dist-packages/tensorflow/python/ops/gen_math_ops.py\", line 2437, in _mat_mul\n    name=name)\n  File \"/usr/local/lib/python3.5/dist-packages/tensorflow/python/framework/op_def_library.py\", line 787, in _apply_op_helper\n    op_def=op_def)\n  File \"/usr/local/lib/python3.5/dist-packages/tensorflow/python/framework/ops.py\", line 2956, in create_op\n    op_def=op_def)\n  File \"/usr/local/lib/python3.5/dist-packages/tensorflow/python/framework/ops.py\", line 1470, in __init__\n    self._traceback = self._graph._extract_stack()  # pylint: disable=protected-access\n\nResourceExhaustedError (see above for traceback): OOM when allocating tensor with shape[64,1032]\n\t [[Node: style_autoencoder/decoder/decoder/multi_rnn_cell/cell_0/cell_0/basic_lstm_cell/MatMul_10 = MatMul[T=DT_FLOAT, transpose_a=false, transpose_b=false, _device=\"/job:localhost/replica:0/task:0/device:GPU:0\"](style_autoencoder/decoder/decoder/multi_rnn_cell/cell_0/cell_0/basic_lstm_cell/concat_10, style_autoencoder/decoder/multi_rnn_cell/cell_0/basic_lstm_cell/kernel/read)]]\n\t [[Node: style_autoencoder/Mean/_63 = _Recv[client_terminated=false, recv_device=\"/job:localhost/replica:0/task:0/device:CPU:0\", send_device=\"/job:localhost/replica:0/task:0/device:GPU:0\", send_device_incarnation=1, tensor_name=\"edge_13486_style_autoencoder/Mean\", tensor_type=DT_FLOAT, _device=\"/job:localhost/replica:0/task:0/device:CPU:0\"]()]]\n"
     ]
    }
   ],
   "source": [
    "%%time\n",
    "%matplotlib inline\n",
    "\n",
    "model.train(\n",
    "    step_num      = 50000,\n",
    "    batch_size    = 64, \n",
    "    learning_rate = 1e-3, \n",
    "    mean_win      = 30,\n",
    "    log_every     = 10,\n",
    "    tr_dataset    = tr_dataset,\n",
    "    va_dataset    = va_dataset,\n",
    ")\n",
    "model.save(model_path)"
   ]
  },
  {
   "cell_type": "markdown",
   "metadata": {},
   "source": [
    "## Test"
   ]
  },
  {
   "cell_type": "code",
   "execution_count": 22,
   "metadata": {
    "scrolled": false
   },
   "outputs": [
    {
     "name": "stdout",
     "output_type": "stream",
     "text": [
      "\n",
      "================================================================================\n",
      "MathStyleDataset:\n",
      "  path_0: data/math_style/math_dataset_0_train.data\n",
      "  path_1: data/math_style/math_dataset_1_train.data\n",
      "  shape: [20000, 34]\n",
      "\n",
      "--------------------------------------------------\n",
      "[4+14+1 = 3+7+1+1+2+5]____________\n",
      "[4+14+1=3+7+1+1+2+1+5]____________\n",
      "--------------------------------------------------\n",
      "[5+1+1+7 = 4+10]__________________\n",
      "[5+1+1+7=4+1+10]__________________\n",
      "--------------------------------------------------\n",
      "[17 = 6+9+2]______________________\n",
      "[17=5+9+5+1]______________________\n",
      "--------------------------------------------------\n",
      "[2+3+2+1+1+6 = 3+1+5+6]___________\n",
      "[2+3+2+1+1+7=3+1+4+4+6]___________\n",
      "--------------------------------------------------\n",
      "[10+6 = 13+1+2]___________________\n",
      "[10+6=13+1+2]_____________________\n",
      "--------------------------------------------------\n",
      "[7+5+1=5+8]_______________________\n",
      "[7+5+1 = 5+8]_____________________\n",
      "--------------------------------------------------\n",
      "[4+4+2=3+1+4+2]___________________\n",
      "[4+4+2 = 3+2+2]___________________\n",
      "--------------------------------------------------\n",
      "[15=1+7+7]________________________\n",
      "[15 = 2+7+7]______________________\n",
      "--------------------------------------------------\n",
      "[8+2=1+7+1+1]_____________________\n",
      "[8+2 = 1+7+1]_____________________\n",
      "--------------------------------------------------\n",
      "[4+1+6+3=3+1+9+1]_________________\n",
      "[4+1+6+3 = 3+3+7]_________________\n",
      "\n",
      "================================================================================\n",
      "MathStyleDataset:\n",
      "  path_0: data/math_style/math_dataset_0_valid.data\n",
      "  path_1: data/math_style/math_dataset_1_valid.data\n",
      "  shape: [20000, 34]\n",
      "\n",
      "--------------------------------------------------\n",
      "[1+7+1+4 = 6+7]___________________\n",
      "[1+7+1+4=6+4+7]___________________\n",
      "--------------------------------------------------\n",
      "[9+4 = 1+3+3+3+3]_________________\n",
      "[9+4=1+3+3+3+2+3]_________________\n",
      "--------------------------------------------------\n",
      "[2+1+1+1+3+2 = 4+6]_______________\n",
      "[2+1+1+1+3+2=3+4+6]_______________\n",
      "--------------------------------------------------\n",
      "[6+3+1+2+1 = 6+7]_________________\n",
      "[6+3+1+3+1=5+4+7]_________________\n",
      "--------------------------------------------------\n",
      "[2+2+7+1+6 = 9+1+7+1]_____________\n",
      "[2+2+8+1+6=9+1+5+5+1]_____________\n",
      "--------------------------------------------------\n",
      "[3+2+1+6=4+8]_____________________\n",
      "[3+2+1+5 = 4+8]___________________\n",
      "--------------------------------------------------\n",
      "[3+1+2+5+2=2+1+9+1]_______________\n",
      "[3+1+2+4+2 = 2+3+8+2]_____________\n",
      "--------------------------------------------------\n",
      "[1+1+1+5+5=5+8]___________________\n",
      "[1+1+1+4+5 = 5+8]_________________\n",
      "--------------------------------------------------\n",
      "[1+8+2+1=12]______________________\n",
      "[1+8+2+1 = 12]____________________\n",
      "--------------------------------------------------\n",
      "[10+9=1+6+12]_____________________\n",
      "[10+8 = 2+4+]_____________________\n"
     ]
    }
   ],
   "source": [
    "batch_size = 10\n",
    "\n",
    "for dataset in [tr_dataset, va_dataset]:\n",
    "    print('\\n'+'='*80+'\\n'+str(dataset))\n",
    "    inp, styles = dataset.get_next_batch(batch_size)\n",
    "    styles = 1-styles\n",
    "    out = model.run(inp, styles, batch_size, seq_len)\n",
    "\n",
    "    def prepare(s):\n",
    "        words = voc.to_words(s)\n",
    "        s = \"\".join(words)\n",
    "        s = s.replace('<BOS>', '[').replace('<EOS>', ']').replace('<PAD>', '_')\n",
    "        return s\n",
    "\n",
    "    for i in range(len(inp)):\n",
    "        print('-'*50)\n",
    "        print(prepare(inp[i]))\n",
    "        print(prepare(out[i]))\n"
   ]
  },
  {
   "cell_type": "markdown",
   "metadata": {},
   "source": [
    "## Embeddings"
   ]
  },
  {
   "cell_type": "code",
   "execution_count": 18,
   "metadata": {},
   "outputs": [
    {
     "name": "stdout",
     "output_type": "stream",
     "text": [
      "(17, 100)\n"
     ]
    }
   ],
   "source": [
    "from matplotlib import pyplot as plt\n",
    "%matplotlib inline\n",
    "\n",
    "embeddings = model.get_embeddings()\n",
    "print(embeddings.shape)"
   ]
  },
  {
   "cell_type": "code",
   "execution_count": 19,
   "metadata": {},
   "outputs": [
    {
     "name": "stdout",
     "output_type": "stream",
     "text": [
      "[16, 5, 6, 9, 10, 11, 12, 13, 14, 15]\n"
     ]
    },
    {
     "data": {
      "image/png": "[encoded data removed]",
      "text/plain": [
       "<matplotlib.figure.Figure at 0x7fc488119e48>"
      ]
     },
     "metadata": {},
     "output_type": "display_data"
    }
   ],
   "source": [
    "from itertools import product\n",
    "digits = voc.to_tokens(list(\"0123456789\"))\n",
    "print(digits)\n",
    "emb = embeddings[digits,:]\n",
    "\n",
    "dist = np.zeros([10,10])\n",
    "for i,j in product(range(10), range(10)):\n",
    "    a,b = emb[i], emb[j]\n",
    "    dist[i,j] = np.sum((a-b)**2)\n",
    "    \n",
    "plt.imshow(dist, cmap='gray');"
   ]
  },
  {
   "cell_type": "code",
   "execution_count": 20,
   "metadata": {},
   "outputs": [
    {
     "data": {
      "image/png": "[encoded data removed]",
      "text/plain": [
       "<matplotlib.figure.Figure at 0x7fc488105b70>"
      ]
     },
     "metadata": {},
     "output_type": "display_data"
    }
   ],
   "source": [
    "la = np.linalg\n",
    "words = voc.to_words(range(voc.size))\n",
    "\n",
    "start = 0\n",
    "\n",
    "X =  embeddings[start:]\n",
    "\n",
    "U,S,V = la.svd(X)\n",
    "n = len(X)\n",
    "plt.figure(figsize=(7,7))\n",
    "\n",
    "for i in range(n):\n",
    "    x,y,w = U[i,0], U[i,1], words[start+i]\n",
    "    plt.scatter(x, y)\n",
    "    plt.annotate(w, xy=(x, y), xytext=(7, 2), textcoords=\"offset points\", ha=\"right\", va=\"bottom\")\n",
    "    #print('%+.2f, %+.2f, %s' % (x, y, w))\n",
    "plt.show()"
   ]
  },
  {
   "cell_type": "markdown",
   "metadata": {},
   "source": [
    "## Restore"
   ]
  },
  {
   "cell_type": "code",
   "execution_count": 6,
   "metadata": {
    "scrolled": true
   },
   "outputs": [
    {
     "name": "stdout",
     "output_type": "stream",
     "text": [
      "INFO:tensorflow:Restoring parameters from models/math/style-autoencoder-002/\n"
     ]
    }
   ],
   "source": [
    "model.restore(model_path)"
   ]
  },
  {
   "cell_type": "code",
   "execution_count": null,
   "metadata": {},
   "outputs": [],
   "source": []
  }
 ],
 "metadata": {
  "kernelspec": {
   "display_name": "Python 3",
   "language": "python",
   "name": "python3"
  },
  "language_info": {
   "codemirror_mode": {
    "name": "ipython",
    "version": 3
   },
   "file_extension": ".py",
   "mimetype": "text/x-python",
   "name": "python",
   "nbconvert_exporter": "python",
   "pygments_lexer": "ipython3",
   "version": "3.5.2"
  }
 },
 "nbformat": 4,
 "nbformat_minor": 2
}
