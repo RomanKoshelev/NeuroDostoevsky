{
 "cells": [
  {
   "cell_type": "markdown",
   "metadata": {},
   "source": [
    "# Vocabulary"
   ]
  },
  {
   "cell_type": "code",
   "execution_count": 14,
   "metadata": {},
   "outputs": [],
   "source": [
    "import numpy as np\n",
    "import nltk\n",
    "from nltk import FreqDist\n",
    "import pickle"
   ]
  },
  {
   "cell_type": "code",
   "execution_count": 25,
   "metadata": {},
   "outputs": [],
   "source": [
    "UNK, UNK_CODE = '<UNK>', 0\n",
    "BOS, BOS_CODE = '<BOS>', 1\n",
    "EOS, EOS_CODE = '<EOS>', 2\n",
    "PAD, PAD_CODE = '<PAD>', 3\n",
    "\n",
    "IGNORE = \"()[]{}:<>~@#$%^/\\|_+*…–«»\"\n",
    "AS_DOT = \";\"\n",
    "\n",
    "class Vocabulary:\n",
    "    def __init__(self):\n",
    "        self._tokens_to_words = None\n",
    "        self._words_to_tokens = None\n",
    "    \n",
    "    \n",
    "    @staticmethod\n",
    "    def _update(fdist, path):\n",
    "        with open(path, 'r') as f:\n",
    "            text = f.read()\n",
    "            text = text.replace('\\xa0', ' ').replace('\\ufeff','')\n",
    "            text = text.lower()\n",
    "\n",
    "        for sentence in nltk.tokenize.sent_tokenize(text):\n",
    "            for word in nltk.tokenize.word_tokenize(sentence):\n",
    "                fdist[word]+=1\n",
    "        return fdist               \n",
    "\n",
    "    \n",
    "    def build(self, paths, max_size=30000):\n",
    "        if type(paths) is str:\n",
    "            paths = [paths]\n",
    "\n",
    "        # collect all words\n",
    "        fdist = FreqDist()\n",
    "        for p in paths:\n",
    "            fdist = self._update(fdist, p)\n",
    "            \n",
    "        # build vocab from the most frequent words\n",
    "        most_common = fdist.most_common(max_size)\n",
    "        words       = [ UNK, EOS, BOS, PAD ] + [w for w, _ in most_common]\n",
    "        self._tokens_to_words = words\n",
    "        self._words_to_tokens = {words[i]:i for i in range(len(words))}        \n",
    "\n",
    "        \n",
    "    def save(self, path):\n",
    "        pickle.dump([self._tokens_to_words, self._words_to_tokens], open(path, \"wb\"))\n",
    "\n",
    "        \n",
    "    def restore(self, path):\n",
    "        [self._tokens_to_words, self._words_to_tokens] = pickle.load(open(path, \"rb\"))\n"
   ]
  },
  {
   "cell_type": "markdown",
   "metadata": {},
   "source": [
    "## Build"
   ]
  },
  {
   "cell_type": "code",
   "execution_count": 32,
   "metadata": {},
   "outputs": [],
   "source": [
    "text_path=\"data/anna.txt\"\n",
    "\n",
    "voc = Vocabulary()\n",
    "voc.build(text_path, 10000)"
   ]
  },
  {
   "cell_type": "markdown",
   "metadata": {},
   "source": [
    "## Restoring"
   ]
  },
  {
   "cell_type": "code",
   "execution_count": 46,
   "metadata": {},
   "outputs": [],
   "source": [
    "voc_path = \"_vocabulary.data\"\n",
    "voc.save(voc_path)\n",
    "voc2 = Vocabulary()\n",
    "voc2.restore(voc_path)\n",
    "\n",
    "assert voc2._tokens_to_words == voc._tokens_to_words\n",
    "assert voc2._words_to_tokens == voc._words_to_tokens"
   ]
  },
  {
   "cell_type": "code",
   "execution_count": 45,
   "metadata": {},
   "outputs": [],
   "source": [
    "a = {1:2, 2:3}\n",
    "b = {2:3, 1:2}\n",
    "c = a\n",
    "\n",
    "assert a == b\n",
    "assert a == c\n",
    "assert b == c\n",
    "\n",
    "assert a is c\n"
   ]
  },
  {
   "cell_type": "code",
   "execution_count": null,
   "metadata": {},
   "outputs": [],
   "source": []
  }
 ],
 "metadata": {
  "kernelspec": {
   "display_name": "Python 3",
   "language": "python",
   "name": "python3"
  },
  "language_info": {
   "codemirror_mode": {
    "name": "ipython",
    "version": 3
   },
   "file_extension": ".py",
   "mimetype": "text/x-python",
   "name": "python",
   "nbconvert_exporter": "python",
   "pygments_lexer": "ipython3",
   "version": "3.5.2"
  }
 },
 "nbformat": 4,
 "nbformat_minor": 2
}
