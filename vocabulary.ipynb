{
 "cells": [
  {
   "cell_type": "markdown",
   "metadata": {},
   "source": [
    "# Vocabulary"
   ]
  },
  {
   "cell_type": "code",
   "execution_count": 2,
   "metadata": {},
   "outputs": [],
   "source": [
    "from vocabulary import Vocabulary, BOS, EOS, PAD, UNK, BOS_CODE, EOS_CODE, PAD_CODE, UNK_CODE\n",
    "from utils import sent_to_words, words_to_sent"
   ]
  },
  {
   "cell_type": "markdown",
   "metadata": {},
   "source": [
    "## Build"
   ]
  },
  {
   "cell_type": "code",
   "execution_count": 3,
   "metadata": {},
   "outputs": [
    {
     "name": "stdout",
     "output_type": "stream",
     "text": [
      "CPU times: user 30.2 s, sys: 141 ms, total: 30.3 s\n",
      "Wall time: 30.3 s\n"
     ]
    }
   ],
   "source": [
    "%%time\n",
    "text_path=[\"data/anna.txt\", \"data/dostoevsky.txt\"]\n",
    "voc = Vocabulary()\n",
    "voc.build(text_path, 100000)"
   ]
  },
  {
   "cell_type": "markdown",
   "metadata": {},
   "source": [
    "## Save/restore"
   ]
  },
  {
   "cell_type": "code",
   "execution_count": 4,
   "metadata": {},
   "outputs": [
    {
     "name": "stdout",
     "output_type": "stream",
     "text": [
      "100004\n"
     ]
    }
   ],
   "source": [
    "voc_path = \"vocabulary.data\"\n",
    "voc.save(voc_path)\n",
    "old = voc\n",
    "voc = Vocabulary()\n",
    "voc.restore(voc_path)\n",
    "print(voc.size)\n",
    "assert voc._tokens_to_words == old._tokens_to_words\n",
    "assert voc._words_to_tokens == old._words_to_tokens"
   ]
  },
  {
   "cell_type": "markdown",
   "metadata": {},
   "source": [
    "## Codes"
   ]
  },
  {
   "cell_type": "code",
   "execution_count": 5,
   "metadata": {},
   "outputs": [
    {
     "name": "stdout",
     "output_type": "stream",
     "text": [
      "[1, 2, 3, 0]\n"
     ]
    }
   ],
   "source": [
    "tokens = voc.to_tokens([BOS, EOS, PAD, UNK])\n",
    "print(tokens)\n",
    "assert tokens == [BOS_CODE, EOS_CODE, PAD_CODE, UNK_CODE]"
   ]
  },
  {
   "cell_type": "markdown",
   "metadata": {},
   "source": [
    "## Tokenize"
   ]
  },
  {
   "cell_type": "code",
   "execution_count": 12,
   "metadata": {},
   "outputs": [
    {
     "name": "stdout",
     "output_type": "stream",
     "text": [
      "Без труда не вытащить и рыбку из пруда.\n",
      "Мама мыла раму, а рама мыла маму?\n",
      "<UNK> могут <UNK>, но это еще не все что нам понадобится для счастья!\n",
      "Тихо в лесу, только не спит медведь: у него <UNK>...\n",
      "Пошла муха на базар; купила муха самовар.\n"
     ]
    }
   ],
   "source": [
    "sentences = [\n",
    "    \"Без труда не вытащить и рыбку из пруда.\",\n",
    "    \"Мама мыла раму, а рама мыла маму?\",\n",
    "    \"Тензоры могут умножаться, но это еще не все что нам понадобится для счастья!\",\n",
    "    \"Тихо в лесу, только не спит медведь: у него клаустрофобия...\",\n",
    "    \"Пошла муха на базар; купила муха самовар.\",\n",
    "]\n",
    "\n",
    "for sent in sentences:\n",
    "    words = sent_to_words(sent)\n",
    "    tokens = voc.to_tokens(words)\n",
    "    restored = words_to_sent(voc.to_words(tokens))\n",
    "    print(restored)"
   ]
  },
  {
   "cell_type": "code",
   "execution_count": null,
   "metadata": {},
   "outputs": [],
   "source": []
  }
 ],
 "metadata": {
  "kernelspec": {
   "display_name": "Python 3",
   "language": "python",
   "name": "python3"
  },
  "language_info": {
   "codemirror_mode": {
    "name": "ipython",
    "version": 3
   },
   "file_extension": ".py",
   "mimetype": "text/x-python",
   "name": "python",
   "nbconvert_exporter": "python",
   "pygments_lexer": "ipython3",
   "version": "3.5.2"
  }
 },
 "nbformat": 4,
 "nbformat_minor": 2
}
