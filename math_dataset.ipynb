{
 "cells": [
  {
   "cell_type": "markdown",
   "metadata": {},
   "source": [
    "# MathDataset"
   ]
  },
  {
   "cell_type": "code",
   "execution_count": 4,
   "metadata": {},
   "outputs": [],
   "source": [
    "import numpy as np\n",
    "from math_generator import MathGenerator\n",
    "from math_vocab import MathVocab\n",
    "from math_dataset import MathDataset\n",
    "\n",
    "text_path    = \"texts/math.txt\"\n",
    "vocab_path   = \"data/math_vocab.data\"\n",
    "dataset_path = \"data/math_dataset.data\""
   ]
  },
  {
   "cell_type": "markdown",
   "metadata": {},
   "source": [
    "## Generator"
   ]
  },
  {
   "cell_type": "code",
   "execution_count": 10,
   "metadata": {},
   "outputs": [
    {
     "name": "stdout",
     "output_type": "stream",
     "text": [
      "13+2+1+2+1 = 1+16+2\n",
      "16 = 2+3+1+8+1+1\n",
      "1+3+4+3 = 3+2+6\n",
      "2+6+2+2 = 1+11\n",
      "1+3+7+4+2+1 = 16+1+1\n",
      "1+18 = 16+1+1+1\n",
      "6+1+7+1+1 = 13+3\n",
      "1+11+1+3 = 7+2+6+1\n",
      "1+11 = 3+2+6+1\n",
      "2+8+2+4+1 = 3+14\n",
      "2+7+1 = 1+1+7+1\n",
      "3+3+3+4 = 1 ...\n"
     ]
    }
   ],
   "source": [
    "gen = MathGenerator(10, 20)\n",
    "sents = gen.generate('=', 10000)\n",
    "text = '\\n'.join(sents)\n",
    "\n",
    "print(text[:200] + \" ...\")\n",
    "\n",
    "with open(text_path, 'w') as f:\n",
    "    f.write(text)"
   ]
  },
  {
   "cell_type": "markdown",
   "metadata": {},
   "source": [
    "## Vocab"
   ]
  },
  {
   "cell_type": "code",
   "execution_count": 11,
   "metadata": {},
   "outputs": [
    {
     "name": "stdout",
     "output_type": "stream",
     "text": [
      "MathVocab:\n",
      "  size: 17\n",
      "  _tokens_to_words: ['<UNK>', '<BOS>', '<EOS>', '<PAD>', '+', '1', ' ', '2', '=', '3', '4', '5', '6', '7', '8', '9', '0']\n"
     ]
    }
   ],
   "source": [
    "voc = MathVocab()\n",
    "voc.build(text_path)\n",
    "voc.save(vocab_path)\n",
    "print(voc)\n",
    "\n",
    "assert voc.size == 17 # '0123456789 =+' + UNK, EOS, BOS, PAD"
   ]
  },
  {
   "cell_type": "markdown",
   "metadata": {},
   "source": [
    "## Dataset"
   ]
  },
  {
   "cell_type": "code",
   "execution_count": 12,
   "metadata": {},
   "outputs": [
    {
     "name": "stdout",
     "output_type": "stream",
     "text": [
      "MathDataset:\n",
      "  shape: [10000, 34]\n",
      "  data_limit: None\n"
     ]
    }
   ],
   "source": [
    "voc = MathVocab()\n",
    "voc.restore(vocab_path)\n",
    "\n",
    "dataset = MathDataset()\n",
    "dataset.build(text_path, voc, max_len=32)\n",
    "dataset.save(dataset_path)\n",
    "print(dataset)"
   ]
  },
  {
   "cell_type": "markdown",
   "metadata": {},
   "source": [
    "## Batch"
   ]
  },
  {
   "cell_type": "code",
   "execution_count": 13,
   "metadata": {},
   "outputs": [
    {
     "name": "stdout",
     "output_type": "stream",
     "text": [
      "<BOS>4+1+7+2 = 5+2+7<EOS>_________________\n",
      "<BOS>4+2+9+2 = 16+1<EOS>__________________\n",
      "<BOS>3+8+1 = 2+2+8<EOS>___________________\n",
      "<BOS>2+3+9+4 = 1+6+2+1+2+5+1<EOS>_________\n",
      "<BOS>5+3+4 = 10+2<EOS>____________________\n",
      "<BOS>19 = 6+1+1+11<EOS>___________________\n",
      "<BOS>7+1+10+1 = 1+4+11+3<EOS>_____________\n",
      "<BOS>5+3+8 = 1+12+3<EOS>__________________\n",
      "<BOS>7+3+9 = 3+11+1+1+1+2<EOS>____________\n",
      "<BOS>9+1+4 = 6+5+3<EOS>___________________\n",
      "<BOS>1+17 = 3+5+9+1<EOS>__________________\n",
      "<BOS>8+1+1 = 1+7+1+1<EOS>_________________\n",
      "<BOS>4+1+9 = 13+1<EOS>____________________\n",
      "<BOS>1+4+4+1+4+2+1 = 15+2<EOS>____________\n",
      "<BOS>3+2+1+6 = 5+1+1+1+4<EOS>_____________\n"
     ]
    }
   ],
   "source": [
    "voc = MathVocab()\n",
    "voc.restore(vocab_path)\n",
    "\n",
    "dataset = MathDataset()\n",
    "dataset.restore(dataset_path)\n",
    "\n",
    "batch = dataset.get_next_batch(15)\n",
    "for sent in batch:\n",
    "    restored = \"\".join(voc.to_words(sent))\n",
    "    restored = restored.replace('<PAD>', '_')\n",
    "    print(restored)"
   ]
  },
  {
   "cell_type": "code",
   "execution_count": null,
   "metadata": {},
   "outputs": [],
   "source": []
  }
 ],
 "metadata": {
  "kernelspec": {
   "display_name": "Python 3",
   "language": "python",
   "name": "python3"
  },
  "language_info": {
   "codemirror_mode": {
    "name": "ipython",
    "version": 3
   },
   "file_extension": ".py",
   "mimetype": "text/x-python",
   "name": "python",
   "nbconvert_exporter": "python",
   "pygments_lexer": "ipython3",
   "version": "3.5.2"
  }
 },
 "nbformat": 4,
 "nbformat_minor": 2
}
