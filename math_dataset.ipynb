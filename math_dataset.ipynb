{
 "cells": [
  {
   "cell_type": "markdown",
   "metadata": {},
   "source": [
    "# MathDataset"
   ]
  },
  {
   "cell_type": "code",
   "execution_count": 6,
   "metadata": {},
   "outputs": [],
   "source": [
    "import numpy as np"
   ]
  },
  {
   "cell_type": "code",
   "execution_count": 125,
   "metadata": {},
   "outputs": [],
   "source": [
    "voc = ['%s' %i for i in range(10)] + [' ', '+', '=', '<', '>', '~']"
   ]
  },
  {
   "cell_type": "code",
   "execution_count": 126,
   "metadata": {},
   "outputs": [
    {
     "data": {
      "text/plain": [
       "'0123456789 +=<>~'"
      ]
     },
     "execution_count": 126,
     "metadata": {},
     "output_type": "execute_result"
    }
   ],
   "source": [
    "''.join(voc)"
   ]
  },
  {
   "cell_type": "markdown",
   "metadata": {},
   "source": [
    "## Generator"
   ]
  },
  {
   "cell_type": "code",
   "execution_count": 157,
   "metadata": {},
   "outputs": [],
   "source": [
    "class MathGenerator:\n",
    "    def __init__(self, first, last):\n",
    "        self._first = first\n",
    "        self._last = last\n",
    "\n",
    "    def _get_rand_nums(self, sign):\n",
    "        if sign == '=':\n",
    "            n1 = np.random.randint(self._first, self._last)\n",
    "            n2 = n1\n",
    "        else:\n",
    "            raise NotImplementedError\n",
    "        return n1,n2\n",
    "\n",
    "    @staticmethod\n",
    "    def _to_sum_list(n):\n",
    "        if n==0:\n",
    "            return[]\n",
    "        if n<=1:\n",
    "            return[n]\n",
    "        a = np.random.randint(1,n+1)\n",
    "        return [a] + MathGenerator._to_sum_list(n-a)\n",
    "\n",
    "    @staticmethod\n",
    "    def _to_sent(exp1, sign, exp2):\n",
    "        sent1 = '+'.join(['%s' %n for n in exp1])\n",
    "        sent2 = '+'.join(['%s' %n for n in exp2])\n",
    "        return '%s %s %s' % (sent1, sign, sent2)\n",
    "\n",
    "    def _generate_sent(self, sign):\n",
    "        num1,num2 = self._get_rand_nums(sign)\n",
    "        exp1 = self._to_sum_list(num1)\n",
    "        exp2 = self._to_sum_list(num2)\n",
    "        if sign == '=':\n",
    "            assert num1 == np.sum(exp1)\n",
    "            assert num2 == np.sum(exp2)\n",
    "            assert num2 == num1\n",
    "        return self._to_sent(exp1, sign, exp2)\n",
    "\n",
    "    def generate(self, signs, per_sign):\n",
    "        sents = []\n",
    "        for sign in signs:\n",
    "            for i in range(per_sign):\n",
    "                sents.append(self._generate_sent(sign))\n",
    "        return sents"
   ]
  },
  {
   "cell_type": "code",
   "execution_count": 160,
   "metadata": {},
   "outputs": [
    {
     "name": "stdout",
     "output_type": "stream",
     "text": [
      "10+4+4 = 13+5\n",
      "9+1+1+1 = 6+6\n",
      "2+7+8+1 = 7+6+1+3+1\n",
      "8+4 = 9+1+1+1\n",
      "3+11 = 8+6\n",
      "1+1+6+3+3+1 = 15\n",
      "13+1 = 3+4 ...\n"
     ]
    }
   ],
   "source": [
    "text_path = \"texts/math.txt\"\n",
    "\n",
    "gen = MathGenerator(10, 20)\n",
    "sents = gen.generate('=', 1000)\n",
    "text = '\\n'.join(sents)\n",
    "\n",
    "print(text[:100] + \" ...\")\n",
    "\n",
    "with open(text_path, 'w') as f:\n",
    "    f.write(text)"
   ]
  },
  {
   "cell_type": "code",
   "execution_count": null,
   "metadata": {},
   "outputs": [],
   "source": [
    "# todo: generator\n",
    "# todo: MathVocabulary\n",
    "# todo: MathDataset\n",
    "# todo: MathModel"
   ]
  },
  {
   "cell_type": "code",
   "execution_count": null,
   "metadata": {},
   "outputs": [],
   "source": [
    "class MathVocab(Vocabulary):\n",
    "    def _update(self, fdist, path):\n",
    "        with open(path, 'r') as f:\n",
    "            text = f.read()\n",
    "            text = text.replace('\\xa0', ' ').replace('\\ufeff','')\n",
    "            text = text.lower()\n",
    "\n",
    "        for sentence in nltk.tokenize.sent_tokenize(text):\n",
    "            for word in nltk.tokenize.word_tokenize(sentence):\n",
    "                fdist[word]+=1\n",
    "        return fdist"
   ]
  },
  {
   "cell_type": "code",
   "execution_count": null,
   "metadata": {},
   "outputs": [],
   "source": []
  }
 ],
 "metadata": {
  "kernelspec": {
   "display_name": "Python 3",
   "language": "python",
   "name": "python3"
  },
  "language_info": {
   "codemirror_mode": {
    "name": "ipython",
    "version": 3
   },
   "file_extension": ".py",
   "mimetype": "text/x-python",
   "name": "python",
   "nbconvert_exporter": "python",
   "pygments_lexer": "ipython3",
   "version": "3.5.2"
  }
 },
 "nbformat": 4,
 "nbformat_minor": 2
}
