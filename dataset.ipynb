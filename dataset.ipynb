{
 "cells": [
  {
   "cell_type": "markdown",
   "metadata": {},
   "source": [
    "# Text dataset"
   ]
  },
  {
   "cell_type": "code",
   "execution_count": 1,
   "metadata": {},
   "outputs": [],
   "source": [
    "from dataset import TextDataset\n",
    "from vocabulary import Vocabulary\n",
    "from utils import words_to_sent"
   ]
  },
  {
   "cell_type": "markdown",
   "metadata": {},
   "source": [
    "## Vocabulary"
   ]
  },
  {
   "cell_type": "code",
   "execution_count": 2,
   "metadata": {},
   "outputs": [
    {
     "name": "stdout",
     "output_type": "stream",
     "text": [
      "100004\n"
     ]
    }
   ],
   "source": [
    "voc_path = \"data/vocabulary.data\"\n",
    "voc = Vocabulary()\n",
    "voc.restore(voc_path)\n",
    "print(voc.size)"
   ]
  },
  {
   "cell_type": "markdown",
   "metadata": {},
   "source": [
    "## Build"
   ]
  },
  {
   "cell_type": "code",
   "execution_count": 3,
   "metadata": {},
   "outputs": [
    {
     "name": "stdout",
     "output_type": "stream",
     "text": [
      "[71833, 22]\n",
      "CPU times: user 27.7 s, sys: 218 ms, total: 28 s\n",
      "Wall time: 28 s\n"
     ]
    }
   ],
   "source": [
    "%%time\n",
    "\n",
    "dataset = TextDataset()\n",
    "dataset.build(\n",
    "    paths   = ['texts/dostoevsky.txt'], #'texts/anna.txt'\n",
    "    vocab   = voc,\n",
    "    min_len = 5, \n",
    "    max_len = 20\n",
    ")\n",
    "print(dataset.shape)\n",
    "\n",
    "assert dataset.shape[1] == 22"
   ]
  },
  {
   "cell_type": "markdown",
   "metadata": {},
   "source": [
    "## Save/restore"
   ]
  },
  {
   "cell_type": "code",
   "execution_count": 4,
   "metadata": {},
   "outputs": [
    {
     "name": "stdout",
     "output_type": "stream",
     "text": [
      "TextDataset:\n",
      "  shape: [71833, 22]\n",
      "  data_limit: None\n"
     ]
    }
   ],
   "source": [
    "dataset_path = \"data/dataset-dostoevsky.data\"\n",
    "dataset.save(dataset_path)\n",
    "old = dataset\n",
    "dataset = TextDataset()\n",
    "dataset.restore(dataset_path)\n",
    "print(dataset)"
   ]
  },
  {
   "cell_type": "markdown",
   "metadata": {},
   "source": [
    "## Batch"
   ]
  },
  {
   "cell_type": "code",
   "execution_count": 14,
   "metadata": {
    "scrolled": false
   },
   "outputs": [
    {
     "name": "stdout",
     "output_type": "stream",
     "text": [
      "TextDataset:\n",
      "  shape: [71833, 22]\n",
      "  data_limit: 10\n",
      "\n",
      "<BOS> федор михайлович достоевский бедные люди ох уж эти мне сказочники! <EOS>_________\n",
      "<BOS> нет чтобы написать что-нибудь полезное, приятное, <UNK>, а то всю подноготную в земле вырывают!.. <EOS>_\n",
      "<BOS> в. ф. <UNK> апреля 8-го бесценная моя варвара алексеевна! <EOS>__________\n",
      "<BOS> было время, когда и мы светло видели, маточка. <EOS>_________\n",
      "<BOS> в. ф. <UNK> апреля 8-го бесценная моя варвара алексеевна! <EOS>__________\n",
      "<BOS> вы хоть раз в жизни, <UNK>, меня послушались. <EOS>_________\n",
      "<BOS> нет чтобы написать что-нибудь полезное, приятное, <UNK>, а то всю подноготную в земле вырывают!.. <EOS>_\n",
      "<BOS> вот уж запретил бы им писать! <EOS>_____________\n",
      "<BOS> и как же мне досадно было, голубчик мой, что миловидного <UNK> вашего я не мог разглядеть хорошенько! <EOS>\n",
      "<BOS> вы хоть раз в жизни, <UNK>, меня послушались. <EOS>_________\n",
      "<BOS> вчера я был счастлив, чрезмерно счастлив, донельзя счастлив! <EOS>_________\n",
      "<BOS> не радость старость, родная моя! <EOS>_____________\n",
      "<BOS> нет чтобы написать что-нибудь полезное, приятное, <UNK>, а то всю подноготную в земле вырывают!.. <EOS>_\n",
      "<BOS> вот уж запретил бы им писать! <EOS>_____________\n",
      "<BOS> вы хоть раз в жизни, <UNK>, меня послушались. <EOS>_________\n"
     ]
    }
   ],
   "source": [
    "batch = dataset.get_next_batch(15)\n",
    "print(dataset)\n",
    "print()\n",
    "for sent in batch:\n",
    "    restored = words_to_sent(voc.to_words(sent))\n",
    "    restored = restored.replace(' <PAD>', '_')\n",
    "    print(restored)"
   ]
  },
  {
   "cell_type": "code",
   "execution_count": 13,
   "metadata": {},
   "outputs": [],
   "source": [
    "dataset.set_data_limit(10)"
   ]
  },
  {
   "cell_type": "code",
   "execution_count": 8,
   "metadata": {},
   "outputs": [],
   "source": [
    "dataset.set_data_limit(None)"
   ]
  },
  {
   "cell_type": "code",
   "execution_count": null,
   "metadata": {},
   "outputs": [],
   "source": []
  }
 ],
 "metadata": {
  "kernelspec": {
   "display_name": "Python 3",
   "language": "python",
   "name": "python3"
  },
  "language_info": {
   "codemirror_mode": {
    "name": "ipython",
    "version": 3
   },
   "file_extension": ".py",
   "mimetype": "text/x-python",
   "name": "python",
   "nbconvert_exporter": "python",
   "pygments_lexer": "ipython3",
   "version": "3.5.2"
  }
 },
 "nbformat": 4,
 "nbformat_minor": 2
}
