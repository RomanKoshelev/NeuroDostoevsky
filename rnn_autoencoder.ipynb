{
 "cells": [
  {
   "cell_type": "markdown",
   "metadata": {},
   "source": [
    "# RNN autoencoder"
   ]
  },
  {
   "cell_type": "code",
   "execution_count": 18,
   "metadata": {},
   "outputs": [],
   "source": [
    "import numpy as np\n",
    "from sent_dataset import SentenceDataset\n",
    "from utils import prepare_sample"
   ]
  },
  {
   "cell_type": "markdown",
   "metadata": {},
   "source": [
    "## Dataset"
   ]
  },
  {
   "cell_type": "code",
   "execution_count": 20,
   "metadata": {},
   "outputs": [
    {
     "name": "stdout",
     "output_type": "stream",
     "text": [
      "CPU times: user 660 ms, sys: 20 ms, total: 680 ms\n",
      "Wall time: 674 ms\n"
     ]
    }
   ],
   "source": [
    "%%time\n",
    "dataset = SentenceDataset(2, 32)\n",
    "dataset.load('data/dostoevsky.txt', 100000)  # dostoevsky.txt  anna.txt"
   ]
  },
  {
   "cell_type": "code",
   "execution_count": 21,
   "metadata": {},
   "outputs": [
    {
     "name": "stdout",
     "output_type": "stream",
     "text": [
      "1415\n",
      "4820 x 34 = 163880\n"
     ]
    }
   ],
   "source": [
    "voc_size = dataset.num_tokens\n",
    "sent_len = dataset.max_len+2\n",
    "print(dataset.get_data_size())\n",
    "print(\"%d x %d = %d\" % (voc_size, sent_len, voc_size*sent_len))"
   ]
  },
  {
   "cell_type": "markdown",
   "metadata": {},
   "source": [
    "## Model"
   ]
  },
  {
   "cell_type": "code",
   "execution_count": 59,
   "metadata": {},
   "outputs": [],
   "source": [
    "import os\n",
    "from utils import make_dir\n",
    "import numpy as np\n",
    "import tensorflow as tf\n",
    "import pickle\n",
    "from visualization import show_train_stats\n",
    "\n",
    "class AutoencoderRNN:\n",
    "    def __init__(self):\n",
    "        self._scope    = 'autoencoder_rnn'\n",
    "        # state\n",
    "        self.tr_step   = 0\n",
    "        self.tr_epoch  = 0\n",
    "        self.tr_losses = []\n",
    "        \n",
    "    \n",
    "    def _make_rnn_cell(self, num_units, num_layers, keep_prob):\n",
    "        def make_layer():\n",
    "            l = tf.contrib.rnn.BasicLSTMCell(num_units)\n",
    "            l = tf.contrib.rnn.DropoutWrapper(l, output_keep_prob=keep_prob)\n",
    "            return l        \n",
    "        layers = [make_layer() for _ in range(num_layers)]\n",
    "        cell   = tf.contrib.rnn.MultiRNNCell(layers)\n",
    "        return cell\n",
    "\n",
    "    \n",
    "    def _make_loss(self, logits, labels):\n",
    "        loss = tf.nn.sparse_softmax_cross_entropy_with_logits(\n",
    "            logits = logits,\n",
    "            labels = labels,\n",
    "        )\n",
    "        return tf.reduce_mean(loss)\n",
    "    \n",
    "\n",
    "    def _make_optimizer(self, loss, lr, grad_clip):\n",
    "        tr_vars   = tf.trainable_variables()\n",
    "        grads, _  = tf.clip_by_global_norm(tf.gradients(loss, tr_vars), grad_clip)\n",
    "        train_op  = tf.train.AdamOptimizer(lr)\n",
    "        optimizer = train_op.apply_gradients(zip(grads, tr_vars))\n",
    "        return optimizer\n",
    "    \n",
    "    \n",
    "    def _get_initial_state(self, batch_size):\n",
    "        return self._sess.run(self.initial_state, feed_dict={self.batch_size_pl: batch_size})\n",
    "\n",
    "    \n",
    "    def build(self, voc_size, emb_size, num_units, num_layers, grad_clip=5):\n",
    "        tf.reset_default_graph()\n",
    "        self._graph = tf.Graph()\n",
    "        with self._graph.as_default(), tf.variable_scope(self._scope):\n",
    "            \n",
    "            # placeholders\n",
    "            self.enc_inputs_pl = tf.placeholder(tf.int32, [None, None], name='enc_inputs')\n",
    "            self.dec_inputs_pl = tf.placeholder(tf.int32, [None, None], name='dec_inputs')\n",
    "            self.targets_pl    = tf.placeholder(tf.int32, [None, None], name='targets')\n",
    "            self.seq_length_pl = tf.placeholder(tf.int32, [None], 'seq_lengths')\n",
    "            self.batch_size_pl = tf.placeholder(tf.int32, shape=[], name='batch_size')\n",
    "            self.keep_prob_pl  = tf.placeholder(tf.float32, name='keep_prob')\n",
    "            self.lr_pl         = tf.placeholder(tf.float32, name='learning_rate')\n",
    "\n",
    "            # embedding\n",
    "            embedding_mtx      = tf.Variable(tf.random_normal(shape=[voc_size, emb_size], dtype=tf.float32))\n",
    "            enc_inputs         = tf.nn.embedding_lookup(embedding_mtx, self.enc_inputs_pl)\n",
    "            dec_inputs         = tf.nn.embedding_lookup(embedding_mtx, self.dec_inputs_pl)\n",
    "            \n",
    "            # encoder\n",
    "            en_cell            = self._make_rnn_cell(num_units, num_layers, self.keep_prob_pl)\n",
    "            en_initial_state   = en_cell.zero_state(self.batch_size_pl, tf.float32)\n",
    "            _, en_state        = tf.nn.dynamic_rnn(en_cell, enc_inputs, self.seq_length_pl, en_initial_state, scope='encoder')\n",
    "\n",
    "            # decoder\n",
    "            de_cell            = self._make_rnn_cell(num_units, num_layers, self.keep_prob_pl)\n",
    "            de_initial_state   = en_state\n",
    "            de_outputs, _      = tf.nn.dynamic_rnn(de_cell, dec_inputs, self.seq_length_pl, de_initial_state, scope='decoder')\n",
    "            \n",
    "            # prediction\n",
    "            logits             = tf.layers.dense(de_outputs, voc_size)\n",
    "            self.outputs       = tf.argmax(tf.nn.softmax(logits), axis=2)\n",
    "\n",
    "            # training\n",
    "            self.loss_op       = self._make_loss(logits, self.targets_pl)\n",
    "            self.train_op      = self._make_optimizer(self.loss_op, self.lr_pl, grad_clip)\n",
    "            \n",
    "            # utils\n",
    "            self.init_op       = tf.global_variables_initializer()\n",
    "            self._saver        = tf.train.Saver()\n",
    "\n",
    "        # session\n",
    "        self._sess = tf.Session(graph=self._graph)\n",
    "        self._sess.run(self.init_op)\n",
    "        \n",
    "        \n",
    "    def train(self, dataset, step_num,  batch_size, seq_length, learning_rate, keep_prob=.5, log_every=20, mean_win=30):\n",
    "        try:\n",
    "            data_size = dataset.get_data_size()\n",
    "            for self.tr_step in range(self.tr_step, step_num-1):\n",
    "                ep = self.tr_step*batch_size/data_size\n",
    "                sents = dataset.get_next_batch(batch_size)\n",
    "                tr_loss, _ = self._sess.run(\n",
    "                    [self.loss_op, self.train_op], \n",
    "                    feed_dict = {\n",
    "                        self.enc_inputs_pl: sents,\n",
    "                        self.dec_inputs_pl: sents,\n",
    "                        self.targets_pl   : sents,\n",
    "                        self.batch_size_pl: batch_size,\n",
    "                        self.seq_length_pl: [seq_length, ]*batch_size,\n",
    "                        self.keep_prob_pl : keep_prob,\n",
    "                        self.lr_pl        : learning_rate,\n",
    "                })\n",
    "                self.tr_losses.append(tr_loss)\n",
    "\n",
    "                if self.tr_step % log_every == 0:\n",
    "                    show_train_stats(ep, self.tr_step, self.tr_losses, mean_win)\n",
    "                        \n",
    "        except KeyboardInterrupt:\n",
    "            show_train_stats(ep, self.tr_step, self.tr_losses, mean_win)\n",
    "            \n",
    "\n",
    "    def save(self, path):\n",
    "        make_dir(path)\n",
    "        pickle.dump([self.tr_epoch, self.tr_step, self.tr_losses], open(os.path.join(path, \"state.p\"), \"wb\"))\n",
    "        self._saver.save(self._sess, path)\n",
    "        \n",
    "        \n",
    "    def restore(self, path):\n",
    "        try:\n",
    "             [self.tr_epoch, self.tr_step, self.tr_losses] = pickle.load(open(os.path.join(path, \"state.p\"), \"rb\"))\n",
    "        except: \n",
    "            print(\"State not found at\", path)\n",
    "        self._saver.restore(self._sess, path)\n",
    "        \n",
    "        \n",
    "    def run(self, sents, batch_size, seq_length):\n",
    "        return self._sess.run(\n",
    "            self.outputs, \n",
    "            feed_dict = {\n",
    "                self.enc_inputs_pl: sents,\n",
    "                self.dec_inputs_pl: sents,\n",
    "                self.targets_pl   : sents,\n",
    "                self.batch_size_pl: batch_size,\n",
    "                self.seq_length_pl: [seq_length, ]*batch_size,\n",
    "                self.keep_prob_pl : 1,\n",
    "        })\n"
   ]
  },
  {
   "cell_type": "markdown",
   "metadata": {},
   "source": [
    "## Build"
   ]
  },
  {
   "cell_type": "code",
   "execution_count": 60,
   "metadata": {
    "scrolled": false
   },
   "outputs": [
    {
     "name": "stdout",
     "output_type": "stream",
     "text": [
      "CPU times: user 5.4 s, sys: 12 ms, total: 5.41 s\n",
      "Wall time: 5.35 s\n"
     ]
    }
   ],
   "source": [
    "%%time\n",
    "model_path = 'models/rnn_autoencoder/dostoevsky-001/'\n",
    "\n",
    "model = AutoencoderRNN()\n",
    "\n",
    "model.build(\n",
    "    voc_size   = voc_size, \n",
    "    emb_size   = 100, \n",
    "    num_units  = 128, \n",
    "    num_layers = 2)"
   ]
  },
  {
   "cell_type": "markdown",
   "metadata": {},
   "source": [
    "## Train"
   ]
  },
  {
   "cell_type": "code",
   "execution_count": 64,
   "metadata": {
    "scrolled": false
   },
   "outputs": [
    {
     "data": {
      "image/png": "[encoded data removed]",
      "text/plain": [
       "<matplotlib.figure.Figure at 0x7f2fc7e6bba8>"
      ]
     },
     "metadata": {},
     "output_type": "display_data"
    },
    {
     "name": "stdout",
     "output_type": "stream",
     "text": [
      "CPU times: user 3min 19s, sys: 20.1 s, total: 3min 40s\n",
      "Wall time: 1min 55s\n"
     ]
    }
   ],
   "source": [
    "%%time\n",
    "model.train(\n",
    "    step_num      = 10000,\n",
    "    batch_size    = 32, \n",
    "    seq_length    = sent_len,\n",
    "    learning_rate = 1e-3, \n",
    "    mean_win      = 30,\n",
    "    dataset       = dataset)\n",
    "model.save(model_path)"
   ]
  },
  {
   "cell_type": "markdown",
   "metadata": {},
   "source": [
    "## Test"
   ]
  },
  {
   "cell_type": "code",
   "execution_count": 66,
   "metadata": {},
   "outputs": [
    {
     "name": "stdout",
     "output_type": "stream",
     "text": [
      "[<BOS> я вот какой вопрос делаю и вас прошу отвечать на него , маточка . <EOS>]\n",
      "[<BOS> а ведь случается же иногда заблудиться так человеку в собственных чувствах своих да занести околесную . <EOS>]\n",
      "[<BOS> вы напрасно стыдитесь ходить к нам , макар алексеевич . <EOS>]\n",
      "[<BOS> на вторую ночь я измучилась совершенно . <EOS>]\n",
      "[<BOS> я почти не оставляла его комнаты во все продолжение его болезни , ухаживала за ним и прислуживала ему . <EOS>]\n",
      "----------------------------------------------------------------------------------------------------\n",
      "[<BOS> я вот какой вопрос дня и вас наших отвечать на него , маточка . <EOS>]\n",
      "[<BOS> а ведь случается же иногда наших так человеку в собственных минуты своих да занести околесную . <EOS>]\n",
      "[<BOS> вы напрасно стыдитесь ходить к нам , макар алексеевич . <EOS>]\n",
      "[<BOS> на взыщите ночь я церкви совершенно . <EOS>]\n",
      "[<BOS> я почти не бросилась его комнаты во все продолжение его болезни , завернутые за ним и хотите ему . <EOS>]\n"
     ]
    }
   ],
   "source": [
    "batch_size = 5\n",
    "inp = dataset.get_next_batch(batch_size)\n",
    "for s in inp:\n",
    "    print('[%s]' % dataset.decode(s).replace(' _', ''))\n",
    "out = model.run(inp, batch_size, sent_len)\n",
    "print('-'*100)\n",
    "for s in out:\n",
    "    print('[%s]' % dataset.decode(s).replace(' _', ''))\n"
   ]
  },
  {
   "cell_type": "markdown",
   "metadata": {},
   "source": [
    "## Restore"
   ]
  },
  {
   "cell_type": "code",
   "execution_count": 61,
   "metadata": {
    "scrolled": true
   },
   "outputs": [
    {
     "name": "stdout",
     "output_type": "stream",
     "text": [
      "INFO:tensorflow:Restoring parameters from models/rnn_autoencoder/dostoevsky-001/\n"
     ]
    }
   ],
   "source": [
    "model.restore(model_path)"
   ]
  },
  {
   "cell_type": "code",
   "execution_count": null,
   "metadata": {},
   "outputs": [],
   "source": []
  }
 ],
 "metadata": {
  "kernelspec": {
   "display_name": "Python 3",
   "language": "python",
   "name": "python3"
  },
  "language_info": {
   "codemirror_mode": {
    "name": "ipython",
    "version": 3
   },
   "file_extension": ".py",
   "mimetype": "text/x-python",
   "name": "python",
   "nbconvert_exporter": "python",
   "pygments_lexer": "ipython3",
   "version": "3.5.2"
  }
 },
 "nbformat": 4,
 "nbformat_minor": 2
}
