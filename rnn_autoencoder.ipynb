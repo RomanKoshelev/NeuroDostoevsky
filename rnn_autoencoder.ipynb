{
 "cells": [
  {
   "cell_type": "markdown",
   "metadata": {},
   "source": [
    "# RNN autoencoder"
   ]
  },
  {
   "cell_type": "code",
   "execution_count": 1,
   "metadata": {},
   "outputs": [],
   "source": [
    "import numpy as np\n",
    "from sent_dataset import SentenceDataset\n",
    "from utils import prepare_sample"
   ]
  },
  {
   "cell_type": "markdown",
   "metadata": {},
   "source": [
    "## Dataset"
   ]
  },
  {
   "cell_type": "code",
   "execution_count": 3,
   "metadata": {},
   "outputs": [
    {
     "name": "stdout",
     "output_type": "stream",
     "text": [
      "CPU times: user 27.5 s, sys: 237 ms, total: 27.7 s\n",
      "Wall time: 27.7 s\n"
     ]
    }
   ],
   "source": [
    "%%time\n",
    "dataset = SentenceDataset(2, 32)\n",
    "dataset.load('data/dostoevsky.txt', 10000000)  # dostoevsky.txt  anna.txt"
   ]
  },
  {
   "cell_type": "code",
   "execution_count": 23,
   "metadata": {},
   "outputs": [
    {
     "name": "stdout",
     "output_type": "stream",
     "text": [
      "Sentences : 111670\n",
      "Max length: 34\n",
      "Vocabulary: 104918\n",
      "19479 <BOS>\n"
     ]
    }
   ],
   "source": [
    "voc_size = dataset.num_tokens\n",
    "sent_len = dataset.max_len+2\n",
    "\n",
    "print(\"Sentences :\", dataset.get_data_size())\n",
    "print(\"Max length:\", sent_len)\n",
    "print(\"Vocabulary:\", voc_size)\n",
    "bos_token = dataset.word_to_token['<BOS>']\n",
    "print(bos_token, dataset.token_to_word[bos_token])"
   ]
  },
  {
   "cell_type": "markdown",
   "metadata": {},
   "source": [
    "## Model"
   ]
  },
  {
   "cell_type": "code",
   "execution_count": 54,
   "metadata": {},
   "outputs": [],
   "source": [
    "import os\n",
    "from utils import make_dir\n",
    "import numpy as np\n",
    "import tensorflow as tf\n",
    "import pickle\n",
    "from visualization import show_train_stats\n",
    "\n",
    "class AutoencoderRNN:\n",
    "    def __init__(self):\n",
    "        self._scope    = 'autoencoder_rnn'\n",
    "        # state\n",
    "        self.tr_step   = 0\n",
    "        self.tr_epoch  = 0\n",
    "        self.tr_losses = []\n",
    "        \n",
    "    \n",
    "    def _make_rnn_cell(self, num_units, num_layers, keep_prob):\n",
    "        def make_layer():\n",
    "            l = tf.contrib.rnn.BasicLSTMCell(num_units)\n",
    "            l = tf.contrib.rnn.DropoutWrapper(l, output_keep_prob=keep_prob)\n",
    "            return l        \n",
    "        layers = [make_layer() for _ in range(num_layers)]\n",
    "        cell   = tf.contrib.rnn.MultiRNNCell(layers)\n",
    "        return cell\n",
    "\n",
    "    \n",
    "    def _make_loss(self, logits, labels):\n",
    "        loss = tf.nn.sparse_softmax_cross_entropy_with_logits(\n",
    "            logits = logits,\n",
    "            labels = labels)\n",
    "        return tf.reduce_mean(loss)\n",
    "    \n",
    "\n",
    "    def _make_optimizer(self, loss, lr, grad_clip):\n",
    "        tr_vars   = tf.trainable_variables()\n",
    "        grads, _  = tf.clip_by_global_norm(tf.gradients(loss, tr_vars), grad_clip)\n",
    "        train_op  = tf.train.AdamOptimizer(lr)\n",
    "        optimizer = train_op.apply_gradients(zip(grads, tr_vars))\n",
    "        return optimizer\n",
    "    \n",
    "    \n",
    "    def _make_decoder(self, inp, h, num_units, num_layers, voc_size, seq_len, keep_prob):\n",
    "        cell = self._make_rnn_cell(num_units, num_layers, keep_prob)\n",
    "        logits_seq = []\n",
    "\n",
    "        def loop_function(outputs):\n",
    "            logits = tf.layers.dense(outputs, voc_size, name='projection')\n",
    "            token = tf.argmax(logits, axis=1)\n",
    "            inp = tf.nn.embedding_lookup(self.embedding, token)\n",
    "            return inp, logits\n",
    "            \n",
    "        with tf.variable_scope('decoder', reuse=tf.AUTO_REUSE):\n",
    "            for t in range(seq_len):\n",
    "                output, h = cell(inp, h)\n",
    "                inp, logits = loop_function(output)\n",
    "                logits_seq.append(tf.expand_dims(logits, 1))\n",
    "\n",
    "        return tf.concat(logits_seq, 1)\n",
    "    \n",
    "    \n",
    "    def build(self, voc_size, bos_token, emb_size, seq_len, num_units, num_layers, grad_clip=5):\n",
    "        tf.reset_default_graph()\n",
    "        self._graph = tf.Graph()\n",
    "        with self._graph.as_default(), tf.variable_scope(self._scope):\n",
    "            # placeholders\n",
    "            self.enc_inputs_pl = tf.placeholder(tf.int32, [None, None], name='enc_inputs')\n",
    "            self.targets_pl    = tf.placeholder(tf.int32, [None, None], name='targets')\n",
    "            self.batch_size_pl = tf.placeholder(tf.int32, shape=[], name='batch_size')\n",
    "            self.keep_prob_pl  = tf.placeholder(tf.float32, name='keep_prob')\n",
    "            self.lr_pl         = tf.placeholder(tf.float32, name='learning_rate')\n",
    "\n",
    "            # embedding\n",
    "            self.embedding     = tf.Variable(tf.random_normal(shape=[voc_size, emb_size], dtype=tf.float32))\n",
    "            en_inputs          = tf.nn.embedding_lookup(self.embedding, self.enc_inputs_pl)\n",
    "            bos_tokens         = tf.tile([bos_token], tf.expand_dims(self.batch_size_pl,0))  \n",
    "            de_inputs          = tf.nn.embedding_lookup(self.embedding, bos_tokens)\n",
    "            \n",
    "            # encoder\n",
    "            en_cell            = self._make_rnn_cell(num_units, num_layers, self.keep_prob_pl)\n",
    "            en_initial_state   = en_cell.zero_state(self.batch_size_pl, tf.float32)\n",
    "            seq_lens           = tf.tile([seq_len], tf.expand_dims(self.batch_size_pl,0))\n",
    "            _, en_state        = tf.nn.dynamic_rnn(en_cell, en_inputs, seq_lens, en_initial_state, scope='encoder')\n",
    "\n",
    "            # decoder\n",
    "            de_logits = self._make_decoder(\n",
    "                inp        = de_inputs, \n",
    "                h          = en_state, \n",
    "                num_units  = num_units, \n",
    "                num_layers = num_layers,\n",
    "                voc_size   = voc_size,\n",
    "                seq_len    = seq_len, \n",
    "                keep_prob  = self.keep_prob_pl)\n",
    "\n",
    "            # prediction\n",
    "            self.outputs       = tf.argmax(tf.nn.softmax(de_logits), axis=2)\n",
    "\n",
    "            # training\n",
    "            self.loss_op       = self._make_loss(de_logits, self.targets_pl)\n",
    "            self.train_op      = self._make_optimizer(self.loss_op, self.lr_pl, grad_clip)\n",
    "            \n",
    "            # utils\n",
    "            self.init_op       = tf.global_variables_initializer()\n",
    "            self._saver        = tf.train.Saver()\n",
    "\n",
    "        # session\n",
    "        self._sess = tf.Session(graph=self._graph)\n",
    "        self._sess.run(self.init_op)\n",
    "        \n",
    "        \n",
    "    def train(self, dataset, step_num,  batch_size, learning_rate, keep_prob=.5, log_every=20, mean_win=30):\n",
    "        try:\n",
    "            data_size = dataset.get_data_size()\n",
    "            for self.tr_step in range(self.tr_step, step_num-1):\n",
    "                ep = self.tr_step*batch_size/data_size\n",
    "                sents = dataset.get_next_batch(batch_size)\n",
    "                tr_loss, _ = self._sess.run(\n",
    "                    [self.loss_op, self.train_op], \n",
    "                    feed_dict = {\n",
    "                        self.enc_inputs_pl: sents,\n",
    "                        self.targets_pl   : sents,\n",
    "                        self.batch_size_pl: batch_size,\n",
    "                        self.keep_prob_pl : keep_prob,\n",
    "                        self.lr_pl        : learning_rate,\n",
    "                })\n",
    "                self.tr_losses.append(tr_loss)\n",
    "\n",
    "                if self.tr_step % log_every == 0:\n",
    "                    show_train_stats(ep, self.tr_step, self.tr_losses, mean_win)\n",
    "                        \n",
    "        except KeyboardInterrupt:\n",
    "            show_train_stats(ep, self.tr_step, self.tr_losses, mean_win)\n",
    "            \n",
    "\n",
    "    def save(self, path):\n",
    "        make_dir(path)\n",
    "        pickle.dump([self.tr_epoch, self.tr_step, self.tr_losses], open(os.path.join(path, \"state.p\"), \"wb\"))\n",
    "        self._saver.save(self._sess, path)\n",
    "        \n",
    "        \n",
    "    def restore(self, path):\n",
    "        try:\n",
    "             [self.tr_epoch, self.tr_step, self.tr_losses] = pickle.load(open(os.path.join(path, \"state.p\"), \"rb\"))\n",
    "        except: \n",
    "            print(\"State not found at\", path)\n",
    "        self._saver.restore(self._sess, path)\n",
    "        \n",
    "        \n",
    "    def run(self, sents, batch_size, seq_length):\n",
    "        return self._sess.run(\n",
    "            self.outputs, \n",
    "            feed_dict = {\n",
    "                self.enc_inputs_pl: sents,\n",
    "                self.dec_inputs_pl: sents,\n",
    "                self.targets_pl   : sents,\n",
    "                self.batch_size_pl: batch_size,\n",
    "                self.seq_length_pl: [seq_length, ]*batch_size,\n",
    "                self.keep_prob_pl : 1,\n",
    "        })\n"
   ]
  },
  {
   "cell_type": "markdown",
   "metadata": {},
   "source": [
    "## Build"
   ]
  },
  {
   "cell_type": "code",
   "execution_count": 55,
   "metadata": {
    "scrolled": false
   },
   "outputs": [
    {
     "name": "stdout",
     "output_type": "stream",
     "text": [
      "CPU times: user 6.83 s, sys: 530 ms, total: 7.36 s\n",
      "Wall time: 6.74 s\n"
     ]
    }
   ],
   "source": [
    "%%time\n",
    "model_path = 'models/rnn_autoencoder/dostoevsky-001/'\n",
    "\n",
    "model = AutoencoderRNN()\n",
    "\n",
    "model.build(\n",
    "    voc_size   = voc_size, \n",
    "    bos_token  = bos_token,\n",
    "    seq_len    = sent_len,\n",
    "    emb_size   = 100, \n",
    "    num_units  = 128, \n",
    "    num_layers = 2)"
   ]
  },
  {
   "cell_type": "markdown",
   "metadata": {},
   "source": [
    "## Train"
   ]
  },
  {
   "cell_type": "code",
   "execution_count": null,
   "metadata": {
    "scrolled": false
   },
   "outputs": [
    {
     "data": {
      "image/png": "[encoded data removed]",
      "text/plain": [
       "<matplotlib.figure.Figure at 0x7fa553277cc0>"
      ]
     },
     "metadata": {},
     "output_type": "display_data"
    }
   ],
   "source": [
    "%%time\n",
    "model.train(\n",
    "    step_num      = 100000,\n",
    "    batch_size    = 32, \n",
    "    learning_rate = 1e-3, \n",
    "    mean_win      = 30,\n",
    "    dataset       = dataset)\n",
    "model.save(model_path)"
   ]
  },
  {
   "cell_type": "markdown",
   "metadata": {},
   "source": [
    "## Test"
   ]
  },
  {
   "cell_type": "code",
   "execution_count": 17,
   "metadata": {},
   "outputs": [
    {
     "name": "stdout",
     "output_type": "stream",
     "text": [
      "--------------------------------------------------------------------------------\n",
      "[ наряд ее был грошовый, но разукрашенный по-уличному, под вкус и правила, сложившиеся в своем особом мире, с ярко и позорно выдающеюся целью. ]\n",
      "[ птички ее был приказу, но вскакивал железных, под вкус и правила, проникновенно в своем ученье мире, с ярко и позорно биения целью. ]\n",
      "--------------------------------------------------------------------------------\n",
      "[ русскому читателю об этой вековечной правде слишком надо было напомнить многие стали у нас об ней забывать. ]\n",
      "[ русскому читателю об этой бумажке правде слишком надо было напомнить многие стали у нас об ней забывать. ]\n",
      "--------------------------------------------------------------------------------\n",
      "[ — как уж известно вам, от единого страху-с. ]\n",
      "[ — как уж известно вам, от единого простодушием. ]\n",
      "--------------------------------------------------------------------------------\n",
      "[ — вы в припадке, — сказал я, — вы трусите. ]\n",
      "[ — вы в припадке, — сказал я, — вы трусите. ]\n",
      "--------------------------------------------------------------------------------\n",
      "[ отчего эта дверь заперта? ]\n",
      "[ отчего эта дверь заперта? ]\n",
      "--------------------------------------------------------------------------------\n",
      "[ смешно! ]\n",
      "[ смешно! ]\n",
      "--------------------------------------------------------------------------------\n",
      "[ в смирительный мечтаешь! ]\n",
      "[ в хозяйкин мордасов! ]\n",
      "--------------------------------------------------------------------------------\n",
      "[ бедная собачонка, как известно стало, тявкнула всего только раза два-три во всю ночь. ]\n",
      "[ бедная собачонка, как известно стало, расскажи всего только раза два-три во всю ночь. ]\n",
      "--------------------------------------------------------------------------------\n",
      "[ — говорил он испуганным шепотом, подымая ее, — встань скорее! ]\n",
      "[ — говорил он испуганным шепотом, подымая ее, — встань скорее! ]\n",
      "--------------------------------------------------------------------------------\n",
      "[ видя брата в несчастии, она захотела помочь ему, несмотря на все прежние семейные недоумения. ]\n",
      "[ видя брата в несчастии, она захотела помочь ему, несмотря на все прежние семейные недоумения. ]\n"
     ]
    }
   ],
   "source": [
    "batch_size = 10\n",
    "inp = dataset.get_next_batch(batch_size)\n",
    "out = model.run(inp, batch_size, sent_len)\n",
    "\n",
    "def prepare(s):\n",
    "    s = dataset.decode(s)\n",
    "    s = s.replace('<BOS>', '[').replace('<EOS>', ']').replace(' _', '').replace(' ,', ',').replace(' !', '!').replace(' ?', '?').replace(' .', '.')\n",
    "    return s\n",
    "    \n",
    "for i in range(len(inp)):\n",
    "    print('-'*80)\n",
    "    print(prepare(inp[i]))\n",
    "    print(prepare(out[i]))\n"
   ]
  },
  {
   "cell_type": "markdown",
   "metadata": {},
   "source": [
    "## Restore"
   ]
  },
  {
   "cell_type": "code",
   "execution_count": 61,
   "metadata": {
    "scrolled": true
   },
   "outputs": [
    {
     "name": "stdout",
     "output_type": "stream",
     "text": [
      "INFO:tensorflow:Restoring parameters from models/rnn_autoencoder/dostoevsky-001/\n"
     ]
    }
   ],
   "source": [
    "model.restore(model_path)"
   ]
  },
  {
   "cell_type": "code",
   "execution_count": null,
   "metadata": {},
   "outputs": [],
   "source": []
  }
 ],
 "metadata": {
  "kernelspec": {
   "display_name": "Python 3",
   "language": "python",
   "name": "python3"
  },
  "language_info": {
   "codemirror_mode": {
    "name": "ipython",
    "version": 3
   },
   "file_extension": ".py",
   "mimetype": "text/x-python",
   "name": "python",
   "nbconvert_exporter": "python",
   "pygments_lexer": "ipython3",
   "version": "3.5.2"
  }
 },
 "nbformat": 4,
 "nbformat_minor": 2
}
