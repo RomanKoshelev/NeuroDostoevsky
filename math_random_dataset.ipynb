{
 "cells": [
  {
   "cell_type": "markdown",
   "metadata": {},
   "source": [
    "# Math Random Dataset"
   ]
  },
  {
   "cell_type": "code",
   "execution_count": 28,
   "metadata": {},
   "outputs": [],
   "source": [
    "import numpy as np\n",
    "from math_generator import MathGenerator\n",
    "from math_vocab import MathVocab\n",
    "from math_dataset import MathDataset\n",
    "from utils import make_dir\n",
    "\n",
    "vocab_path      = \"data/math/math_vocab.data\"\n",
    "\n",
    "tr_text_path    = \"texts/math/math_random_train.txt\"\n",
    "va_text_path    = \"texts/math/math_random_valid.txt\"\n",
    "tr_dataset_path = \"data/math/math_random_dataset_train.data\"\n",
    "va_dataset_path = \"data/math/math_random_dataset_valid.data\"\n",
    "\n",
    "max_len     = 32\n",
    "gen_min_sum = 10\n",
    "gen_max_sum = 20\n",
    "gen_num     = 10000\n",
    "vocab_list  = list(\"0123456789 ++++++++=\")"
   ]
  },
  {
   "cell_type": "markdown",
   "metadata": {},
   "source": [
    "## Generator"
   ]
  },
  {
   "cell_type": "code",
   "execution_count": 29,
   "metadata": {},
   "outputs": [],
   "source": [
    "class RandomMathGenerator(MathGenerator):\n",
    "    def _generate_sent(self, _):\n",
    "        rand_len = np.random.randint(3, max_len)\n",
    "        sent = \"\".join(np.random.choice(vocab_list, rand_len))\n",
    "        return sent"
   ]
  },
  {
   "cell_type": "code",
   "execution_count": 30,
   "metadata": {},
   "outputs": [
    {
     "name": "stdout",
     "output_type": "stream",
     "text": [
      "\n",
      "texts/math/math_random_train.txt:\n",
      "\n",
      "++5\n",
      "90+404++80++=+ 1+=++7+48\n",
      "+52+7+1+++9034 =+ +9+++\n",
      "++2+723+++41+2+91738\n",
      "000+2+312\n",
      "+++82+56+++\n",
      "+5+8 ...\n",
      "\n",
      "texts/math/math_random_valid.txt:\n",
      "\n",
      "98+ 098\n",
      "03+098\n",
      "=1 =7++=+415=\n",
      "+082+64+9=3++8++8+091=+ 0741\n",
      "9++ +=4\n",
      "+3+++4+80++=++3\n",
      "5308+\n",
      "9=+=032+1=1\n",
      " ...\n"
     ]
    }
   ],
   "source": [
    "for path in [tr_text_path, va_text_path]:\n",
    "    gen = RandomMathGenerator(gen_min_sum, gen_max_sum)\n",
    "    sents = gen.generate('=', gen_num)\n",
    "    text = '\\n'.join(sents)\n",
    "\n",
    "    print('\\n%s:\\n'%path)\n",
    "    print(text[:100] + \" ...\")\n",
    "\n",
    "    make_dir(path)\n",
    "    with open(path, 'w') as f:\n",
    "        f.write(text)"
   ]
  },
  {
   "cell_type": "markdown",
   "metadata": {},
   "source": [
    "## Random Dataset"
   ]
  },
  {
   "cell_type": "code",
   "execution_count": 31,
   "metadata": {},
   "outputs": [
    {
     "name": "stdout",
     "output_type": "stream",
     "text": [
      "data/math/math_random_dataset_train.data\n",
      "MathDataset:\n",
      "  path: data/math/math_random_dataset_train.data\n",
      "  shape: [10000, 34]\n",
      "  data_limit: None\n",
      "data/math/math_random_dataset_valid.data\n",
      "MathDataset:\n",
      "  path: data/math/math_random_dataset_valid.data\n",
      "  shape: [10000, 34]\n",
      "  data_limit: None\n"
     ]
    }
   ],
   "source": [
    "voc = MathVocab()\n",
    "voc.restore(vocab_path)\n",
    "\n",
    "dataset_paths = [tr_dataset_path, va_dataset_path]\n",
    "\n",
    "for i,text_path in enumerate([tr_text_path, va_text_path]):\n",
    "    dataset = MathDataset()\n",
    "    dataset.build(text_path, voc, max_len=max_len)\n",
    "    dataset.save(dataset_paths[i])\n",
    "    print(dataset_paths[i])\n",
    "    print(dataset)\n",
    "    assert dataset.shape[0] > 9900\n",
    "    assert dataset.shape[1] == max_len+2"
   ]
  },
  {
   "cell_type": "markdown",
   "metadata": {},
   "source": [
    "## Batch"
   ]
  },
  {
   "cell_type": "code",
   "execution_count": 32,
   "metadata": {},
   "outputs": [
    {
     "name": "stdout",
     "output_type": "stream",
     "text": [
      "<BOS>6+1<EOS>_____________________________\n",
      "<BOS>6+++5+9498++=+9+=0+4+++9++9<EOS>_____\n",
      "<BOS>4++233131+ +8967+++19+2+5 649+8<EOS>_\n",
      "<BOS>6=9804 <EOS>_________________________\n",
      "<BOS>5+39++5+ 9++1 + 89+= 27+ +++0<EOS>___\n",
      "<BOS>1=4 012+8<EOS>_______________________\n",
      "<BOS>06++8817++ 5+5++50 236<EOS>__________\n",
      "<BOS>0+1+5++8++0235++8++ 9<EOS>___________\n",
      "<BOS> +++158++ +2++<EOS>__________________\n",
      "<BOS>5++807141+7+0<EOS>___________________\n",
      "<BOS>+++++232+ + +4+92243 +++0+85+9<EOS>__\n",
      "<BOS>2++14+18++6807+283+<EOS>_____________\n",
      "<BOS>17+66++563  <EOS>____________________\n",
      "<BOS>+50841 +60+ 1 2+<EOS>________________\n",
      "<BOS>7 +14+3+++2+++++=+044 <EOS>__________\n"
     ]
    }
   ],
   "source": [
    "voc = MathVocab()\n",
    "voc.restore(vocab_path)\n",
    "\n",
    "dataset = MathDataset()\n",
    "dataset.restore(tr_dataset_path)\n",
    "\n",
    "batch = dataset.get_next_batch(15)\n",
    "for sent in batch:\n",
    "    restored = \"\".join(voc.to_words(sent))\n",
    "    restored = restored.replace('<PAD>', '_')\n",
    "    print(restored)"
   ]
  },
  {
   "cell_type": "code",
   "execution_count": null,
   "metadata": {},
   "outputs": [],
   "source": []
  }
 ],
 "metadata": {
  "kernelspec": {
   "display_name": "Python 3",
   "language": "python",
   "name": "python3"
  },
  "language_info": {
   "codemirror_mode": {
    "name": "ipython",
    "version": 3
   },
   "file_extension": ".py",
   "mimetype": "text/x-python",
   "name": "python",
   "nbconvert_exporter": "python",
   "pygments_lexer": "ipython3",
   "version": "3.5.2"
  }
 },
 "nbformat": 4,
 "nbformat_minor": 2
}
