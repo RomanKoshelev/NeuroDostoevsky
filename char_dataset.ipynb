{
 "cells": [
  {
   "cell_type": "code",
   "execution_count": 1,
   "metadata": {},
   "outputs": [],
   "source": [
    "from char_dataset import CharDataset"
   ]
  },
  {
   "cell_type": "code",
   "execution_count": 3,
   "metadata": {},
   "outputs": [],
   "source": [
    "dataset = CharDataset()\n",
    "dataset.load('data/anna.txt')"
   ]
  },
  {
   "cell_type": "code",
   "execution_count": 4,
   "metadata": {},
   "outputs": [
    {
     "name": "stdout",
     "output_type": "stream",
     "text": [
      "ЧАСТЬ ПЕРВАЯ\n",
      "\n",
      "\n",
      "\n",
      "I\n",
      "\n",
      "Все счастливые семьи похожи друг на друга, каждая несчастливая семья несчастлива по-своему.\n",
      "[ 98  76  92  93 101   1  90  81  91  78  76 104   0   0   0   0  30   0\n",
      "   0  78 122 110   1 122 128 105 122 123 116 113 107 132 110   1 122 110\n",
      " 117 133 113   1 120 119 126 119 111 113   1 109 121 124 108   1 118 105\n",
      "   1 109 121 124 108 105   7   1 115 105 111 109 105 136   1 118 110 122\n",
      " 128 105 122 123 116 113 107 105 136   1 122 110 117 133 136   1 118 110\n",
      " 122 128 105 122 123 116 113 107 105   1 120 119   8 122 107 119 110 117\n",
      " 124   9]\n",
      "139\n"
     ]
    }
   ],
   "source": [
    "print(dataset.text[:110])\n",
    "print(dataset.encoded[:110])\n",
    "print(len(dataset.vocab))\n"
   ]
  },
  {
   "cell_type": "code",
   "execution_count": 5,
   "metadata": {},
   "outputs": [
    {
     "name": "stdout",
     "output_type": "stream",
     "text": [
      "x\n",
      " [[ 98  76  92  93 101]\n",
      " [  1 109 107 113 111]\n",
      " [ 78 119 123   1 119]\n",
      " [113 118   1 108 119]\n",
      " [122 120 121 105 107]]\n",
      "\n",
      "y\n",
      " [[ 76  92  93 101   1]\n",
      " [109 107 113 111 110]\n",
      " [119 123   1 119 123]\n",
      " [118   1 108 119 107]\n",
      " [120 121 105 107 110]]\n"
     ]
    }
   ],
   "source": [
    "batches = dataset.get_batches(10, 50)\n",
    "x, y = next(batches)\n",
    "print('x\\n', x[:5, :5])\n",
    "print('\\ny\\n', y[:5, :5])"
   ]
  },
  {
   "cell_type": "code",
   "execution_count": null,
   "metadata": {},
   "outputs": [],
   "source": []
  }
 ],
 "metadata": {
  "kernelspec": {
   "display_name": "Python 3",
   "language": "python",
   "name": "python3"
  },
  "language_info": {
   "codemirror_mode": {
    "name": "ipython",
    "version": 3
   },
   "file_extension": ".py",
   "mimetype": "text/x-python",
   "name": "python",
   "nbconvert_exporter": "python",
   "pygments_lexer": "ipython3",
   "version": "3.5.2"
  }
 },
 "nbformat": 4,
 "nbformat_minor": 2
}
